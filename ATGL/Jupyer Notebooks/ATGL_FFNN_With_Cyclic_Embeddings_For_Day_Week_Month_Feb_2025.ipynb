{
  "cells": [
    {
      "cell_type": "code",
      "execution_count": 4,
      "metadata": {
        "id": "ovBqL16-FY9w"
      },
      "outputs": [],
      "source": [
        "import pandas as pd\n",
        "import os\n",
        "import numpy as np"
      ]
    },
    {
      "cell_type": "markdown",
      "metadata": {
        "id": "M2-BtNO2yG3e"
      },
      "source": [
        "# Preprocessing the data."
      ]
    },
    {
      "cell_type": "code",
      "execution_count": 5,
      "metadata": {
        "colab": {
          "base_uri": "https://localhost:8080/",
          "height": 492
        },
        "id": "X7x7NEQ9FY9x",
        "outputId": "fdce4113-8033-402e-cc24-cbf0eb469ec7"
      },
      "outputs": [
        {
          "data": {
            "application/vnd.microsoft.datawrangler.viewer.v0+json": {
              "columns": [
                {
                  "name": "index",
                  "rawType": "int64",
                  "type": "integer"
                },
                {
                  "name": "CONFIDENTIAL DATA",
                  "rawType": "object",
                  "type": "string"
                },
                {
                  "name": "Unnamed: 1",
                  "rawType": "object",
                  "type": "unknown"
                },
                {
                  "name": "Unnamed: 2",
                  "rawType": "object",
                  "type": "unknown"
                },
                {
                  "name": "Unnamed: 3",
                  "rawType": "object",
                  "type": "unknown"
                },
                {
                  "name": "Unnamed: 4",
                  "rawType": "object",
                  "type": "unknown"
                },
                {
                  "name": "Unnamed: 5",
                  "rawType": "object",
                  "type": "unknown"
                },
                {
                  "name": "Unnamed: 6",
                  "rawType": "object",
                  "type": "unknown"
                },
                {
                  "name": "Unnamed: 7",
                  "rawType": "object",
                  "type": "unknown"
                },
                {
                  "name": "Unnamed: 8",
                  "rawType": "object",
                  "type": "unknown"
                },
                {
                  "name": "Unnamed: 9",
                  "rawType": "object",
                  "type": "unknown"
                },
                {
                  "name": "Unnamed: 10",
                  "rawType": "object",
                  "type": "unknown"
                },
                {
                  "name": "Unnamed: 11",
                  "rawType": "object",
                  "type": "unknown"
                },
                {
                  "name": "Unnamed: 12",
                  "rawType": "object",
                  "type": "unknown"
                },
                {
                  "name": "Unnamed: 13",
                  "rawType": "object",
                  "type": "unknown"
                },
                {
                  "name": "Unnamed: 14",
                  "rawType": "object",
                  "type": "unknown"
                },
                {
                  "name": "Unnamed: 15",
                  "rawType": "object",
                  "type": "unknown"
                },
                {
                  "name": "Unnamed: 16",
                  "rawType": "object",
                  "type": "unknown"
                },
                {
                  "name": "Unnamed: 17",
                  "rawType": "object",
                  "type": "unknown"
                },
                {
                  "name": "Unnamed: 18",
                  "rawType": "object",
                  "type": "unknown"
                },
                {
                  "name": "Unnamed: 19",
                  "rawType": "object",
                  "type": "unknown"
                },
                {
                  "name": "Unnamed: 20",
                  "rawType": "object",
                  "type": "unknown"
                },
                {
                  "name": "Unnamed: 21",
                  "rawType": "object",
                  "type": "unknown"
                },
                {
                  "name": "Unnamed: 22",
                  "rawType": "object",
                  "type": "unknown"
                },
                {
                  "name": "Unnamed: 23",
                  "rawType": "object",
                  "type": "unknown"
                },
                {
                  "name": "Unnamed: 24",
                  "rawType": "object",
                  "type": "unknown"
                },
                {
                  "name": "Unnamed: 25",
                  "rawType": "object",
                  "type": "unknown"
                },
                {
                  "name": "CONFIDENTIAL DATA.1",
                  "rawType": "object",
                  "type": "unknown"
                },
                {
                  "name": "Unnamed: 27",
                  "rawType": "object",
                  "type": "unknown"
                },
                {
                  "name": "Unnamed: 28",
                  "rawType": "object",
                  "type": "unknown"
                },
                {
                  "name": "Unnamed: 29",
                  "rawType": "object",
                  "type": "unknown"
                },
                {
                  "name": "Unnamed: 30",
                  "rawType": "object",
                  "type": "unknown"
                },
                {
                  "name": "Unnamed: 31",
                  "rawType": "object",
                  "type": "unknown"
                },
                {
                  "name": "Unnamed: 32",
                  "rawType": "object",
                  "type": "unknown"
                },
                {
                  "name": "Unnamed: 33",
                  "rawType": "object",
                  "type": "unknown"
                },
                {
                  "name": "Unnamed: 34",
                  "rawType": "object",
                  "type": "unknown"
                },
                {
                  "name": "Unnamed: 35",
                  "rawType": "object",
                  "type": "unknown"
                },
                {
                  "name": "Unnamed: 36",
                  "rawType": "object",
                  "type": "unknown"
                },
                {
                  "name": "Unnamed: 37",
                  "rawType": "object",
                  "type": "unknown"
                },
                {
                  "name": "Unnamed: 38",
                  "rawType": "object",
                  "type": "unknown"
                },
                {
                  "name": "Unnamed: 39",
                  "rawType": "object",
                  "type": "unknown"
                },
                {
                  "name": "Unnamed: 40",
                  "rawType": "object",
                  "type": "unknown"
                },
                {
                  "name": "Unnamed: 41",
                  "rawType": "object",
                  "type": "unknown"
                },
                {
                  "name": "Unnamed: 42",
                  "rawType": "object",
                  "type": "unknown"
                },
                {
                  "name": "Unnamed: 43",
                  "rawType": "object",
                  "type": "unknown"
                },
                {
                  "name": "Unnamed: 44",
                  "rawType": "object",
                  "type": "unknown"
                },
                {
                  "name": "Unnamed: 45",
                  "rawType": "object",
                  "type": "unknown"
                },
                {
                  "name": "Unnamed: 46",
                  "rawType": "object",
                  "type": "unknown"
                },
                {
                  "name": "Unnamed: 47",
                  "rawType": "object",
                  "type": "unknown"
                },
                {
                  "name": "Unnamed: 48",
                  "rawType": "object",
                  "type": "unknown"
                },
                {
                  "name": "Unnamed: 49",
                  "rawType": "object",
                  "type": "unknown"
                },
                {
                  "name": "Unnamed: 50",
                  "rawType": "object",
                  "type": "unknown"
                },
                {
                  "name": "Unnamed: 51",
                  "rawType": "object",
                  "type": "unknown"
                },
                {
                  "name": "CONFIDENTIAL DATA.2",
                  "rawType": "object",
                  "type": "unknown"
                },
                {
                  "name": "Unnamed: 53",
                  "rawType": "object",
                  "type": "unknown"
                },
                {
                  "name": "Unnamed: 54",
                  "rawType": "object",
                  "type": "unknown"
                },
                {
                  "name": "Unnamed: 55",
                  "rawType": "object",
                  "type": "unknown"
                },
                {
                  "name": "Unnamed: 56",
                  "rawType": "object",
                  "type": "unknown"
                },
                {
                  "name": "Unnamed: 57",
                  "rawType": "object",
                  "type": "unknown"
                },
                {
                  "name": "Unnamed: 58",
                  "rawType": "object",
                  "type": "unknown"
                },
                {
                  "name": "Unnamed: 59",
                  "rawType": "object",
                  "type": "unknown"
                },
                {
                  "name": "Unnamed: 60",
                  "rawType": "object",
                  "type": "unknown"
                },
                {
                  "name": "Unnamed: 61",
                  "rawType": "object",
                  "type": "unknown"
                },
                {
                  "name": "Unnamed: 62",
                  "rawType": "object",
                  "type": "unknown"
                },
                {
                  "name": "Unnamed: 63",
                  "rawType": "object",
                  "type": "unknown"
                },
                {
                  "name": "Unnamed: 64",
                  "rawType": "object",
                  "type": "unknown"
                },
                {
                  "name": "Unnamed: 65",
                  "rawType": "object",
                  "type": "unknown"
                },
                {
                  "name": "Unnamed: 66",
                  "rawType": "object",
                  "type": "unknown"
                },
                {
                  "name": "Unnamed: 67",
                  "rawType": "object",
                  "type": "unknown"
                },
                {
                  "name": "Unnamed: 68",
                  "rawType": "object",
                  "type": "unknown"
                },
                {
                  "name": "Unnamed: 69",
                  "rawType": "object",
                  "type": "unknown"
                },
                {
                  "name": "Unnamed: 70",
                  "rawType": "object",
                  "type": "unknown"
                },
                {
                  "name": "Unnamed: 71",
                  "rawType": "object",
                  "type": "unknown"
                },
                {
                  "name": "Unnamed: 72",
                  "rawType": "object",
                  "type": "unknown"
                },
                {
                  "name": "Unnamed: 73",
                  "rawType": "object",
                  "type": "unknown"
                },
                {
                  "name": "Unnamed: 74",
                  "rawType": "object",
                  "type": "unknown"
                },
                {
                  "name": "Unnamed: 75",
                  "rawType": "object",
                  "type": "unknown"
                },
                {
                  "name": "Unnamed: 76",
                  "rawType": "object",
                  "type": "unknown"
                },
                {
                  "name": "Unnamed: 77",
                  "rawType": "object",
                  "type": "unknown"
                },
                {
                  "name": "CONFIDENTIAL DATA.3",
                  "rawType": "object",
                  "type": "unknown"
                },
                {
                  "name": "Unnamed: 79",
                  "rawType": "object",
                  "type": "unknown"
                },
                {
                  "name": "Unnamed: 80",
                  "rawType": "object",
                  "type": "unknown"
                },
                {
                  "name": "Unnamed: 81",
                  "rawType": "object",
                  "type": "unknown"
                },
                {
                  "name": "Unnamed: 82",
                  "rawType": "object",
                  "type": "unknown"
                },
                {
                  "name": "Unnamed: 83",
                  "rawType": "object",
                  "type": "unknown"
                },
                {
                  "name": "Unnamed: 84",
                  "rawType": "object",
                  "type": "unknown"
                },
                {
                  "name": "Unnamed: 85",
                  "rawType": "object",
                  "type": "unknown"
                },
                {
                  "name": "Unnamed: 86",
                  "rawType": "object",
                  "type": "unknown"
                },
                {
                  "name": "Unnamed: 87",
                  "rawType": "object",
                  "type": "unknown"
                },
                {
                  "name": "Unnamed: 88",
                  "rawType": "object",
                  "type": "unknown"
                },
                {
                  "name": "Unnamed: 89",
                  "rawType": "object",
                  "type": "unknown"
                },
                {
                  "name": "Unnamed: 90",
                  "rawType": "object",
                  "type": "unknown"
                },
                {
                  "name": "Unnamed: 91",
                  "rawType": "object",
                  "type": "unknown"
                },
                {
                  "name": "Unnamed: 92",
                  "rawType": "object",
                  "type": "unknown"
                },
                {
                  "name": "Unnamed: 93",
                  "rawType": "object",
                  "type": "unknown"
                },
                {
                  "name": "Unnamed: 94",
                  "rawType": "object",
                  "type": "unknown"
                },
                {
                  "name": "Unnamed: 95",
                  "rawType": "object",
                  "type": "unknown"
                },
                {
                  "name": "Unnamed: 96",
                  "rawType": "object",
                  "type": "unknown"
                },
                {
                  "name": "Unnamed: 97",
                  "rawType": "object",
                  "type": "unknown"
                },
                {
                  "name": "Unnamed: 98",
                  "rawType": "object",
                  "type": "unknown"
                },
                {
                  "name": "Unnamed: 99",
                  "rawType": "object",
                  "type": "unknown"
                },
                {
                  "name": "Unnamed: 100",
                  "rawType": "object",
                  "type": "unknown"
                },
                {
                  "name": "Unnamed: 101",
                  "rawType": "object",
                  "type": "unknown"
                },
                {
                  "name": "Unnamed: 102",
                  "rawType": "object",
                  "type": "unknown"
                },
                {
                  "name": "Unnamed: 103",
                  "rawType": "object",
                  "type": "unknown"
                },
                {
                  "name": "CONFIDENTIAL DATA.4",
                  "rawType": "object",
                  "type": "unknown"
                },
                {
                  "name": "Unnamed: 105",
                  "rawType": "object",
                  "type": "unknown"
                },
                {
                  "name": "Unnamed: 106",
                  "rawType": "object",
                  "type": "unknown"
                },
                {
                  "name": "Unnamed: 107",
                  "rawType": "object",
                  "type": "unknown"
                },
                {
                  "name": "Unnamed: 108",
                  "rawType": "object",
                  "type": "unknown"
                },
                {
                  "name": "Unnamed: 109",
                  "rawType": "object",
                  "type": "unknown"
                },
                {
                  "name": "Unnamed: 110",
                  "rawType": "object",
                  "type": "unknown"
                },
                {
                  "name": "Unnamed: 111",
                  "rawType": "object",
                  "type": "unknown"
                },
                {
                  "name": "Unnamed: 112",
                  "rawType": "object",
                  "type": "unknown"
                },
                {
                  "name": "Unnamed: 113",
                  "rawType": "object",
                  "type": "unknown"
                },
                {
                  "name": "Unnamed: 114",
                  "rawType": "object",
                  "type": "unknown"
                },
                {
                  "name": "Unnamed: 115",
                  "rawType": "object",
                  "type": "unknown"
                },
                {
                  "name": "Unnamed: 116",
                  "rawType": "object",
                  "type": "unknown"
                },
                {
                  "name": "Unnamed: 117",
                  "rawType": "object",
                  "type": "unknown"
                },
                {
                  "name": "Unnamed: 118",
                  "rawType": "object",
                  "type": "unknown"
                },
                {
                  "name": "Unnamed: 119",
                  "rawType": "object",
                  "type": "unknown"
                },
                {
                  "name": "Unnamed: 120",
                  "rawType": "object",
                  "type": "unknown"
                },
                {
                  "name": "Unnamed: 121",
                  "rawType": "object",
                  "type": "unknown"
                },
                {
                  "name": "Unnamed: 122",
                  "rawType": "object",
                  "type": "unknown"
                },
                {
                  "name": "Unnamed: 123",
                  "rawType": "object",
                  "type": "unknown"
                },
                {
                  "name": "Unnamed: 124",
                  "rawType": "object",
                  "type": "unknown"
                },
                {
                  "name": "Unnamed: 125",
                  "rawType": "object",
                  "type": "unknown"
                },
                {
                  "name": "Unnamed: 126",
                  "rawType": "object",
                  "type": "unknown"
                },
                {
                  "name": "Unnamed: 127",
                  "rawType": "object",
                  "type": "unknown"
                },
                {
                  "name": "Unnamed: 128",
                  "rawType": "object",
                  "type": "unknown"
                },
                {
                  "name": "Unnamed: 129",
                  "rawType": "object",
                  "type": "unknown"
                },
                {
                  "name": "CONFIDENTIAL DATA.5",
                  "rawType": "object",
                  "type": "unknown"
                },
                {
                  "name": "Unnamed: 131",
                  "rawType": "object",
                  "type": "unknown"
                },
                {
                  "name": "Unnamed: 132",
                  "rawType": "object",
                  "type": "unknown"
                },
                {
                  "name": "Unnamed: 133",
                  "rawType": "object",
                  "type": "unknown"
                },
                {
                  "name": "Unnamed: 134",
                  "rawType": "object",
                  "type": "unknown"
                },
                {
                  "name": "Unnamed: 135",
                  "rawType": "object",
                  "type": "unknown"
                },
                {
                  "name": "Unnamed: 136",
                  "rawType": "object",
                  "type": "unknown"
                },
                {
                  "name": "Unnamed: 137",
                  "rawType": "object",
                  "type": "unknown"
                },
                {
                  "name": "Unnamed: 138",
                  "rawType": "object",
                  "type": "unknown"
                },
                {
                  "name": "Unnamed: 139",
                  "rawType": "object",
                  "type": "unknown"
                },
                {
                  "name": "Unnamed: 140",
                  "rawType": "object",
                  "type": "unknown"
                },
                {
                  "name": "Unnamed: 141",
                  "rawType": "object",
                  "type": "unknown"
                },
                {
                  "name": "Unnamed: 142",
                  "rawType": "object",
                  "type": "unknown"
                },
                {
                  "name": "Unnamed: 143",
                  "rawType": "object",
                  "type": "unknown"
                },
                {
                  "name": "Unnamed: 144",
                  "rawType": "object",
                  "type": "unknown"
                },
                {
                  "name": "Unnamed: 145",
                  "rawType": "object",
                  "type": "unknown"
                },
                {
                  "name": "Unnamed: 146",
                  "rawType": "object",
                  "type": "unknown"
                },
                {
                  "name": "Unnamed: 147",
                  "rawType": "object",
                  "type": "unknown"
                },
                {
                  "name": "Unnamed: 148",
                  "rawType": "object",
                  "type": "unknown"
                },
                {
                  "name": "Unnamed: 149",
                  "rawType": "object",
                  "type": "unknown"
                },
                {
                  "name": "Unnamed: 150",
                  "rawType": "object",
                  "type": "unknown"
                },
                {
                  "name": "Unnamed: 151",
                  "rawType": "object",
                  "type": "unknown"
                },
                {
                  "name": "Unnamed: 152",
                  "rawType": "object",
                  "type": "unknown"
                },
                {
                  "name": "Unnamed: 153",
                  "rawType": "object",
                  "type": "unknown"
                },
                {
                  "name": "Unnamed: 154",
                  "rawType": "object",
                  "type": "unknown"
                },
                {
                  "name": "Unnamed: 155",
                  "rawType": "object",
                  "type": "unknown"
                },
                {
                  "name": "CONFIDENTIAL DATA.6",
                  "rawType": "object",
                  "type": "unknown"
                },
                {
                  "name": "Unnamed: 157",
                  "rawType": "object",
                  "type": "unknown"
                },
                {
                  "name": "Unnamed: 158",
                  "rawType": "object",
                  "type": "unknown"
                },
                {
                  "name": "Unnamed: 159",
                  "rawType": "object",
                  "type": "unknown"
                },
                {
                  "name": "Unnamed: 160",
                  "rawType": "object",
                  "type": "unknown"
                },
                {
                  "name": "Unnamed: 161",
                  "rawType": "object",
                  "type": "unknown"
                },
                {
                  "name": "Unnamed: 162",
                  "rawType": "object",
                  "type": "unknown"
                },
                {
                  "name": "Unnamed: 163",
                  "rawType": "object",
                  "type": "unknown"
                },
                {
                  "name": "Unnamed: 164",
                  "rawType": "object",
                  "type": "unknown"
                },
                {
                  "name": "Unnamed: 165",
                  "rawType": "object",
                  "type": "unknown"
                },
                {
                  "name": "Unnamed: 166",
                  "rawType": "object",
                  "type": "unknown"
                },
                {
                  "name": "Unnamed: 167",
                  "rawType": "object",
                  "type": "unknown"
                },
                {
                  "name": "Unnamed: 168",
                  "rawType": "object",
                  "type": "unknown"
                },
                {
                  "name": "Unnamed: 169",
                  "rawType": "object",
                  "type": "unknown"
                },
                {
                  "name": "Unnamed: 170",
                  "rawType": "object",
                  "type": "unknown"
                },
                {
                  "name": "Unnamed: 171",
                  "rawType": "object",
                  "type": "unknown"
                },
                {
                  "name": "Unnamed: 172",
                  "rawType": "object",
                  "type": "unknown"
                },
                {
                  "name": "Unnamed: 173",
                  "rawType": "object",
                  "type": "unknown"
                },
                {
                  "name": "Unnamed: 174",
                  "rawType": "object",
                  "type": "unknown"
                },
                {
                  "name": "Unnamed: 175",
                  "rawType": "object",
                  "type": "unknown"
                },
                {
                  "name": "Unnamed: 176",
                  "rawType": "object",
                  "type": "unknown"
                },
                {
                  "name": "Unnamed: 177",
                  "rawType": "object",
                  "type": "unknown"
                },
                {
                  "name": "Unnamed: 178",
                  "rawType": "object",
                  "type": "unknown"
                },
                {
                  "name": "Unnamed: 179",
                  "rawType": "object",
                  "type": "unknown"
                },
                {
                  "name": "Unnamed: 180",
                  "rawType": "object",
                  "type": "unknown"
                },
                {
                  "name": "Unnamed: 181",
                  "rawType": "object",
                  "type": "unknown"
                },
                {
                  "name": "CONFIDENTIAL DATA.7",
                  "rawType": "object",
                  "type": "unknown"
                },
                {
                  "name": "Unnamed: 183",
                  "rawType": "object",
                  "type": "unknown"
                },
                {
                  "name": "Unnamed: 184",
                  "rawType": "object",
                  "type": "unknown"
                },
                {
                  "name": "Unnamed: 185",
                  "rawType": "object",
                  "type": "unknown"
                },
                {
                  "name": "Unnamed: 186",
                  "rawType": "object",
                  "type": "unknown"
                },
                {
                  "name": "Unnamed: 187",
                  "rawType": "object",
                  "type": "unknown"
                },
                {
                  "name": "Unnamed: 188",
                  "rawType": "object",
                  "type": "unknown"
                },
                {
                  "name": "Unnamed: 189",
                  "rawType": "object",
                  "type": "unknown"
                },
                {
                  "name": "Unnamed: 190",
                  "rawType": "object",
                  "type": "unknown"
                },
                {
                  "name": "Unnamed: 191",
                  "rawType": "object",
                  "type": "unknown"
                },
                {
                  "name": "Unnamed: 192",
                  "rawType": "object",
                  "type": "unknown"
                },
                {
                  "name": "Unnamed: 193",
                  "rawType": "object",
                  "type": "unknown"
                },
                {
                  "name": "Unnamed: 194",
                  "rawType": "object",
                  "type": "unknown"
                },
                {
                  "name": "Unnamed: 195",
                  "rawType": "object",
                  "type": "unknown"
                },
                {
                  "name": "Unnamed: 196",
                  "rawType": "object",
                  "type": "unknown"
                },
                {
                  "name": "Unnamed: 197",
                  "rawType": "object",
                  "type": "unknown"
                },
                {
                  "name": "Unnamed: 198",
                  "rawType": "object",
                  "type": "unknown"
                },
                {
                  "name": "Unnamed: 199",
                  "rawType": "object",
                  "type": "unknown"
                },
                {
                  "name": "Unnamed: 200",
                  "rawType": "object",
                  "type": "unknown"
                },
                {
                  "name": "Unnamed: 201",
                  "rawType": "object",
                  "type": "unknown"
                },
                {
                  "name": "Unnamed: 202",
                  "rawType": "object",
                  "type": "unknown"
                },
                {
                  "name": "Unnamed: 203",
                  "rawType": "object",
                  "type": "unknown"
                },
                {
                  "name": "Unnamed: 204",
                  "rawType": "object",
                  "type": "unknown"
                },
                {
                  "name": "Unnamed: 205",
                  "rawType": "object",
                  "type": "unknown"
                },
                {
                  "name": "Unnamed: 206",
                  "rawType": "object",
                  "type": "unknown"
                },
                {
                  "name": "Unnamed: 207",
                  "rawType": "object",
                  "type": "unknown"
                },
                {
                  "name": "CONFIDENTIAL DATA.8",
                  "rawType": "object",
                  "type": "unknown"
                },
                {
                  "name": "Unnamed: 209",
                  "rawType": "object",
                  "type": "unknown"
                },
                {
                  "name": "Unnamed: 210",
                  "rawType": "object",
                  "type": "unknown"
                },
                {
                  "name": "Unnamed: 211",
                  "rawType": "object",
                  "type": "unknown"
                },
                {
                  "name": "Unnamed: 212",
                  "rawType": "object",
                  "type": "unknown"
                },
                {
                  "name": "Unnamed: 213",
                  "rawType": "object",
                  "type": "unknown"
                },
                {
                  "name": "Unnamed: 214",
                  "rawType": "object",
                  "type": "unknown"
                },
                {
                  "name": "Unnamed: 215",
                  "rawType": "object",
                  "type": "unknown"
                },
                {
                  "name": "Unnamed: 216",
                  "rawType": "object",
                  "type": "unknown"
                },
                {
                  "name": "Unnamed: 217",
                  "rawType": "object",
                  "type": "unknown"
                },
                {
                  "name": "Unnamed: 218",
                  "rawType": "object",
                  "type": "unknown"
                },
                {
                  "name": "Unnamed: 219",
                  "rawType": "object",
                  "type": "unknown"
                },
                {
                  "name": "Unnamed: 220",
                  "rawType": "object",
                  "type": "unknown"
                },
                {
                  "name": "Unnamed: 221",
                  "rawType": "object",
                  "type": "unknown"
                },
                {
                  "name": "Unnamed: 222",
                  "rawType": "object",
                  "type": "unknown"
                },
                {
                  "name": "Unnamed: 223",
                  "rawType": "object",
                  "type": "unknown"
                },
                {
                  "name": "Unnamed: 224",
                  "rawType": "object",
                  "type": "unknown"
                },
                {
                  "name": "Unnamed: 225",
                  "rawType": "object",
                  "type": "unknown"
                },
                {
                  "name": "Unnamed: 226",
                  "rawType": "object",
                  "type": "unknown"
                },
                {
                  "name": "Unnamed: 227",
                  "rawType": "object",
                  "type": "unknown"
                },
                {
                  "name": "Unnamed: 228",
                  "rawType": "object",
                  "type": "unknown"
                },
                {
                  "name": "Unnamed: 229",
                  "rawType": "object",
                  "type": "unknown"
                },
                {
                  "name": "Unnamed: 230",
                  "rawType": "object",
                  "type": "unknown"
                },
                {
                  "name": "Unnamed: 231",
                  "rawType": "object",
                  "type": "unknown"
                },
                {
                  "name": "Unnamed: 232",
                  "rawType": "object",
                  "type": "unknown"
                },
                {
                  "name": "Unnamed: 233",
                  "rawType": "object",
                  "type": "unknown"
                },
                {
                  "name": "CONFIDENTIAL DATA.9",
                  "rawType": "object",
                  "type": "unknown"
                },
                {
                  "name": "Unnamed: 235",
                  "rawType": "object",
                  "type": "unknown"
                },
                {
                  "name": "Unnamed: 236",
                  "rawType": "object",
                  "type": "unknown"
                },
                {
                  "name": "Unnamed: 237",
                  "rawType": "object",
                  "type": "unknown"
                },
                {
                  "name": "Unnamed: 238",
                  "rawType": "object",
                  "type": "unknown"
                },
                {
                  "name": "Unnamed: 239",
                  "rawType": "object",
                  "type": "unknown"
                },
                {
                  "name": "Unnamed: 240",
                  "rawType": "object",
                  "type": "unknown"
                },
                {
                  "name": "Unnamed: 241",
                  "rawType": "object",
                  "type": "unknown"
                },
                {
                  "name": "Unnamed: 242",
                  "rawType": "object",
                  "type": "unknown"
                },
                {
                  "name": "Unnamed: 243",
                  "rawType": "object",
                  "type": "unknown"
                },
                {
                  "name": "Unnamed: 244",
                  "rawType": "object",
                  "type": "unknown"
                },
                {
                  "name": "Unnamed: 245",
                  "rawType": "object",
                  "type": "unknown"
                },
                {
                  "name": "Unnamed: 246",
                  "rawType": "object",
                  "type": "unknown"
                },
                {
                  "name": "Unnamed: 247",
                  "rawType": "object",
                  "type": "unknown"
                },
                {
                  "name": "Unnamed: 248",
                  "rawType": "object",
                  "type": "unknown"
                },
                {
                  "name": "Unnamed: 249",
                  "rawType": "object",
                  "type": "unknown"
                },
                {
                  "name": "Unnamed: 250",
                  "rawType": "object",
                  "type": "unknown"
                },
                {
                  "name": "Unnamed: 251",
                  "rawType": "object",
                  "type": "unknown"
                },
                {
                  "name": "Unnamed: 252",
                  "rawType": "object",
                  "type": "unknown"
                },
                {
                  "name": "Unnamed: 253",
                  "rawType": "object",
                  "type": "unknown"
                },
                {
                  "name": "Unnamed: 254",
                  "rawType": "object",
                  "type": "unknown"
                },
                {
                  "name": "Unnamed: 255",
                  "rawType": "object",
                  "type": "unknown"
                },
                {
                  "name": "Unnamed: 256",
                  "rawType": "object",
                  "type": "unknown"
                },
                {
                  "name": "Unnamed: 257",
                  "rawType": "object",
                  "type": "unknown"
                },
                {
                  "name": "Unnamed: 258",
                  "rawType": "object",
                  "type": "unknown"
                },
                {
                  "name": "Unnamed: 259",
                  "rawType": "object",
                  "type": "unknown"
                },
                {
                  "name": "CONFIDENTIAL DATA.10",
                  "rawType": "object",
                  "type": "unknown"
                },
                {
                  "name": "Unnamed: 261",
                  "rawType": "object",
                  "type": "unknown"
                },
                {
                  "name": "Unnamed: 262",
                  "rawType": "object",
                  "type": "unknown"
                },
                {
                  "name": "Unnamed: 263",
                  "rawType": "object",
                  "type": "unknown"
                },
                {
                  "name": "Unnamed: 264",
                  "rawType": "object",
                  "type": "unknown"
                },
                {
                  "name": "Unnamed: 265",
                  "rawType": "object",
                  "type": "unknown"
                },
                {
                  "name": "Unnamed: 266",
                  "rawType": "object",
                  "type": "unknown"
                },
                {
                  "name": "Unnamed: 267",
                  "rawType": "object",
                  "type": "unknown"
                },
                {
                  "name": "Unnamed: 268",
                  "rawType": "object",
                  "type": "unknown"
                },
                {
                  "name": "Unnamed: 269",
                  "rawType": "object",
                  "type": "unknown"
                },
                {
                  "name": "Unnamed: 270",
                  "rawType": "object",
                  "type": "unknown"
                },
                {
                  "name": "Unnamed: 271",
                  "rawType": "object",
                  "type": "unknown"
                },
                {
                  "name": "Unnamed: 272",
                  "rawType": "object",
                  "type": "unknown"
                },
                {
                  "name": "Unnamed: 273",
                  "rawType": "object",
                  "type": "unknown"
                },
                {
                  "name": "Unnamed: 274",
                  "rawType": "object",
                  "type": "unknown"
                },
                {
                  "name": "Unnamed: 275",
                  "rawType": "object",
                  "type": "unknown"
                }
              ],
              "conversionMethod": "pd.DataFrame",
              "ref": "c39f6520-c5b0-4048-af9b-90cea60a6d37",
              "rows": [
                [
                  "0",
                  "Date",
                  "2023-04-01 00:00:00",
                  "2023-04-02 00:00:00",
                  "2023-04-03 00:00:00",
                  "2023-04-04 00:00:00",
                  "2023-04-05 00:00:00",
                  "2023-04-06 00:00:00",
                  "2023-04-07 00:00:00",
                  "2023-04-08 00:00:00",
                  "2023-04-09 00:00:00",
                  "2023-04-10 00:00:00",
                  "2023-04-11 00:00:00",
                  "2023-04-12 00:00:00",
                  "2023-04-13 00:00:00",
                  "2023-04-14 00:00:00",
                  "2023-04-15 00:00:00",
                  "2023-04-16 00:00:00",
                  "2023-04-17 00:00:00",
                  "2023-04-18 00:00:00",
                  "2023-04-19 00:00:00",
                  "2023-04-20 00:00:00",
                  "2023-04-21 00:00:00",
                  "2023-04-22 00:00:00",
                  "2023-04-23 00:00:00",
                  "2023-04-24 00:00:00",
                  "2023-04-25 00:00:00",
                  "2023-04-26 00:00:00",
                  "2023-04-27 00:00:00",
                  "2023-04-28 00:00:00",
                  "2023-04-29 00:00:00",
                  "2023-04-30 00:00:00",
                  "2023-05-01 00:00:00",
                  "2023-05-02 00:00:00",
                  "2023-05-03 00:00:00",
                  "2023-05-04 00:00:00",
                  "2023-05-05 00:00:00",
                  "2023-05-06 00:00:00",
                  "2023-05-07 00:00:00",
                  "2023-05-08 00:00:00",
                  "2023-05-09 00:00:00",
                  "2023-05-10 00:00:00",
                  "2023-05-11 00:00:00",
                  "2023-05-12 00:00:00",
                  "2023-05-13 00:00:00",
                  "2023-05-14 00:00:00",
                  "2023-05-15 00:00:00",
                  "2023-05-16 00:00:00",
                  "2023-05-17 00:00:00",
                  "2023-05-18 00:00:00",
                  "2023-05-19 00:00:00",
                  "2023-05-20 00:00:00",
                  "2023-05-21 00:00:00",
                  "2023-05-22 00:00:00",
                  "2023-05-23 00:00:00",
                  "2023-05-24 00:00:00",
                  "2023-05-25 00:00:00",
                  "2023-05-26 00:00:00",
                  "2023-05-27 00:00:00",
                  "2023-05-28 00:00:00",
                  "2023-05-29 00:00:00",
                  "2023-05-30 00:00:00",
                  "2023-05-31 00:00:00",
                  "2023-06-01 00:00:00",
                  "2023-06-02 00:00:00",
                  "2023-06-03 00:00:00",
                  "2023-06-04 00:00:00",
                  "2023-06-05 00:00:00",
                  "2023-06-06 00:00:00",
                  "2023-06-07 00:00:00",
                  "2023-06-08 00:00:00",
                  "2023-06-09 00:00:00",
                  "2023-06-10 00:00:00",
                  "2023-06-11 00:00:00",
                  "2023-06-12 00:00:00",
                  "2023-06-13 00:00:00",
                  "2023-06-14 00:00:00",
                  "2023-06-15 00:00:00",
                  "2023-06-16 00:00:00",
                  "2023-06-17 00:00:00",
                  "2023-06-18 00:00:00",
                  "2023-06-19 00:00:00",
                  "2023-06-20 00:00:00",
                  "2023-06-21 00:00:00",
                  "2023-06-22 00:00:00",
                  "2023-06-23 00:00:00",
                  "2023-06-24 00:00:00",
                  "2023-06-25 00:00:00",
                  "2023-06-26 00:00:00",
                  "2023-06-27 00:00:00",
                  "2023-06-28 00:00:00",
                  "2023-06-29 00:00:00",
                  "2023-06-30 00:00:00",
                  "2023-07-01 00:00:00",
                  "2023-07-02 00:00:00",
                  "2023-07-03 00:00:00",
                  "2023-07-04 00:00:00",
                  "2023-07-05 00:00:00",
                  "2023-07-06 00:00:00",
                  "2023-07-07 00:00:00",
                  "2023-07-08 00:00:00",
                  "2023-07-09 00:00:00",
                  "2023-07-10 00:00:00",
                  "2023-07-11 00:00:00",
                  "2023-07-12 00:00:00",
                  "2023-07-13 00:00:00",
                  "2023-07-14 00:00:00",
                  "2023-07-15 00:00:00",
                  "2023-07-16 00:00:00",
                  "2023-07-17 00:00:00",
                  "2023-07-18 00:00:00",
                  "2023-07-19 00:00:00",
                  "2023-07-20 00:00:00",
                  "2023-07-21 00:00:00",
                  "2023-07-22 00:00:00",
                  "2023-07-23 00:00:00",
                  "2023-07-24 00:00:00",
                  "2023-07-25 00:00:00",
                  "2023-07-26 00:00:00",
                  "2023-07-27 00:00:00",
                  "2023-07-28 00:00:00",
                  "2023-07-29 00:00:00",
                  "2023-07-30 00:00:00",
                  "2023-07-31 00:00:00",
                  "2023-08-01 00:00:00",
                  "2023-08-02 00:00:00",
                  "2023-08-03 00:00:00",
                  "2023-08-04 00:00:00",
                  "2023-08-05 00:00:00",
                  "2023-08-06 00:00:00",
                  "2023-08-07 00:00:00",
                  "2023-08-08 00:00:00",
                  "2023-08-09 00:00:00",
                  "2023-08-10 00:00:00",
                  "2023-08-11 00:00:00",
                  "2023-08-12 00:00:00",
                  "2023-08-13 00:00:00",
                  "2023-08-14 00:00:00",
                  "2023-08-15 00:00:00",
                  "2023-08-16 00:00:00",
                  "2023-08-17 00:00:00",
                  "2023-08-18 00:00:00",
                  "2023-08-19 00:00:00",
                  "2023-08-20 00:00:00",
                  "2023-08-21 00:00:00",
                  "2023-08-22 00:00:00",
                  "2023-08-23 00:00:00",
                  "2023-08-24 00:00:00",
                  "2023-08-25 00:00:00",
                  "2023-08-26 00:00:00",
                  "2023-08-27 00:00:00",
                  "2023-08-28 00:00:00",
                  "2023-08-29 00:00:00",
                  "2023-08-30 00:00:00",
                  "2023-08-31 00:00:00",
                  "2023-09-01 00:00:00",
                  "2023-09-02 00:00:00",
                  "2023-09-03 00:00:00",
                  "2023-09-04 00:00:00",
                  "2023-09-05 00:00:00",
                  "2023-09-06 00:00:00",
                  "2023-09-07 00:00:00",
                  "2023-09-08 00:00:00",
                  "2023-09-09 00:00:00",
                  "2023-09-10 00:00:00",
                  "2023-09-11 00:00:00",
                  "2023-09-12 00:00:00",
                  "2023-09-13 00:00:00",
                  "2023-09-14 00:00:00",
                  "2023-09-15 00:00:00",
                  "2023-09-16 00:00:00",
                  "2023-09-17 00:00:00",
                  "2023-09-18 00:00:00",
                  "2023-09-19 00:00:00",
                  "2023-09-20 00:00:00",
                  "2023-09-21 00:00:00",
                  "2023-09-22 00:00:00",
                  "2023-09-23 00:00:00",
                  "2023-09-24 00:00:00",
                  "2023-09-25 00:00:00",
                  "2023-09-26 00:00:00",
                  "2023-09-27 00:00:00",
                  "2023-09-28 00:00:00",
                  "2023-09-29 00:00:00",
                  "2023-09-30 00:00:00",
                  "2023-10-01 00:00:00",
                  "2023-10-02 00:00:00",
                  "2023-10-03 00:00:00",
                  "2023-10-04 00:00:00",
                  "2023-10-05 00:00:00",
                  "2023-10-06 00:00:00",
                  "2023-10-07 00:00:00",
                  "2023-10-08 00:00:00",
                  "2023-10-09 00:00:00",
                  "2023-10-10 00:00:00",
                  "2023-10-11 00:00:00",
                  "2023-10-12 00:00:00",
                  "2023-10-13 00:00:00",
                  "2023-10-14 00:00:00",
                  "2023-10-15 00:00:00",
                  "2023-10-16 00:00:00",
                  "2023-10-17 00:00:00",
                  "2023-10-18 00:00:00",
                  "2023-10-19 00:00:00",
                  "2023-10-20 00:00:00",
                  "2023-10-21 00:00:00",
                  "2023-10-22 00:00:00",
                  "2023-10-23 00:00:00",
                  "2023-10-24 00:00:00",
                  "2023-10-25 00:00:00",
                  "2023-10-26 00:00:00",
                  "2023-10-27 00:00:00",
                  "2023-10-28 00:00:00",
                  "2023-10-29 00:00:00",
                  "2023-10-30 00:00:00",
                  "2023-10-31 00:00:00",
                  "2023-11-01 00:00:00",
                  "2023-11-02 00:00:00",
                  "2023-11-03 00:00:00",
                  "2023-11-04 00:00:00",
                  "2023-11-05 00:00:00",
                  "2023-11-06 00:00:00",
                  "2023-11-07 00:00:00",
                  "2023-11-08 00:00:00",
                  "2023-11-09 00:00:00",
                  "2023-11-10 00:00:00",
                  "2023-11-11 00:00:00",
                  "2023-11-12 00:00:00",
                  "2023-11-13 00:00:00",
                  "2023-11-14 00:00:00",
                  "2023-11-15 00:00:00",
                  "2023-11-16 00:00:00",
                  "2023-11-17 00:00:00",
                  "2023-11-18 00:00:00",
                  "2023-11-19 00:00:00",
                  "2023-11-20 00:00:00",
                  "2023-11-21 00:00:00",
                  "2023-11-22 00:00:00",
                  "2023-11-23 00:00:00",
                  "2023-11-24 00:00:00",
                  "2023-11-25 00:00:00",
                  "2023-11-26 00:00:00",
                  "2023-11-27 00:00:00",
                  "2023-11-28 00:00:00",
                  "2023-11-29 00:00:00",
                  "2023-11-30 00:00:00",
                  "2023-12-01 00:00:00",
                  "2023-12-02 00:00:00",
                  "2023-12-03 00:00:00",
                  "2023-12-04 00:00:00",
                  "2023-12-05 00:00:00",
                  "2023-12-06 00:00:00",
                  "2023-12-07 00:00:00",
                  "2023-12-08 00:00:00",
                  "2023-12-09 00:00:00",
                  "2023-12-10 00:00:00",
                  "2023-12-11 00:00:00",
                  "2023-12-12 00:00:00",
                  "2023-12-13 00:00:00",
                  "2023-12-14 00:00:00",
                  "2023-12-15 00:00:00",
                  "2023-12-16 00:00:00",
                  "2023-12-17 00:00:00",
                  "2023-12-18 00:00:00",
                  "2023-12-19 00:00:00",
                  "2023-12-20 00:00:00",
                  "2023-12-21 00:00:00",
                  "2023-12-22 00:00:00",
                  "2023-12-23 00:00:00",
                  "2023-12-24 00:00:00",
                  "2023-12-25 00:00:00",
                  "2023-12-26 00:00:00",
                  "2023-12-27 00:00:00",
                  "2023-12-28 00:00:00",
                  "2023-12-29 00:00:00",
                  "2023-12-30 00:00:00",
                  "2023-12-31 00:00:00"
                ],
                [
                  "1",
                  "Weekday",
                  "Saturday",
                  "Sunday",
                  "Monday",
                  "Tuesday",
                  "Wednesday",
                  "Thursday",
                  "Friday",
                  "Saturday",
                  "Sunday",
                  "Monday",
                  "Tuesday",
                  "Wednesday",
                  "Thursday",
                  "Friday",
                  "Saturday",
                  "Sunday",
                  "Monday",
                  "Tuesday",
                  "Wednesday",
                  "Thursday",
                  "Friday",
                  "Saturday",
                  "Sunday",
                  "Monday",
                  "Tuesday",
                  "Wednesday",
                  "Thursday",
                  "Friday",
                  "Saturday",
                  "Sunday",
                  "Monday",
                  "Tuesday",
                  "Wednesday",
                  "Thursday",
                  "Friday",
                  "Saturday",
                  "Sunday",
                  "Monday",
                  "Tuesday",
                  "Wednesday",
                  "Thursday",
                  "Friday",
                  "Saturday",
                  "Sunday",
                  "Monday",
                  "Tuesday",
                  "Wednesday",
                  "Thursday",
                  "Friday",
                  "Saturday",
                  "Sunday",
                  "Monday",
                  "Tuesday",
                  "Wednesday",
                  "Thursday",
                  "Friday",
                  "Saturday",
                  "Sunday",
                  "Monday",
                  "Tuesday",
                  "Wednesday",
                  "Thursday",
                  "Friday",
                  "Saturday",
                  "Sunday",
                  "Monday",
                  "Tuesday",
                  "Wednesday",
                  "Thursday",
                  "Friday",
                  "Saturday",
                  "Sunday",
                  "Monday",
                  "Tuesday",
                  "Wednesday",
                  "Thursday",
                  "Friday",
                  "Saturday",
                  "Sunday",
                  "Monday",
                  "Tuesday",
                  "Wednesday",
                  "Thursday",
                  "Friday",
                  "Saturday",
                  "Sunday",
                  "Monday",
                  "Tuesday",
                  "Wednesday",
                  "Thursday",
                  "Friday",
                  "Saturday",
                  "Sunday",
                  "Monday",
                  "Tuesday",
                  "Wednesday",
                  "Thursday",
                  "Friday",
                  "Saturday",
                  "Sunday",
                  "Monday",
                  "Tuesday",
                  "Wednesday",
                  "Thursday",
                  "Friday",
                  "Saturday",
                  "Sunday",
                  "Monday",
                  "Tuesday",
                  "Wednesday",
                  "Thursday",
                  "Friday",
                  "Saturday",
                  "Sunday",
                  "Monday",
                  "Tuesday",
                  "Wednesday",
                  "Thursday",
                  "Friday",
                  "Saturday",
                  "Sunday",
                  "Monday",
                  "Tuesday",
                  "Wednesday",
                  "Thursday",
                  "Friday",
                  "Saturday",
                  "Sunday",
                  "Monday",
                  "Tuesday",
                  "Wednesday",
                  "Thursday",
                  "Friday",
                  "Saturday",
                  "Sunday",
                  "Monday",
                  "Tuesday",
                  "Wednesday",
                  "Thursday",
                  "Friday",
                  "Saturday",
                  "Sunday",
                  "Monday",
                  "Tuesday",
                  "Wednesday",
                  "Thursday",
                  "Friday",
                  "Saturday",
                  "Sunday",
                  "Monday",
                  "Tuesday",
                  "Wednesday",
                  "Thursday",
                  "Friday",
                  "Saturday",
                  "Sunday",
                  "Monday",
                  "Tuesday",
                  "Wednesday",
                  "Thursday",
                  "Friday",
                  "Saturday",
                  "Sunday",
                  "Monday",
                  "Tuesday",
                  "Wednesday",
                  "Thursday",
                  "Friday",
                  "Saturday",
                  "Sunday",
                  "Monday",
                  "Tuesday",
                  "Wednesday",
                  "Thursday",
                  "Friday",
                  "Saturday",
                  "Sunday",
                  "Monday",
                  "Tuesday",
                  "Wednesday",
                  "Thursday",
                  "Friday",
                  "Saturday",
                  "Sunday",
                  "Monday",
                  "Tuesday",
                  "Wednesday",
                  "Thursday",
                  "Friday",
                  "Saturday",
                  "Sunday",
                  "Monday",
                  "Tuesday",
                  "Wednesday",
                  "Thursday",
                  "Friday",
                  "Saturday",
                  "Sunday",
                  "Monday",
                  "Tuesday",
                  "Wednesday",
                  "Thursday",
                  "Friday",
                  "Saturday",
                  "Sunday",
                  "Monday",
                  "Tuesday",
                  "Wednesday",
                  "Thursday",
                  "Friday",
                  "Saturday",
                  "Sunday",
                  "Monday",
                  "Tuesday",
                  "Wednesday",
                  "Thursday",
                  "Friday",
                  "Saturday",
                  "Sunday",
                  "Monday",
                  "Tuesday",
                  "Wednesday",
                  "Thursday",
                  "Friday",
                  "Saturday",
                  "Sunday",
                  "Monday",
                  "Tuesday",
                  "Wednesday",
                  "Thursday",
                  "Friday",
                  "Saturday",
                  "Sunday",
                  "Monday",
                  "Tuesday",
                  "Wednesday",
                  "Thursday",
                  "Friday",
                  "Saturday",
                  "Sunday",
                  "Monday",
                  "Tuesday",
                  "Wednesday",
                  "Thursday",
                  "Friday",
                  "Saturday",
                  "Sunday",
                  "Monday",
                  "Tuesday",
                  "Wednesday",
                  "Thursday",
                  "Friday",
                  "Saturday",
                  "Sunday",
                  "Monday",
                  "Tuesday",
                  "Wednesday",
                  "Thursday",
                  "Friday",
                  "Saturday",
                  "Sunday",
                  "Monday",
                  "Tuesday",
                  "Wednesday",
                  "Thursday",
                  "Friday",
                  "Saturday",
                  "Sunday",
                  "Monday",
                  "Tuesday",
                  "Wednesday",
                  "Thursday",
                  "Friday",
                  "Saturday",
                  "Sunday"
                ],
                [
                  "2",
                  "CNG Sales Ahmedabad (SCM/day)",
                  "489076.113687999",
                  "491107.744591",
                  "463311.399700001",
                  "456306.343200003",
                  "493338.999137997",
                  "494010.905488001",
                  "409583.985034",
                  "542228.194162999",
                  "478717.394779001",
                  "483230.277815999",
                  "485970.141539999",
                  "484442.664286001",
                  "481539.484122001",
                  "475616.294424",
                  "508646.535999998",
                  "499561.828190001",
                  "491511.198189999",
                  "486965.132491001",
                  "477694.400777999",
                  "494866.984368",
                  "429529.440000001",
                  "478486.228973998",
                  "499919.804848001",
                  "493929.254863",
                  "512009.056974",
                  "488102.202760999",
                  "505695.523430001",
                  "513905.187381999",
                  "524235.852062999",
                  "487767.451411001",
                  "519383.040704",
                  "508708.939889",
                  "508893.05185",
                  "503087.392368002",
                  "527874.380919998",
                  "538248.608925002",
                  "532650.390192",
                  "531118.178436999",
                  "514436.391770002",
                  "519825.312419999",
                  "518385",
                  "516201.705690001",
                  "530423.974389997",
                  "499739.439879001",
                  "545510.517090001",
                  "531331.463624",
                  "524374.592021999",
                  "534019.694593001",
                  "533700.688882",
                  "546641.743372",
                  "499822.067339999",
                  "539776.427854001",
                  "519329.401622998",
                  "516676.602042",
                  "520435.407976",
                  "531837.840933",
                  "546217.445280001",
                  "444665.230449",
                  "544085.452425",
                  "508781.813731",
                  "474317.093602001",
                  "514537.704664",
                  "521371.358054999",
                  "524081.26872",
                  "477220.498722",
                  "554662.857303",
                  "512326.135368001",
                  "518462.174624",
                  "524074.227199999",
                  "517136.328240001",
                  "522772.83444",
                  "491078.750992",
                  "533807.089368",
                  "521941.747004001",
                  "503504.242473002",
                  "420093.064159999",
                  "478067.537471999",
                  "501498.84202",
                  "458399.099927999",
                  "520702.036580001",
                  "472777.412281",
                  "518192.803200002",
                  "526894.064687999",
                  "524606.171297999",
                  "527621.252343001",
                  "500862.614675",
                  "534183.070368001",
                  "521407.236399999",
                  "523241.76784",
                  "471108.157857",
                  "414521.139626001",
                  "585164.952736",
                  "499104.946481001",
                  "555302.462879999",
                  "516420.588342002",
                  "460425.946021998",
                  "585708.284186",
                  "518213.888164",
                  "539024.012904",
                  "493902.955955001",
                  "548613.098622",
                  "510733.580639998",
                  "519923.318288",
                  "517074.943803001",
                  "516819.190523998",
                  "475504.867722",
                  "543381.091824",
                  "531077.766120001",
                  "523019.951024999",
                  "524721.567492001",
                  "517651.432463999",
                  "513037.866748002",
                  "455011.453029999",
                  "490447.14225",
                  "530286.684336",
                  "510371.015426999",
                  "538460.840456",
                  "505778.373723002",
                  "516403.683060001",
                  "492458.670314999",
                  "493398.854850001",
                  "520190.252624999",
                  "652308.88553",
                  "562768.826912",
                  "567110.295998999",
                  "568199.203860003",
                  "574431.271352999",
                  "541684.206375",
                  "587266.295410998",
                  "567103.055488002",
                  "559738.333439999",
                  "580887.873244",
                  "590420.630343",
                  "588215.802911",
                  "531458.75671",
                  "575353.874880001",
                  "466049.378444998",
                  "627018.666964002",
                  "565555.343147998",
                  "576288.562663",
                  "577131.176966001",
                  "548264.293859999",
                  "587359.205348",
                  "573199.942434",
                  "565514.846245001",
                  "573937",
                  "587957.794660001",
                  "583694.401304",
                  "543004.509159",
                  "606368.836902",
                  "631553.1555",
                  "556995.12536",
                  "524896.981724",
                  "624079.169472",
                  "567426.0839",
                  "521803.715184",
                  "583532.4872",
                  "570004.840984",
                  "575895.755708",
                  "491811.831984",
                  "535507.505328",
                  "591255.305625",
                  "551409.886563",
                  "601611.687838",
                  "590366.640528",
                  "574127.784054",
                  "579296.892672",
                  "537480.976417",
                  "649220.894904",
                  "478664.576676",
                  "615247.88604",
                  "552093.37128",
                  "583277",
                  "586571.143116",
                  "583205.129010001",
                  "592575.715111",
                  "537812.314848",
                  "601578.621784",
                  "591394.500039",
                  "573266.437425",
                  "536179.068026",
                  "586962.010485",
                  "526484.144865",
                  "588611.769733",
                  "565132.062174",
                  "580718.99345",
                  "569333.191475",
                  "582704.458263",
                  "585291.403548",
                  "577756.141935999",
                  "524080.172888",
                  "593297.93778",
                  "583981.689125",
                  "578729.60475",
                  "589467.241836",
                  "601568.129218",
                  "565255.096926",
                  "558321.485125",
                  "608398.619706",
                  "596376.58168",
                  "591144.938392",
                  "591696.920272",
                  "591895.789056",
                  "608842.275723",
                  "526493.937779",
                  "547643.104569",
                  "479806.88003",
                  "557260.924718",
                  "575379.387936",
                  "581982.712324",
                  "565372.736448",
                  "511841.82987",
                  "570452.72037",
                  "549490.95852",
                  "561693.369404",
                  "579676.170942",
                  "573144.895232",
                  "585511.807518",
                  "527774.235791",
                  "596280.617905",
                  "603017.45036",
                  "591771.40367",
                  "607158.435735",
                  "587221.23768",
                  "548673.244632",
                  "444510.082892",
                  "437882.345445",
                  "448402.566024",
                  "457435.032133",
                  "471428.896804",
                  "475409.127696",
                  "514993.122618",
                  "464018.00625",
                  "544307.72966",
                  "542697.508514",
                  "539481.678832",
                  "550689.508324",
                  "554647.29422",
                  "568277.235685",
                  "519246.319413",
                  "608415.712688",
                  "578585.3126",
                  "575714.90178",
                  "516804.216896",
                  "624144.751488",
                  "577958.87666",
                  "538579.09104",
                  "595295.692173",
                  "594817.306090001",
                  "590302.841156",
                  "600606.881024",
                  "597733.430723",
                  "594784.24416",
                  "555327.113247",
                  "586667.425636",
                  "582995.35236",
                  "600989.313485",
                  "617320.784948",
                  "596293.83549",
                  "599334.573525",
                  "561998.780517",
                  "591225",
                  "583219.818499",
                  "583960.393272",
                  "587184.746016",
                  "586486.401692",
                  "565619.81448",
                  "556015.517748",
                  "592294.579128",
                  "599715.663484",
                  "571390.999704",
                  "576890.976666",
                  "572104.814138",
                  "585843.459244",
                  "537720.84984"
                ],
                [
                  "3",
                  "Industrial",
                  "217635.742394999",
                  "215119.110745",
                  "218226.828165",
                  "199462.933415",
                  "217314.215755",
                  "210322.865515001",
                  "234208.247506",
                  "227748.543775",
                  "191825.05856",
                  "219601.639715",
                  "189054.789960001",
                  "205303.851045",
                  "215481.229685",
                  "220480.976025",
                  "222189.967425",
                  "203773.394555",
                  "210731.47173",
                  "193544.12429",
                  "198906.549995",
                  "200140.33547",
                  "206778.027525",
                  "193085.42962",
                  "185715.71857",
                  "204081.285835",
                  "187339.209719999",
                  "210136.31015",
                  "212568.99947",
                  "219880.29644",
                  "235158.288",
                  "199713.534",
                  "222750.725055001",
                  "203897.387644999",
                  "231555.599845001",
                  "230854.24835",
                  "226762.997704999",
                  "222699.75112",
                  "201180.47996",
                  "224978.92176",
                  "208634.883295",
                  "215120.10266",
                  "213893.59361",
                  "215474.223605",
                  "206836.132035",
                  "185708.13336",
                  "222888.97111",
                  "210496.953185",
                  "227297.19005",
                  "240158.6996",
                  "222484.222319999",
                  "215539.779160001",
                  "181757.176899999",
                  "211393.5875",
                  "203015.486645",
                  "221855.96327",
                  "229033.21904",
                  "216578.31626",
                  "222006.49108",
                  "183701.83911",
                  "208603.82881",
                  "204808.262875",
                  "221407.626785",
                  "212686.33032",
                  "224032.935675",
                  "213900.26519",
                  "177680.17388",
                  "222868.677459999",
                  "187374.109745",
                  "211231.41799",
                  "205380.38554",
                  "221691.765860001",
                  "224973.917615",
                  "183857.24073",
                  "207575.54333",
                  "200292.232755",
                  "203910.14084",
                  "187516.73744",
                  "196216.14736",
                  "204279.711095",
                  "183580.768545001",
                  "211673.58307",
                  "180795.203475",
                  "216134.645745",
                  "210493.611865",
                  "215017.033375",
                  "215096.60988",
                  "184219.12225",
                  "202943.493744999",
                  "181871.066950001",
                  "198329.477565",
                  "202168.686895",
                  "209280.084325",
                  "202752.808505",
                  "182030.158225",
                  "218272.750305",
                  "195152.291025",
                  "206137.65595",
                  "212209.951920001",
                  "224038.37924",
                  "227526.487939999",
                  "194366.289415",
                  "215335.320065",
                  "207019.70934",
                  "214748.610175",
                  "227724.718879999",
                  "225709.421215",
                  "218714.45957",
                  "186522.74628",
                  "207105.864955",
                  "182728.279175",
                  "212417.147895001",
                  "223855.31198",
                  "220738.654235",
                  "220611.57021",
                  "185337.28292",
                  "210309.067095",
                  "192735.904895",
                  "222112.303275",
                  "231026.04476",
                  "240719.30282",
                  "241229.131015",
                  "208459.12527",
                  "235660.61304",
                  "197588.058145",
                  "218573.393475",
                  "226626.960150001",
                  "234619.201535",
                  "239403.77046",
                  "200432.0194",
                  "234128.89562",
                  "222719.71695",
                  "246356.60003",
                  "265027.895575",
                  "277671.79716",
                  "268636.349365",
                  "227673.725655",
                  "257155.58903",
                  "178007.056038",
                  "248391.15662",
                  "255885.774024999",
                  "254037.636995001",
                  "273228.79934",
                  "235574.330565",
                  "267522.570947",
                  "248480.82304",
                  "261216.53532",
                  "268988.256165",
                  "279326.11273",
                  "271270.182635001",
                  "257257.083285",
                  "294417.89053",
                  "266618.759995",
                  "121535.45184",
                  "244802.361855",
                  "268471.20388",
                  "264749.3415",
                  "246603.088865",
                  "278462.299164999",
                  "279443.451860001",
                  "251596.76812",
                  "145508.90707",
                  "205652.514825",
                  "247078.24068",
                  "247912.086395",
                  "282927.3471",
                  "261000.14093",
                  "289795.2865",
                  "288582.34893",
                  "287670.607800001",
                  "299214.70071",
                  "229680.795950001",
                  "281483.400189999",
                  "260609.759985",
                  "272731.638654999",
                  "284939.822875001",
                  "284465.339869999",
                  "280741.870115",
                  "271108.46008",
                  "283160.630992",
                  "254878.95797",
                  "289070.116312999",
                  "289525.502395",
                  "286311.807645001",
                  "272120.48284",
                  "225307.91567",
                  "235192.81102",
                  "240610.24779",
                  "268472.57713",
                  "272632.96359",
                  "274830.358224999",
                  "279403.60849",
                  "238581.151285001",
                  "271972.898465",
                  "233618.77291",
                  "249493.775793",
                  "260613.239823",
                  "264791.76865",
                  "258255.682969999",
                  "228204",
                  "276973.68404",
                  "243954.809325",
                  "266508.827275",
                  "270672.056355",
                  "273247.3647",
                  "273898.29423",
                  "244921.79712",
                  "247078.62245",
                  "142827.21772",
                  "259054.81484",
                  "263476.140625",
                  "273282.016745",
                  "262608.565085",
                  "213473.440095001",
                  "264157.7167",
                  "251463.03677",
                  "266300.097329999",
                  "267415.355075",
                  "262276.845265",
                  "263792.0582",
                  "237144.474115",
                  "266053.71228",
                  "245401.977865",
                  "259987.75149",
                  "262995.26377",
                  "216763.315759999",
                  "151802.281365",
                  "37636.5420549999",
                  "26730.6714999998",
                  "41942.3513100003",
                  "53925.6372649996",
                  "88230.2076949998",
                  "106000.94189",
                  "141687.605745001",
                  "140674.93497",
                  "192825.93054",
                  "204637.815115",
                  "222749.871025001",
                  "245426.056189999",
                  "251692.9484",
                  "247727.544665",
                  "222588.08776",
                  "252401.50759",
                  "244476.007905",
                  "258206.33607",
                  "263443.580665",
                  "265940.488385",
                  "274739.653935",
                  "241524.04736",
                  "267243.038259999",
                  "271855.328860001",
                  "286154.844239999",
                  "282083.160575",
                  "291423.472265",
                  "282777.65252",
                  "233199.501209999",
                  "276269.51138",
                  "263962.604514",
                  "281637.839766",
                  "280467.215670001",
                  "279620.205635",
                  "284558.286105",
                  "260598.98602",
                  "302318.952365",
                  "280276.984125001",
                  "320677.8397",
                  "290368.12443",
                  "301500.96214",
                  "231737.91599",
                  "227597.690195",
                  "254594.209980001",
                  "245098.5703",
                  "272767.549675",
                  "268037.34608",
                  "268176.6087",
                  "298067.576955",
                  "228322.98924"
                ],
                [
                  "4",
                  "Commercial Sales Ahmedabad (SCM/day)",
                  "41918",
                  "41918",
                  "41918",
                  "41918",
                  "41918",
                  "41918",
                  "41918",
                  "41918",
                  "41918",
                  "41918",
                  "41918",
                  "41918",
                  "41918",
                  "41918",
                  "41918",
                  "39875.17",
                  "39875.17",
                  "39875.17",
                  "39875.17",
                  "39875.17",
                  "39875.17",
                  "39875.17",
                  "39875.17",
                  "39875.17",
                  "39875.17",
                  "39875.17",
                  "39875.17",
                  "39875.17",
                  "39875.17",
                  "39875.17",
                  "39875.17",
                  "39875.17",
                  "39875.17",
                  "39875.17",
                  "39875.17",
                  "39875.17",
                  "39875.17",
                  "39875.17",
                  "39875.17",
                  "39875.17",
                  "39875.17",
                  "39875.17",
                  "39875.17",
                  "39875.17",
                  "39875.17",
                  "39875.17",
                  "39875.17",
                  "39875.17",
                  "39875.17",
                  "39875.17",
                  "39875.17",
                  "39875.17",
                  "39875.17",
                  "39875.17",
                  "39875.17",
                  "39875.17",
                  "39875.17",
                  "39875.17",
                  "39875.17",
                  "39875.17",
                  "39875.17",
                  "44025.94",
                  "44025.94",
                  "44025.94",
                  "44025.94",
                  "44025.94",
                  "44025.94",
                  "44025.94",
                  "44025.94",
                  "44025.94",
                  "44025.94",
                  "44025.94",
                  "44025.94",
                  "44025.94",
                  "44025.94",
                  "44025.94",
                  "44025.94",
                  "44025.94",
                  "44025.94",
                  "44025.94",
                  "44025.94",
                  "44025.94",
                  "44025.94",
                  "44025.94",
                  "44025.94",
                  "44025.94",
                  "44025.94",
                  "44025.94",
                  "44025.94",
                  "44025.94",
                  "44025.94",
                  "41299.17",
                  "41299.17",
                  "41299.17",
                  "41299.17",
                  "41299.17",
                  "41299.17",
                  "41299.17",
                  "41299.17",
                  "41299.17",
                  "41299.17",
                  "41299.17",
                  "41299.17",
                  "41299.17",
                  "41299.17",
                  "41299.17",
                  "41299.17",
                  "41299.17",
                  "41299.17",
                  "41299.17",
                  "41299.17",
                  "41299.17",
                  "41299.17",
                  "41299.17",
                  "41299.17",
                  "41299.17",
                  "41299.17",
                  "41299.17",
                  "41299.17",
                  "41299.17",
                  "41299.17",
                  "41299.17",
                  "41299.17",
                  "41299.17",
                  "41299.17",
                  "41299.17",
                  "41299.17",
                  "41299.17",
                  "41299.17",
                  "41299.17",
                  "41299.17",
                  "41299.17",
                  "41299.17",
                  "41299.17",
                  "41299.17",
                  "41299.17",
                  "41299.17",
                  "41299.17",
                  "41299.17",
                  "41299.17",
                  "41299.17",
                  "41299.17",
                  "41299.17",
                  "41299.17",
                  "41299.17",
                  "41299.17",
                  "41299.17",
                  "41299.17",
                  "41299.17",
                  "41299.17",
                  "41299.17",
                  "41299.17",
                  "41299.17",
                  "47151.17",
                  "47151.17",
                  "47151.17",
                  "47151.17",
                  "47151.17",
                  "47151.17",
                  "47151.17",
                  "47151.17",
                  "47151.17",
                  "47151.17",
                  "47151.17",
                  "47151.17",
                  "47151.17",
                  "47151.17",
                  "47151.17",
                  "47215.63",
                  "47215.63",
                  "47215.63",
                  "47215.63",
                  "47215.63",
                  "47215.63",
                  "47215.63",
                  "47215.63",
                  "47215.63",
                  "47215.63",
                  "47215.63",
                  "47215.63",
                  "47215.63",
                  "47215.63",
                  "47215.63",
                  "47151.17",
                  "47151.17",
                  "47151.17",
                  "47151.17",
                  "47151.17",
                  "47151.17",
                  "47151.17",
                  "47151.17",
                  "47151.17",
                  "47151.17",
                  "47151.17",
                  "47151.17",
                  "47151.17",
                  "47151.17",
                  "47151.17",
                  "47151.17",
                  "47151.17",
                  "47151.17",
                  "47151.17",
                  "47151.17",
                  "47151.17",
                  "47151.17",
                  "47151.17",
                  "47151.17",
                  "47151.17",
                  "47151.17",
                  "47151.17",
                  "47151.17",
                  "47151.17",
                  "47151.17",
                  "47151.17",
                  "47151.17",
                  "47151.17",
                  "47151.17",
                  "47151.17",
                  "47151.17",
                  "47151.17",
                  "47151.17",
                  "47151.17",
                  "47151.17",
                  "47151.17",
                  "47151.17",
                  "47151.17",
                  "47151.17",
                  "47151.17",
                  "47151.17",
                  "47151.17",
                  "47151.17",
                  "47151.17",
                  "47151.17",
                  "47151.17",
                  "47151.17",
                  "47151.17",
                  "47151.17",
                  "47151.17",
                  "47151.17",
                  "47151.17",
                  "47151.17",
                  "47151.17",
                  "47151.17",
                  "47151.17",
                  "51085",
                  "51085",
                  "51085",
                  "51085",
                  "51085",
                  "51085",
                  "51085",
                  "51085",
                  "51085",
                  "51085",
                  "51085",
                  "51085",
                  "51085",
                  "51085",
                  "51085",
                  "51085",
                  "51085",
                  "51085",
                  "51085",
                  "51085",
                  "51085",
                  "51085",
                  "51085",
                  "51085",
                  "51085",
                  "51085",
                  "51085",
                  "51085",
                  "51085",
                  "51085",
                  "51085"
                ],
                [
                  "5",
                  "Domestic  Sales Ahmedabad (SCM/day)",
                  "134251.39",
                  "134251.39",
                  "134251.39",
                  "134251.39",
                  "134251.39",
                  "134251.39",
                  "134251.39",
                  "134251.39",
                  "134251.39",
                  "134251.39",
                  "134251.39",
                  "134251.39",
                  "134251.39",
                  "134251.39",
                  "134251.39",
                  "134251.39",
                  "134251.39",
                  "134251.39",
                  "134251.39",
                  "134251.39",
                  "134251.39",
                  "134251.39",
                  "134251.39",
                  "134251.39",
                  "134251.39",
                  "134251.39",
                  "134251.39",
                  "134251.39",
                  "134251.39",
                  "134251.39",
                  "134251.39",
                  "134251.39",
                  "134251.39",
                  "134251.39",
                  "134251.39",
                  "134251.39",
                  "134251.39",
                  "134251.39",
                  "134251.39",
                  "134251.39",
                  "134251.39",
                  "134251.39",
                  "134251.39",
                  "134251.39",
                  "134251.39",
                  "134251.39",
                  "134251.39",
                  "134251.39",
                  "134251.39",
                  "134251.39",
                  "134251.39",
                  "134251.39",
                  "134251.39",
                  "134251.39",
                  "134251.39",
                  "134251.39",
                  "134251.39",
                  "134251.39",
                  "134251.39",
                  "134251.39",
                  "134251.39",
                  "134251.39",
                  "134251.39",
                  "134251.39",
                  "134251.39",
                  "134251.39",
                  "134251.39",
                  "134251.39",
                  "134251.39",
                  "134251.39",
                  "134251.39",
                  "134251.39",
                  "134251.39",
                  "134251.39",
                  "134251.39",
                  "134251.39",
                  "134251.39",
                  "134251.39",
                  "134251.39",
                  "134251.39",
                  "134251.39",
                  "134251.39",
                  "134251.39",
                  "134251.39",
                  "134251.39",
                  "134251.39",
                  "134251.39",
                  "134251.39",
                  "134251.39",
                  "134251.39",
                  "134251.39",
                  "134251.39",
                  "134251.39",
                  "134251.39",
                  "134251.39",
                  "134251.39",
                  "134251.39",
                  "134251.39",
                  "134251.39",
                  "134251.39",
                  "134251.39",
                  "134251.39",
                  "134251.39",
                  "134251.39",
                  "134251.39",
                  "134251.39",
                  "134251.39",
                  "134251.39",
                  "134251.39",
                  "134251.39",
                  "134251.39",
                  "134251.39",
                  "134251.39",
                  "134251.39",
                  "134251.39",
                  "134251.39",
                  "134251.39",
                  "134251.39",
                  "134251.39",
                  "134251.39",
                  "134251.39",
                  "134251.39",
                  "134251.39",
                  "134251.39",
                  "134251.39",
                  "134251.39",
                  "134251.39",
                  "134251.39",
                  "134251.39",
                  "134251.39",
                  "134251.39",
                  "134251.39",
                  "134251.39",
                  "134251.39",
                  "134251.39",
                  "134251.39",
                  "134251.39",
                  "134251.39",
                  "134251.39",
                  "134251.39",
                  "134251.39",
                  "134251.39",
                  "134251.39",
                  "134251.39",
                  "134251.39",
                  "134251.39",
                  "134251.39",
                  "134251.39",
                  "134251.39",
                  "134251.39",
                  "134251.39",
                  "134251.39",
                  "134251.39",
                  "143451.283200001",
                  "143451.283200001",
                  "143451.283200001",
                  "143451.283200001",
                  "143451.283200001",
                  "143451.283200001",
                  "143451.283200001",
                  "143451.283200001",
                  "143451.283200001",
                  "143451.283200001",
                  "143451.283200001",
                  "143451.283200001",
                  "143451.283200001",
                  "143451.283200001",
                  "143451.283200001",
                  "143451.283200001",
                  "143451.283200001",
                  "143451.283200001",
                  "143451.283200001",
                  "143451.283200001",
                  "143451.283200001",
                  "143451.283200001",
                  "143451.283200001",
                  "143451.283200001",
                  "143451.283200001",
                  "143451.283200001",
                  "143451.283200001",
                  "143451.283200001",
                  "143451.283200001",
                  "143451.283200001",
                  "143451.283200001",
                  "143451.283200001",
                  "143451.283200001",
                  "143451.283200001",
                  "143451.283200001",
                  "143451.283200001",
                  "143451.283200001",
                  "143451.283200001",
                  "143451.283200001",
                  "143451.283200001",
                  "143451.283200001",
                  "143451.283200001",
                  "143451.283200001",
                  "143451.283200001",
                  "143451.283200001",
                  "143451.283200001",
                  "143451.283200001",
                  "143451.283200001",
                  "143451.283200001",
                  "143451.283200001",
                  "143451.283200001",
                  "143451.283200001",
                  "143451.283200001",
                  "143451.283200001",
                  "143451.283200001",
                  "143451.283200001",
                  "143451.283200001",
                  "143451.283200001",
                  "143451.283200001",
                  "143451.283200001",
                  "143451.283200001",
                  "143451.283200001",
                  "143451.283200001",
                  "143451.283200001",
                  "143451.283200001",
                  "143451.283200001",
                  "143451.283200001",
                  "143451.283200001",
                  "143451.283200001",
                  "143451.283200001",
                  "143451.283200001",
                  "143451.283200001",
                  "143451.283200001",
                  "143451.283200001",
                  "143451.283200001",
                  "143451.283200001",
                  "143451.283200001",
                  "143451.283200001",
                  "143451.283200001",
                  "143451.283200001",
                  "143451.283200001",
                  "143451.283200001",
                  "143451.283200001",
                  "143451.283200001",
                  "143451.283200001",
                  "143451.283200001",
                  "143451.283200001",
                  "143451.283200001",
                  "143451.283200001",
                  "143451.283200001",
                  "143451.283200001",
                  "154800",
                  "154800",
                  "154800",
                  "154800",
                  "154800",
                  "154800",
                  "154800",
                  "154800",
                  "154800",
                  "154800",
                  "154800",
                  "154800",
                  "154800",
                  "154800",
                  "154800",
                  "154800",
                  "154800",
                  "154800",
                  "154800",
                  "154800",
                  "154800",
                  "154800",
                  "154800",
                  "154800",
                  "154800",
                  "154800",
                  "154800",
                  "154800",
                  "154800",
                  "154800",
                  "154800"
                ],
                [
                  "6",
                  "CONFIDENTIAL DATA",
                  null,
                  null,
                  null,
                  null,
                  null,
                  null,
                  null,
                  null,
                  null,
                  null,
                  null,
                  null,
                  null,
                  null,
                  null,
                  null,
                  null,
                  null,
                  null,
                  null,
                  null,
                  null,
                  null,
                  null,
                  null,
                  "CONFIDENTIAL DATA",
                  null,
                  null,
                  null,
                  null,
                  null,
                  null,
                  null,
                  null,
                  null,
                  null,
                  null,
                  null,
                  null,
                  null,
                  null,
                  null,
                  null,
                  null,
                  null,
                  null,
                  null,
                  null,
                  null,
                  null,
                  null,
                  "CONFIDENTIAL DATA",
                  null,
                  null,
                  null,
                  null,
                  null,
                  null,
                  null,
                  null,
                  null,
                  null,
                  null,
                  null,
                  null,
                  null,
                  null,
                  null,
                  null,
                  null,
                  null,
                  null,
                  null,
                  null,
                  null,
                  null,
                  null,
                  "CONFIDENTIAL DATA",
                  null,
                  null,
                  null,
                  null,
                  null,
                  null,
                  null,
                  null,
                  null,
                  null,
                  null,
                  null,
                  null,
                  null,
                  null,
                  null,
                  null,
                  null,
                  null,
                  null,
                  null,
                  null,
                  null,
                  null,
                  null,
                  "CONFIDENTIAL DATA",
                  null,
                  null,
                  null,
                  null,
                  null,
                  null,
                  null,
                  null,
                  null,
                  null,
                  null,
                  null,
                  null,
                  null,
                  null,
                  null,
                  null,
                  null,
                  null,
                  null,
                  null,
                  null,
                  null,
                  null,
                  null,
                  "CONFIDENTIAL DATA",
                  null,
                  null,
                  null,
                  null,
                  null,
                  null,
                  null,
                  null,
                  null,
                  null,
                  null,
                  null,
                  null,
                  null,
                  null,
                  null,
                  null,
                  null,
                  null,
                  null,
                  null,
                  null,
                  null,
                  null,
                  null,
                  "CONFIDENTIAL DATA",
                  null,
                  null,
                  null,
                  null,
                  null,
                  null,
                  null,
                  null,
                  null,
                  null,
                  null,
                  null,
                  null,
                  null,
                  null,
                  null,
                  null,
                  null,
                  null,
                  null,
                  null,
                  null,
                  null,
                  null,
                  null,
                  "CONFIDENTIAL DATA",
                  null,
                  null,
                  null,
                  null,
                  null,
                  null,
                  null,
                  null,
                  null,
                  null,
                  null,
                  null,
                  null,
                  null,
                  null,
                  null,
                  null,
                  null,
                  null,
                  null,
                  null,
                  null,
                  null,
                  null,
                  null,
                  "CONFIDENTIAL DATA",
                  null,
                  null,
                  null,
                  null,
                  null,
                  null,
                  null,
                  null,
                  null,
                  null,
                  null,
                  null,
                  null,
                  null,
                  null,
                  null,
                  null,
                  null,
                  null,
                  null,
                  null,
                  null,
                  null,
                  null,
                  null,
                  "CONFIDENTIAL DATA",
                  null,
                  null,
                  null,
                  null,
                  null,
                  null,
                  null,
                  null,
                  null,
                  null,
                  null,
                  null,
                  null,
                  null,
                  null,
                  null,
                  null,
                  null,
                  null,
                  null,
                  null,
                  null,
                  null,
                  null,
                  null,
                  "CONFIDENTIAL DATA",
                  null,
                  null,
                  null,
                  null,
                  null,
                  null,
                  null,
                  null,
                  null,
                  null,
                  null,
                  null,
                  null,
                  null,
                  null
                ]
              ],
              "shape": {
                "columns": 276,
                "rows": 7
              }
            },
            "text/html": [
              "<div>\n",
              "<style scoped>\n",
              "    .dataframe tbody tr th:only-of-type {\n",
              "        vertical-align: middle;\n",
              "    }\n",
              "\n",
              "    .dataframe tbody tr th {\n",
              "        vertical-align: top;\n",
              "    }\n",
              "\n",
              "    .dataframe thead th {\n",
              "        text-align: right;\n",
              "    }\n",
              "</style>\n",
              "<table border=\"1\" class=\"dataframe\">\n",
              "  <thead>\n",
              "    <tr style=\"text-align: right;\">\n",
              "      <th></th>\n",
              "      <th>CONFIDENTIAL DATA</th>\n",
              "      <th>Unnamed: 1</th>\n",
              "      <th>Unnamed: 2</th>\n",
              "      <th>Unnamed: 3</th>\n",
              "      <th>Unnamed: 4</th>\n",
              "      <th>Unnamed: 5</th>\n",
              "      <th>Unnamed: 6</th>\n",
              "      <th>Unnamed: 7</th>\n",
              "      <th>Unnamed: 8</th>\n",
              "      <th>Unnamed: 9</th>\n",
              "      <th>...</th>\n",
              "      <th>Unnamed: 266</th>\n",
              "      <th>Unnamed: 267</th>\n",
              "      <th>Unnamed: 268</th>\n",
              "      <th>Unnamed: 269</th>\n",
              "      <th>Unnamed: 270</th>\n",
              "      <th>Unnamed: 271</th>\n",
              "      <th>Unnamed: 272</th>\n",
              "      <th>Unnamed: 273</th>\n",
              "      <th>Unnamed: 274</th>\n",
              "      <th>Unnamed: 275</th>\n",
              "    </tr>\n",
              "  </thead>\n",
              "  <tbody>\n",
              "    <tr>\n",
              "      <th>0</th>\n",
              "      <td>Date</td>\n",
              "      <td>2023-04-01 00:00:00</td>\n",
              "      <td>2023-04-02 00:00:00</td>\n",
              "      <td>2023-04-03 00:00:00</td>\n",
              "      <td>2023-04-04 00:00:00</td>\n",
              "      <td>2023-04-05 00:00:00</td>\n",
              "      <td>2023-04-06 00:00:00</td>\n",
              "      <td>2023-04-07 00:00:00</td>\n",
              "      <td>2023-04-08 00:00:00</td>\n",
              "      <td>2023-04-09 00:00:00</td>\n",
              "      <td>...</td>\n",
              "      <td>2023-12-22 00:00:00</td>\n",
              "      <td>2023-12-23 00:00:00</td>\n",
              "      <td>2023-12-24 00:00:00</td>\n",
              "      <td>2023-12-25 00:00:00</td>\n",
              "      <td>2023-12-26 00:00:00</td>\n",
              "      <td>2023-12-27 00:00:00</td>\n",
              "      <td>2023-12-28 00:00:00</td>\n",
              "      <td>2023-12-29 00:00:00</td>\n",
              "      <td>2023-12-30 00:00:00</td>\n",
              "      <td>2023-12-31 00:00:00</td>\n",
              "    </tr>\n",
              "    <tr>\n",
              "      <th>1</th>\n",
              "      <td>Weekday</td>\n",
              "      <td>Saturday</td>\n",
              "      <td>Sunday</td>\n",
              "      <td>Monday</td>\n",
              "      <td>Tuesday</td>\n",
              "      <td>Wednesday</td>\n",
              "      <td>Thursday</td>\n",
              "      <td>Friday</td>\n",
              "      <td>Saturday</td>\n",
              "      <td>Sunday</td>\n",
              "      <td>...</td>\n",
              "      <td>Friday</td>\n",
              "      <td>Saturday</td>\n",
              "      <td>Sunday</td>\n",
              "      <td>Monday</td>\n",
              "      <td>Tuesday</td>\n",
              "      <td>Wednesday</td>\n",
              "      <td>Thursday</td>\n",
              "      <td>Friday</td>\n",
              "      <td>Saturday</td>\n",
              "      <td>Sunday</td>\n",
              "    </tr>\n",
              "    <tr>\n",
              "      <th>2</th>\n",
              "      <td>CNG Sales Ahmedabad (SCM/day)</td>\n",
              "      <td>489076.113688</td>\n",
              "      <td>491107.744591</td>\n",
              "      <td>463311.3997</td>\n",
              "      <td>456306.3432</td>\n",
              "      <td>493338.999138</td>\n",
              "      <td>494010.905488</td>\n",
              "      <td>409583.985034</td>\n",
              "      <td>542228.194163</td>\n",
              "      <td>478717.394779</td>\n",
              "      <td>...</td>\n",
              "      <td>586486.401692</td>\n",
              "      <td>565619.81448</td>\n",
              "      <td>556015.517748</td>\n",
              "      <td>592294.579128</td>\n",
              "      <td>599715.663484</td>\n",
              "      <td>571390.999704</td>\n",
              "      <td>576890.976666</td>\n",
              "      <td>572104.814138</td>\n",
              "      <td>585843.459244</td>\n",
              "      <td>537720.84984</td>\n",
              "    </tr>\n",
              "    <tr>\n",
              "      <th>3</th>\n",
              "      <td>Industrial</td>\n",
              "      <td>217635.742395</td>\n",
              "      <td>215119.110745</td>\n",
              "      <td>218226.828165</td>\n",
              "      <td>199462.933415</td>\n",
              "      <td>217314.215755</td>\n",
              "      <td>210322.865515</td>\n",
              "      <td>234208.247506</td>\n",
              "      <td>227748.543775</td>\n",
              "      <td>191825.05856</td>\n",
              "      <td>...</td>\n",
              "      <td>301500.96214</td>\n",
              "      <td>231737.91599</td>\n",
              "      <td>227597.690195</td>\n",
              "      <td>254594.20998</td>\n",
              "      <td>245098.5703</td>\n",
              "      <td>272767.549675</td>\n",
              "      <td>268037.34608</td>\n",
              "      <td>268176.6087</td>\n",
              "      <td>298067.576955</td>\n",
              "      <td>228322.98924</td>\n",
              "    </tr>\n",
              "    <tr>\n",
              "      <th>4</th>\n",
              "      <td>Commercial Sales Ahmedabad (SCM/day)</td>\n",
              "      <td>41918</td>\n",
              "      <td>41918</td>\n",
              "      <td>41918</td>\n",
              "      <td>41918</td>\n",
              "      <td>41918</td>\n",
              "      <td>41918</td>\n",
              "      <td>41918</td>\n",
              "      <td>41918</td>\n",
              "      <td>41918</td>\n",
              "      <td>...</td>\n",
              "      <td>51085</td>\n",
              "      <td>51085</td>\n",
              "      <td>51085</td>\n",
              "      <td>51085</td>\n",
              "      <td>51085</td>\n",
              "      <td>51085</td>\n",
              "      <td>51085</td>\n",
              "      <td>51085</td>\n",
              "      <td>51085</td>\n",
              "      <td>51085</td>\n",
              "    </tr>\n",
              "    <tr>\n",
              "      <th>5</th>\n",
              "      <td>Domestic  Sales Ahmedabad (SCM/day)</td>\n",
              "      <td>134251.39</td>\n",
              "      <td>134251.39</td>\n",
              "      <td>134251.39</td>\n",
              "      <td>134251.39</td>\n",
              "      <td>134251.39</td>\n",
              "      <td>134251.39</td>\n",
              "      <td>134251.39</td>\n",
              "      <td>134251.39</td>\n",
              "      <td>134251.39</td>\n",
              "      <td>...</td>\n",
              "      <td>154800</td>\n",
              "      <td>154800</td>\n",
              "      <td>154800</td>\n",
              "      <td>154800</td>\n",
              "      <td>154800</td>\n",
              "      <td>154800</td>\n",
              "      <td>154800</td>\n",
              "      <td>154800</td>\n",
              "      <td>154800</td>\n",
              "      <td>154800</td>\n",
              "    </tr>\n",
              "    <tr>\n",
              "      <th>6</th>\n",
              "      <td>CONFIDENTIAL DATA</td>\n",
              "      <td>NaN</td>\n",
              "      <td>NaN</td>\n",
              "      <td>NaN</td>\n",
              "      <td>NaN</td>\n",
              "      <td>NaN</td>\n",
              "      <td>NaN</td>\n",
              "      <td>NaN</td>\n",
              "      <td>NaN</td>\n",
              "      <td>NaN</td>\n",
              "      <td>...</td>\n",
              "      <td>NaN</td>\n",
              "      <td>NaN</td>\n",
              "      <td>NaN</td>\n",
              "      <td>NaN</td>\n",
              "      <td>NaN</td>\n",
              "      <td>NaN</td>\n",
              "      <td>NaN</td>\n",
              "      <td>NaN</td>\n",
              "      <td>NaN</td>\n",
              "      <td>NaN</td>\n",
              "    </tr>\n",
              "  </tbody>\n",
              "</table>\n",
              "<p>7 rows × 276 columns</p>\n",
              "</div>"
            ],
            "text/plain": [
              "                      CONFIDENTIAL DATA           Unnamed: 1  \\\n",
              "0                                  Date  2023-04-01 00:00:00   \n",
              "1                               Weekday             Saturday   \n",
              "2         CNG Sales Ahmedabad (SCM/day)        489076.113688   \n",
              "3                            Industrial        217635.742395   \n",
              "4  Commercial Sales Ahmedabad (SCM/day)                41918   \n",
              "5   Domestic  Sales Ahmedabad (SCM/day)            134251.39   \n",
              "6                     CONFIDENTIAL DATA                  NaN   \n",
              "\n",
              "            Unnamed: 2           Unnamed: 3           Unnamed: 4  \\\n",
              "0  2023-04-02 00:00:00  2023-04-03 00:00:00  2023-04-04 00:00:00   \n",
              "1               Sunday               Monday              Tuesday   \n",
              "2        491107.744591          463311.3997          456306.3432   \n",
              "3        215119.110745        218226.828165        199462.933415   \n",
              "4                41918                41918                41918   \n",
              "5            134251.39            134251.39            134251.39   \n",
              "6                  NaN                  NaN                  NaN   \n",
              "\n",
              "            Unnamed: 5           Unnamed: 6           Unnamed: 7  \\\n",
              "0  2023-04-05 00:00:00  2023-04-06 00:00:00  2023-04-07 00:00:00   \n",
              "1            Wednesday             Thursday               Friday   \n",
              "2        493338.999138        494010.905488        409583.985034   \n",
              "3        217314.215755        210322.865515        234208.247506   \n",
              "4                41918                41918                41918   \n",
              "5            134251.39            134251.39            134251.39   \n",
              "6                  NaN                  NaN                  NaN   \n",
              "\n",
              "            Unnamed: 8           Unnamed: 9  ...         Unnamed: 266  \\\n",
              "0  2023-04-08 00:00:00  2023-04-09 00:00:00  ...  2023-12-22 00:00:00   \n",
              "1             Saturday               Sunday  ...               Friday   \n",
              "2        542228.194163        478717.394779  ...        586486.401692   \n",
              "3        227748.543775         191825.05856  ...         301500.96214   \n",
              "4                41918                41918  ...                51085   \n",
              "5            134251.39            134251.39  ...               154800   \n",
              "6                  NaN                  NaN  ...                  NaN   \n",
              "\n",
              "          Unnamed: 267         Unnamed: 268         Unnamed: 269  \\\n",
              "0  2023-12-23 00:00:00  2023-12-24 00:00:00  2023-12-25 00:00:00   \n",
              "1             Saturday               Sunday               Monday   \n",
              "2         565619.81448        556015.517748        592294.579128   \n",
              "3         231737.91599        227597.690195         254594.20998   \n",
              "4                51085                51085                51085   \n",
              "5               154800               154800               154800   \n",
              "6                  NaN                  NaN                  NaN   \n",
              "\n",
              "          Unnamed: 270         Unnamed: 271         Unnamed: 272  \\\n",
              "0  2023-12-26 00:00:00  2023-12-27 00:00:00  2023-12-28 00:00:00   \n",
              "1              Tuesday            Wednesday             Thursday   \n",
              "2        599715.663484        571390.999704        576890.976666   \n",
              "3          245098.5703        272767.549675         268037.34608   \n",
              "4                51085                51085                51085   \n",
              "5               154800               154800               154800   \n",
              "6                  NaN                  NaN                  NaN   \n",
              "\n",
              "          Unnamed: 273         Unnamed: 274         Unnamed: 275  \n",
              "0  2023-12-29 00:00:00  2023-12-30 00:00:00  2023-12-31 00:00:00  \n",
              "1               Friday             Saturday               Sunday  \n",
              "2        572104.814138        585843.459244         537720.84984  \n",
              "3          268176.6087        298067.576955         228322.98924  \n",
              "4                51085                51085                51085  \n",
              "5               154800               154800               154800  \n",
              "6                  NaN                  NaN                  NaN  \n",
              "\n",
              "[7 rows x 276 columns]"
            ]
          },
          "execution_count": 5,
          "metadata": {},
          "output_type": "execute_result"
        }
      ],
      "source": [
        "root = os.path.join(\"..\",\"Data\")\n",
        "df = pd.read_excel(os.path.join(root, 'DEMAND_FILE.xlsx'),\n",
        "                    sheet_name= 'Daily CGD Volume - Ahmedabad')\n",
        "df"
      ]
    },
    {
      "cell_type": "code",
      "execution_count": 6,
      "metadata": {
        "colab": {
          "base_uri": "https://localhost:8080/",
          "height": 652
        },
        "id": "MqLxzMl4FY9x",
        "outputId": "a4ac1796-a08b-40b1-8474-f1492fb73061"
      },
      "outputs": [
        {
          "data": {
            "application/vnd.microsoft.datawrangler.viewer.v0+json": {
              "columns": [
                {
                  "name": "index",
                  "rawType": "int64",
                  "type": "integer"
                },
                {
                  "name": "Date",
                  "rawType": "object",
                  "type": "unknown"
                },
                {
                  "name": "Weekday",
                  "rawType": "object",
                  "type": "string"
                },
                {
                  "name": "CNG Sales Ahmedabad (SCM/day)",
                  "rawType": "object",
                  "type": "unknown"
                }
              ],
              "conversionMethod": "pd.DataFrame",
              "ref": "2fcd2d0f-f87e-4b14-8f3e-9135efe22d70",
              "rows": [
                [
                  "0",
                  "2023-04-01 00:00:00",
                  "Saturday",
                  "489076.113687999"
                ],
                [
                  "1",
                  "2023-04-02 00:00:00",
                  "Sunday",
                  "491107.744591"
                ],
                [
                  "2",
                  "2023-04-03 00:00:00",
                  "Monday",
                  "463311.399700001"
                ],
                [
                  "3",
                  "2023-04-04 00:00:00",
                  "Tuesday",
                  "456306.343200003"
                ],
                [
                  "4",
                  "2023-04-05 00:00:00",
                  "Wednesday",
                  "493338.999137997"
                ],
                [
                  "5",
                  "2023-04-06 00:00:00",
                  "Thursday",
                  "494010.905488001"
                ],
                [
                  "6",
                  "2023-04-07 00:00:00",
                  "Friday",
                  "409583.985034"
                ],
                [
                  "7",
                  "2023-04-08 00:00:00",
                  "Saturday",
                  "542228.194162999"
                ],
                [
                  "8",
                  "2023-04-09 00:00:00",
                  "Sunday",
                  "478717.394779001"
                ],
                [
                  "9",
                  "2023-04-10 00:00:00",
                  "Monday",
                  "483230.277815999"
                ],
                [
                  "10",
                  "2023-04-11 00:00:00",
                  "Tuesday",
                  "485970.141539999"
                ],
                [
                  "11",
                  "2023-04-12 00:00:00",
                  "Wednesday",
                  "484442.664286001"
                ],
                [
                  "12",
                  "2023-04-13 00:00:00",
                  "Thursday",
                  "481539.484122001"
                ],
                [
                  "13",
                  "2023-04-14 00:00:00",
                  "Friday",
                  "475616.294424"
                ],
                [
                  "14",
                  "2023-04-15 00:00:00",
                  "Saturday",
                  "508646.535999998"
                ],
                [
                  "15",
                  "2023-04-16 00:00:00",
                  "Sunday",
                  "499561.828190001"
                ],
                [
                  "16",
                  "2023-04-17 00:00:00",
                  "Monday",
                  "491511.198189999"
                ],
                [
                  "17",
                  "2023-04-18 00:00:00",
                  "Tuesday",
                  "486965.132491001"
                ],
                [
                  "18",
                  "2023-04-19 00:00:00",
                  "Wednesday",
                  "477694.400777999"
                ],
                [
                  "19",
                  "2023-04-20 00:00:00",
                  "Thursday",
                  "494866.984368"
                ],
                [
                  "20",
                  "2023-04-21 00:00:00",
                  "Friday",
                  "429529.440000001"
                ],
                [
                  "21",
                  "2023-04-22 00:00:00",
                  "Saturday",
                  "478486.228973998"
                ],
                [
                  "22",
                  "2023-04-23 00:00:00",
                  "Sunday",
                  "499919.804848001"
                ],
                [
                  "23",
                  "2023-04-24 00:00:00",
                  "Monday",
                  "493929.254863"
                ],
                [
                  "24",
                  "2023-04-25 00:00:00",
                  "Tuesday",
                  "512009.056974"
                ],
                [
                  "25",
                  "2023-04-26 00:00:00",
                  "Wednesday",
                  "488102.202760999"
                ],
                [
                  "26",
                  "2023-04-27 00:00:00",
                  "Thursday",
                  "505695.523430001"
                ],
                [
                  "27",
                  "2023-04-28 00:00:00",
                  "Friday",
                  "513905.187381999"
                ],
                [
                  "28",
                  "2023-04-29 00:00:00",
                  "Saturday",
                  "524235.852062999"
                ],
                [
                  "29",
                  "2023-04-30 00:00:00",
                  "Sunday",
                  "487767.451411001"
                ],
                [
                  "30",
                  "2023-05-01 00:00:00",
                  "Monday",
                  "519383.040704"
                ],
                [
                  "31",
                  "2023-05-02 00:00:00",
                  "Tuesday",
                  "508708.939889"
                ],
                [
                  "32",
                  "2023-05-03 00:00:00",
                  "Wednesday",
                  "508893.05185"
                ],
                [
                  "33",
                  "2023-05-04 00:00:00",
                  "Thursday",
                  "503087.392368002"
                ],
                [
                  "34",
                  "2023-05-05 00:00:00",
                  "Friday",
                  "527874.380919998"
                ],
                [
                  "35",
                  "2023-05-06 00:00:00",
                  "Saturday",
                  "538248.608925002"
                ],
                [
                  "36",
                  "2023-05-07 00:00:00",
                  "Sunday",
                  "532650.390192"
                ],
                [
                  "37",
                  "2023-05-08 00:00:00",
                  "Monday",
                  "531118.178436999"
                ],
                [
                  "38",
                  "2023-05-09 00:00:00",
                  "Tuesday",
                  "514436.391770002"
                ],
                [
                  "39",
                  "2023-05-10 00:00:00",
                  "Wednesday",
                  "519825.312419999"
                ],
                [
                  "40",
                  "2023-05-11 00:00:00",
                  "Thursday",
                  "518385"
                ],
                [
                  "41",
                  "2023-05-12 00:00:00",
                  "Friday",
                  "516201.705690001"
                ],
                [
                  "42",
                  "2023-05-13 00:00:00",
                  "Saturday",
                  "530423.974389997"
                ],
                [
                  "43",
                  "2023-05-14 00:00:00",
                  "Sunday",
                  "499739.439879001"
                ],
                [
                  "44",
                  "2023-05-15 00:00:00",
                  "Monday",
                  "545510.517090001"
                ],
                [
                  "45",
                  "2023-05-16 00:00:00",
                  "Tuesday",
                  "531331.463624"
                ],
                [
                  "46",
                  "2023-05-17 00:00:00",
                  "Wednesday",
                  "524374.592021999"
                ],
                [
                  "47",
                  "2023-05-18 00:00:00",
                  "Thursday",
                  "534019.694593001"
                ],
                [
                  "48",
                  "2023-05-19 00:00:00",
                  "Friday",
                  "533700.688882"
                ],
                [
                  "49",
                  "2023-05-20 00:00:00",
                  "Saturday",
                  "546641.743372"
                ]
              ],
              "shape": {
                "columns": 3,
                "rows": 275
              }
            },
            "text/html": [
              "<div>\n",
              "<style scoped>\n",
              "    .dataframe tbody tr th:only-of-type {\n",
              "        vertical-align: middle;\n",
              "    }\n",
              "\n",
              "    .dataframe tbody tr th {\n",
              "        vertical-align: top;\n",
              "    }\n",
              "\n",
              "    .dataframe thead th {\n",
              "        text-align: right;\n",
              "    }\n",
              "</style>\n",
              "<table border=\"1\" class=\"dataframe\">\n",
              "  <thead>\n",
              "    <tr style=\"text-align: right;\">\n",
              "      <th>CONFIDENTIAL DATA</th>\n",
              "      <th>Date</th>\n",
              "      <th>Weekday</th>\n",
              "      <th>CNG Sales Ahmedabad (SCM/day)</th>\n",
              "    </tr>\n",
              "  </thead>\n",
              "  <tbody>\n",
              "    <tr>\n",
              "      <th>0</th>\n",
              "      <td>2023-04-01 00:00:00</td>\n",
              "      <td>Saturday</td>\n",
              "      <td>489076.113688</td>\n",
              "    </tr>\n",
              "    <tr>\n",
              "      <th>1</th>\n",
              "      <td>2023-04-02 00:00:00</td>\n",
              "      <td>Sunday</td>\n",
              "      <td>491107.744591</td>\n",
              "    </tr>\n",
              "    <tr>\n",
              "      <th>2</th>\n",
              "      <td>2023-04-03 00:00:00</td>\n",
              "      <td>Monday</td>\n",
              "      <td>463311.3997</td>\n",
              "    </tr>\n",
              "    <tr>\n",
              "      <th>3</th>\n",
              "      <td>2023-04-04 00:00:00</td>\n",
              "      <td>Tuesday</td>\n",
              "      <td>456306.3432</td>\n",
              "    </tr>\n",
              "    <tr>\n",
              "      <th>4</th>\n",
              "      <td>2023-04-05 00:00:00</td>\n",
              "      <td>Wednesday</td>\n",
              "      <td>493338.999138</td>\n",
              "    </tr>\n",
              "    <tr>\n",
              "      <th>...</th>\n",
              "      <td>...</td>\n",
              "      <td>...</td>\n",
              "      <td>...</td>\n",
              "    </tr>\n",
              "    <tr>\n",
              "      <th>270</th>\n",
              "      <td>2023-12-27 00:00:00</td>\n",
              "      <td>Wednesday</td>\n",
              "      <td>571390.999704</td>\n",
              "    </tr>\n",
              "    <tr>\n",
              "      <th>271</th>\n",
              "      <td>2023-12-28 00:00:00</td>\n",
              "      <td>Thursday</td>\n",
              "      <td>576890.976666</td>\n",
              "    </tr>\n",
              "    <tr>\n",
              "      <th>272</th>\n",
              "      <td>2023-12-29 00:00:00</td>\n",
              "      <td>Friday</td>\n",
              "      <td>572104.814138</td>\n",
              "    </tr>\n",
              "    <tr>\n",
              "      <th>273</th>\n",
              "      <td>2023-12-30 00:00:00</td>\n",
              "      <td>Saturday</td>\n",
              "      <td>585843.459244</td>\n",
              "    </tr>\n",
              "    <tr>\n",
              "      <th>274</th>\n",
              "      <td>2023-12-31 00:00:00</td>\n",
              "      <td>Sunday</td>\n",
              "      <td>537720.84984</td>\n",
              "    </tr>\n",
              "  </tbody>\n",
              "</table>\n",
              "<p>275 rows × 3 columns</p>\n",
              "</div>"
            ],
            "text/plain": [
              "CONFIDENTIAL DATA                 Date    Weekday  \\\n",
              "0                  2023-04-01 00:00:00   Saturday   \n",
              "1                  2023-04-02 00:00:00     Sunday   \n",
              "2                  2023-04-03 00:00:00     Monday   \n",
              "3                  2023-04-04 00:00:00    Tuesday   \n",
              "4                  2023-04-05 00:00:00  Wednesday   \n",
              "..                                 ...        ...   \n",
              "270                2023-12-27 00:00:00  Wednesday   \n",
              "271                2023-12-28 00:00:00   Thursday   \n",
              "272                2023-12-29 00:00:00     Friday   \n",
              "273                2023-12-30 00:00:00   Saturday   \n",
              "274                2023-12-31 00:00:00     Sunday   \n",
              "\n",
              "CONFIDENTIAL DATA CNG Sales Ahmedabad (SCM/day)  \n",
              "0                                 489076.113688  \n",
              "1                                 491107.744591  \n",
              "2                                   463311.3997  \n",
              "3                                   456306.3432  \n",
              "4                                 493338.999138  \n",
              "..                                          ...  \n",
              "270                               571390.999704  \n",
              "271                               576890.976666  \n",
              "272                               572104.814138  \n",
              "273                               585843.459244  \n",
              "274                                537720.84984  \n",
              "\n",
              "[275 rows x 3 columns]"
            ]
          },
          "execution_count": 6,
          "metadata": {},
          "output_type": "execute_result"
        }
      ],
      "source": [
        "df = df.iloc[0:3,:] # Droping unwanted coloumns\n",
        "df = df.T # Transposing the df to have the different dates as rows.\n",
        "df.columns = df.iloc[0]\n",
        "df = df.iloc[1:].reset_index(drop=True)\n",
        "df"
      ]
    },
    {
      "cell_type": "code",
      "execution_count": 7,
      "metadata": {
        "colab": {
          "base_uri": "https://localhost:8080/",
          "height": 444
        },
        "id": "RKNeQ5bcFY9y",
        "outputId": "a89b6269-13a1-481c-fb8c-6a4860591a7e"
      },
      "outputs": [
        {
          "data": {
            "application/vnd.microsoft.datawrangler.viewer.v0+json": {
              "columns": [
                {
                  "name": "index",
                  "rawType": "int64",
                  "type": "integer"
                },
                {
                  "name": "Date",
                  "rawType": "datetime64[ns]",
                  "type": "datetime"
                },
                {
                  "name": "Weekday",
                  "rawType": "object",
                  "type": "string"
                },
                {
                  "name": "Sales",
                  "rawType": "float64",
                  "type": "float"
                }
              ],
              "conversionMethod": "pd.DataFrame",
              "ref": "c6a4bc2a-bd98-4964-bf88-f82922069615",
              "rows": [
                [
                  "0",
                  "2023-04-01 00:00:00",
                  "Saturday",
                  "489076.113687999"
                ],
                [
                  "1",
                  "2023-04-02 00:00:00",
                  "Sunday",
                  "491107.744591"
                ],
                [
                  "2",
                  "2023-04-03 00:00:00",
                  "Monday",
                  "463311.399700001"
                ],
                [
                  "3",
                  "2023-04-04 00:00:00",
                  "Tuesday",
                  "456306.343200003"
                ],
                [
                  "4",
                  "2023-04-05 00:00:00",
                  "Wednesday",
                  "493338.999137997"
                ],
                [
                  "5",
                  "2023-04-06 00:00:00",
                  "Thursday",
                  "494010.905488001"
                ],
                [
                  "6",
                  "2023-04-07 00:00:00",
                  "Friday",
                  "409583.985034"
                ],
                [
                  "7",
                  "2023-04-08 00:00:00",
                  "Saturday",
                  "542228.194162999"
                ],
                [
                  "8",
                  "2023-04-09 00:00:00",
                  "Sunday",
                  "478717.394779001"
                ],
                [
                  "9",
                  "2023-04-10 00:00:00",
                  "Monday",
                  "483230.277815999"
                ],
                [
                  "10",
                  "2023-04-11 00:00:00",
                  "Tuesday",
                  "485970.141539999"
                ],
                [
                  "11",
                  "2023-04-12 00:00:00",
                  "Wednesday",
                  "484442.664286001"
                ],
                [
                  "12",
                  "2023-04-13 00:00:00",
                  "Thursday",
                  "481539.484122001"
                ],
                [
                  "13",
                  "2023-04-14 00:00:00",
                  "Friday",
                  "475616.294424"
                ],
                [
                  "14",
                  "2023-04-15 00:00:00",
                  "Saturday",
                  "508646.535999998"
                ],
                [
                  "15",
                  "2023-04-16 00:00:00",
                  "Sunday",
                  "499561.828190001"
                ],
                [
                  "16",
                  "2023-04-17 00:00:00",
                  "Monday",
                  "491511.198189999"
                ],
                [
                  "17",
                  "2023-04-18 00:00:00",
                  "Tuesday",
                  "486965.132491001"
                ],
                [
                  "18",
                  "2023-04-19 00:00:00",
                  "Wednesday",
                  "477694.400777999"
                ],
                [
                  "19",
                  "2023-04-20 00:00:00",
                  "Thursday",
                  "494866.984368"
                ],
                [
                  "20",
                  "2023-04-21 00:00:00",
                  "Friday",
                  "429529.440000001"
                ],
                [
                  "21",
                  "2023-04-22 00:00:00",
                  "Saturday",
                  "478486.228973998"
                ],
                [
                  "22",
                  "2023-04-23 00:00:00",
                  "Sunday",
                  "499919.804848001"
                ],
                [
                  "23",
                  "2023-04-24 00:00:00",
                  "Monday",
                  "493929.254863"
                ],
                [
                  "24",
                  "2023-04-25 00:00:00",
                  "Tuesday",
                  "512009.056974"
                ],
                [
                  "25",
                  "2023-04-26 00:00:00",
                  "Wednesday",
                  "488102.202760999"
                ],
                [
                  "26",
                  "2023-04-27 00:00:00",
                  "Thursday",
                  "505695.523430001"
                ],
                [
                  "27",
                  "2023-04-28 00:00:00",
                  "Friday",
                  "513905.187381999"
                ],
                [
                  "28",
                  "2023-04-29 00:00:00",
                  "Saturday",
                  "524235.852062999"
                ],
                [
                  "29",
                  "2023-04-30 00:00:00",
                  "Sunday",
                  "487767.451411001"
                ],
                [
                  "30",
                  "2023-05-01 00:00:00",
                  "Monday",
                  "519383.040704"
                ],
                [
                  "31",
                  "2023-05-02 00:00:00",
                  "Tuesday",
                  "508708.939889"
                ],
                [
                  "32",
                  "2023-05-03 00:00:00",
                  "Wednesday",
                  "508893.05185"
                ],
                [
                  "33",
                  "2023-05-04 00:00:00",
                  "Thursday",
                  "503087.392368002"
                ],
                [
                  "34",
                  "2023-05-05 00:00:00",
                  "Friday",
                  "527874.380919998"
                ],
                [
                  "35",
                  "2023-05-06 00:00:00",
                  "Saturday",
                  "538248.608925002"
                ],
                [
                  "36",
                  "2023-05-07 00:00:00",
                  "Sunday",
                  "532650.390192"
                ],
                [
                  "37",
                  "2023-05-08 00:00:00",
                  "Monday",
                  "531118.178436999"
                ],
                [
                  "38",
                  "2023-05-09 00:00:00",
                  "Tuesday",
                  "514436.391770002"
                ],
                [
                  "39",
                  "2023-05-10 00:00:00",
                  "Wednesday",
                  "519825.312419999"
                ],
                [
                  "40",
                  "2023-05-11 00:00:00",
                  "Thursday",
                  "518385.0"
                ],
                [
                  "41",
                  "2023-05-12 00:00:00",
                  "Friday",
                  "516201.705690001"
                ],
                [
                  "42",
                  "2023-05-13 00:00:00",
                  "Saturday",
                  "530423.974389997"
                ],
                [
                  "43",
                  "2023-05-14 00:00:00",
                  "Sunday",
                  "499739.439879001"
                ],
                [
                  "44",
                  "2023-05-15 00:00:00",
                  "Monday",
                  "545510.517090001"
                ],
                [
                  "45",
                  "2023-05-16 00:00:00",
                  "Tuesday",
                  "531331.463624"
                ],
                [
                  "46",
                  "2023-05-17 00:00:00",
                  "Wednesday",
                  "524374.592021999"
                ],
                [
                  "47",
                  "2023-05-18 00:00:00",
                  "Thursday",
                  "534019.694593001"
                ],
                [
                  "48",
                  "2023-05-19 00:00:00",
                  "Friday",
                  "533700.688882"
                ],
                [
                  "49",
                  "2023-05-20 00:00:00",
                  "Saturday",
                  "546641.743372"
                ]
              ],
              "shape": {
                "columns": 3,
                "rows": 275
              }
            },
            "text/html": [
              "<div>\n",
              "<style scoped>\n",
              "    .dataframe tbody tr th:only-of-type {\n",
              "        vertical-align: middle;\n",
              "    }\n",
              "\n",
              "    .dataframe tbody tr th {\n",
              "        vertical-align: top;\n",
              "    }\n",
              "\n",
              "    .dataframe thead th {\n",
              "        text-align: right;\n",
              "    }\n",
              "</style>\n",
              "<table border=\"1\" class=\"dataframe\">\n",
              "  <thead>\n",
              "    <tr style=\"text-align: right;\">\n",
              "      <th></th>\n",
              "      <th>Date</th>\n",
              "      <th>Weekday</th>\n",
              "      <th>Sales</th>\n",
              "    </tr>\n",
              "  </thead>\n",
              "  <tbody>\n",
              "    <tr>\n",
              "      <th>0</th>\n",
              "      <td>2023-04-01</td>\n",
              "      <td>Saturday</td>\n",
              "      <td>489076.113688</td>\n",
              "    </tr>\n",
              "    <tr>\n",
              "      <th>1</th>\n",
              "      <td>2023-04-02</td>\n",
              "      <td>Sunday</td>\n",
              "      <td>491107.744591</td>\n",
              "    </tr>\n",
              "    <tr>\n",
              "      <th>2</th>\n",
              "      <td>2023-04-03</td>\n",
              "      <td>Monday</td>\n",
              "      <td>463311.399700</td>\n",
              "    </tr>\n",
              "    <tr>\n",
              "      <th>3</th>\n",
              "      <td>2023-04-04</td>\n",
              "      <td>Tuesday</td>\n",
              "      <td>456306.343200</td>\n",
              "    </tr>\n",
              "    <tr>\n",
              "      <th>4</th>\n",
              "      <td>2023-04-05</td>\n",
              "      <td>Wednesday</td>\n",
              "      <td>493338.999138</td>\n",
              "    </tr>\n",
              "    <tr>\n",
              "      <th>...</th>\n",
              "      <td>...</td>\n",
              "      <td>...</td>\n",
              "      <td>...</td>\n",
              "    </tr>\n",
              "    <tr>\n",
              "      <th>270</th>\n",
              "      <td>2023-12-27</td>\n",
              "      <td>Wednesday</td>\n",
              "      <td>571390.999704</td>\n",
              "    </tr>\n",
              "    <tr>\n",
              "      <th>271</th>\n",
              "      <td>2023-12-28</td>\n",
              "      <td>Thursday</td>\n",
              "      <td>576890.976666</td>\n",
              "    </tr>\n",
              "    <tr>\n",
              "      <th>272</th>\n",
              "      <td>2023-12-29</td>\n",
              "      <td>Friday</td>\n",
              "      <td>572104.814138</td>\n",
              "    </tr>\n",
              "    <tr>\n",
              "      <th>273</th>\n",
              "      <td>2023-12-30</td>\n",
              "      <td>Saturday</td>\n",
              "      <td>585843.459244</td>\n",
              "    </tr>\n",
              "    <tr>\n",
              "      <th>274</th>\n",
              "      <td>2023-12-31</td>\n",
              "      <td>Sunday</td>\n",
              "      <td>537720.849840</td>\n",
              "    </tr>\n",
              "  </tbody>\n",
              "</table>\n",
              "<p>275 rows × 3 columns</p>\n",
              "</div>"
            ],
            "text/plain": [
              "          Date    Weekday          Sales\n",
              "0   2023-04-01   Saturday  489076.113688\n",
              "1   2023-04-02     Sunday  491107.744591\n",
              "2   2023-04-03     Monday  463311.399700\n",
              "3   2023-04-04    Tuesday  456306.343200\n",
              "4   2023-04-05  Wednesday  493338.999138\n",
              "..         ...        ...            ...\n",
              "270 2023-12-27  Wednesday  571390.999704\n",
              "271 2023-12-28   Thursday  576890.976666\n",
              "272 2023-12-29     Friday  572104.814138\n",
              "273 2023-12-30   Saturday  585843.459244\n",
              "274 2023-12-31     Sunday  537720.849840\n",
              "\n",
              "[275 rows x 3 columns]"
            ]
          },
          "execution_count": 7,
          "metadata": {},
          "output_type": "execute_result"
        }
      ],
      "source": [
        "df['Date'] = df['Date'].astype('str').str.split().str[0] # Removing time from the Date coloumn.\n",
        "df['Date'] = pd.to_datetime(df['Date']) # Converting Date to DateTime\n",
        "df = df.rename(columns={'CNG Sales Ahmedabad (SCM/day)': 'Sales'})\n",
        "df['Sales'] = df['Sales'].astype('float64')\n",
        "df.columns.name = None\n",
        "df"
      ]
    },
    {
      "cell_type": "code",
      "execution_count": 8,
      "metadata": {
        "colab": {
          "base_uri": "https://localhost:8080/",
          "height": 444
        },
        "id": "LdHftJJFFY9z",
        "outputId": "47910858-f0a7-4b55-a28d-1f8a8182882c"
      },
      "outputs": [
        {
          "data": {
            "application/vnd.microsoft.datawrangler.viewer.v0+json": {
              "columns": [
                {
                  "name": "index",
                  "rawType": "int64",
                  "type": "integer"
                },
                {
                  "name": "Date",
                  "rawType": "datetime64[ns]",
                  "type": "datetime"
                },
                {
                  "name": "Weekday",
                  "rawType": "int32",
                  "type": "integer"
                },
                {
                  "name": "Sales",
                  "rawType": "float64",
                  "type": "float"
                },
                {
                  "name": "Day",
                  "rawType": "int32",
                  "type": "integer"
                },
                {
                  "name": "Month",
                  "rawType": "int32",
                  "type": "integer"
                },
                {
                  "name": "Year",
                  "rawType": "int32",
                  "type": "integer"
                },
                {
                  "name": "DayOfYear",
                  "rawType": "int32",
                  "type": "integer"
                },
                {
                  "name": "IsWeekend",
                  "rawType": "int64",
                  "type": "integer"
                },
                {
                  "name": "DaysInMonth",
                  "rawType": "int64",
                  "type": "integer"
                }
              ],
              "conversionMethod": "pd.DataFrame",
              "ref": "8e08c995-cdfa-41e0-9255-59b6b572ae7c",
              "rows": [
                [
                  "0",
                  "2023-04-01 00:00:00",
                  "5",
                  "489076.113687999",
                  "1",
                  "4",
                  "2023",
                  "91",
                  "1",
                  "30"
                ],
                [
                  "1",
                  "2023-04-02 00:00:00",
                  "6",
                  "491107.744591",
                  "2",
                  "4",
                  "2023",
                  "92",
                  "1",
                  "30"
                ],
                [
                  "2",
                  "2023-04-03 00:00:00",
                  "0",
                  "463311.399700001",
                  "3",
                  "4",
                  "2023",
                  "93",
                  "0",
                  "30"
                ],
                [
                  "3",
                  "2023-04-04 00:00:00",
                  "1",
                  "456306.343200003",
                  "4",
                  "4",
                  "2023",
                  "94",
                  "0",
                  "30"
                ],
                [
                  "4",
                  "2023-04-05 00:00:00",
                  "2",
                  "493338.999137997",
                  "5",
                  "4",
                  "2023",
                  "95",
                  "0",
                  "30"
                ],
                [
                  "5",
                  "2023-04-06 00:00:00",
                  "3",
                  "494010.905488001",
                  "6",
                  "4",
                  "2023",
                  "96",
                  "0",
                  "30"
                ],
                [
                  "6",
                  "2023-04-07 00:00:00",
                  "4",
                  "409583.985034",
                  "7",
                  "4",
                  "2023",
                  "97",
                  "0",
                  "30"
                ],
                [
                  "7",
                  "2023-04-08 00:00:00",
                  "5",
                  "542228.194162999",
                  "8",
                  "4",
                  "2023",
                  "98",
                  "1",
                  "30"
                ],
                [
                  "8",
                  "2023-04-09 00:00:00",
                  "6",
                  "478717.394779001",
                  "9",
                  "4",
                  "2023",
                  "99",
                  "1",
                  "30"
                ],
                [
                  "9",
                  "2023-04-10 00:00:00",
                  "0",
                  "483230.277815999",
                  "10",
                  "4",
                  "2023",
                  "100",
                  "0",
                  "30"
                ],
                [
                  "10",
                  "2023-04-11 00:00:00",
                  "1",
                  "485970.141539999",
                  "11",
                  "4",
                  "2023",
                  "101",
                  "0",
                  "30"
                ],
                [
                  "11",
                  "2023-04-12 00:00:00",
                  "2",
                  "484442.664286001",
                  "12",
                  "4",
                  "2023",
                  "102",
                  "0",
                  "30"
                ],
                [
                  "12",
                  "2023-04-13 00:00:00",
                  "3",
                  "481539.484122001",
                  "13",
                  "4",
                  "2023",
                  "103",
                  "0",
                  "30"
                ],
                [
                  "13",
                  "2023-04-14 00:00:00",
                  "4",
                  "475616.294424",
                  "14",
                  "4",
                  "2023",
                  "104",
                  "0",
                  "30"
                ],
                [
                  "14",
                  "2023-04-15 00:00:00",
                  "5",
                  "508646.535999998",
                  "15",
                  "4",
                  "2023",
                  "105",
                  "1",
                  "30"
                ],
                [
                  "15",
                  "2023-04-16 00:00:00",
                  "6",
                  "499561.828190001",
                  "16",
                  "4",
                  "2023",
                  "106",
                  "1",
                  "30"
                ],
                [
                  "16",
                  "2023-04-17 00:00:00",
                  "0",
                  "491511.198189999",
                  "17",
                  "4",
                  "2023",
                  "107",
                  "0",
                  "30"
                ],
                [
                  "17",
                  "2023-04-18 00:00:00",
                  "1",
                  "486965.132491001",
                  "18",
                  "4",
                  "2023",
                  "108",
                  "0",
                  "30"
                ],
                [
                  "18",
                  "2023-04-19 00:00:00",
                  "2",
                  "477694.400777999",
                  "19",
                  "4",
                  "2023",
                  "109",
                  "0",
                  "30"
                ],
                [
                  "19",
                  "2023-04-20 00:00:00",
                  "3",
                  "494866.984368",
                  "20",
                  "4",
                  "2023",
                  "110",
                  "0",
                  "30"
                ],
                [
                  "20",
                  "2023-04-21 00:00:00",
                  "4",
                  "429529.440000001",
                  "21",
                  "4",
                  "2023",
                  "111",
                  "0",
                  "30"
                ],
                [
                  "21",
                  "2023-04-22 00:00:00",
                  "5",
                  "478486.228973998",
                  "22",
                  "4",
                  "2023",
                  "112",
                  "1",
                  "30"
                ],
                [
                  "22",
                  "2023-04-23 00:00:00",
                  "6",
                  "499919.804848001",
                  "23",
                  "4",
                  "2023",
                  "113",
                  "1",
                  "30"
                ],
                [
                  "23",
                  "2023-04-24 00:00:00",
                  "0",
                  "493929.254863",
                  "24",
                  "4",
                  "2023",
                  "114",
                  "0",
                  "30"
                ],
                [
                  "24",
                  "2023-04-25 00:00:00",
                  "1",
                  "512009.056974",
                  "25",
                  "4",
                  "2023",
                  "115",
                  "0",
                  "30"
                ],
                [
                  "25",
                  "2023-04-26 00:00:00",
                  "2",
                  "488102.202760999",
                  "26",
                  "4",
                  "2023",
                  "116",
                  "0",
                  "30"
                ],
                [
                  "26",
                  "2023-04-27 00:00:00",
                  "3",
                  "505695.523430001",
                  "27",
                  "4",
                  "2023",
                  "117",
                  "0",
                  "30"
                ],
                [
                  "27",
                  "2023-04-28 00:00:00",
                  "4",
                  "513905.187381999",
                  "28",
                  "4",
                  "2023",
                  "118",
                  "0",
                  "30"
                ],
                [
                  "28",
                  "2023-04-29 00:00:00",
                  "5",
                  "524235.852062999",
                  "29",
                  "4",
                  "2023",
                  "119",
                  "1",
                  "30"
                ],
                [
                  "29",
                  "2023-04-30 00:00:00",
                  "6",
                  "487767.451411001",
                  "30",
                  "4",
                  "2023",
                  "120",
                  "1",
                  "30"
                ],
                [
                  "30",
                  "2023-05-01 00:00:00",
                  "0",
                  "519383.040704",
                  "1",
                  "5",
                  "2023",
                  "121",
                  "0",
                  "31"
                ],
                [
                  "31",
                  "2023-05-02 00:00:00",
                  "1",
                  "508708.939889",
                  "2",
                  "5",
                  "2023",
                  "122",
                  "0",
                  "31"
                ],
                [
                  "32",
                  "2023-05-03 00:00:00",
                  "2",
                  "508893.05185",
                  "3",
                  "5",
                  "2023",
                  "123",
                  "0",
                  "31"
                ],
                [
                  "33",
                  "2023-05-04 00:00:00",
                  "3",
                  "503087.392368002",
                  "4",
                  "5",
                  "2023",
                  "124",
                  "0",
                  "31"
                ],
                [
                  "34",
                  "2023-05-05 00:00:00",
                  "4",
                  "527874.380919998",
                  "5",
                  "5",
                  "2023",
                  "125",
                  "0",
                  "31"
                ],
                [
                  "35",
                  "2023-05-06 00:00:00",
                  "5",
                  "538248.608925002",
                  "6",
                  "5",
                  "2023",
                  "126",
                  "1",
                  "31"
                ],
                [
                  "36",
                  "2023-05-07 00:00:00",
                  "6",
                  "532650.390192",
                  "7",
                  "5",
                  "2023",
                  "127",
                  "1",
                  "31"
                ],
                [
                  "37",
                  "2023-05-08 00:00:00",
                  "0",
                  "531118.178436999",
                  "8",
                  "5",
                  "2023",
                  "128",
                  "0",
                  "31"
                ],
                [
                  "38",
                  "2023-05-09 00:00:00",
                  "1",
                  "514436.391770002",
                  "9",
                  "5",
                  "2023",
                  "129",
                  "0",
                  "31"
                ],
                [
                  "39",
                  "2023-05-10 00:00:00",
                  "2",
                  "519825.312419999",
                  "10",
                  "5",
                  "2023",
                  "130",
                  "0",
                  "31"
                ],
                [
                  "40",
                  "2023-05-11 00:00:00",
                  "3",
                  "518385.0",
                  "11",
                  "5",
                  "2023",
                  "131",
                  "0",
                  "31"
                ],
                [
                  "41",
                  "2023-05-12 00:00:00",
                  "4",
                  "516201.705690001",
                  "12",
                  "5",
                  "2023",
                  "132",
                  "0",
                  "31"
                ],
                [
                  "42",
                  "2023-05-13 00:00:00",
                  "5",
                  "530423.974389997",
                  "13",
                  "5",
                  "2023",
                  "133",
                  "1",
                  "31"
                ],
                [
                  "43",
                  "2023-05-14 00:00:00",
                  "6",
                  "499739.439879001",
                  "14",
                  "5",
                  "2023",
                  "134",
                  "1",
                  "31"
                ],
                [
                  "44",
                  "2023-05-15 00:00:00",
                  "0",
                  "545510.517090001",
                  "15",
                  "5",
                  "2023",
                  "135",
                  "0",
                  "31"
                ],
                [
                  "45",
                  "2023-05-16 00:00:00",
                  "1",
                  "531331.463624",
                  "16",
                  "5",
                  "2023",
                  "136",
                  "0",
                  "31"
                ],
                [
                  "46",
                  "2023-05-17 00:00:00",
                  "2",
                  "524374.592021999",
                  "17",
                  "5",
                  "2023",
                  "137",
                  "0",
                  "31"
                ],
                [
                  "47",
                  "2023-05-18 00:00:00",
                  "3",
                  "534019.694593001",
                  "18",
                  "5",
                  "2023",
                  "138",
                  "0",
                  "31"
                ],
                [
                  "48",
                  "2023-05-19 00:00:00",
                  "4",
                  "533700.688882",
                  "19",
                  "5",
                  "2023",
                  "139",
                  "0",
                  "31"
                ],
                [
                  "49",
                  "2023-05-20 00:00:00",
                  "5",
                  "546641.743372",
                  "20",
                  "5",
                  "2023",
                  "140",
                  "1",
                  "31"
                ]
              ],
              "shape": {
                "columns": 9,
                "rows": 275
              }
            },
            "text/html": [
              "<div>\n",
              "<style scoped>\n",
              "    .dataframe tbody tr th:only-of-type {\n",
              "        vertical-align: middle;\n",
              "    }\n",
              "\n",
              "    .dataframe tbody tr th {\n",
              "        vertical-align: top;\n",
              "    }\n",
              "\n",
              "    .dataframe thead th {\n",
              "        text-align: right;\n",
              "    }\n",
              "</style>\n",
              "<table border=\"1\" class=\"dataframe\">\n",
              "  <thead>\n",
              "    <tr style=\"text-align: right;\">\n",
              "      <th></th>\n",
              "      <th>Date</th>\n",
              "      <th>Weekday</th>\n",
              "      <th>Sales</th>\n",
              "      <th>Day</th>\n",
              "      <th>Month</th>\n",
              "      <th>Year</th>\n",
              "      <th>DayOfYear</th>\n",
              "      <th>IsWeekend</th>\n",
              "      <th>DaysInMonth</th>\n",
              "    </tr>\n",
              "  </thead>\n",
              "  <tbody>\n",
              "    <tr>\n",
              "      <th>0</th>\n",
              "      <td>2023-04-01</td>\n",
              "      <td>5</td>\n",
              "      <td>489076.113688</td>\n",
              "      <td>1</td>\n",
              "      <td>4</td>\n",
              "      <td>2023</td>\n",
              "      <td>91</td>\n",
              "      <td>1</td>\n",
              "      <td>30</td>\n",
              "    </tr>\n",
              "    <tr>\n",
              "      <th>1</th>\n",
              "      <td>2023-04-02</td>\n",
              "      <td>6</td>\n",
              "      <td>491107.744591</td>\n",
              "      <td>2</td>\n",
              "      <td>4</td>\n",
              "      <td>2023</td>\n",
              "      <td>92</td>\n",
              "      <td>1</td>\n",
              "      <td>30</td>\n",
              "    </tr>\n",
              "    <tr>\n",
              "      <th>2</th>\n",
              "      <td>2023-04-03</td>\n",
              "      <td>0</td>\n",
              "      <td>463311.399700</td>\n",
              "      <td>3</td>\n",
              "      <td>4</td>\n",
              "      <td>2023</td>\n",
              "      <td>93</td>\n",
              "      <td>0</td>\n",
              "      <td>30</td>\n",
              "    </tr>\n",
              "    <tr>\n",
              "      <th>3</th>\n",
              "      <td>2023-04-04</td>\n",
              "      <td>1</td>\n",
              "      <td>456306.343200</td>\n",
              "      <td>4</td>\n",
              "      <td>4</td>\n",
              "      <td>2023</td>\n",
              "      <td>94</td>\n",
              "      <td>0</td>\n",
              "      <td>30</td>\n",
              "    </tr>\n",
              "    <tr>\n",
              "      <th>4</th>\n",
              "      <td>2023-04-05</td>\n",
              "      <td>2</td>\n",
              "      <td>493338.999138</td>\n",
              "      <td>5</td>\n",
              "      <td>4</td>\n",
              "      <td>2023</td>\n",
              "      <td>95</td>\n",
              "      <td>0</td>\n",
              "      <td>30</td>\n",
              "    </tr>\n",
              "    <tr>\n",
              "      <th>...</th>\n",
              "      <td>...</td>\n",
              "      <td>...</td>\n",
              "      <td>...</td>\n",
              "      <td>...</td>\n",
              "      <td>...</td>\n",
              "      <td>...</td>\n",
              "      <td>...</td>\n",
              "      <td>...</td>\n",
              "      <td>...</td>\n",
              "    </tr>\n",
              "    <tr>\n",
              "      <th>270</th>\n",
              "      <td>2023-12-27</td>\n",
              "      <td>2</td>\n",
              "      <td>571390.999704</td>\n",
              "      <td>27</td>\n",
              "      <td>12</td>\n",
              "      <td>2023</td>\n",
              "      <td>361</td>\n",
              "      <td>0</td>\n",
              "      <td>31</td>\n",
              "    </tr>\n",
              "    <tr>\n",
              "      <th>271</th>\n",
              "      <td>2023-12-28</td>\n",
              "      <td>3</td>\n",
              "      <td>576890.976666</td>\n",
              "      <td>28</td>\n",
              "      <td>12</td>\n",
              "      <td>2023</td>\n",
              "      <td>362</td>\n",
              "      <td>0</td>\n",
              "      <td>31</td>\n",
              "    </tr>\n",
              "    <tr>\n",
              "      <th>272</th>\n",
              "      <td>2023-12-29</td>\n",
              "      <td>4</td>\n",
              "      <td>572104.814138</td>\n",
              "      <td>29</td>\n",
              "      <td>12</td>\n",
              "      <td>2023</td>\n",
              "      <td>363</td>\n",
              "      <td>0</td>\n",
              "      <td>31</td>\n",
              "    </tr>\n",
              "    <tr>\n",
              "      <th>273</th>\n",
              "      <td>2023-12-30</td>\n",
              "      <td>5</td>\n",
              "      <td>585843.459244</td>\n",
              "      <td>30</td>\n",
              "      <td>12</td>\n",
              "      <td>2023</td>\n",
              "      <td>364</td>\n",
              "      <td>1</td>\n",
              "      <td>31</td>\n",
              "    </tr>\n",
              "    <tr>\n",
              "      <th>274</th>\n",
              "      <td>2023-12-31</td>\n",
              "      <td>6</td>\n",
              "      <td>537720.849840</td>\n",
              "      <td>31</td>\n",
              "      <td>12</td>\n",
              "      <td>2023</td>\n",
              "      <td>365</td>\n",
              "      <td>1</td>\n",
              "      <td>31</td>\n",
              "    </tr>\n",
              "  </tbody>\n",
              "</table>\n",
              "<p>275 rows × 9 columns</p>\n",
              "</div>"
            ],
            "text/plain": [
              "          Date  Weekday          Sales  Day  Month  Year  DayOfYear  \\\n",
              "0   2023-04-01        5  489076.113688    1      4  2023         91   \n",
              "1   2023-04-02        6  491107.744591    2      4  2023         92   \n",
              "2   2023-04-03        0  463311.399700    3      4  2023         93   \n",
              "3   2023-04-04        1  456306.343200    4      4  2023         94   \n",
              "4   2023-04-05        2  493338.999138    5      4  2023         95   \n",
              "..         ...      ...            ...  ...    ...   ...        ...   \n",
              "270 2023-12-27        2  571390.999704   27     12  2023        361   \n",
              "271 2023-12-28        3  576890.976666   28     12  2023        362   \n",
              "272 2023-12-29        4  572104.814138   29     12  2023        363   \n",
              "273 2023-12-30        5  585843.459244   30     12  2023        364   \n",
              "274 2023-12-31        6  537720.849840   31     12  2023        365   \n",
              "\n",
              "     IsWeekend  DaysInMonth  \n",
              "0            1           30  \n",
              "1            1           30  \n",
              "2            0           30  \n",
              "3            0           30  \n",
              "4            0           30  \n",
              "..         ...          ...  \n",
              "270          0           31  \n",
              "271          0           31  \n",
              "272          0           31  \n",
              "273          1           31  \n",
              "274          1           31  \n",
              "\n",
              "[275 rows x 9 columns]"
            ]
          },
          "execution_count": 8,
          "metadata": {},
          "output_type": "execute_result"
        }
      ],
      "source": [
        "import calendar\n",
        "def days_in_month(row):\n",
        "    return calendar.monthrange(row['Year'], row['Month'])[1]\n",
        "\n",
        "df['Day'] = df['Date'].dt.day\n",
        "df['Weekday'] = df['Date'].dt.weekday\n",
        "df['Month'] = df['Date'].dt.month\n",
        "df['Year'] = df['Date'].dt.year\n",
        "df['DayOfYear'] = df['Date'].dt.dayofyear\n",
        "df['IsWeekend'] = (df['Weekday'] >= 5).astype(int)\n",
        "df['DaysInMonth'] = df.apply(days_in_month, axis=1)\n",
        "df\n"
      ]
    },
    {
      "cell_type": "code",
      "execution_count": 9,
      "metadata": {
        "colab": {
          "base_uri": "https://localhost:8080/",
          "height": 444
        },
        "id": "_3fcC8WUFY9z",
        "outputId": "5c8db84b-34cf-48c7-f75e-a6000d3d295c"
      },
      "outputs": [
        {
          "data": {
            "application/vnd.microsoft.datawrangler.viewer.v0+json": {
              "columns": [
                {
                  "name": "index",
                  "rawType": "int64",
                  "type": "integer"
                },
                {
                  "name": "Date",
                  "rawType": "datetime64[ns]",
                  "type": "datetime"
                },
                {
                  "name": "Sales",
                  "rawType": "float64",
                  "type": "float"
                },
                {
                  "name": "IsWeekend",
                  "rawType": "int64",
                  "type": "integer"
                },
                {
                  "name": "Day_sin",
                  "rawType": "float64",
                  "type": "float"
                },
                {
                  "name": "Day_cos",
                  "rawType": "float64",
                  "type": "float"
                },
                {
                  "name": "Month_sin",
                  "rawType": "float64",
                  "type": "float"
                },
                {
                  "name": "Month_cos",
                  "rawType": "float64",
                  "type": "float"
                },
                {
                  "name": "Weekday_sin",
                  "rawType": "float64",
                  "type": "float"
                },
                {
                  "name": "Weekday_cos",
                  "rawType": "float64",
                  "type": "float"
                },
                {
                  "name": "DayOfYear_sin",
                  "rawType": "float64",
                  "type": "float"
                },
                {
                  "name": "DayOfYear_cos",
                  "rawType": "float64",
                  "type": "float"
                }
              ],
              "conversionMethod": "pd.DataFrame",
              "ref": "c2953ed7-3d0a-43ab-9604-fd34d7d4924e",
              "rows": [
                [
                  "0",
                  "2023-04-01 00:00:00",
                  "489076.113687999",
                  "1",
                  "0.20791169081775931",
                  "0.9781476007338057",
                  "0.8660254037844387",
                  "-0.4999999999999998",
                  "-0.9749279121818236",
                  "-0.2225209339563146",
                  "0.9999907397361901",
                  "0.004303538296244289"
                ],
                [
                  "1",
                  "2023-04-02 00:00:00",
                  "491107.744591",
                  "1",
                  "0.40673664307580015",
                  "0.9135454576426009",
                  "0.8660254037844387",
                  "-0.4999999999999998",
                  "-0.7818314824680299",
                  "0.6234898018587334",
                  "0.9999166586547379",
                  "-0.01291029607500882"
                ],
                [
                  "2",
                  "2023-04-03 00:00:00",
                  "463311.399700001",
                  "0",
                  "0.5877852522924731",
                  "0.8090169943749475",
                  "0.8660254037844387",
                  "-0.4999999999999998",
                  "0.0",
                  "1.0",
                  "0.9995462806873573",
                  "-0.030120304846908114"
                ],
                [
                  "3",
                  "2023-04-04 00:00:00",
                  "456306.343200003",
                  "0",
                  "0.7431448254773941",
                  "0.6691306063588582",
                  "0.8660254037844387",
                  "-0.4999999999999998",
                  "0.7818314824680298",
                  "0.6234898018587336",
                  "0.9988797155850336",
                  "-0.04732138832243185"
                ],
                [
                  "4",
                  "2023-04-05 00:00:00",
                  "493338.999137997",
                  "0",
                  "0.8660254037844386",
                  "0.5000000000000001",
                  "0.8660254037844387",
                  "-0.4999999999999998",
                  "0.9749279121818236",
                  "-0.22252093395631434",
                  "0.9979171608653922",
                  "-0.06450844944931623"
                ],
                [
                  "5",
                  "2023-04-06 00:00:00",
                  "494010.905488001",
                  "0",
                  "0.9510565162951535",
                  "0.30901699437494745",
                  "0.8660254037844387",
                  "-0.4999999999999998",
                  "0.43388373911755823",
                  "-0.900968867902419",
                  "0.9966589017541702",
                  "-0.08167639533042241"
                ],
                [
                  "6",
                  "2023-04-07 00:00:00",
                  "409583.985034",
                  "0",
                  "0.9945218953682733",
                  "0.10452846326765346",
                  "0.8660254037844387",
                  "-0.4999999999999998",
                  "-0.433883739117558",
                  "-0.9009688679024191",
                  "0.9951053111006976",
                  "-0.09882013873287143"
                ],
                [
                  "7",
                  "2023-04-08 00:00:00",
                  "542228.194162999",
                  "1",
                  "0.9945218953682734",
                  "-0.10452846326765333",
                  "0.8660254037844387",
                  "-0.4999999999999998",
                  "-0.9749279121818236",
                  "-0.2225209339563146",
                  "0.9932568492674143",
                  "-0.11593459959550041"
                ],
                [
                  "8",
                  "2023-04-09 00:00:00",
                  "478717.394779001",
                  "1",
                  "0.9510565162951536",
                  "-0.30901699437494734",
                  "0.8660254037844387",
                  "-0.4999999999999998",
                  "-0.7818314824680299",
                  "0.6234898018587334",
                  "0.9911140639934547",
                  "-0.1330147065341959"
                ],
                [
                  "9",
                  "2023-04-10 00:00:00",
                  "483230.277815999",
                  "0",
                  "0.8660254037844387",
                  "-0.4999999999999998",
                  "0.8660254037844387",
                  "-0.4999999999999998",
                  "0.0",
                  "1.0",
                  "0.9886775902323405",
                  "-0.1500553983446526"
                ],
                [
                  "10",
                  "2023-04-11 00:00:00",
                  "485970.141539999",
                  "0",
                  "0.7431448254773945",
                  "-0.6691306063588579",
                  "0.8660254037844387",
                  "-0.4999999999999998",
                  "0.7818314824680298",
                  "0.6234898018587336",
                  "0.9859481499638304",
                  "-0.16705162550211924"
                ],
                [
                  "11",
                  "2023-04-12 00:00:00",
                  "484442.664286001",
                  "0",
                  "0.5877852522924732",
                  "-0.8090169943749473",
                  "0.8660254037844387",
                  "-0.4999999999999998",
                  "0.9749279121818236",
                  "-0.22252093395631434",
                  "0.9829265519799822",
                  "-0.18399835165768005"
                ],
                [
                  "12",
                  "2023-04-13 00:00:00",
                  "481539.484122001",
                  "0",
                  "0.40673664307580004",
                  "-0.913545457642601",
                  "0.8660254037844387",
                  "-0.4999999999999998",
                  "0.43388373911755823",
                  "-0.900968867902419",
                  "0.9796136916454901",
                  "-0.20089055513063506"
                ],
                [
                  "13",
                  "2023-04-14 00:00:00",
                  "475616.294424",
                  "0",
                  "0.20791169081775931",
                  "-0.9781476007338057",
                  "0.8660254037844387",
                  "-0.4999999999999998",
                  "-0.433883739117558",
                  "-0.9009688679024191",
                  "0.9760105506323683",
                  "-0.21772323039653177"
                ],
                [
                  "14",
                  "2023-04-15 00:00:00",
                  "508646.535999998",
                  "1",
                  "5.66553889764798e-16",
                  "-1.0",
                  "0.8660254037844387",
                  "-0.4999999999999998",
                  "-0.9749279121818236",
                  "-0.2225209339563146",
                  "0.9721181966290613",
                  "-0.23449138957040985"
                ],
                [
                  "15",
                  "2023-04-16 00:00:00",
                  "499561.828190001",
                  "1",
                  "-0.20791169081775907",
                  "-0.9781476007338057",
                  "0.8660254037844387",
                  "-0.4999999999999998",
                  "-0.7818314824680299",
                  "0.6234898018587334",
                  "0.9679377830240642",
                  "-0.25119006388481935"
                ],
                [
                  "16",
                  "2023-04-17 00:00:00",
                  "491511.198189999",
                  "0",
                  "-0.4067366430758002",
                  "-0.9135454576426009",
                  "0.8660254037844387",
                  "-0.4999999999999998",
                  "0.0",
                  "1.0",
                  "0.9634705485641488",
                  "-0.2678143051621742"
                ],
                [
                  "17",
                  "2023-04-18 00:00:00",
                  "486965.132491001",
                  "0",
                  "-0.587785252292473",
                  "-0.8090169943749475",
                  "0.8660254037844387",
                  "-0.4999999999999998",
                  "0.7818314824680298",
                  "0.6234898018587336",
                  "0.9587178169872964",
                  "-0.2843591872810034"
                ],
                [
                  "18",
                  "2023-04-19 00:00:00",
                  "477694.400777999",
                  "0",
                  "-0.743144825477394",
                  "-0.6691306063588585",
                  "0.8660254037844387",
                  "-0.4999999999999998",
                  "0.9749279121818236",
                  "-0.22252093395631434",
                  "0.9536809966304457",
                  "-0.30081980763566735"
                ],
                [
                  "19",
                  "2023-04-20 00:00:00",
                  "494866.984368",
                  "0",
                  "-0.8660254037844385",
                  "-0.5000000000000004",
                  "0.8660254037844387",
                  "-0.4999999999999998",
                  "0.43388373911755823",
                  "-0.900968867902419",
                  "0.9483615800121715",
                  "-0.3171912885891061"
                ],
                [
                  "20",
                  "2023-04-21 00:00:00",
                  "429529.440000001",
                  "0",
                  "-0.9510565162951535",
                  "-0.30901699437494756",
                  "0.8660254037844387",
                  "-0.4999999999999998",
                  "-0.433883739117558",
                  "-0.9009688679024191",
                  "0.9427611433904207",
                  "-0.3334687789181868"
                ],
                [
                  "21",
                  "2023-04-22 00:00:00",
                  "478486.228973998",
                  "1",
                  "-0.9945218953682733",
                  "-0.10452846326765423",
                  "0.8660254037844387",
                  "-0.4999999999999998",
                  "-0.9749279121818236",
                  "-0.2225209339563146",
                  "0.9368813462954315",
                  "-0.3496474552512284"
                ],
                [
                  "22",
                  "2023-04-23 00:00:00",
                  "499919.804848001",
                  "1",
                  "-0.9945218953682734",
                  "0.10452846326765299",
                  "0.8660254037844387",
                  "-0.4999999999999998",
                  "-0.7818314824680299",
                  "0.6234898018587334",
                  "0.9307239310379795",
                  "-0.36572252349726897"
                ],
                [
                  "23",
                  "2023-04-24 00:00:00",
                  "493929.254863",
                  "0",
                  "-0.9510565162951536",
                  "0.30901699437494723",
                  "0.8660254037844387",
                  "-0.4999999999999998",
                  "0.0",
                  "1.0",
                  "0.9242907221930933",
                  "-0.3816892202666588"
                ],
                [
                  "24",
                  "2023-04-25 00:00:00",
                  "512009.056974",
                  "0",
                  "-0.8660254037844386",
                  "0.5000000000000001",
                  "0.8660254037844387",
                  "-0.4999999999999998",
                  "0.7818314824680298",
                  "0.6234898018587336",
                  "0.9175836260593937",
                  "-0.39754281428255595"
                ],
                [
                  "25",
                  "2023-04-26 00:00:00",
                  "488102.202760999",
                  "0",
                  "-0.743144825477394",
                  "0.6691306063588585",
                  "0.8660254037844387",
                  "-0.4999999999999998",
                  "0.9749279121818236",
                  "-0.22252093395631434",
                  "0.9106046300942162",
                  "-0.4132786077829042"
                ],
                [
                  "26",
                  "2023-04-27 00:00:00",
                  "505695.523430001",
                  "0",
                  "-0.5877852522924734",
                  "0.8090169943749473",
                  "0.8660254037844387",
                  "-0.4999999999999998",
                  "0.43388373911755823",
                  "-0.900968867902419",
                  "0.9033558023246845",
                  "-0.4288919379124835"
                ],
                [
                  "27",
                  "2023-04-28 00:00:00",
                  "513905.187381999",
                  "0",
                  "-0.40673664307580015",
                  "0.913545457642601",
                  "0.8660254037844387",
                  "-0.4999999999999998",
                  "-0.433883739117558",
                  "-0.9009688679024191",
                  "0.895839290734909",
                  "-0.4443781781046132"
                ],
                [
                  "28",
                  "2023-04-29 00:00:00",
                  "524235.852062999",
                  "1",
                  "-0.20791169081775898",
                  "0.9781476007338057",
                  "0.8660254037844387",
                  "-0.4999999999999998",
                  "-0.9749279121818236",
                  "-0.2225209339563146",
                  "0.8880573226294932",
                  "-0.45973273945210397"
                ],
                [
                  "29",
                  "2023-04-30 00:00:00",
                  "487767.451411001",
                  "1",
                  "-1.133107779529596e-15",
                  "1.0",
                  "0.8660254037844387",
                  "-0.4999999999999998",
                  "-0.7818314824680299",
                  "0.6234898018587334",
                  "0.8800122039735357",
                  "-0.47495107206704995"
                ],
                [
                  "30",
                  "2023-05-01 00:00:00",
                  "519383.040704",
                  "0",
                  "0.20129852008866006",
                  "0.9795299412524945",
                  "0.49999999999999994",
                  "-0.8660254037844387",
                  "0.0",
                  "1.0",
                  "0.8717063187093218",
                  "-0.4900286664290592"
                ],
                [
                  "31",
                  "2023-05-02 00:00:00",
                  "508708.939889",
                  "0",
                  "0.39435585511331855",
                  "0.9189578116202306",
                  "0.49999999999999994",
                  "-0.8660254037844387",
                  "0.7818314824680298",
                  "0.6234898018587336",
                  "0.8631421280499114",
                  "-0.5049610547215204"
                ],
                [
                  "32",
                  "2023-05-03 00:00:00",
                  "508893.05185",
                  "0",
                  "0.5712682150947923",
                  "0.8207634412072763",
                  "0.49999999999999994",
                  "-0.8660254037844387",
                  "0.9749279121818236",
                  "-0.22252093395631434",
                  "0.854322169749827",
                  "-0.5197438121555155"
                ],
                [
                  "33",
                  "2023-05-04 00:00:00",
                  "503087.392368002",
                  "0",
                  "0.72479278722912",
                  "0.6889669190756866",
                  "0.49999999999999994",
                  "-0.8660254037844387",
                  "0.43388373911755823",
                  "-0.900968867902419",
                  "0.8452490573530633",
                  "-0.5343725582809786"
                ],
                [
                  "34",
                  "2023-05-05 00:00:00",
                  "527874.380919998",
                  "0",
                  "0.8486442574947509",
                  "0.5289640103269624",
                  "0.49999999999999994",
                  "-0.8660254037844387",
                  "-0.433883739117558",
                  "-0.9009688679024191",
                  "0.8359254794186372",
                  "-0.548842958284719"
                ],
                [
                  "35",
                  "2023-05-06 00:00:00",
                  "538248.608925002",
                  "1",
                  "0.9377521321470804",
                  "0.3473052528448203",
                  "0.49999999999999994",
                  "-0.8660254037844387",
                  "-0.9749279121818236",
                  "-0.2225209339563146",
                  "0.8263541987239096",
                  "-0.5631507242749186"
                ],
                [
                  "36",
                  "2023-05-07 00:00:00",
                  "532650.390192",
                  "1",
                  "0.9884683243281114",
                  "0.1514277775045767",
                  "0.49999999999999994",
                  "-0.8660254037844387",
                  "-0.7818314824680299",
                  "0.6234898018587334",
                  "0.8165380514459161",
                  "-0.5772916165517272"
                ],
                [
                  "37",
                  "2023-05-08 00:00:00",
                  "531118.178436999",
                  "0",
                  "0.9987165071710528",
                  "-0.05064916883871264",
                  "0.49999999999999994",
                  "-0.8660254037844387",
                  "0.0",
                  "1.0",
                  "0.8064799463209448",
                  "-0.5912614448635781"
                ],
                [
                  "38",
                  "2023-05-09 00:00:00",
                  "514436.391770002",
                  "0",
                  "0.9680771188662043",
                  "-0.2506525322587204",
                  "0.49999999999999994",
                  "-0.8660254037844387",
                  "0.7818314824680298",
                  "0.6234898018587336",
                  "0.7961828637826158",
                  "-0.6050560696488488"
                ],
                [
                  "39",
                  "2023-05-10 00:00:00",
                  "519825.312419999",
                  "0",
                  "0.8978045395707416",
                  "-0.4403941515576344",
                  "0.49999999999999994",
                  "-0.8660254037844387",
                  "0.9749279121818236",
                  "-0.22252093395631434",
                  "0.7856498550787147",
                  "-0.6186714032625031"
                ],
                [
                  "40",
                  "2023-05-11 00:00:00",
                  "518385.0",
                  "0",
                  "0.7907757369376989",
                  "-0.6121059825476626",
                  "0.49999999999999994",
                  "-0.8660254037844387",
                  "0.43388373911755823",
                  "-0.900968867902419",
                  "0.7748840413670407",
                  "-0.6321034111873487"
                ],
                [
                  "41",
                  "2023-05-12 00:00:00",
                  "516201.705690001",
                  "0",
                  "0.6513724827222223",
                  "-0.758758122692791",
                  "0.49999999999999994",
                  "-0.8660254037844387",
                  "-0.433883739117558",
                  "-0.9009688679024191",
                  "0.7638886127905428",
                  "-0.6453481132295501"
                ],
                [
                  "42",
                  "2023-05-13 00:00:00",
                  "530423.974389997",
                  "1",
                  "0.48530196253108104",
                  "-0.8743466161445821",
                  "0.49999999999999994",
                  "-0.8660254037844387",
                  "-0.9749279121818236",
                  "-0.2225209339563146",
                  "0.7526668275320085",
                  "-0.6584015846980488"
                ],
                [
                  "43",
                  "2023-05-14 00:00:00",
                  "499739.439879001",
                  "1",
                  "0.29936312297335804",
                  "-0.9541392564000488",
                  "0.49999999999999994",
                  "-0.8660254037844387",
                  "-0.7818314824680299",
                  "0.6234898018587334",
                  "0.7412220108485958",
                  "-0.6712599575675313"
                ],
                [
                  "44",
                  "2023-05-15 00:00:00",
                  "545510.517090001",
                  "0",
                  "0.10116832198743272",
                  "-0.994869323391895",
                  "0.49999999999999994",
                  "-0.8660254037844387",
                  "0.0",
                  "1.0",
                  "0.7295575540864875",
                  "-0.6839194216246106"
                ],
                [
                  "45",
                  "2023-05-16 00:00:00",
                  "531331.463624",
                  "0",
                  "-0.10116832198743204",
                  "-0.9948693233918952",
                  "0.49999999999999994",
                  "-0.8660254037844387",
                  "0.7818314824680298",
                  "0.6234898018587336",
                  "0.717676913675962",
                  "-0.6963762255968722"
                ],
                [
                  "46",
                  "2023-05-17 00:00:00",
                  "524374.592021999",
                  "0",
                  "-0.2993631229733582",
                  "-0.9541392564000488",
                  "0.49999999999999994",
                  "-0.8660254037844387",
                  "0.9749279121818236",
                  "-0.22252093395631434",
                  "0.705583610107178",
                  "-0.7086266782644596"
                ],
                [
                  "47",
                  "2023-05-18 00:00:00",
                  "534019.694593001",
                  "0",
                  "-0.4853019625310808",
                  "-0.8743466161445822",
                  "0.49999999999999994",
                  "-0.8660254037844387",
                  "0.43388373911755823",
                  "-0.900968867902419",
                  "0.6932812268869777",
                  "-0.7206671495538609"
                ],
                [
                  "48",
                  "2023-05-19 00:00:00",
                  "533700.688882",
                  "0",
                  "-0.651372482722222",
                  "-0.7587581226927911",
                  "0.49999999999999994",
                  "-0.8660254037844387",
                  "-0.433883739117558",
                  "-0.9009688679024191",
                  "0.6807734094770161",
                  "-0.7324940716135789"
                ],
                [
                  "49",
                  "2023-05-20 00:00:00",
                  "546641.743372",
                  "1",
                  "-0.7907757369376986",
                  "-0.6121059825476627",
                  "0.49999999999999994",
                  "-0.8660254037844387",
                  "-0.9749279121818236",
                  "-0.2225209339563146",
                  "0.6680638642135335",
                  "-0.7441039398713607"
                ]
              ],
              "shape": {
                "columns": 11,
                "rows": 275
              }
            },
            "text/html": [
              "<div>\n",
              "<style scoped>\n",
              "    .dataframe tbody tr th:only-of-type {\n",
              "        vertical-align: middle;\n",
              "    }\n",
              "\n",
              "    .dataframe tbody tr th {\n",
              "        vertical-align: top;\n",
              "    }\n",
              "\n",
              "    .dataframe thead th {\n",
              "        text-align: right;\n",
              "    }\n",
              "</style>\n",
              "<table border=\"1\" class=\"dataframe\">\n",
              "  <thead>\n",
              "    <tr style=\"text-align: right;\">\n",
              "      <th></th>\n",
              "      <th>Date</th>\n",
              "      <th>Sales</th>\n",
              "      <th>IsWeekend</th>\n",
              "      <th>Day_sin</th>\n",
              "      <th>Day_cos</th>\n",
              "      <th>Month_sin</th>\n",
              "      <th>Month_cos</th>\n",
              "      <th>Weekday_sin</th>\n",
              "      <th>Weekday_cos</th>\n",
              "      <th>DayOfYear_sin</th>\n",
              "      <th>DayOfYear_cos</th>\n",
              "    </tr>\n",
              "  </thead>\n",
              "  <tbody>\n",
              "    <tr>\n",
              "      <th>0</th>\n",
              "      <td>2023-04-01</td>\n",
              "      <td>489076.113688</td>\n",
              "      <td>1</td>\n",
              "      <td>2.079117e-01</td>\n",
              "      <td>0.978148</td>\n",
              "      <td>8.660254e-01</td>\n",
              "      <td>-0.5</td>\n",
              "      <td>-0.974928</td>\n",
              "      <td>-0.222521</td>\n",
              "      <td>9.999907e-01</td>\n",
              "      <td>0.004304</td>\n",
              "    </tr>\n",
              "    <tr>\n",
              "      <th>1</th>\n",
              "      <td>2023-04-02</td>\n",
              "      <td>491107.744591</td>\n",
              "      <td>1</td>\n",
              "      <td>4.067366e-01</td>\n",
              "      <td>0.913545</td>\n",
              "      <td>8.660254e-01</td>\n",
              "      <td>-0.5</td>\n",
              "      <td>-0.781831</td>\n",
              "      <td>0.623490</td>\n",
              "      <td>9.999167e-01</td>\n",
              "      <td>-0.012910</td>\n",
              "    </tr>\n",
              "    <tr>\n",
              "      <th>2</th>\n",
              "      <td>2023-04-03</td>\n",
              "      <td>463311.399700</td>\n",
              "      <td>0</td>\n",
              "      <td>5.877853e-01</td>\n",
              "      <td>0.809017</td>\n",
              "      <td>8.660254e-01</td>\n",
              "      <td>-0.5</td>\n",
              "      <td>0.000000</td>\n",
              "      <td>1.000000</td>\n",
              "      <td>9.995463e-01</td>\n",
              "      <td>-0.030120</td>\n",
              "    </tr>\n",
              "    <tr>\n",
              "      <th>3</th>\n",
              "      <td>2023-04-04</td>\n",
              "      <td>456306.343200</td>\n",
              "      <td>0</td>\n",
              "      <td>7.431448e-01</td>\n",
              "      <td>0.669131</td>\n",
              "      <td>8.660254e-01</td>\n",
              "      <td>-0.5</td>\n",
              "      <td>0.781831</td>\n",
              "      <td>0.623490</td>\n",
              "      <td>9.988797e-01</td>\n",
              "      <td>-0.047321</td>\n",
              "    </tr>\n",
              "    <tr>\n",
              "      <th>4</th>\n",
              "      <td>2023-04-05</td>\n",
              "      <td>493338.999138</td>\n",
              "      <td>0</td>\n",
              "      <td>8.660254e-01</td>\n",
              "      <td>0.500000</td>\n",
              "      <td>8.660254e-01</td>\n",
              "      <td>-0.5</td>\n",
              "      <td>0.974928</td>\n",
              "      <td>-0.222521</td>\n",
              "      <td>9.979172e-01</td>\n",
              "      <td>-0.064508</td>\n",
              "    </tr>\n",
              "    <tr>\n",
              "      <th>...</th>\n",
              "      <td>...</td>\n",
              "      <td>...</td>\n",
              "      <td>...</td>\n",
              "      <td>...</td>\n",
              "      <td>...</td>\n",
              "      <td>...</td>\n",
              "      <td>...</td>\n",
              "      <td>...</td>\n",
              "      <td>...</td>\n",
              "      <td>...</td>\n",
              "      <td>...</td>\n",
              "    </tr>\n",
              "    <tr>\n",
              "      <th>270</th>\n",
              "      <td>2023-12-27</td>\n",
              "      <td>571390.999704</td>\n",
              "      <td>0</td>\n",
              "      <td>-7.247928e-01</td>\n",
              "      <td>0.688967</td>\n",
              "      <td>-2.449294e-16</td>\n",
              "      <td>1.0</td>\n",
              "      <td>0.974928</td>\n",
              "      <td>-0.222521</td>\n",
              "      <td>-6.880243e-02</td>\n",
              "      <td>0.997630</td>\n",
              "    </tr>\n",
              "    <tr>\n",
              "      <th>271</th>\n",
              "      <td>2023-12-28</td>\n",
              "      <td>576890.976666</td>\n",
              "      <td>0</td>\n",
              "      <td>-5.712682e-01</td>\n",
              "      <td>0.820763</td>\n",
              "      <td>-2.449294e-16</td>\n",
              "      <td>1.0</td>\n",
              "      <td>0.433884</td>\n",
              "      <td>-0.900969</td>\n",
              "      <td>-5.161967e-02</td>\n",
              "      <td>0.998667</td>\n",
              "    </tr>\n",
              "    <tr>\n",
              "      <th>272</th>\n",
              "      <td>2023-12-29</td>\n",
              "      <td>572104.814138</td>\n",
              "      <td>0</td>\n",
              "      <td>-3.943559e-01</td>\n",
              "      <td>0.918958</td>\n",
              "      <td>-2.449294e-16</td>\n",
              "      <td>1.0</td>\n",
              "      <td>-0.433884</td>\n",
              "      <td>-0.900969</td>\n",
              "      <td>-3.442161e-02</td>\n",
              "      <td>0.999407</td>\n",
              "    </tr>\n",
              "    <tr>\n",
              "      <th>273</th>\n",
              "      <td>2023-12-30</td>\n",
              "      <td>585843.459244</td>\n",
              "      <td>1</td>\n",
              "      <td>-2.012985e-01</td>\n",
              "      <td>0.979530</td>\n",
              "      <td>-2.449294e-16</td>\n",
              "      <td>1.0</td>\n",
              "      <td>-0.974928</td>\n",
              "      <td>-0.222521</td>\n",
              "      <td>-1.721336e-02</td>\n",
              "      <td>0.999852</td>\n",
              "    </tr>\n",
              "    <tr>\n",
              "      <th>274</th>\n",
              "      <td>2023-12-31</td>\n",
              "      <td>537720.849840</td>\n",
              "      <td>1</td>\n",
              "      <td>-2.449294e-16</td>\n",
              "      <td>1.000000</td>\n",
              "      <td>-2.449294e-16</td>\n",
              "      <td>1.0</td>\n",
              "      <td>-0.781831</td>\n",
              "      <td>0.623490</td>\n",
              "      <td>6.432491e-16</td>\n",
              "      <td>1.000000</td>\n",
              "    </tr>\n",
              "  </tbody>\n",
              "</table>\n",
              "<p>275 rows × 11 columns</p>\n",
              "</div>"
            ],
            "text/plain": [
              "          Date          Sales  IsWeekend       Day_sin   Day_cos  \\\n",
              "0   2023-04-01  489076.113688          1  2.079117e-01  0.978148   \n",
              "1   2023-04-02  491107.744591          1  4.067366e-01  0.913545   \n",
              "2   2023-04-03  463311.399700          0  5.877853e-01  0.809017   \n",
              "3   2023-04-04  456306.343200          0  7.431448e-01  0.669131   \n",
              "4   2023-04-05  493338.999138          0  8.660254e-01  0.500000   \n",
              "..         ...            ...        ...           ...       ...   \n",
              "270 2023-12-27  571390.999704          0 -7.247928e-01  0.688967   \n",
              "271 2023-12-28  576890.976666          0 -5.712682e-01  0.820763   \n",
              "272 2023-12-29  572104.814138          0 -3.943559e-01  0.918958   \n",
              "273 2023-12-30  585843.459244          1 -2.012985e-01  0.979530   \n",
              "274 2023-12-31  537720.849840          1 -2.449294e-16  1.000000   \n",
              "\n",
              "        Month_sin  Month_cos  Weekday_sin  Weekday_cos  DayOfYear_sin  \\\n",
              "0    8.660254e-01       -0.5    -0.974928    -0.222521   9.999907e-01   \n",
              "1    8.660254e-01       -0.5    -0.781831     0.623490   9.999167e-01   \n",
              "2    8.660254e-01       -0.5     0.000000     1.000000   9.995463e-01   \n",
              "3    8.660254e-01       -0.5     0.781831     0.623490   9.988797e-01   \n",
              "4    8.660254e-01       -0.5     0.974928    -0.222521   9.979172e-01   \n",
              "..            ...        ...          ...          ...            ...   \n",
              "270 -2.449294e-16        1.0     0.974928    -0.222521  -6.880243e-02   \n",
              "271 -2.449294e-16        1.0     0.433884    -0.900969  -5.161967e-02   \n",
              "272 -2.449294e-16        1.0    -0.433884    -0.900969  -3.442161e-02   \n",
              "273 -2.449294e-16        1.0    -0.974928    -0.222521  -1.721336e-02   \n",
              "274 -2.449294e-16        1.0    -0.781831     0.623490   6.432491e-16   \n",
              "\n",
              "     DayOfYear_cos  \n",
              "0         0.004304  \n",
              "1        -0.012910  \n",
              "2        -0.030120  \n",
              "3        -0.047321  \n",
              "4        -0.064508  \n",
              "..             ...  \n",
              "270       0.997630  \n",
              "271       0.998667  \n",
              "272       0.999407  \n",
              "273       0.999852  \n",
              "274       1.000000  \n",
              "\n",
              "[275 rows x 11 columns]"
            ]
          },
          "execution_count": 9,
          "metadata": {},
          "output_type": "execute_result"
        }
      ],
      "source": [
        "# Apply Cyclical Encoding\n",
        "df['Day_sin'] = np.sin(2 * np.pi * df['Day'] / df['DaysInMonth'])\n",
        "df['Day_cos'] = np.cos(2 * np.pi * df['Day'] / df['DaysInMonth'])\n",
        "\n",
        "df['Month_sin'] = np.sin(2 * np.pi * df['Month'] / 12)\n",
        "df['Month_cos'] = np.cos(2 * np.pi * df['Month'] / 12)\n",
        "\n",
        "df['Weekday_sin'] = np.sin(2 * np.pi * df['Weekday'] / 7)\n",
        "df['Weekday_cos'] = np.cos(2 * np.pi * df['Weekday'] / 7)\n",
        "\n",
        "df['DayOfYear_sin'] = np.sin(2 * np.pi * df['DayOfYear'] / 365)\n",
        "df['DayOfYear_cos'] = np.cos(2 * np.pi * df['DayOfYear'] / 365)\n",
        "\n",
        "# Drop raw columns if necessary\n",
        "df = df.drop(columns=['Weekday', 'Month', 'DayOfYear', 'DaysInMonth','Day','Year'])\n",
        "df"
      ]
    },
    {
      "cell_type": "code",
      "execution_count": 10,
      "metadata": {
        "colab": {
          "base_uri": "https://localhost:8080/",
          "height": 444
        },
        "id": "N_qPaQ5tFY90",
        "outputId": "ad813c25-833c-442b-937a-99482748d848"
      },
      "outputs": [
        {
          "data": {
            "application/vnd.microsoft.datawrangler.viewer.v0+json": {
              "columns": [
                {
                  "name": "index",
                  "rawType": "int64",
                  "type": "integer"
                },
                {
                  "name": "Date",
                  "rawType": "datetime64[ns]",
                  "type": "datetime"
                },
                {
                  "name": "Sales",
                  "rawType": "float64",
                  "type": "float"
                },
                {
                  "name": "IsWeekend",
                  "rawType": "int64",
                  "type": "integer"
                },
                {
                  "name": "Day_sin",
                  "rawType": "float64",
                  "type": "float"
                },
                {
                  "name": "Day_cos",
                  "rawType": "float64",
                  "type": "float"
                },
                {
                  "name": "Month_sin",
                  "rawType": "float64",
                  "type": "float"
                },
                {
                  "name": "Month_cos",
                  "rawType": "float64",
                  "type": "float"
                },
                {
                  "name": "Weekday_sin",
                  "rawType": "float64",
                  "type": "float"
                },
                {
                  "name": "Weekday_cos",
                  "rawType": "float64",
                  "type": "float"
                },
                {
                  "name": "DayOfYear_sin",
                  "rawType": "float64",
                  "type": "float"
                },
                {
                  "name": "DayOfYear_cos",
                  "rawType": "float64",
                  "type": "float"
                },
                {
                  "name": "Sales_MA_7",
                  "rawType": "float64",
                  "type": "float"
                }
              ],
              "conversionMethod": "pd.DataFrame",
              "ref": "7167e1dc-bfeb-439d-951a-3c141837eeda",
              "rows": [
                [
                  "0",
                  "2023-04-07 00:00:00",
                  "409583.985034",
                  "0",
                  "0.9945218953682733",
                  "0.10452846326765346",
                  "0.8660254037844387",
                  "-0.4999999999999998",
                  "-0.433883739117558",
                  "-0.9009688679024191",
                  "0.9951053111006976",
                  "-0.09882013873287143",
                  "470962.2129770001"
                ],
                [
                  "1",
                  "2023-04-08 00:00:00",
                  "542228.194162999",
                  "1",
                  "0.9945218953682734",
                  "-0.10452846326765333",
                  "0.8660254037844387",
                  "-0.4999999999999998",
                  "-0.9749279121818236",
                  "-0.2225209339563146",
                  "0.9932568492674143",
                  "-0.11593459959550041",
                  "478555.3673305716"
                ],
                [
                  "2",
                  "2023-04-09 00:00:00",
                  "478717.394779001",
                  "1",
                  "0.9510565162951536",
                  "-0.30901699437494734",
                  "0.8660254037844387",
                  "-0.4999999999999998",
                  "-0.7818314824680299",
                  "0.6234898018587334",
                  "0.9911140639934547",
                  "-0.1330147065341959",
                  "476785.31735742884"
                ],
                [
                  "3",
                  "2023-04-10 00:00:00",
                  "483230.277815999",
                  "0",
                  "0.8660254037844387",
                  "-0.4999999999999998",
                  "0.8660254037844387",
                  "-0.4999999999999998",
                  "0.0",
                  "1.0",
                  "0.9886775902323405",
                  "-0.1500553983446526",
                  "479630.871374"
                ],
                [
                  "4",
                  "2023-04-11 00:00:00",
                  "485970.141539999",
                  "0",
                  "0.7431448254773945",
                  "-0.6691306063588579",
                  "0.8660254037844387",
                  "-0.4999999999999998",
                  "0.7818314824680298",
                  "0.6234898018587336",
                  "0.9859481499638304",
                  "-0.16705162550211924",
                  "483868.5568511424"
                ],
                [
                  "5",
                  "2023-04-12 00:00:00",
                  "484442.664286001",
                  "0",
                  "0.5877852522924732",
                  "-0.8090169943749473",
                  "0.8660254037844387",
                  "-0.4999999999999998",
                  "0.9749279121818236",
                  "-0.22252093395631434",
                  "0.9829265519799822",
                  "-0.18399835165768005",
                  "482597.6518722857"
                ],
                [
                  "6",
                  "2023-04-13 00:00:00",
                  "481539.484122001",
                  "0",
                  "0.40673664307580004",
                  "-0.913545457642601",
                  "0.8660254037844387",
                  "-0.4999999999999998",
                  "0.43388373911755823",
                  "-0.900968867902419",
                  "0.9796136916454901",
                  "-0.20089055513063506",
                  "480816.0202485714"
                ],
                [
                  "7",
                  "2023-04-14 00:00:00",
                  "475616.294424",
                  "0",
                  "0.20791169081775931",
                  "-0.9781476007338057",
                  "0.8660254037844387",
                  "-0.4999999999999998",
                  "-0.433883739117558",
                  "-0.9009688679024191",
                  "0.9760105506323683",
                  "-0.21772323039653177",
                  "490249.2073042857"
                ],
                [
                  "8",
                  "2023-04-15 00:00:00",
                  "508646.535999998",
                  "1",
                  "5.66553889764798e-16",
                  "-1.0",
                  "0.8660254037844387",
                  "-0.4999999999999998",
                  "-0.9749279121818236",
                  "-0.2225209339563146",
                  "0.9721181966290613",
                  "-0.23449138957040985",
                  "485451.82756671414"
                ],
                [
                  "9",
                  "2023-04-16 00:00:00",
                  "499561.828190001",
                  "1",
                  "-0.20791169081775907",
                  "-0.9781476007338057",
                  "0.8660254037844387",
                  "-0.4999999999999998",
                  "-0.7818314824680299",
                  "0.6234898018587334",
                  "0.9679377830240642",
                  "-0.25119006388481935",
                  "488429.60376828554"
                ],
                [
                  "10",
                  "2023-04-17 00:00:00",
                  "491511.198189999",
                  "0",
                  "-0.4067366430758002",
                  "-0.9135454576426009",
                  "0.8660254037844387",
                  "-0.4999999999999998",
                  "0.0",
                  "1.0",
                  "0.9634705485641488",
                  "-0.2678143051621742",
                  "489612.5923931427"
                ],
                [
                  "11",
                  "2023-04-18 00:00:00",
                  "486965.132491001",
                  "0",
                  "-0.587785252292473",
                  "-0.8090169943749475",
                  "0.8660254037844387",
                  "-0.4999999999999998",
                  "0.7818314824680298",
                  "0.6234898018587336",
                  "0.9587178169872964",
                  "-0.2843591872810034",
                  "489754.7339575715"
                ],
                [
                  "12",
                  "2023-04-19 00:00:00",
                  "477694.400777999",
                  "0",
                  "-0.743144825477394",
                  "-0.6691306063588585",
                  "0.8660254037844387",
                  "-0.4999999999999998",
                  "0.9749279121818236",
                  "-0.22252093395631434",
                  "0.9536809966304457",
                  "-0.30081980763566735",
                  "488790.6963135713"
                ],
                [
                  "13",
                  "2023-04-20 00:00:00",
                  "494866.984368",
                  "0",
                  "-0.8660254037844385",
                  "-0.5000000000000004",
                  "0.8660254037844387",
                  "-0.4999999999999998",
                  "0.43388373911755823",
                  "-0.900968867902419",
                  "0.9483615800121715",
                  "-0.3171912885891061",
                  "490694.6249201425"
                ],
                [
                  "14",
                  "2023-04-21 00:00:00",
                  "429529.440000001",
                  "0",
                  "-0.9510565162951535",
                  "-0.30901699437494756",
                  "0.8660254037844387",
                  "-0.4999999999999998",
                  "-0.433883739117558",
                  "-0.9009688679024191",
                  "0.9427611433904207",
                  "-0.3334687789181868",
                  "484110.788573857"
                ],
                [
                  "15",
                  "2023-04-22 00:00:00",
                  "478486.228973998",
                  "1",
                  "-0.9945218953682733",
                  "-0.10452846326765423",
                  "0.8660254037844387",
                  "-0.4999999999999998",
                  "-0.9749279121818236",
                  "-0.2225209339563146",
                  "0.9368813462954315",
                  "-0.3496474552512284",
                  "479802.17328442837"
                ],
                [
                  "16",
                  "2023-04-23 00:00:00",
                  "499919.804848001",
                  "1",
                  "-0.9945218953682734",
                  "0.10452846326765299",
                  "0.8660254037844387",
                  "-0.4999999999999998",
                  "-0.7818314824680299",
                  "0.6234898018587334",
                  "0.9307239310379795",
                  "-0.36572252349726897",
                  "479853.31280699983"
                ],
                [
                  "17",
                  "2023-04-24 00:00:00",
                  "493929.254863",
                  "0",
                  "-0.9510565162951536",
                  "0.30901699437494723",
                  "0.8660254037844387",
                  "-0.4999999999999998",
                  "0.0",
                  "1.0",
                  "0.9242907221930933",
                  "-0.3816892202666588",
                  "480198.7494745715"
                ],
                [
                  "18",
                  "2023-04-25 00:00:00",
                  "512009.056974",
                  "0",
                  "-0.8660254037844386",
                  "0.5000000000000001",
                  "0.8660254037844387",
                  "-0.4999999999999998",
                  "0.7818314824680298",
                  "0.6234898018587336",
                  "0.9175836260593937",
                  "-0.39754281428255595",
                  "483776.4529721428"
                ],
                [
                  "19",
                  "2023-04-26 00:00:00",
                  "488102.202760999",
                  "0",
                  "-0.743144825477394",
                  "0.6691306063588585",
                  "0.8660254037844387",
                  "-0.4999999999999998",
                  "0.9749279121818236",
                  "-0.22252093395631434",
                  "0.9106046300942162",
                  "-0.4132786077829042",
                  "485263.281826857"
                ],
                [
                  "20",
                  "2023-04-27 00:00:00",
                  "505695.523430001",
                  "0",
                  "-0.5877852522924734",
                  "0.8090169943749473",
                  "0.8660254037844387",
                  "-0.4999999999999998",
                  "0.43388373911755823",
                  "-0.900968867902419",
                  "0.9033558023246845",
                  "-0.4288919379124835",
                  "486810.2159785715"
                ],
                [
                  "21",
                  "2023-04-28 00:00:00",
                  "513905.187381999",
                  "0",
                  "-0.40673664307580015",
                  "0.913545457642601",
                  "0.8660254037844387",
                  "-0.4999999999999998",
                  "-0.433883739117558",
                  "-0.9009688679024191",
                  "0.895839290734909",
                  "-0.4443781781046132",
                  "498863.8941759997"
                ],
                [
                  "22",
                  "2023-04-29 00:00:00",
                  "524235.852062999",
                  "1",
                  "-0.20791169081775898",
                  "0.9781476007338057",
                  "0.8660254037844387",
                  "-0.4999999999999998",
                  "-0.9749279121818236",
                  "-0.2225209339563146",
                  "0.8880573226294932",
                  "-0.45973273945210397",
                  "505399.5546172856"
                ],
                [
                  "23",
                  "2023-04-30 00:00:00",
                  "487767.451411001",
                  "1",
                  "-1.133107779529596e-15",
                  "1.0",
                  "0.8660254037844387",
                  "-0.4999999999999998",
                  "-0.7818314824680299",
                  "0.6234898018587334",
                  "0.8800122039735357",
                  "-0.47495107206704995",
                  "503663.50412628555"
                ],
                [
                  "24",
                  "2023-05-01 00:00:00",
                  "519383.040704",
                  "0",
                  "0.20129852008866006",
                  "0.9795299412524945",
                  "0.49999999999999994",
                  "-0.8660254037844387",
                  "0.0",
                  "1.0",
                  "0.8717063187093218",
                  "-0.4900286664290592",
                  "507299.7592464284"
                ],
                [
                  "25",
                  "2023-05-02 00:00:00",
                  "508708.939889",
                  "0",
                  "0.39435585511331855",
                  "0.9189578116202306",
                  "0.49999999999999994",
                  "-0.8660254037844387",
                  "0.7818314824680298",
                  "0.6234898018587336",
                  "0.8631421280499114",
                  "-0.5049610547215204",
                  "506828.3139485713"
                ],
                [
                  "26",
                  "2023-05-03 00:00:00",
                  "508893.05185",
                  "0",
                  "0.5712682150947923",
                  "0.8207634412072763",
                  "0.49999999999999994",
                  "-0.8660254037844387",
                  "0.9749279121818236",
                  "-0.22252093395631434",
                  "0.854322169749827",
                  "-0.5197438121555155",
                  "509798.43524699996"
                ],
                [
                  "27",
                  "2023-05-04 00:00:00",
                  "503087.392368002",
                  "0",
                  "0.72479278722912",
                  "0.6889669190756866",
                  "0.49999999999999994",
                  "-0.8660254037844387",
                  "0.43388373911755823",
                  "-0.900968867902419",
                  "0.8452490573530633",
                  "-0.5343725582809786",
                  "509425.8450952858"
                ],
                [
                  "28",
                  "2023-05-05 00:00:00",
                  "527874.380919998",
                  "0",
                  "0.8486442574947509",
                  "0.5289640103269624",
                  "0.49999999999999994",
                  "-0.8660254037844387",
                  "-0.433883739117558",
                  "-0.9009688679024191",
                  "0.8359254794186372",
                  "-0.548842958284719",
                  "511421.4441721429"
                ],
                [
                  "29",
                  "2023-05-06 00:00:00",
                  "538248.608925002",
                  "1",
                  "0.9377521321470804",
                  "0.3473052528448203",
                  "0.49999999999999994",
                  "-0.8660254037844387",
                  "-0.9749279121818236",
                  "-0.2225209339563146",
                  "0.8263541987239096",
                  "-0.5631507242749186",
                  "513423.2665810004"
                ],
                [
                  "30",
                  "2023-05-07 00:00:00",
                  "532650.390192",
                  "1",
                  "0.9884683243281114",
                  "0.1514277775045767",
                  "0.49999999999999994",
                  "-0.8660254037844387",
                  "-0.7818314824680299",
                  "0.6234898018587334",
                  "0.8165380514459161",
                  "-0.5772916165517272",
                  "519835.114978286"
                ],
                [
                  "31",
                  "2023-05-08 00:00:00",
                  "531118.178436999",
                  "0",
                  "0.9987165071710528",
                  "-0.05064916883871264",
                  "0.49999999999999994",
                  "-0.8660254037844387",
                  "0.0",
                  "1.0",
                  "0.8064799463209448",
                  "-0.5912614448635781",
                  "521511.56322585733"
                ],
                [
                  "32",
                  "2023-05-09 00:00:00",
                  "514436.391770002",
                  "0",
                  "0.9680771188662043",
                  "-0.2506525322587204",
                  "0.49999999999999994",
                  "-0.8660254037844387",
                  "0.7818314824680298",
                  "0.6234898018587336",
                  "0.7961828637826158",
                  "-0.6050560696488488",
                  "522329.77063742897"
                ],
                [
                  "33",
                  "2023-05-10 00:00:00",
                  "519825.312419999",
                  "0",
                  "0.8978045395707416",
                  "-0.4403941515576344",
                  "0.49999999999999994",
                  "-0.8660254037844387",
                  "0.9749279121818236",
                  "-0.22252093395631434",
                  "0.7856498550787147",
                  "-0.6186714032625031",
                  "523891.5221474288"
                ],
                [
                  "34",
                  "2023-05-11 00:00:00",
                  "518385.0",
                  "0",
                  "0.7907757369376989",
                  "-0.6121059825476626",
                  "0.49999999999999994",
                  "-0.8660254037844387",
                  "0.43388373911755823",
                  "-0.900968867902419",
                  "0.7748840413670407",
                  "-0.6321034111873487",
                  "526076.8946662857"
                ],
                [
                  "35",
                  "2023-05-12 00:00:00",
                  "516201.705690001",
                  "0",
                  "0.6513724827222223",
                  "-0.758758122692791",
                  "0.49999999999999994",
                  "-0.8660254037844387",
                  "-0.433883739117558",
                  "-0.9009688679024191",
                  "0.7638886127905428",
                  "-0.6453481132295501",
                  "524409.369633429"
                ],
                [
                  "36",
                  "2023-05-13 00:00:00",
                  "530423.974389997",
                  "1",
                  "0.48530196253108104",
                  "-0.8743466161445821",
                  "0.49999999999999994",
                  "-0.8660254037844387",
                  "-0.9749279121818236",
                  "-0.2225209339563146",
                  "0.7526668275320085",
                  "-0.6584015846980488",
                  "523291.56469985686"
                ],
                [
                  "37",
                  "2023-05-14 00:00:00",
                  "499739.439879001",
                  "1",
                  "0.29936312297335804",
                  "-0.9541392564000488",
                  "0.49999999999999994",
                  "-0.8660254037844387",
                  "-0.7818314824680299",
                  "0.6234898018587334",
                  "0.7412220108485958",
                  "-0.6712599575675313",
                  "518590.0003694285"
                ],
                [
                  "38",
                  "2023-05-15 00:00:00",
                  "545510.517090001",
                  "0",
                  "0.10116832198743272",
                  "-0.994869323391895",
                  "0.49999999999999994",
                  "-0.8660254037844387",
                  "0.0",
                  "1.0",
                  "0.7295575540864875",
                  "-0.6839194216246106",
                  "520646.04874842864"
                ],
                [
                  "39",
                  "2023-05-16 00:00:00",
                  "531331.463624",
                  "0",
                  "-0.10116832198743204",
                  "-0.9948693233918952",
                  "0.49999999999999994",
                  "-0.8660254037844387",
                  "0.7818314824680298",
                  "0.6234898018587336",
                  "0.717676913675962",
                  "-0.6963762255968722",
                  "523059.630441857"
                ],
                [
                  "40",
                  "2023-05-17 00:00:00",
                  "524374.592021999",
                  "0",
                  "-0.2993631229733582",
                  "-0.9541392564000488",
                  "0.49999999999999994",
                  "-0.8660254037844387",
                  "0.9749279121818236",
                  "-0.22252093395631434",
                  "0.705583610107178",
                  "-0.7086266782644596",
                  "523709.527527857"
                ],
                [
                  "41",
                  "2023-05-18 00:00:00",
                  "534019.694593001",
                  "0",
                  "-0.4853019625310808",
                  "-0.8743466161445822",
                  "0.49999999999999994",
                  "-0.8660254037844387",
                  "0.43388373911755823",
                  "-0.900968867902419",
                  "0.6932812268869777",
                  "-0.7206671495538609",
                  "525943.0553268571"
                ],
                [
                  "42",
                  "2023-05-19 00:00:00",
                  "533700.688882",
                  "0",
                  "-0.651372482722222",
                  "-0.7587581226927911",
                  "0.49999999999999994",
                  "-0.8660254037844387",
                  "-0.433883739117558",
                  "-0.9009688679024191",
                  "0.6807734094770161",
                  "-0.7324940716135789",
                  "528442.9100685713"
                ],
                [
                  "43",
                  "2023-05-20 00:00:00",
                  "546641.743372",
                  "1",
                  "-0.7907757369376986",
                  "-0.6121059825476627",
                  "0.49999999999999994",
                  "-0.8660254037844387",
                  "-0.9749279121818236",
                  "-0.2225209339563146",
                  "0.6680638642135335",
                  "-0.7441039398713607",
                  "530759.7342088574"
                ],
                [
                  "44",
                  "2023-05-21 00:00:00",
                  "499822.067339999",
                  "1",
                  "-0.8978045395707417",
                  "-0.44039415155763423",
                  "0.49999999999999994",
                  "-0.8660254037844387",
                  "-0.7818314824680299",
                  "0.6234898018587334",
                  "0.6551563572090853",
                  "-0.7554933140726803",
                  "530771.5381318572"
                ],
                [
                  "45",
                  "2023-05-22 00:00:00",
                  "539776.427854001",
                  "0",
                  "-0.9680771188662041",
                  "-0.2506525322587213",
                  "0.49999999999999994",
                  "-0.8660254037844387",
                  "0.0",
                  "1.0",
                  "0.6420547132365637",
                  "-0.766658819300159",
                  "529952.3825267142"
                ],
                [
                  "46",
                  "2023-05-23 00:00:00",
                  "519329.401622998",
                  "0",
                  "-0.9987165071710528",
                  "-0.05064916883871355",
                  "0.49999999999999994",
                  "-0.8660254037844387",
                  "0.7818314824680298",
                  "0.6234898018587336",
                  "0.6287628145958344",
                  "-0.7775971469736269",
                  "528237.8022408569"
                ],
                [
                  "47",
                  "2023-05-24 00:00:00",
                  "516676.602042",
                  "0",
                  "-0.9884683243281114",
                  "0.15142777750457667",
                  "0.49999999999999994",
                  "-0.8660254037844387",
                  "0.9749279121818236",
                  "-0.22252093395631434",
                  "0.6152845999633276",
                  "-0.7883050558305255",
                  "527138.0893865713"
                ],
                [
                  "48",
                  "2023-05-25 00:00:00",
                  "520435.407976",
                  "0",
                  "-0.9377521321470804",
                  "0.3473052528448203",
                  "0.49999999999999994",
                  "-0.8660254037844387",
                  "0.43388373911755823",
                  "-0.900968867902419",
                  "0.6016240632249226",
                  "-0.7987793728863649",
                  "525197.477012714"
                ],
                [
                  "49",
                  "2023-05-26 00:00:00",
                  "531837.840933",
                  "0",
                  "-0.8486442574947509",
                  "0.5289640103269624",
                  "0.49999999999999994",
                  "-0.8660254037844387",
                  "-0.433883739117558",
                  "-0.9009688679024191",
                  "0.5877852522924732",
                  "-0.8090169943749473",
                  "524931.3558771425"
                ]
              ],
              "shape": {
                "columns": 12,
                "rows": 269
              }
            },
            "text/html": [
              "<div>\n",
              "<style scoped>\n",
              "    .dataframe tbody tr th:only-of-type {\n",
              "        vertical-align: middle;\n",
              "    }\n",
              "\n",
              "    .dataframe tbody tr th {\n",
              "        vertical-align: top;\n",
              "    }\n",
              "\n",
              "    .dataframe thead th {\n",
              "        text-align: right;\n",
              "    }\n",
              "</style>\n",
              "<table border=\"1\" class=\"dataframe\">\n",
              "  <thead>\n",
              "    <tr style=\"text-align: right;\">\n",
              "      <th></th>\n",
              "      <th>Date</th>\n",
              "      <th>Sales</th>\n",
              "      <th>IsWeekend</th>\n",
              "      <th>Day_sin</th>\n",
              "      <th>Day_cos</th>\n",
              "      <th>Month_sin</th>\n",
              "      <th>Month_cos</th>\n",
              "      <th>Weekday_sin</th>\n",
              "      <th>Weekday_cos</th>\n",
              "      <th>DayOfYear_sin</th>\n",
              "      <th>DayOfYear_cos</th>\n",
              "      <th>Sales_MA_7</th>\n",
              "    </tr>\n",
              "  </thead>\n",
              "  <tbody>\n",
              "    <tr>\n",
              "      <th>0</th>\n",
              "      <td>2023-04-07</td>\n",
              "      <td>409583.985034</td>\n",
              "      <td>0</td>\n",
              "      <td>9.945219e-01</td>\n",
              "      <td>0.104528</td>\n",
              "      <td>8.660254e-01</td>\n",
              "      <td>-0.5</td>\n",
              "      <td>-0.433884</td>\n",
              "      <td>-0.900969</td>\n",
              "      <td>9.951053e-01</td>\n",
              "      <td>-0.098820</td>\n",
              "      <td>470962.212977</td>\n",
              "    </tr>\n",
              "    <tr>\n",
              "      <th>1</th>\n",
              "      <td>2023-04-08</td>\n",
              "      <td>542228.194163</td>\n",
              "      <td>1</td>\n",
              "      <td>9.945219e-01</td>\n",
              "      <td>-0.104528</td>\n",
              "      <td>8.660254e-01</td>\n",
              "      <td>-0.5</td>\n",
              "      <td>-0.974928</td>\n",
              "      <td>-0.222521</td>\n",
              "      <td>9.932568e-01</td>\n",
              "      <td>-0.115935</td>\n",
              "      <td>478555.367331</td>\n",
              "    </tr>\n",
              "    <tr>\n",
              "      <th>2</th>\n",
              "      <td>2023-04-09</td>\n",
              "      <td>478717.394779</td>\n",
              "      <td>1</td>\n",
              "      <td>9.510565e-01</td>\n",
              "      <td>-0.309017</td>\n",
              "      <td>8.660254e-01</td>\n",
              "      <td>-0.5</td>\n",
              "      <td>-0.781831</td>\n",
              "      <td>0.623490</td>\n",
              "      <td>9.911141e-01</td>\n",
              "      <td>-0.133015</td>\n",
              "      <td>476785.317357</td>\n",
              "    </tr>\n",
              "    <tr>\n",
              "      <th>3</th>\n",
              "      <td>2023-04-10</td>\n",
              "      <td>483230.277816</td>\n",
              "      <td>0</td>\n",
              "      <td>8.660254e-01</td>\n",
              "      <td>-0.500000</td>\n",
              "      <td>8.660254e-01</td>\n",
              "      <td>-0.5</td>\n",
              "      <td>0.000000</td>\n",
              "      <td>1.000000</td>\n",
              "      <td>9.886776e-01</td>\n",
              "      <td>-0.150055</td>\n",
              "      <td>479630.871374</td>\n",
              "    </tr>\n",
              "    <tr>\n",
              "      <th>4</th>\n",
              "      <td>2023-04-11</td>\n",
              "      <td>485970.141540</td>\n",
              "      <td>0</td>\n",
              "      <td>7.431448e-01</td>\n",
              "      <td>-0.669131</td>\n",
              "      <td>8.660254e-01</td>\n",
              "      <td>-0.5</td>\n",
              "      <td>0.781831</td>\n",
              "      <td>0.623490</td>\n",
              "      <td>9.859481e-01</td>\n",
              "      <td>-0.167052</td>\n",
              "      <td>483868.556851</td>\n",
              "    </tr>\n",
              "    <tr>\n",
              "      <th>...</th>\n",
              "      <td>...</td>\n",
              "      <td>...</td>\n",
              "      <td>...</td>\n",
              "      <td>...</td>\n",
              "      <td>...</td>\n",
              "      <td>...</td>\n",
              "      <td>...</td>\n",
              "      <td>...</td>\n",
              "      <td>...</td>\n",
              "      <td>...</td>\n",
              "      <td>...</td>\n",
              "      <td>...</td>\n",
              "    </tr>\n",
              "    <tr>\n",
              "      <th>264</th>\n",
              "      <td>2023-12-27</td>\n",
              "      <td>571390.999704</td>\n",
              "      <td>0</td>\n",
              "      <td>-7.247928e-01</td>\n",
              "      <td>0.688967</td>\n",
              "      <td>-2.449294e-16</td>\n",
              "      <td>1.0</td>\n",
              "      <td>0.974928</td>\n",
              "      <td>-0.222521</td>\n",
              "      <td>-6.880243e-02</td>\n",
              "      <td>0.997630</td>\n",
              "      <td>579815.388893</td>\n",
              "    </tr>\n",
              "    <tr>\n",
              "      <th>265</th>\n",
              "      <td>2023-12-28</td>\n",
              "      <td>576890.976666</td>\n",
              "      <td>0</td>\n",
              "      <td>-5.712682e-01</td>\n",
              "      <td>0.820763</td>\n",
              "      <td>-2.449294e-16</td>\n",
              "      <td>1.0</td>\n",
              "      <td>0.433884</td>\n",
              "      <td>-0.900969</td>\n",
              "      <td>-5.161967e-02</td>\n",
              "      <td>0.998667</td>\n",
              "      <td>578344.850415</td>\n",
              "    </tr>\n",
              "    <tr>\n",
              "      <th>266</th>\n",
              "      <td>2023-12-29</td>\n",
              "      <td>572104.814138</td>\n",
              "      <td>0</td>\n",
              "      <td>-3.943559e-01</td>\n",
              "      <td>0.918958</td>\n",
              "      <td>-2.449294e-16</td>\n",
              "      <td>1.0</td>\n",
              "      <td>-0.433884</td>\n",
              "      <td>-0.900969</td>\n",
              "      <td>-3.442161e-02</td>\n",
              "      <td>0.999407</td>\n",
              "      <td>576290.337907</td>\n",
              "    </tr>\n",
              "    <tr>\n",
              "      <th>267</th>\n",
              "      <td>2023-12-30</td>\n",
              "      <td>585843.459244</td>\n",
              "      <td>1</td>\n",
              "      <td>-2.012985e-01</td>\n",
              "      <td>0.979530</td>\n",
              "      <td>-2.449294e-16</td>\n",
              "      <td>1.0</td>\n",
              "      <td>-0.974928</td>\n",
              "      <td>-0.222521</td>\n",
              "      <td>-1.721336e-02</td>\n",
              "      <td>0.999852</td>\n",
              "      <td>579179.430016</td>\n",
              "    </tr>\n",
              "    <tr>\n",
              "      <th>268</th>\n",
              "      <td>2023-12-31</td>\n",
              "      <td>537720.849840</td>\n",
              "      <td>1</td>\n",
              "      <td>-2.449294e-16</td>\n",
              "      <td>1.000000</td>\n",
              "      <td>-2.449294e-16</td>\n",
              "      <td>1.0</td>\n",
              "      <td>-0.781831</td>\n",
              "      <td>0.623490</td>\n",
              "      <td>6.432491e-16</td>\n",
              "      <td>1.000000</td>\n",
              "      <td>576565.906029</td>\n",
              "    </tr>\n",
              "  </tbody>\n",
              "</table>\n",
              "<p>269 rows × 12 columns</p>\n",
              "</div>"
            ],
            "text/plain": [
              "          Date          Sales  IsWeekend       Day_sin   Day_cos  \\\n",
              "0   2023-04-07  409583.985034          0  9.945219e-01  0.104528   \n",
              "1   2023-04-08  542228.194163          1  9.945219e-01 -0.104528   \n",
              "2   2023-04-09  478717.394779          1  9.510565e-01 -0.309017   \n",
              "3   2023-04-10  483230.277816          0  8.660254e-01 -0.500000   \n",
              "4   2023-04-11  485970.141540          0  7.431448e-01 -0.669131   \n",
              "..         ...            ...        ...           ...       ...   \n",
              "264 2023-12-27  571390.999704          0 -7.247928e-01  0.688967   \n",
              "265 2023-12-28  576890.976666          0 -5.712682e-01  0.820763   \n",
              "266 2023-12-29  572104.814138          0 -3.943559e-01  0.918958   \n",
              "267 2023-12-30  585843.459244          1 -2.012985e-01  0.979530   \n",
              "268 2023-12-31  537720.849840          1 -2.449294e-16  1.000000   \n",
              "\n",
              "        Month_sin  Month_cos  Weekday_sin  Weekday_cos  DayOfYear_sin  \\\n",
              "0    8.660254e-01       -0.5    -0.433884    -0.900969   9.951053e-01   \n",
              "1    8.660254e-01       -0.5    -0.974928    -0.222521   9.932568e-01   \n",
              "2    8.660254e-01       -0.5    -0.781831     0.623490   9.911141e-01   \n",
              "3    8.660254e-01       -0.5     0.000000     1.000000   9.886776e-01   \n",
              "4    8.660254e-01       -0.5     0.781831     0.623490   9.859481e-01   \n",
              "..            ...        ...          ...          ...            ...   \n",
              "264 -2.449294e-16        1.0     0.974928    -0.222521  -6.880243e-02   \n",
              "265 -2.449294e-16        1.0     0.433884    -0.900969  -5.161967e-02   \n",
              "266 -2.449294e-16        1.0    -0.433884    -0.900969  -3.442161e-02   \n",
              "267 -2.449294e-16        1.0    -0.974928    -0.222521  -1.721336e-02   \n",
              "268 -2.449294e-16        1.0    -0.781831     0.623490   6.432491e-16   \n",
              "\n",
              "     DayOfYear_cos     Sales_MA_7  \n",
              "0        -0.098820  470962.212977  \n",
              "1        -0.115935  478555.367331  \n",
              "2        -0.133015  476785.317357  \n",
              "3        -0.150055  479630.871374  \n",
              "4        -0.167052  483868.556851  \n",
              "..             ...            ...  \n",
              "264       0.997630  579815.388893  \n",
              "265       0.998667  578344.850415  \n",
              "266       0.999407  576290.337907  \n",
              "267       0.999852  579179.430016  \n",
              "268       1.000000  576565.906029  \n",
              "\n",
              "[269 rows x 12 columns]"
            ]
          },
          "execution_count": 10,
          "metadata": {},
          "output_type": "execute_result"
        }
      ],
      "source": [
        "df['Sales_MA_7'] = df['Sales'].rolling(window=7).mean()  # 7-day moving avg\n",
        "df = df.dropna().reset_index(drop=True)\n",
        "df"
      ]
    },
    {
      "cell_type": "markdown",
      "metadata": {
        "id": "-ASbytqFyNnk"
      },
      "source": [
        "# Training the model.\n"
      ]
    },
    {
      "cell_type": "code",
      "execution_count": 19,
      "metadata": {
        "id": "BtDgZWD9yUoG"
      },
      "outputs": [],
      "source": [
        "features = ['IsWeekend', 'Day_sin', 'Day_cos', 'Month_sin',\n",
        "       'Month_cos', 'Weekday_sin', 'Weekday_cos', 'DayOfYear_sin',\n",
        "       'DayOfYear_cos','Sales_MA_7']\n",
        "target = 'Sales'\n",
        "\n",
        "# train_size = int(0.8 * len(df))  # 80% for training\n",
        "# train_df, val_df = df[:train_size], df[train_size:]\n",
        "\n",
        "# X_train, y_train = train_df[features].values, train_df[target].values\n",
        "# X_val, y_val = val_df[features].values, val_df[target].values\n",
        "\n",
        "\n",
        "train_size = int(0.7 * len(df))  # 70% for training\n",
        "val_size = int(0.85 * len(df)) # 15% for validation\n",
        "train_df, val_df, test_df = df[:train_size], df[train_size:val_size], df[val_size:]\n",
        "\n",
        "X_train, y_train = train_df[features].values, train_df[target].values\n",
        "X_val, y_val = val_df[features].values, val_df[target].values\n"
      ]
    },
    {
      "cell_type": "code",
      "execution_count": 20,
      "metadata": {
        "colab": {
          "base_uri": "https://localhost:8080/"
        },
        "id": "Z6ghKo_fFY90",
        "outputId": "dcb041d3-9825-4a1c-949c-4846aa8ad235"
      },
      "outputs": [
        {
          "name": "stdout",
          "output_type": "stream",
          "text": [
            "Epoch 1/2000\n"
          ]
        },
        {
          "name": "stderr",
          "output_type": "stream",
          "text": [
            "c:\\Users\\milan\\Desktop\\CDIS Project\\.venv\\Lib\\site-packages\\keras\\src\\layers\\core\\dense.py:87: UserWarning: Do not pass an `input_shape`/`input_dim` argument to a layer. When using Sequential models, prefer using an `Input(shape)` object as the first layer in the model instead.\n",
            "  super().__init__(activity_regularizer=activity_regularizer, **kwargs)\n"
          ]
        },
        {
          "name": "stdout",
          "output_type": "stream",
          "text": [
            "\u001b[1m47/47\u001b[0m \u001b[32m━━━━━━━━━━━━━━━━━━━━\u001b[0m\u001b[37m\u001b[0m \u001b[1m1s\u001b[0m 8ms/step - loss: 288019316736.0000 - mape: 96.8591 - val_loss: 47412400128.0000 - val_mape: 38.5521\n",
            "Epoch 2/2000\n",
            "\u001b[1m47/47\u001b[0m \u001b[32m━━━━━━━━━━━━━━━━━━━━\u001b[0m\u001b[37m\u001b[0m \u001b[1m0s\u001b[0m 2ms/step - loss: 21123667968.0000 - mape: 24.1995 - val_loss: 2188284160.0000 - val_mape: 6.3358\n",
            "Epoch 3/2000\n",
            "\u001b[1m47/47\u001b[0m \u001b[32m━━━━━━━━━━━━━━━━━━━━\u001b[0m\u001b[37m\u001b[0m \u001b[1m0s\u001b[0m 3ms/step - loss: 1066885376.0000 - mape: 7.7242 - val_loss: 1608625536.0000 - val_mape: 5.8385\n",
            "Epoch 4/2000\n",
            "\u001b[1m47/47\u001b[0m \u001b[32m━━━━━━━━━━━━━━━━━━━━\u001b[0m\u001b[37m\u001b[0m \u001b[1m0s\u001b[0m 3ms/step - loss: 882641024.0000 - mape: 6.9547 - val_loss: 1616204288.0000 - val_mape: 5.8183\n",
            "Epoch 5/2000\n",
            "\u001b[1m47/47\u001b[0m \u001b[32m━━━━━━━━━━━━━━━━━━━━\u001b[0m\u001b[37m\u001b[0m \u001b[1m0s\u001b[0m 3ms/step - loss: 790194112.0000 - mape: 6.2213 - val_loss: 1658636672.0000 - val_mape: 5.7544\n",
            "Epoch 6/2000\n",
            "\u001b[1m47/47\u001b[0m \u001b[32m━━━━━━━━━━━━━━━━━━━━\u001b[0m\u001b[37m\u001b[0m \u001b[1m0s\u001b[0m 3ms/step - loss: 810824320.0000 - mape: 7.1791 - val_loss: 1637439744.0000 - val_mape: 5.7761\n",
            "Epoch 7/2000\n",
            "\u001b[1m47/47\u001b[0m \u001b[32m━━━━━━━━━━━━━━━━━━━━\u001b[0m\u001b[37m\u001b[0m \u001b[1m0s\u001b[0m 3ms/step - loss: 834591808.0000 - mape: 7.8517 - val_loss: 1648663296.0000 - val_mape: 5.7634\n",
            "Epoch 8/2000\n",
            "\u001b[1m47/47\u001b[0m \u001b[32m━━━━━━━━━━━━━━━━━━━━\u001b[0m\u001b[37m\u001b[0m \u001b[1m0s\u001b[0m 3ms/step - loss: 842349376.0000 - mape: 7.2190 - val_loss: 1590787072.0000 - val_mape: 5.9141\n",
            "Epoch 9/2000\n",
            "\u001b[1m47/47\u001b[0m \u001b[32m━━━━━━━━━━━━━━━━━━━━\u001b[0m\u001b[37m\u001b[0m \u001b[1m0s\u001b[0m 3ms/step - loss: 932277824.0000 - mape: 7.6443 - val_loss: 1617084672.0000 - val_mape: 5.8162\n",
            "Epoch 10/2000\n",
            "\u001b[1m47/47\u001b[0m \u001b[32m━━━━━━━━━━━━━━━━━━━━\u001b[0m\u001b[37m\u001b[0m \u001b[1m0s\u001b[0m 5ms/step - loss: 982857728.0000 - mape: 7.5505 - val_loss: 1649466752.0000 - val_mape: 5.7626\n",
            "Epoch 11/2000\n",
            "\u001b[1m47/47\u001b[0m \u001b[32m━━━━━━━━━━━━━━━━━━━━\u001b[0m\u001b[37m\u001b[0m \u001b[1m0s\u001b[0m 3ms/step - loss: 791465280.0000 - mape: 6.8240 - val_loss: 1717620992.0000 - val_mape: 5.7544\n",
            "Epoch 12/2000\n",
            "\u001b[1m47/47\u001b[0m \u001b[32m━━━━━━━━━━━━━━━━━━━━\u001b[0m\u001b[37m\u001b[0m \u001b[1m0s\u001b[0m 3ms/step - loss: 759118080.0000 - mape: 7.1096 - val_loss: 1688098432.0000 - val_mape: 5.7476\n",
            "Epoch 13/2000\n",
            "\u001b[1m47/47\u001b[0m \u001b[32m━━━━━━━━━━━━━━━━━━━━\u001b[0m\u001b[37m\u001b[0m \u001b[1m0s\u001b[0m 2ms/step - loss: 735007680.0000 - mape: 6.9554 - val_loss: 1577806336.0000 - val_mape: 6.0527\n",
            "Epoch 14/2000\n",
            "\u001b[1m47/47\u001b[0m \u001b[32m━━━━━━━━━━━━━━━━━━━━\u001b[0m\u001b[37m\u001b[0m \u001b[1m0s\u001b[0m 3ms/step - loss: 992731648.0000 - mape: 7.1903 - val_loss: 1706885120.0000 - val_mape: 5.7507\n",
            "Epoch 15/2000\n",
            "\u001b[1m47/47\u001b[0m \u001b[32m━━━━━━━━━━━━━━━━━━━━\u001b[0m\u001b[37m\u001b[0m \u001b[1m0s\u001b[0m 3ms/step - loss: 1208132736.0000 - mape: 8.2155 - val_loss: 1687771392.0000 - val_mape: 5.7475\n",
            "Epoch 16/2000\n",
            "\u001b[1m47/47\u001b[0m \u001b[32m━━━━━━━━━━━━━━━━━━━━\u001b[0m\u001b[37m\u001b[0m \u001b[1m0s\u001b[0m 3ms/step - loss: 994423168.0000 - mape: 6.8936 - val_loss: 1643816192.0000 - val_mape: 5.7683\n",
            "Epoch 17/2000\n",
            "\u001b[1m47/47\u001b[0m \u001b[32m━━━━━━━━━━━━━━━━━━━━\u001b[0m\u001b[37m\u001b[0m \u001b[1m0s\u001b[0m 3ms/step - loss: 1103147776.0000 - mape: 7.3181 - val_loss: 1769290368.0000 - val_mape: 5.7847\n",
            "Epoch 18/2000\n",
            "\u001b[1m47/47\u001b[0m \u001b[32m━━━━━━━━━━━━━━━━━━━━\u001b[0m\u001b[37m\u001b[0m \u001b[1m0s\u001b[0m 3ms/step - loss: 1202210304.0000 - mape: 7.0669 - val_loss: 1632593408.0000 - val_mape: 5.7841\n",
            "Epoch 19/2000\n",
            "\u001b[1m47/47\u001b[0m \u001b[32m━━━━━━━━━━━━━━━━━━━━\u001b[0m\u001b[37m\u001b[0m \u001b[1m0s\u001b[0m 3ms/step - loss: 861387584.0000 - mape: 6.9626 - val_loss: 1612448000.0000 - val_mape: 5.8277\n",
            "Epoch 20/2000\n",
            "\u001b[1m47/47\u001b[0m \u001b[32m━━━━━━━━━━━━━━━━━━━━\u001b[0m\u001b[37m\u001b[0m \u001b[1m0s\u001b[0m 3ms/step - loss: 961908416.0000 - mape: 7.5957 - val_loss: 1634770944.0000 - val_mape: 5.7802\n",
            "Epoch 21/2000\n",
            "\u001b[1m47/47\u001b[0m \u001b[32m━━━━━━━━━━━━━━━━━━━━\u001b[0m\u001b[37m\u001b[0m \u001b[1m0s\u001b[0m 3ms/step - loss: 814657024.0000 - mape: 7.2852 - val_loss: 1580584576.0000 - val_mape: 6.1379\n",
            "Epoch 22/2000\n",
            "\u001b[1m47/47\u001b[0m \u001b[32m━━━━━━━━━━━━━━━━━━━━\u001b[0m\u001b[37m\u001b[0m \u001b[1m0s\u001b[0m 5ms/step - loss: 809403200.0000 - mape: 7.5381 - val_loss: 1584793728.0000 - val_mape: 5.9514\n",
            "Epoch 23/2000\n",
            "\u001b[1m47/47\u001b[0m \u001b[32m━━━━━━━━━━━━━━━━━━━━\u001b[0m\u001b[37m\u001b[0m \u001b[1m0s\u001b[0m 3ms/step - loss: 1062122880.0000 - mape: 7.2091 - val_loss: 1584517888.0000 - val_mape: 5.9534\n",
            "Epoch 24/2000\n",
            "\u001b[1m47/47\u001b[0m \u001b[32m━━━━━━━━━━━━━━━━━━━━\u001b[0m\u001b[37m\u001b[0m \u001b[1m0s\u001b[0m 3ms/step - loss: 691773120.0000 - mape: 6.5649 - val_loss: 1777787264.0000 - val_mape: 5.7919\n",
            "Epoch 25/2000\n",
            "\u001b[1m47/47\u001b[0m \u001b[32m━━━━━━━━━━━━━━━━━━━━\u001b[0m\u001b[37m\u001b[0m \u001b[1m0s\u001b[0m 2ms/step - loss: 848302464.0000 - mape: 6.5842 - val_loss: 1637170304.0000 - val_mape: 5.7765\n",
            "Epoch 26/2000\n",
            "\u001b[1m47/47\u001b[0m \u001b[32m━━━━━━━━━━━━━━━━━━━━\u001b[0m\u001b[37m\u001b[0m \u001b[1m0s\u001b[0m 3ms/step - loss: 666702336.0000 - mape: 6.7713 - val_loss: 1654587648.0000 - val_mape: 5.7577\n",
            "Epoch 27/2000\n",
            "\u001b[1m47/47\u001b[0m \u001b[32m━━━━━━━━━━━━━━━━━━━━\u001b[0m\u001b[37m\u001b[0m \u001b[1m0s\u001b[0m 2ms/step - loss: 975926912.0000 - mape: 7.4142 - val_loss: 1611114496.0000 - val_mape: 5.8314\n",
            "Epoch 28/2000\n",
            "\u001b[1m47/47\u001b[0m \u001b[32m━━━━━━━━━━━━━━━━━━━━\u001b[0m\u001b[37m\u001b[0m \u001b[1m0s\u001b[0m 3ms/step - loss: 684020480.0000 - mape: 6.8710 - val_loss: 1581698304.0000 - val_mape: 6.1518\n",
            "Epoch 29/2000\n",
            "\u001b[1m47/47\u001b[0m \u001b[32m━━━━━━━━━━━━━━━━━━━━\u001b[0m\u001b[37m\u001b[0m \u001b[1m0s\u001b[0m 2ms/step - loss: 748602048.0000 - mape: 6.9701 - val_loss: 1909575936.0000 - val_mape: 5.9229\n",
            "Epoch 30/2000\n",
            "\u001b[1m47/47\u001b[0m \u001b[32m━━━━━━━━━━━━━━━━━━━━\u001b[0m\u001b[37m\u001b[0m \u001b[1m0s\u001b[0m 3ms/step - loss: 1064614336.0000 - mape: 7.8700 - val_loss: 1578207232.0000 - val_mape: 6.0914\n"
          ]
        }
      ],
      "source": [
        "import tensorflow as tf\n",
        "from tensorflow.keras.models import Sequential\n",
        "from tensorflow.keras.layers import Dense\n",
        "from sklearn.preprocessing import StandardScaler\n",
        "from tensorflow.keras.losses import Huber\n",
        "from tensorflow.keras.callbacks import EarlyStopping\n",
        "\n",
        "def mape(y_true, y_pred):\n",
        "    y_true = tf.cast(y_true, tf.float32)\n",
        "    y_pred = tf.cast(y_pred, tf.float32)\n",
        "\n",
        "    # Avoid division by zero by adding a small epsilon where y_true is zero\n",
        "    epsilon = tf.keras.backend.epsilon()\n",
        "    y_true = tf.where(tf.equal(y_true, 0), epsilon, y_true)\n",
        "\n",
        "    return tf.reduce_mean(tf.abs((y_true - y_pred) / y_true)) * 100\n",
        "\n",
        "early_stopping = EarlyStopping(\n",
        "    monitor='val_mape',\n",
        "    mode = 'min',\n",
        "    patience=15,\n",
        "    restore_best_weights=True )\n",
        "\n",
        "# Define FFNN model\n",
        "model = Sequential([\n",
        "    Dense(64, activation='relu', input_shape=(X_train.shape[1],)),\n",
        "    Dense(32, activation='relu'),\n",
        "    Dense(1)\n",
        "])\n",
        "\n",
        "# Compile and train\n",
        "model.compile(optimizer='adam', loss='mse' , metrics=[mape])\n",
        "history = model.fit(X_train, y_train, epochs=2000, batch_size=4, validation_data=(X_val, y_val),callbacks=[early_stopping])\n",
        "\n"
      ]
    },
    {
      "cell_type": "code",
      "execution_count": 22,
      "metadata": {},
      "outputs": [
        {
          "name": "stderr",
          "output_type": "stream",
          "text": [
            "c:\\Users\\milan\\Desktop\\CDIS Project\\.venv\\Lib\\site-packages\\plotly\\graph_objs\\_deprecations.py:378: DeprecationWarning:\n",
            "\n",
            "plotly.graph_objs.Line is deprecated.\n",
            "Please replace it with one of the following more specific types\n",
            "  - plotly.graph_objs.scatter.Line\n",
            "  - plotly.graph_objs.layout.shape.Line\n",
            "  - etc.\n",
            "\n",
            "\n"
          ]
        },
        {
          "data": {
            "application/vnd.plotly.v1+json": {
              "config": {
                "plotlyServerURL": "https://plot.ly"
              },
              "data": [
                {
                  "mode": "lines+markers",
                  "name": "Training Loss",
                  "type": "scatter",
                  "x": {
                    "bdata": "AQIDBAUGBwgJCgsMDQ4PEBESExQVFhcYGRobHB0e",
                    "dtype": "i1"
                  },
                  "y": {
                    "bdata": "AAAAoEVHRkIAAADgChMCQgAAAGAI8MxBAAAAYKSCyUEAAAAgI7nJQQAAAOB4gclBAAAA4EfLyUEAAADA8XjJQQAAACAVoclBAAAAQHrdykEAAACgO+TJQQAAAACJ58pBAAAAQAIJykEAAABghMjJQQAAAMARS8pBAAAAAFBtykEAAAAgFcbJQQAAAGBcXcpBAAAAoKd4ykEAAACgA1DKQQAAAGAiJcpBAAAA4IBkykEAAAAAoBHKQQAAAMB5yspBAAAAID7AykEAAAAgKJfKQQAAAGCXqclBAAAAwMVjykEAAADgEbnLQQAAAOB388pB",
                    "dtype": "f8"
                  }
                },
                {
                  "mode": "lines+markers",
                  "name": "Validation Loss",
                  "type": "scatter",
                  "x": {
                    "bdata": "AQIDBAUGBwgJCgsMDQ4PEBESExQVFhcYGRobHB0e",
                    "dtype": "i1"
                  },
                  "y": {
                    "bdata": "AAAAoP8TJkIAAAAg0k3gQQAAAGBr+NdBAAAAgFQV2EEAAABgMrfYQQAAAEBWZthBAAAAwCaR2EEAAAAAX7TXQQAAAECwGNhBAAAAYDeU2EEAAABANJjZQQAAAKCVJ9lBAAAAgNqC10EAAAAAQG/ZQQAAAEBWJtlBAAAAQKl+2EEAAACgTl3aQQAAAIDZU9hBAAAAQAAH2EEAAAAAKFzYQQAAAKBzjddBAAAAIIKd10EAAADAdJzXQQAAAGC4fdpBAAAAIE9l2EEAAABAwKfYQQAAAADqAdhBAAAAQLOR10EAAABAdHTcQQAAAABihNdB",
                    "dtype": "f8"
                  }
                }
              ],
              "layout": {
                "template": {
                  "data": {
                    "bar": [
                      {
                        "error_x": {
                          "color": "#2a3f5f"
                        },
                        "error_y": {
                          "color": "#2a3f5f"
                        },
                        "marker": {
                          "line": {
                            "color": "#E5ECF6",
                            "width": 0.5
                          },
                          "pattern": {
                            "fillmode": "overlay",
                            "size": 10,
                            "solidity": 0.2
                          }
                        },
                        "type": "bar"
                      }
                    ],
                    "barpolar": [
                      {
                        "marker": {
                          "line": {
                            "color": "#E5ECF6",
                            "width": 0.5
                          },
                          "pattern": {
                            "fillmode": "overlay",
                            "size": 10,
                            "solidity": 0.2
                          }
                        },
                        "type": "barpolar"
                      }
                    ],
                    "carpet": [
                      {
                        "aaxis": {
                          "endlinecolor": "#2a3f5f",
                          "gridcolor": "white",
                          "linecolor": "white",
                          "minorgridcolor": "white",
                          "startlinecolor": "#2a3f5f"
                        },
                        "baxis": {
                          "endlinecolor": "#2a3f5f",
                          "gridcolor": "white",
                          "linecolor": "white",
                          "minorgridcolor": "white",
                          "startlinecolor": "#2a3f5f"
                        },
                        "type": "carpet"
                      }
                    ],
                    "choropleth": [
                      {
                        "colorbar": {
                          "outlinewidth": 0,
                          "ticks": ""
                        },
                        "type": "choropleth"
                      }
                    ],
                    "contour": [
                      {
                        "colorbar": {
                          "outlinewidth": 0,
                          "ticks": ""
                        },
                        "colorscale": [
                          [
                            0,
                            "#0d0887"
                          ],
                          [
                            0.1111111111111111,
                            "#46039f"
                          ],
                          [
                            0.2222222222222222,
                            "#7201a8"
                          ],
                          [
                            0.3333333333333333,
                            "#9c179e"
                          ],
                          [
                            0.4444444444444444,
                            "#bd3786"
                          ],
                          [
                            0.5555555555555556,
                            "#d8576b"
                          ],
                          [
                            0.6666666666666666,
                            "#ed7953"
                          ],
                          [
                            0.7777777777777778,
                            "#fb9f3a"
                          ],
                          [
                            0.8888888888888888,
                            "#fdca26"
                          ],
                          [
                            1,
                            "#f0f921"
                          ]
                        ],
                        "type": "contour"
                      }
                    ],
                    "contourcarpet": [
                      {
                        "colorbar": {
                          "outlinewidth": 0,
                          "ticks": ""
                        },
                        "type": "contourcarpet"
                      }
                    ],
                    "heatmap": [
                      {
                        "colorbar": {
                          "outlinewidth": 0,
                          "ticks": ""
                        },
                        "colorscale": [
                          [
                            0,
                            "#0d0887"
                          ],
                          [
                            0.1111111111111111,
                            "#46039f"
                          ],
                          [
                            0.2222222222222222,
                            "#7201a8"
                          ],
                          [
                            0.3333333333333333,
                            "#9c179e"
                          ],
                          [
                            0.4444444444444444,
                            "#bd3786"
                          ],
                          [
                            0.5555555555555556,
                            "#d8576b"
                          ],
                          [
                            0.6666666666666666,
                            "#ed7953"
                          ],
                          [
                            0.7777777777777778,
                            "#fb9f3a"
                          ],
                          [
                            0.8888888888888888,
                            "#fdca26"
                          ],
                          [
                            1,
                            "#f0f921"
                          ]
                        ],
                        "type": "heatmap"
                      }
                    ],
                    "histogram": [
                      {
                        "marker": {
                          "pattern": {
                            "fillmode": "overlay",
                            "size": 10,
                            "solidity": 0.2
                          }
                        },
                        "type": "histogram"
                      }
                    ],
                    "histogram2d": [
                      {
                        "colorbar": {
                          "outlinewidth": 0,
                          "ticks": ""
                        },
                        "colorscale": [
                          [
                            0,
                            "#0d0887"
                          ],
                          [
                            0.1111111111111111,
                            "#46039f"
                          ],
                          [
                            0.2222222222222222,
                            "#7201a8"
                          ],
                          [
                            0.3333333333333333,
                            "#9c179e"
                          ],
                          [
                            0.4444444444444444,
                            "#bd3786"
                          ],
                          [
                            0.5555555555555556,
                            "#d8576b"
                          ],
                          [
                            0.6666666666666666,
                            "#ed7953"
                          ],
                          [
                            0.7777777777777778,
                            "#fb9f3a"
                          ],
                          [
                            0.8888888888888888,
                            "#fdca26"
                          ],
                          [
                            1,
                            "#f0f921"
                          ]
                        ],
                        "type": "histogram2d"
                      }
                    ],
                    "histogram2dcontour": [
                      {
                        "colorbar": {
                          "outlinewidth": 0,
                          "ticks": ""
                        },
                        "colorscale": [
                          [
                            0,
                            "#0d0887"
                          ],
                          [
                            0.1111111111111111,
                            "#46039f"
                          ],
                          [
                            0.2222222222222222,
                            "#7201a8"
                          ],
                          [
                            0.3333333333333333,
                            "#9c179e"
                          ],
                          [
                            0.4444444444444444,
                            "#bd3786"
                          ],
                          [
                            0.5555555555555556,
                            "#d8576b"
                          ],
                          [
                            0.6666666666666666,
                            "#ed7953"
                          ],
                          [
                            0.7777777777777778,
                            "#fb9f3a"
                          ],
                          [
                            0.8888888888888888,
                            "#fdca26"
                          ],
                          [
                            1,
                            "#f0f921"
                          ]
                        ],
                        "type": "histogram2dcontour"
                      }
                    ],
                    "mesh3d": [
                      {
                        "colorbar": {
                          "outlinewidth": 0,
                          "ticks": ""
                        },
                        "type": "mesh3d"
                      }
                    ],
                    "parcoords": [
                      {
                        "line": {
                          "colorbar": {
                            "outlinewidth": 0,
                            "ticks": ""
                          }
                        },
                        "type": "parcoords"
                      }
                    ],
                    "pie": [
                      {
                        "automargin": true,
                        "type": "pie"
                      }
                    ],
                    "scatter": [
                      {
                        "fillpattern": {
                          "fillmode": "overlay",
                          "size": 10,
                          "solidity": 0.2
                        },
                        "type": "scatter"
                      }
                    ],
                    "scatter3d": [
                      {
                        "line": {
                          "colorbar": {
                            "outlinewidth": 0,
                            "ticks": ""
                          }
                        },
                        "marker": {
                          "colorbar": {
                            "outlinewidth": 0,
                            "ticks": ""
                          }
                        },
                        "type": "scatter3d"
                      }
                    ],
                    "scattercarpet": [
                      {
                        "marker": {
                          "colorbar": {
                            "outlinewidth": 0,
                            "ticks": ""
                          }
                        },
                        "type": "scattercarpet"
                      }
                    ],
                    "scattergeo": [
                      {
                        "marker": {
                          "colorbar": {
                            "outlinewidth": 0,
                            "ticks": ""
                          }
                        },
                        "type": "scattergeo"
                      }
                    ],
                    "scattergl": [
                      {
                        "marker": {
                          "colorbar": {
                            "outlinewidth": 0,
                            "ticks": ""
                          }
                        },
                        "type": "scattergl"
                      }
                    ],
                    "scattermap": [
                      {
                        "marker": {
                          "colorbar": {
                            "outlinewidth": 0,
                            "ticks": ""
                          }
                        },
                        "type": "scattermap"
                      }
                    ],
                    "scattermapbox": [
                      {
                        "marker": {
                          "colorbar": {
                            "outlinewidth": 0,
                            "ticks": ""
                          }
                        },
                        "type": "scattermapbox"
                      }
                    ],
                    "scatterpolar": [
                      {
                        "marker": {
                          "colorbar": {
                            "outlinewidth": 0,
                            "ticks": ""
                          }
                        },
                        "type": "scatterpolar"
                      }
                    ],
                    "scatterpolargl": [
                      {
                        "marker": {
                          "colorbar": {
                            "outlinewidth": 0,
                            "ticks": ""
                          }
                        },
                        "type": "scatterpolargl"
                      }
                    ],
                    "scatterternary": [
                      {
                        "marker": {
                          "colorbar": {
                            "outlinewidth": 0,
                            "ticks": ""
                          }
                        },
                        "type": "scatterternary"
                      }
                    ],
                    "surface": [
                      {
                        "colorbar": {
                          "outlinewidth": 0,
                          "ticks": ""
                        },
                        "colorscale": [
                          [
                            0,
                            "#0d0887"
                          ],
                          [
                            0.1111111111111111,
                            "#46039f"
                          ],
                          [
                            0.2222222222222222,
                            "#7201a8"
                          ],
                          [
                            0.3333333333333333,
                            "#9c179e"
                          ],
                          [
                            0.4444444444444444,
                            "#bd3786"
                          ],
                          [
                            0.5555555555555556,
                            "#d8576b"
                          ],
                          [
                            0.6666666666666666,
                            "#ed7953"
                          ],
                          [
                            0.7777777777777778,
                            "#fb9f3a"
                          ],
                          [
                            0.8888888888888888,
                            "#fdca26"
                          ],
                          [
                            1,
                            "#f0f921"
                          ]
                        ],
                        "type": "surface"
                      }
                    ],
                    "table": [
                      {
                        "cells": {
                          "fill": {
                            "color": "#EBF0F8"
                          },
                          "line": {
                            "color": "white"
                          }
                        },
                        "header": {
                          "fill": {
                            "color": "#C8D4E3"
                          },
                          "line": {
                            "color": "white"
                          }
                        },
                        "type": "table"
                      }
                    ]
                  },
                  "layout": {
                    "annotationdefaults": {
                      "arrowcolor": "#2a3f5f",
                      "arrowhead": 0,
                      "arrowwidth": 1
                    },
                    "autotypenumbers": "strict",
                    "coloraxis": {
                      "colorbar": {
                        "outlinewidth": 0,
                        "ticks": ""
                      }
                    },
                    "colorscale": {
                      "diverging": [
                        [
                          0,
                          "#8e0152"
                        ],
                        [
                          0.1,
                          "#c51b7d"
                        ],
                        [
                          0.2,
                          "#de77ae"
                        ],
                        [
                          0.3,
                          "#f1b6da"
                        ],
                        [
                          0.4,
                          "#fde0ef"
                        ],
                        [
                          0.5,
                          "#f7f7f7"
                        ],
                        [
                          0.6,
                          "#e6f5d0"
                        ],
                        [
                          0.7,
                          "#b8e186"
                        ],
                        [
                          0.8,
                          "#7fbc41"
                        ],
                        [
                          0.9,
                          "#4d9221"
                        ],
                        [
                          1,
                          "#276419"
                        ]
                      ],
                      "sequential": [
                        [
                          0,
                          "#0d0887"
                        ],
                        [
                          0.1111111111111111,
                          "#46039f"
                        ],
                        [
                          0.2222222222222222,
                          "#7201a8"
                        ],
                        [
                          0.3333333333333333,
                          "#9c179e"
                        ],
                        [
                          0.4444444444444444,
                          "#bd3786"
                        ],
                        [
                          0.5555555555555556,
                          "#d8576b"
                        ],
                        [
                          0.6666666666666666,
                          "#ed7953"
                        ],
                        [
                          0.7777777777777778,
                          "#fb9f3a"
                        ],
                        [
                          0.8888888888888888,
                          "#fdca26"
                        ],
                        [
                          1,
                          "#f0f921"
                        ]
                      ],
                      "sequentialminus": [
                        [
                          0,
                          "#0d0887"
                        ],
                        [
                          0.1111111111111111,
                          "#46039f"
                        ],
                        [
                          0.2222222222222222,
                          "#7201a8"
                        ],
                        [
                          0.3333333333333333,
                          "#9c179e"
                        ],
                        [
                          0.4444444444444444,
                          "#bd3786"
                        ],
                        [
                          0.5555555555555556,
                          "#d8576b"
                        ],
                        [
                          0.6666666666666666,
                          "#ed7953"
                        ],
                        [
                          0.7777777777777778,
                          "#fb9f3a"
                        ],
                        [
                          0.8888888888888888,
                          "#fdca26"
                        ],
                        [
                          1,
                          "#f0f921"
                        ]
                      ]
                    },
                    "colorway": [
                      "#636efa",
                      "#EF553B",
                      "#00cc96",
                      "#ab63fa",
                      "#FFA15A",
                      "#19d3f3",
                      "#FF6692",
                      "#B6E880",
                      "#FF97FF",
                      "#FECB52"
                    ],
                    "font": {
                      "color": "#2a3f5f"
                    },
                    "geo": {
                      "bgcolor": "white",
                      "lakecolor": "white",
                      "landcolor": "#E5ECF6",
                      "showlakes": true,
                      "showland": true,
                      "subunitcolor": "white"
                    },
                    "hoverlabel": {
                      "align": "left"
                    },
                    "hovermode": "closest",
                    "mapbox": {
                      "style": "light"
                    },
                    "paper_bgcolor": "white",
                    "plot_bgcolor": "#E5ECF6",
                    "polar": {
                      "angularaxis": {
                        "gridcolor": "white",
                        "linecolor": "white",
                        "ticks": ""
                      },
                      "bgcolor": "#E5ECF6",
                      "radialaxis": {
                        "gridcolor": "white",
                        "linecolor": "white",
                        "ticks": ""
                      }
                    },
                    "scene": {
                      "xaxis": {
                        "backgroundcolor": "#E5ECF6",
                        "gridcolor": "white",
                        "gridwidth": 2,
                        "linecolor": "white",
                        "showbackground": true,
                        "ticks": "",
                        "zerolinecolor": "white"
                      },
                      "yaxis": {
                        "backgroundcolor": "#E5ECF6",
                        "gridcolor": "white",
                        "gridwidth": 2,
                        "linecolor": "white",
                        "showbackground": true,
                        "ticks": "",
                        "zerolinecolor": "white"
                      },
                      "zaxis": {
                        "backgroundcolor": "#E5ECF6",
                        "gridcolor": "white",
                        "gridwidth": 2,
                        "linecolor": "white",
                        "showbackground": true,
                        "ticks": "",
                        "zerolinecolor": "white"
                      }
                    },
                    "shapedefaults": {
                      "line": {
                        "color": "#2a3f5f"
                      }
                    },
                    "ternary": {
                      "aaxis": {
                        "gridcolor": "white",
                        "linecolor": "white",
                        "ticks": ""
                      },
                      "baxis": {
                        "gridcolor": "white",
                        "linecolor": "white",
                        "ticks": ""
                      },
                      "bgcolor": "#E5ECF6",
                      "caxis": {
                        "gridcolor": "white",
                        "linecolor": "white",
                        "ticks": ""
                      }
                    },
                    "title": {
                      "x": 0.05
                    },
                    "xaxis": {
                      "automargin": true,
                      "gridcolor": "white",
                      "linecolor": "white",
                      "ticks": "",
                      "title": {
                        "standoff": 15
                      },
                      "zerolinecolor": "white",
                      "zerolinewidth": 2
                    },
                    "yaxis": {
                      "automargin": true,
                      "gridcolor": "white",
                      "linecolor": "white",
                      "ticks": "",
                      "title": {
                        "standoff": 15
                      },
                      "zerolinecolor": "white",
                      "zerolinewidth": 2
                    }
                  }
                },
                "title": {
                  "text": "Training and Validation Loss"
                },
                "xaxis": {
                  "title": {
                    "text": "Epochs"
                  }
                },
                "yaxis": {
                  "title": {
                    "text": "Loss"
                  }
                }
              }
            }
          },
          "metadata": {},
          "output_type": "display_data"
        },
        {
          "data": {
            "application/vnd.plotly.v1+json": {
              "config": {
                "plotlyServerURL": "https://plot.ly"
              },
              "data": [
                {
                  "mode": "lines+markers",
                  "name": "Training MAPE",
                  "type": "scatter",
                  "x": {
                    "bdata": "AQIDBAUGBwgJCgsMDQ4PEBESExQVFhcYGRobHB0e",
                    "dtype": "i1"
                  },
                  "y": {
                    "bdata": "AAAAYJVrU0AAAAAAprouQAAAAEDr4h1AAAAAwMHSHEAAAADg7PoaQAAAAODa6BxAAAAAwOMfHUAAAACAj34cQAAAAIC23hxAAAAAQHPNHEAAAAAAwa8cQAAAAADYyRxAAAAA4DiaHEAAAACA0HcbQAAAAAAqOx1AAAAAoO8XHEAAAAAAwZIbQAAAAIAZCRpAAAAAgEaiG0AAAADA9CIdQAAAAECi2xxAAAAAQDZyHUAAAACA7iccQAAAACD1eBxAAAAA4Ff2G0AAAABgFPwcQAAAAGAR4hxAAAAAQFKbHEAAAAAAYgEdQAAAAOCzzhxA",
                    "dtype": "f8"
                  }
                },
                {
                  "mode": "lines+markers",
                  "name": "Validation MAPE",
                  "type": "scatter",
                  "x": {
                    "bdata": "AQIDBAUGBwgJCgsMDQ4PEBESExQVFhcYGRobHB0e",
                    "dtype": "i1"
                  },
                  "y": {
                    "bdata": "AAAAQKtGQ0AAAACg01cZQAAAAACsWhdAAAAAoPNFF0AAAAAgeAQXQAAAAEDCGhdAAAAA4LQNF0AAAACgBagXQAAAAMDJQxdAAAAAIOcMF0AAAAAgdQQXQAAAACCC/RZAAAAAQPk1GEAAAADgrwAXQAAAAIBz/RZAAAAAYLQSF0AAAADAiyMXQAAAAOD1IhdAAAAAwJNPF0AAAAAA6x4XQAAAAEBAjRhAAAAAYDXOF0AAAACgUNAXQAAAAKDcKhdAAAAA4CwbF0AAAACg3wcXQAAAAIBYUxdAAAAAwHqbGEAAAAAAA7EXQAAAAICjXRhA",
                    "dtype": "f8"
                  }
                }
              ],
              "layout": {
                "template": {
                  "data": {
                    "bar": [
                      {
                        "error_x": {
                          "color": "#2a3f5f"
                        },
                        "error_y": {
                          "color": "#2a3f5f"
                        },
                        "marker": {
                          "line": {
                            "color": "#E5ECF6",
                            "width": 0.5
                          },
                          "pattern": {
                            "fillmode": "overlay",
                            "size": 10,
                            "solidity": 0.2
                          }
                        },
                        "type": "bar"
                      }
                    ],
                    "barpolar": [
                      {
                        "marker": {
                          "line": {
                            "color": "#E5ECF6",
                            "width": 0.5
                          },
                          "pattern": {
                            "fillmode": "overlay",
                            "size": 10,
                            "solidity": 0.2
                          }
                        },
                        "type": "barpolar"
                      }
                    ],
                    "carpet": [
                      {
                        "aaxis": {
                          "endlinecolor": "#2a3f5f",
                          "gridcolor": "white",
                          "linecolor": "white",
                          "minorgridcolor": "white",
                          "startlinecolor": "#2a3f5f"
                        },
                        "baxis": {
                          "endlinecolor": "#2a3f5f",
                          "gridcolor": "white",
                          "linecolor": "white",
                          "minorgridcolor": "white",
                          "startlinecolor": "#2a3f5f"
                        },
                        "type": "carpet"
                      }
                    ],
                    "choropleth": [
                      {
                        "colorbar": {
                          "outlinewidth": 0,
                          "ticks": ""
                        },
                        "type": "choropleth"
                      }
                    ],
                    "contour": [
                      {
                        "colorbar": {
                          "outlinewidth": 0,
                          "ticks": ""
                        },
                        "colorscale": [
                          [
                            0,
                            "#0d0887"
                          ],
                          [
                            0.1111111111111111,
                            "#46039f"
                          ],
                          [
                            0.2222222222222222,
                            "#7201a8"
                          ],
                          [
                            0.3333333333333333,
                            "#9c179e"
                          ],
                          [
                            0.4444444444444444,
                            "#bd3786"
                          ],
                          [
                            0.5555555555555556,
                            "#d8576b"
                          ],
                          [
                            0.6666666666666666,
                            "#ed7953"
                          ],
                          [
                            0.7777777777777778,
                            "#fb9f3a"
                          ],
                          [
                            0.8888888888888888,
                            "#fdca26"
                          ],
                          [
                            1,
                            "#f0f921"
                          ]
                        ],
                        "type": "contour"
                      }
                    ],
                    "contourcarpet": [
                      {
                        "colorbar": {
                          "outlinewidth": 0,
                          "ticks": ""
                        },
                        "type": "contourcarpet"
                      }
                    ],
                    "heatmap": [
                      {
                        "colorbar": {
                          "outlinewidth": 0,
                          "ticks": ""
                        },
                        "colorscale": [
                          [
                            0,
                            "#0d0887"
                          ],
                          [
                            0.1111111111111111,
                            "#46039f"
                          ],
                          [
                            0.2222222222222222,
                            "#7201a8"
                          ],
                          [
                            0.3333333333333333,
                            "#9c179e"
                          ],
                          [
                            0.4444444444444444,
                            "#bd3786"
                          ],
                          [
                            0.5555555555555556,
                            "#d8576b"
                          ],
                          [
                            0.6666666666666666,
                            "#ed7953"
                          ],
                          [
                            0.7777777777777778,
                            "#fb9f3a"
                          ],
                          [
                            0.8888888888888888,
                            "#fdca26"
                          ],
                          [
                            1,
                            "#f0f921"
                          ]
                        ],
                        "type": "heatmap"
                      }
                    ],
                    "histogram": [
                      {
                        "marker": {
                          "pattern": {
                            "fillmode": "overlay",
                            "size": 10,
                            "solidity": 0.2
                          }
                        },
                        "type": "histogram"
                      }
                    ],
                    "histogram2d": [
                      {
                        "colorbar": {
                          "outlinewidth": 0,
                          "ticks": ""
                        },
                        "colorscale": [
                          [
                            0,
                            "#0d0887"
                          ],
                          [
                            0.1111111111111111,
                            "#46039f"
                          ],
                          [
                            0.2222222222222222,
                            "#7201a8"
                          ],
                          [
                            0.3333333333333333,
                            "#9c179e"
                          ],
                          [
                            0.4444444444444444,
                            "#bd3786"
                          ],
                          [
                            0.5555555555555556,
                            "#d8576b"
                          ],
                          [
                            0.6666666666666666,
                            "#ed7953"
                          ],
                          [
                            0.7777777777777778,
                            "#fb9f3a"
                          ],
                          [
                            0.8888888888888888,
                            "#fdca26"
                          ],
                          [
                            1,
                            "#f0f921"
                          ]
                        ],
                        "type": "histogram2d"
                      }
                    ],
                    "histogram2dcontour": [
                      {
                        "colorbar": {
                          "outlinewidth": 0,
                          "ticks": ""
                        },
                        "colorscale": [
                          [
                            0,
                            "#0d0887"
                          ],
                          [
                            0.1111111111111111,
                            "#46039f"
                          ],
                          [
                            0.2222222222222222,
                            "#7201a8"
                          ],
                          [
                            0.3333333333333333,
                            "#9c179e"
                          ],
                          [
                            0.4444444444444444,
                            "#bd3786"
                          ],
                          [
                            0.5555555555555556,
                            "#d8576b"
                          ],
                          [
                            0.6666666666666666,
                            "#ed7953"
                          ],
                          [
                            0.7777777777777778,
                            "#fb9f3a"
                          ],
                          [
                            0.8888888888888888,
                            "#fdca26"
                          ],
                          [
                            1,
                            "#f0f921"
                          ]
                        ],
                        "type": "histogram2dcontour"
                      }
                    ],
                    "mesh3d": [
                      {
                        "colorbar": {
                          "outlinewidth": 0,
                          "ticks": ""
                        },
                        "type": "mesh3d"
                      }
                    ],
                    "parcoords": [
                      {
                        "line": {
                          "colorbar": {
                            "outlinewidth": 0,
                            "ticks": ""
                          }
                        },
                        "type": "parcoords"
                      }
                    ],
                    "pie": [
                      {
                        "automargin": true,
                        "type": "pie"
                      }
                    ],
                    "scatter": [
                      {
                        "fillpattern": {
                          "fillmode": "overlay",
                          "size": 10,
                          "solidity": 0.2
                        },
                        "type": "scatter"
                      }
                    ],
                    "scatter3d": [
                      {
                        "line": {
                          "colorbar": {
                            "outlinewidth": 0,
                            "ticks": ""
                          }
                        },
                        "marker": {
                          "colorbar": {
                            "outlinewidth": 0,
                            "ticks": ""
                          }
                        },
                        "type": "scatter3d"
                      }
                    ],
                    "scattercarpet": [
                      {
                        "marker": {
                          "colorbar": {
                            "outlinewidth": 0,
                            "ticks": ""
                          }
                        },
                        "type": "scattercarpet"
                      }
                    ],
                    "scattergeo": [
                      {
                        "marker": {
                          "colorbar": {
                            "outlinewidth": 0,
                            "ticks": ""
                          }
                        },
                        "type": "scattergeo"
                      }
                    ],
                    "scattergl": [
                      {
                        "marker": {
                          "colorbar": {
                            "outlinewidth": 0,
                            "ticks": ""
                          }
                        },
                        "type": "scattergl"
                      }
                    ],
                    "scattermap": [
                      {
                        "marker": {
                          "colorbar": {
                            "outlinewidth": 0,
                            "ticks": ""
                          }
                        },
                        "type": "scattermap"
                      }
                    ],
                    "scattermapbox": [
                      {
                        "marker": {
                          "colorbar": {
                            "outlinewidth": 0,
                            "ticks": ""
                          }
                        },
                        "type": "scattermapbox"
                      }
                    ],
                    "scatterpolar": [
                      {
                        "marker": {
                          "colorbar": {
                            "outlinewidth": 0,
                            "ticks": ""
                          }
                        },
                        "type": "scatterpolar"
                      }
                    ],
                    "scatterpolargl": [
                      {
                        "marker": {
                          "colorbar": {
                            "outlinewidth": 0,
                            "ticks": ""
                          }
                        },
                        "type": "scatterpolargl"
                      }
                    ],
                    "scatterternary": [
                      {
                        "marker": {
                          "colorbar": {
                            "outlinewidth": 0,
                            "ticks": ""
                          }
                        },
                        "type": "scatterternary"
                      }
                    ],
                    "surface": [
                      {
                        "colorbar": {
                          "outlinewidth": 0,
                          "ticks": ""
                        },
                        "colorscale": [
                          [
                            0,
                            "#0d0887"
                          ],
                          [
                            0.1111111111111111,
                            "#46039f"
                          ],
                          [
                            0.2222222222222222,
                            "#7201a8"
                          ],
                          [
                            0.3333333333333333,
                            "#9c179e"
                          ],
                          [
                            0.4444444444444444,
                            "#bd3786"
                          ],
                          [
                            0.5555555555555556,
                            "#d8576b"
                          ],
                          [
                            0.6666666666666666,
                            "#ed7953"
                          ],
                          [
                            0.7777777777777778,
                            "#fb9f3a"
                          ],
                          [
                            0.8888888888888888,
                            "#fdca26"
                          ],
                          [
                            1,
                            "#f0f921"
                          ]
                        ],
                        "type": "surface"
                      }
                    ],
                    "table": [
                      {
                        "cells": {
                          "fill": {
                            "color": "#EBF0F8"
                          },
                          "line": {
                            "color": "white"
                          }
                        },
                        "header": {
                          "fill": {
                            "color": "#C8D4E3"
                          },
                          "line": {
                            "color": "white"
                          }
                        },
                        "type": "table"
                      }
                    ]
                  },
                  "layout": {
                    "annotationdefaults": {
                      "arrowcolor": "#2a3f5f",
                      "arrowhead": 0,
                      "arrowwidth": 1
                    },
                    "autotypenumbers": "strict",
                    "coloraxis": {
                      "colorbar": {
                        "outlinewidth": 0,
                        "ticks": ""
                      }
                    },
                    "colorscale": {
                      "diverging": [
                        [
                          0,
                          "#8e0152"
                        ],
                        [
                          0.1,
                          "#c51b7d"
                        ],
                        [
                          0.2,
                          "#de77ae"
                        ],
                        [
                          0.3,
                          "#f1b6da"
                        ],
                        [
                          0.4,
                          "#fde0ef"
                        ],
                        [
                          0.5,
                          "#f7f7f7"
                        ],
                        [
                          0.6,
                          "#e6f5d0"
                        ],
                        [
                          0.7,
                          "#b8e186"
                        ],
                        [
                          0.8,
                          "#7fbc41"
                        ],
                        [
                          0.9,
                          "#4d9221"
                        ],
                        [
                          1,
                          "#276419"
                        ]
                      ],
                      "sequential": [
                        [
                          0,
                          "#0d0887"
                        ],
                        [
                          0.1111111111111111,
                          "#46039f"
                        ],
                        [
                          0.2222222222222222,
                          "#7201a8"
                        ],
                        [
                          0.3333333333333333,
                          "#9c179e"
                        ],
                        [
                          0.4444444444444444,
                          "#bd3786"
                        ],
                        [
                          0.5555555555555556,
                          "#d8576b"
                        ],
                        [
                          0.6666666666666666,
                          "#ed7953"
                        ],
                        [
                          0.7777777777777778,
                          "#fb9f3a"
                        ],
                        [
                          0.8888888888888888,
                          "#fdca26"
                        ],
                        [
                          1,
                          "#f0f921"
                        ]
                      ],
                      "sequentialminus": [
                        [
                          0,
                          "#0d0887"
                        ],
                        [
                          0.1111111111111111,
                          "#46039f"
                        ],
                        [
                          0.2222222222222222,
                          "#7201a8"
                        ],
                        [
                          0.3333333333333333,
                          "#9c179e"
                        ],
                        [
                          0.4444444444444444,
                          "#bd3786"
                        ],
                        [
                          0.5555555555555556,
                          "#d8576b"
                        ],
                        [
                          0.6666666666666666,
                          "#ed7953"
                        ],
                        [
                          0.7777777777777778,
                          "#fb9f3a"
                        ],
                        [
                          0.8888888888888888,
                          "#fdca26"
                        ],
                        [
                          1,
                          "#f0f921"
                        ]
                      ]
                    },
                    "colorway": [
                      "#636efa",
                      "#EF553B",
                      "#00cc96",
                      "#ab63fa",
                      "#FFA15A",
                      "#19d3f3",
                      "#FF6692",
                      "#B6E880",
                      "#FF97FF",
                      "#FECB52"
                    ],
                    "font": {
                      "color": "#2a3f5f"
                    },
                    "geo": {
                      "bgcolor": "white",
                      "lakecolor": "white",
                      "landcolor": "#E5ECF6",
                      "showlakes": true,
                      "showland": true,
                      "subunitcolor": "white"
                    },
                    "hoverlabel": {
                      "align": "left"
                    },
                    "hovermode": "closest",
                    "mapbox": {
                      "style": "light"
                    },
                    "paper_bgcolor": "white",
                    "plot_bgcolor": "#E5ECF6",
                    "polar": {
                      "angularaxis": {
                        "gridcolor": "white",
                        "linecolor": "white",
                        "ticks": ""
                      },
                      "bgcolor": "#E5ECF6",
                      "radialaxis": {
                        "gridcolor": "white",
                        "linecolor": "white",
                        "ticks": ""
                      }
                    },
                    "scene": {
                      "xaxis": {
                        "backgroundcolor": "#E5ECF6",
                        "gridcolor": "white",
                        "gridwidth": 2,
                        "linecolor": "white",
                        "showbackground": true,
                        "ticks": "",
                        "zerolinecolor": "white"
                      },
                      "yaxis": {
                        "backgroundcolor": "#E5ECF6",
                        "gridcolor": "white",
                        "gridwidth": 2,
                        "linecolor": "white",
                        "showbackground": true,
                        "ticks": "",
                        "zerolinecolor": "white"
                      },
                      "zaxis": {
                        "backgroundcolor": "#E5ECF6",
                        "gridcolor": "white",
                        "gridwidth": 2,
                        "linecolor": "white",
                        "showbackground": true,
                        "ticks": "",
                        "zerolinecolor": "white"
                      }
                    },
                    "shapedefaults": {
                      "line": {
                        "color": "#2a3f5f"
                      }
                    },
                    "ternary": {
                      "aaxis": {
                        "gridcolor": "white",
                        "linecolor": "white",
                        "ticks": ""
                      },
                      "baxis": {
                        "gridcolor": "white",
                        "linecolor": "white",
                        "ticks": ""
                      },
                      "bgcolor": "#E5ECF6",
                      "caxis": {
                        "gridcolor": "white",
                        "linecolor": "white",
                        "ticks": ""
                      }
                    },
                    "title": {
                      "x": 0.05
                    },
                    "xaxis": {
                      "automargin": true,
                      "gridcolor": "white",
                      "linecolor": "white",
                      "ticks": "",
                      "title": {
                        "standoff": 15
                      },
                      "zerolinecolor": "white",
                      "zerolinewidth": 2
                    },
                    "yaxis": {
                      "automargin": true,
                      "gridcolor": "white",
                      "linecolor": "white",
                      "ticks": "",
                      "title": {
                        "standoff": 15
                      },
                      "zerolinecolor": "white",
                      "zerolinewidth": 2
                    }
                  }
                },
                "title": {
                  "text": "Training and Validation MAPE"
                },
                "xaxis": {
                  "title": {
                    "text": "Epochs"
                  }
                },
                "yaxis": {
                  "title": {
                    "text": "MAPE"
                  }
                }
              }
            }
          },
          "metadata": {},
          "output_type": "display_data"
        }
      ],
      "source": [
        "import plotly.graph_objects as go\n",
        "\n",
        "history_df = pd.DataFrame.from_dict(history.history)\n",
        "history_df['epoch'] = history_df.index + 1\n",
        "\n",
        "fig = go.Figure()\n",
        "fig.add_trace(go.Line(x=history_df['epoch'], y = history_df['loss'], mode = 'lines+markers', name='Training Loss'))\n",
        "fig.add_trace(go.Line(x=history_df['epoch'], y = history_df['val_loss'], mode = 'lines+markers', name = 'Validation Loss'))\n",
        "fig.update_layout(title=\"Training and Validation Loss\",\n",
        "                  xaxis_title=\"Epochs\", yaxis_title=\"Loss\")\n",
        "fig.show()\n",
        "\n",
        "fig = go.Figure()\n",
        "fig.add_trace(go.Line(x=history_df['epoch'], y = history_df['mape'], mode = 'lines+markers', name='Training MAPE'))\n",
        "fig.add_trace(go.Line(x=history_df['epoch'], y = history_df['val_mape'], mode = 'lines+markers', name = 'Validation MAPE'))\n",
        "fig.update_layout(title=\"Training and Validation MAPE\",\n",
        "                  xaxis_title=\"Epochs\", yaxis_title=\"MAPE\")\n",
        "fig.show()"
      ]
    },
    {
      "cell_type": "markdown",
      "metadata": {
        "id": "FzfpHnL9_bbF"
      },
      "source": [
        "## Testing With Sales_MA_7"
      ]
    },
    {
      "cell_type": "code",
      "execution_count": 21,
      "metadata": {
        "colab": {
          "base_uri": "https://localhost:8080/",
          "height": 1000
        },
        "collapsed": true,
        "id": "99e0owbNKXey",
        "outputId": "2a8dc141-8460-4bcd-c0ac-91219712c4f9"
      },
      "outputs": [
        {
          "data": {
            "application/vnd.microsoft.datawrangler.viewer.v0+json": {
              "columns": [
                {
                  "name": "index",
                  "rawType": "int64",
                  "type": "integer"
                },
                {
                  "name": "Date",
                  "rawType": "datetime64[ns]",
                  "type": "datetime"
                },
                {
                  "name": "Sales",
                  "rawType": "float64",
                  "type": "float"
                },
                {
                  "name": "IsWeekend",
                  "rawType": "int64",
                  "type": "integer"
                },
                {
                  "name": "Day_sin",
                  "rawType": "float64",
                  "type": "float"
                },
                {
                  "name": "Day_cos",
                  "rawType": "float64",
                  "type": "float"
                },
                {
                  "name": "Month_sin",
                  "rawType": "float64",
                  "type": "float"
                },
                {
                  "name": "Month_cos",
                  "rawType": "float64",
                  "type": "float"
                },
                {
                  "name": "Weekday_sin",
                  "rawType": "float64",
                  "type": "float"
                },
                {
                  "name": "Weekday_cos",
                  "rawType": "float64",
                  "type": "float"
                },
                {
                  "name": "DayOfYear_sin",
                  "rawType": "float64",
                  "type": "float"
                },
                {
                  "name": "DayOfYear_cos",
                  "rawType": "float64",
                  "type": "float"
                },
                {
                  "name": "Sales_MA_7",
                  "rawType": "float64",
                  "type": "float"
                },
                {
                  "name": "Predicted_Sales",
                  "rawType": "float64",
                  "type": "float"
                }
              ],
              "conversionMethod": "pd.DataFrame",
              "ref": "614c981b-884a-400d-b740-3c987d12554a",
              "rows": [
                [
                  "0",
                  "2023-11-14 00:00:00",
                  "448402.566024",
                  "0",
                  "0.20791169081775931",
                  "-0.9781476007338057",
                  "-0.5000000000000004",
                  "0.8660254037844384",
                  "0.7818314824680298",
                  "0.6234898018587336",
                  "-0.7236440382959124",
                  "0.690173388242972",
                  null,
                  null
                ],
                [
                  "1",
                  "2023-11-15 00:00:00",
                  "457435.032133",
                  "0",
                  "5.66553889764798e-16",
                  "-1.0",
                  "-0.5000000000000004",
                  "0.8660254037844384",
                  "0.9749279121818236",
                  "-0.22252093395631434",
                  "-0.711656622281775",
                  "0.7025274741691566",
                  null,
                  null
                ],
                [
                  "2",
                  "2023-11-16 00:00:00",
                  "471428.896804",
                  "0",
                  "-0.20791169081775907",
                  "-0.9781476007338057",
                  "-0.5000000000000004",
                  "0.8660254037844384",
                  "0.43388373911755823",
                  "-0.900968867902419",
                  "-0.6994583270516471",
                  "0.7146733860429608",
                  null,
                  null
                ],
                [
                  "3",
                  "2023-11-17 00:00:00",
                  "475409.127696",
                  "0",
                  "-0.4067366430758002",
                  "-0.9135454576426009",
                  "-0.5000000000000004",
                  "0.8660254037844384",
                  "-0.433883739117558",
                  "-0.9009688679024191",
                  "-0.6870527672236675",
                  "0.7266075247685652",
                  null,
                  null
                ],
                [
                  "4",
                  "2023-11-18 00:00:00",
                  "514993.122618",
                  "1",
                  "-0.587785252292473",
                  "-0.8090169943749475",
                  "-0.5000000000000004",
                  "0.8660254037844384",
                  "-0.9749279121818236",
                  "-0.2225209339563146",
                  "-0.6744436188329457",
                  "0.7383263540031063",
                  null,
                  null
                ],
                [
                  "5",
                  "2023-11-19 00:00:00",
                  "464018.00625",
                  "1",
                  "-0.743144825477394",
                  "-0.6691306063588585",
                  "-0.5000000000000004",
                  "0.8660254037844384",
                  "-0.7818314824680299",
                  "0.6234898018587334",
                  "-0.661634618242279",
                  "0.749826401204568",
                  null,
                  null
                ],
                [
                  "6",
                  "2023-11-20 00:00:00",
                  "544307.72966",
                  "0",
                  "-0.8660254037844385",
                  "-0.5000000000000004",
                  "-0.5000000000000004",
                  "0.8660254037844384",
                  "0.0",
                  "1.0",
                  "-0.6486295610349818",
                  "0.7611042586607742",
                  null,
                  null
                ],
                [
                  "7",
                  "2023-11-21 00:00:00",
                  "542697.508514",
                  "0",
                  "-0.9510565162951535",
                  "-0.30901699437494756",
                  "-0.5000000000000004",
                  "0.8660254037844384",
                  "0.7818314824680298",
                  "0.6234898018587336",
                  "-0.6354323008901775",
                  "0.7721565844991641",
                  null,
                  null
                ],
                [
                  "8",
                  "2023-11-22 00:00:00",
                  "539481.678832",
                  "0",
                  "-0.9945218953682733",
                  "-0.10452846326765423",
                  "-0.5000000000000004",
                  "0.8660254037844384",
                  "0.9749279121818236",
                  "-0.22252093395631434",
                  "-0.622046748440868",
                  "0.7829801036770624",
                  null,
                  null
                ],
                [
                  "9",
                  "2023-11-23 00:00:00",
                  "550689.508324",
                  "0",
                  "-0.9945218953682734",
                  "0.10452846326765299",
                  "-0.5000000000000004",
                  "0.8660254037844384",
                  "0.43388373911755823",
                  "-0.900968867902419",
                  "-0.6084768701151264",
                  "0.7935716089521472",
                  null,
                  null
                ],
                [
                  "10",
                  "2023-11-24 00:00:00",
                  "554647.29422",
                  "0",
                  "-0.9510565162951536",
                  "0.30901699437494723",
                  "-0.5000000000000004",
                  "0.8660254037844384",
                  "-0.433883739117558",
                  "-0.9009688679024191",
                  "-0.594726686960764",
                  "0.8039279618328208",
                  null,
                  null
                ],
                [
                  "11",
                  "2023-11-25 00:00:00",
                  "568277.235685",
                  "1",
                  "-0.8660254037844386",
                  "0.5000000000000001",
                  "-0.5000000000000004",
                  "0.8660254037844384",
                  "-0.9749279121818236",
                  "-0.2225209339563146",
                  "-0.5808002734538013",
                  "0.8140460935082175",
                  null,
                  null
                ],
                [
                  "12",
                  "2023-11-26 00:00:00",
                  "519246.319413",
                  "1",
                  "-0.743144825477394",
                  "0.6691306063588585",
                  "-0.5000000000000004",
                  "0.8660254037844384",
                  "-0.7818314824680299",
                  "0.6234898018587334",
                  "-0.5667017562911184",
                  "0.8239230057575536",
                  null,
                  null
                ],
                [
                  "13",
                  "2023-11-27 00:00:00",
                  "608415.712688",
                  "0",
                  "-0.5877852522924734",
                  "0.8090169943749473",
                  "-0.5000000000000004",
                  "0.8660254037844384",
                  "0.0",
                  "1.0",
                  "-0.5524353131676203",
                  "0.8335557718385695",
                  null,
                  null
                ],
                [
                  "14",
                  "2023-11-28 00:00:00",
                  "578585.3126",
                  "0",
                  "-0.40673664307580015",
                  "0.913545457642601",
                  "-0.5000000000000004",
                  "0.8660254037844384",
                  "0.7818314824680298",
                  "0.6234898018587336",
                  "-0.5380051715382992",
                  "0.8429415373547832",
                  null,
                  null
                ],
                [
                  "15",
                  "2023-11-29 00:00:00",
                  "575714.90178",
                  "0",
                  "-0.20791169081775898",
                  "0.9781476007338057",
                  "-0.5000000000000004",
                  "0.8660254037844384",
                  "0.9749279121818236",
                  "-0.22252093395631434",
                  "-0.5234156073655503",
                  "0.8520775211013093",
                  null,
                  null
                ],
                [
                  "16",
                  "2023-11-30 00:00:00",
                  "516804.216896",
                  "0",
                  "-1.133107779529596e-15",
                  "1.0",
                  "-0.5000000000000004",
                  "0.8660254037844384",
                  "0.43388373911755823",
                  "-0.900968867902419",
                  "-0.5086709438521042",
                  "0.8609610158889945",
                  null,
                  null
                ],
                [
                  "17",
                  "2023-12-01 00:00:00",
                  "624144.751488",
                  "0",
                  "0.20129852008866006",
                  "0.9795299412524945",
                  "-2.4492935982947064e-16",
                  "1.0",
                  "-0.433883739117558",
                  "-0.9009688679024191",
                  "-0.49377555015997737",
                  "0.8695893893466109",
                  null,
                  null
                ],
                [
                  "18",
                  "2023-12-02 00:00:00",
                  "577958.87666",
                  "1",
                  "0.39435585511331855",
                  "0.9189578116202306",
                  "-2.4492935982947064e-16",
                  "1.0",
                  "-0.9749279121818236",
                  "-0.2225209339563146",
                  "-0.4787338401157883",
                  "0.8779600847008883",
                  null,
                  null
                ],
                [
                  "19",
                  "2023-12-03 00:00:00",
                  "538579.09104",
                  "1",
                  "0.5712682150947923",
                  "0.8207634412072763",
                  "-2.4492935982947064e-16",
                  "1.0",
                  "-0.7818314824680299",
                  "0.6234898018587334",
                  "-0.4635502709028512",
                  "0.8860706215341378",
                  null,
                  null
                ],
                [
                  "20",
                  "2023-12-04 00:00:00",
                  "595295.692173",
                  "0",
                  "0.72479278722912",
                  "0.6889669190756866",
                  "-2.4492935982947064e-16",
                  "1.0",
                  "0.0",
                  "1.0",
                  "-0.4482293417404106",
                  "0.893918596519257",
                  null,
                  null
                ],
                [
                  "21",
                  "2023-12-05 00:00:00",
                  "594817.306090001",
                  "0",
                  "0.8486442574947509",
                  "0.5289640103269624",
                  "-2.4492935982947064e-16",
                  "1.0",
                  "0.7818314824680298",
                  "0.6234898018587336",
                  "-0.4327755925504317",
                  "0.9015016841318838",
                  null,
                  null
                ],
                [
                  "22",
                  "2023-12-06 00:00:00",
                  "590302.841156",
                  "0",
                  "0.9377521321470804",
                  "0.3473052528448203",
                  "-2.4492935982947064e-16",
                  "1.0",
                  "0.9749279121818236",
                  "-0.22252093395631434",
                  "-0.41719360261231697",
                  "0.9088176373395028",
                  null,
                  null
                ],
                [
                  "23",
                  "2023-12-07 00:00:00",
                  "600606.881024",
                  "0",
                  "0.9884683243281114",
                  "0.1514277775045767",
                  "-2.4492935982947064e-16",
                  "1.0",
                  "0.43388373911755823",
                  "-0.900968867902419",
                  "-0.4014879892059737",
                  "0.9158642882672868",
                  null,
                  null
                ],
                [
                  "24",
                  "2023-12-08 00:00:00",
                  "597733.430723",
                  "0",
                  "0.9987165071710528",
                  "-0.05064916883871264",
                  "-2.4492935982947064e-16",
                  "1.0",
                  "-0.433883739117558",
                  "-0.9009688679024191",
                  "-0.38566340624360745",
                  "0.9226395488404875",
                  null,
                  null
                ],
                [
                  "25",
                  "2023-12-09 00:00:00",
                  "594784.24416",
                  "1",
                  "0.9680771188662043",
                  "-0.2506525322587204",
                  "-2.4492935982947064e-16",
                  "1.0",
                  "-0.9749279121818236",
                  "-0.2225209339563146",
                  "-0.3697245428906732",
                  "0.9291414114031743",
                  null,
                  null
                ],
                [
                  "26",
                  "2023-12-10 00:00:00",
                  "555327.113247",
                  "1",
                  "0.8978045395707416",
                  "-0.4403941515576344",
                  "-2.4492935982947064e-16",
                  "1.0",
                  "-0.7818314824680299",
                  "0.6234898018587334",
                  "-0.3536761221763721",
                  "0.935367949313148",
                  null,
                  null
                ],
                [
                  "27",
                  "2023-12-11 00:00:00",
                  "586667.425636",
                  "0",
                  "0.7907757369376989",
                  "-0.6121059825476626",
                  "-2.4492935982947064e-16",
                  "1.0",
                  "0.0",
                  "1.0",
                  "-0.33752289959411347",
                  "0.941317317512847",
                  null,
                  null
                ],
                [
                  "28",
                  "2023-12-12 00:00:00",
                  "582995.35236",
                  "0",
                  "0.6513724827222223",
                  "-0.758758122692791",
                  "-2.4492935982947064e-16",
                  "1.0",
                  "0.7818314824680298",
                  "0.6234898018587336",
                  "-0.32126966169236515",
                  "0.9469877530760751",
                  null,
                  null
                ],
                [
                  "29",
                  "2023-12-13 00:00:00",
                  "600989.313485",
                  "0",
                  "0.48530196253108104",
                  "-0.8743466161445821",
                  "-2.4492935982947064e-16",
                  "1.0",
                  "0.9749279121818236",
                  "-0.22252093395631434",
                  "-0.3049212246562894",
                  "0.9523775757303973",
                  null,
                  null
                ],
                [
                  "30",
                  "2023-12-14 00:00:00",
                  "617320.784948",
                  "0",
                  "0.29936312297335804",
                  "-0.9541392564000488",
                  "-2.4492935982947064e-16",
                  "1.0",
                  "0.43388373911755823",
                  "-0.900968867902419",
                  "-0.2884824328806098",
                  "0.9574851883550389",
                  null,
                  null
                ],
                [
                  "31",
                  "2023-12-15 00:00:00",
                  "596293.83549",
                  "0",
                  "0.10116832198743272",
                  "-0.994869323391895",
                  "-2.4492935982947064e-16",
                  "1.0",
                  "-0.433883739117558",
                  "-0.9009688679024191",
                  "-0.27195815753410524",
                  "0.9623090774541487",
                  null,
                  null
                ],
                [
                  "32",
                  "2023-12-16 00:00:00",
                  "599334.573525",
                  "1",
                  "-0.10116832198743204",
                  "-0.9948693233918952",
                  "-2.4492935982947064e-16",
                  "1.0",
                  "-0.9749279121818236",
                  "-0.2225209339563146",
                  "-0.2553532951161881",
                  "0.9668478136052773",
                  null,
                  null
                ],
                [
                  "33",
                  "2023-12-17 00:00:00",
                  "561998.780517",
                  "1",
                  "-0.2993631229733582",
                  "-0.9541392564000488",
                  "-2.4492935982947064e-16",
                  "1.0",
                  "-0.7818314824680299",
                  "0.6234898018587334",
                  "-0.23867276600594997",
                  "0.9711000518829505",
                  null,
                  null
                ],
                [
                  "34",
                  "2023-12-18 00:00:00",
                  "591225.0",
                  "0",
                  "-0.4853019625310808",
                  "-0.8743466161445822",
                  "-2.4492935982947064e-16",
                  "1.0",
                  "0.0",
                  "1.0",
                  "-0.22192151300416674",
                  "0.9750645322571945",
                  null,
                  null
                ],
                [
                  "35",
                  "2023-12-19 00:00:00",
                  "583219.818499",
                  "0",
                  "-0.651372482722222",
                  "-0.7587581226927911",
                  "-2.4492935982947064e-16",
                  "1.0",
                  "0.7818314824680298",
                  "0.6234898018587336",
                  "-0.20510449986861926",
                  "0.9787400799669153",
                  null,
                  null
                ],
                [
                  "36",
                  "2023-12-20 00:00:00",
                  "583960.393272",
                  "0",
                  "-0.7907757369376986",
                  "-0.6121059825476627",
                  "-2.4492935982947064e-16",
                  "1.0",
                  "0.9749279121818236",
                  "-0.22252093395631434",
                  "-0.1882267098432439",
                  "0.9821256058680006",
                  null,
                  null
                ],
                [
                  "37",
                  "2023-12-21 00:00:00",
                  "587184.746016",
                  "0",
                  "-0.8978045395707417",
                  "-0.44039415155763423",
                  "-2.4492935982947064e-16",
                  "1.0",
                  "0.43388373911755823",
                  "-0.900968867902419",
                  "-0.1712931441814778",
                  "0.9852201067560606",
                  null,
                  null
                ],
                [
                  "38",
                  "2023-12-22 00:00:00",
                  "586486.401692",
                  "0",
                  "-0.9680771188662041",
                  "-0.2506525322587213",
                  "-2.4492935982947064e-16",
                  "1.0",
                  "-0.433883739117558",
                  "-0.9009688679024191",
                  "-0.154308820664281",
                  "0.9880226656636976",
                  null,
                  null
                ],
                [
                  "39",
                  "2023-12-23 00:00:00",
                  "565619.81448",
                  "1",
                  "-0.9987165071710528",
                  "-0.05064916883871355",
                  "-2.4492935982947064e-16",
                  "1.0",
                  "-0.9749279121818236",
                  "-0.2225209339563146",
                  "-0.13727877211326517",
                  "0.9905324521322227",
                  null,
                  null
                ],
                [
                  "40",
                  "2023-12-24 00:00:00",
                  "556015.517748",
                  "1",
                  "-0.9884683243281114",
                  "0.15142777750457667",
                  "-2.4492935982947064e-16",
                  "1.0",
                  "-0.7818314824680299",
                  "0.6234898018587334",
                  "-0.12020804489935275",
                  "0.9927487224577402",
                  null,
                  null
                ],
                [
                  "41",
                  "2023-12-25 00:00:00",
                  "592294.579128",
                  "0",
                  "-0.9377521321470804",
                  "0.3473052528448203",
                  "-2.4492935982947064e-16",
                  "1.0",
                  "0.0",
                  "1.0",
                  "-0.10310169744743544",
                  "0.9946708199115211",
                  null,
                  null
                ],
                [
                  "42",
                  "2023-12-26 00:00:00",
                  "599715.663484",
                  "0",
                  "-0.8486442574947509",
                  "0.5289640103269624",
                  "-2.4492935982947064e-16",
                  "1.0",
                  "0.7818314824680298",
                  "0.6234898018587336",
                  "-0.0859647987374467",
                  "0.9962981749346077",
                  null,
                  null
                ],
                [
                  "43",
                  "2023-12-27 00:00:00",
                  "571390.999704",
                  "0",
                  "-0.72479278722912",
                  "0.6889669190756865",
                  "-2.4492935982947064e-16",
                  "1.0",
                  "0.9749279121818236",
                  "-0.22252093395631434",
                  "-0.06880242680232064",
                  "0.9976303053065857",
                  null,
                  null
                ],
                [
                  "44",
                  "2023-12-28 00:00:00",
                  "576890.976666",
                  "0",
                  "-0.5712682150947924",
                  "0.8207634412072763",
                  "-2.4492935982947064e-16",
                  "1.0",
                  "0.43388373911755823",
                  "-0.900968867902419",
                  "-0.05161966722325418",
                  "0.9986668162884759",
                  null,
                  null
                ],
                [
                  "45",
                  "2023-12-29 00:00:00",
                  "572104.814138",
                  "0",
                  "-0.3943558551133187",
                  "0.9189578116202306",
                  "-2.4492935982947064e-16",
                  "1.0",
                  "-0.433883739117558",
                  "-0.9009688679024191",
                  "-0.034421611622745804",
                  "0.9994074007397048",
                  null,
                  null
                ],
                [
                  "46",
                  "2023-12-30 00:00:00",
                  "585843.459244",
                  "1",
                  "-0.20129852008866114",
                  "0.9795299412524943",
                  "-2.4492935982947064e-16",
                  "1.0",
                  "-0.9749279121818236",
                  "-0.2225209339563146",
                  "-0.01721335615583528",
                  "0.9998518392091162",
                  null,
                  null
                ],
                [
                  "47",
                  "2023-12-31 00:00:00",
                  "537720.84984",
                  "1",
                  "-2.4492935982947064e-16",
                  "1.0",
                  "-2.4492935982947064e-16",
                  "1.0",
                  "-0.7818314824680299",
                  "0.6234898018587334",
                  "6.432490598706546e-16",
                  "1.0",
                  null,
                  null
                ]
              ],
              "shape": {
                "columns": 13,
                "rows": 48
              }
            },
            "text/html": [
              "<div>\n",
              "<style scoped>\n",
              "    .dataframe tbody tr th:only-of-type {\n",
              "        vertical-align: middle;\n",
              "    }\n",
              "\n",
              "    .dataframe tbody tr th {\n",
              "        vertical-align: top;\n",
              "    }\n",
              "\n",
              "    .dataframe thead th {\n",
              "        text-align: right;\n",
              "    }\n",
              "</style>\n",
              "<table border=\"1\" class=\"dataframe\">\n",
              "  <thead>\n",
              "    <tr style=\"text-align: right;\">\n",
              "      <th></th>\n",
              "      <th>Date</th>\n",
              "      <th>Sales</th>\n",
              "      <th>IsWeekend</th>\n",
              "      <th>Day_sin</th>\n",
              "      <th>Day_cos</th>\n",
              "      <th>Month_sin</th>\n",
              "      <th>Month_cos</th>\n",
              "      <th>Weekday_sin</th>\n",
              "      <th>Weekday_cos</th>\n",
              "      <th>DayOfYear_sin</th>\n",
              "      <th>DayOfYear_cos</th>\n",
              "      <th>Sales_MA_7</th>\n",
              "      <th>Predicted_Sales</th>\n",
              "    </tr>\n",
              "  </thead>\n",
              "  <tbody>\n",
              "    <tr>\n",
              "      <th>0</th>\n",
              "      <td>2023-11-14</td>\n",
              "      <td>448402.566024</td>\n",
              "      <td>0</td>\n",
              "      <td>2.079117e-01</td>\n",
              "      <td>-0.978148</td>\n",
              "      <td>-5.000000e-01</td>\n",
              "      <td>0.866025</td>\n",
              "      <td>0.781831</td>\n",
              "      <td>0.623490</td>\n",
              "      <td>-7.236440e-01</td>\n",
              "      <td>0.690173</td>\n",
              "      <td>NaN</td>\n",
              "      <td>NaN</td>\n",
              "    </tr>\n",
              "    <tr>\n",
              "      <th>1</th>\n",
              "      <td>2023-11-15</td>\n",
              "      <td>457435.032133</td>\n",
              "      <td>0</td>\n",
              "      <td>5.665539e-16</td>\n",
              "      <td>-1.000000</td>\n",
              "      <td>-5.000000e-01</td>\n",
              "      <td>0.866025</td>\n",
              "      <td>0.974928</td>\n",
              "      <td>-0.222521</td>\n",
              "      <td>-7.116566e-01</td>\n",
              "      <td>0.702527</td>\n",
              "      <td>NaN</td>\n",
              "      <td>NaN</td>\n",
              "    </tr>\n",
              "    <tr>\n",
              "      <th>2</th>\n",
              "      <td>2023-11-16</td>\n",
              "      <td>471428.896804</td>\n",
              "      <td>0</td>\n",
              "      <td>-2.079117e-01</td>\n",
              "      <td>-0.978148</td>\n",
              "      <td>-5.000000e-01</td>\n",
              "      <td>0.866025</td>\n",
              "      <td>0.433884</td>\n",
              "      <td>-0.900969</td>\n",
              "      <td>-6.994583e-01</td>\n",
              "      <td>0.714673</td>\n",
              "      <td>NaN</td>\n",
              "      <td>NaN</td>\n",
              "    </tr>\n",
              "    <tr>\n",
              "      <th>3</th>\n",
              "      <td>2023-11-17</td>\n",
              "      <td>475409.127696</td>\n",
              "      <td>0</td>\n",
              "      <td>-4.067366e-01</td>\n",
              "      <td>-0.913545</td>\n",
              "      <td>-5.000000e-01</td>\n",
              "      <td>0.866025</td>\n",
              "      <td>-0.433884</td>\n",
              "      <td>-0.900969</td>\n",
              "      <td>-6.870528e-01</td>\n",
              "      <td>0.726608</td>\n",
              "      <td>NaN</td>\n",
              "      <td>NaN</td>\n",
              "    </tr>\n",
              "    <tr>\n",
              "      <th>4</th>\n",
              "      <td>2023-11-18</td>\n",
              "      <td>514993.122618</td>\n",
              "      <td>1</td>\n",
              "      <td>-5.877853e-01</td>\n",
              "      <td>-0.809017</td>\n",
              "      <td>-5.000000e-01</td>\n",
              "      <td>0.866025</td>\n",
              "      <td>-0.974928</td>\n",
              "      <td>-0.222521</td>\n",
              "      <td>-6.744436e-01</td>\n",
              "      <td>0.738326</td>\n",
              "      <td>NaN</td>\n",
              "      <td>NaN</td>\n",
              "    </tr>\n",
              "    <tr>\n",
              "      <th>5</th>\n",
              "      <td>2023-11-19</td>\n",
              "      <td>464018.006250</td>\n",
              "      <td>1</td>\n",
              "      <td>-7.431448e-01</td>\n",
              "      <td>-0.669131</td>\n",
              "      <td>-5.000000e-01</td>\n",
              "      <td>0.866025</td>\n",
              "      <td>-0.781831</td>\n",
              "      <td>0.623490</td>\n",
              "      <td>-6.616346e-01</td>\n",
              "      <td>0.749826</td>\n",
              "      <td>NaN</td>\n",
              "      <td>NaN</td>\n",
              "    </tr>\n",
              "    <tr>\n",
              "      <th>6</th>\n",
              "      <td>2023-11-20</td>\n",
              "      <td>544307.729660</td>\n",
              "      <td>0</td>\n",
              "      <td>-8.660254e-01</td>\n",
              "      <td>-0.500000</td>\n",
              "      <td>-5.000000e-01</td>\n",
              "      <td>0.866025</td>\n",
              "      <td>0.000000</td>\n",
              "      <td>1.000000</td>\n",
              "      <td>-6.486296e-01</td>\n",
              "      <td>0.761104</td>\n",
              "      <td>NaN</td>\n",
              "      <td>NaN</td>\n",
              "    </tr>\n",
              "    <tr>\n",
              "      <th>7</th>\n",
              "      <td>2023-11-21</td>\n",
              "      <td>542697.508514</td>\n",
              "      <td>0</td>\n",
              "      <td>-9.510565e-01</td>\n",
              "      <td>-0.309017</td>\n",
              "      <td>-5.000000e-01</td>\n",
              "      <td>0.866025</td>\n",
              "      <td>0.781831</td>\n",
              "      <td>0.623490</td>\n",
              "      <td>-6.354323e-01</td>\n",
              "      <td>0.772157</td>\n",
              "      <td>NaN</td>\n",
              "      <td>NaN</td>\n",
              "    </tr>\n",
              "    <tr>\n",
              "      <th>8</th>\n",
              "      <td>2023-11-22</td>\n",
              "      <td>539481.678832</td>\n",
              "      <td>0</td>\n",
              "      <td>-9.945219e-01</td>\n",
              "      <td>-0.104528</td>\n",
              "      <td>-5.000000e-01</td>\n",
              "      <td>0.866025</td>\n",
              "      <td>0.974928</td>\n",
              "      <td>-0.222521</td>\n",
              "      <td>-6.220467e-01</td>\n",
              "      <td>0.782980</td>\n",
              "      <td>NaN</td>\n",
              "      <td>NaN</td>\n",
              "    </tr>\n",
              "    <tr>\n",
              "      <th>9</th>\n",
              "      <td>2023-11-23</td>\n",
              "      <td>550689.508324</td>\n",
              "      <td>0</td>\n",
              "      <td>-9.945219e-01</td>\n",
              "      <td>0.104528</td>\n",
              "      <td>-5.000000e-01</td>\n",
              "      <td>0.866025</td>\n",
              "      <td>0.433884</td>\n",
              "      <td>-0.900969</td>\n",
              "      <td>-6.084769e-01</td>\n",
              "      <td>0.793572</td>\n",
              "      <td>NaN</td>\n",
              "      <td>NaN</td>\n",
              "    </tr>\n",
              "    <tr>\n",
              "      <th>10</th>\n",
              "      <td>2023-11-24</td>\n",
              "      <td>554647.294220</td>\n",
              "      <td>0</td>\n",
              "      <td>-9.510565e-01</td>\n",
              "      <td>0.309017</td>\n",
              "      <td>-5.000000e-01</td>\n",
              "      <td>0.866025</td>\n",
              "      <td>-0.433884</td>\n",
              "      <td>-0.900969</td>\n",
              "      <td>-5.947267e-01</td>\n",
              "      <td>0.803928</td>\n",
              "      <td>NaN</td>\n",
              "      <td>NaN</td>\n",
              "    </tr>\n",
              "    <tr>\n",
              "      <th>11</th>\n",
              "      <td>2023-11-25</td>\n",
              "      <td>568277.235685</td>\n",
              "      <td>1</td>\n",
              "      <td>-8.660254e-01</td>\n",
              "      <td>0.500000</td>\n",
              "      <td>-5.000000e-01</td>\n",
              "      <td>0.866025</td>\n",
              "      <td>-0.974928</td>\n",
              "      <td>-0.222521</td>\n",
              "      <td>-5.808003e-01</td>\n",
              "      <td>0.814046</td>\n",
              "      <td>NaN</td>\n",
              "      <td>NaN</td>\n",
              "    </tr>\n",
              "    <tr>\n",
              "      <th>12</th>\n",
              "      <td>2023-11-26</td>\n",
              "      <td>519246.319413</td>\n",
              "      <td>1</td>\n",
              "      <td>-7.431448e-01</td>\n",
              "      <td>0.669131</td>\n",
              "      <td>-5.000000e-01</td>\n",
              "      <td>0.866025</td>\n",
              "      <td>-0.781831</td>\n",
              "      <td>0.623490</td>\n",
              "      <td>-5.667018e-01</td>\n",
              "      <td>0.823923</td>\n",
              "      <td>NaN</td>\n",
              "      <td>NaN</td>\n",
              "    </tr>\n",
              "    <tr>\n",
              "      <th>13</th>\n",
              "      <td>2023-11-27</td>\n",
              "      <td>608415.712688</td>\n",
              "      <td>0</td>\n",
              "      <td>-5.877853e-01</td>\n",
              "      <td>0.809017</td>\n",
              "      <td>-5.000000e-01</td>\n",
              "      <td>0.866025</td>\n",
              "      <td>0.000000</td>\n",
              "      <td>1.000000</td>\n",
              "      <td>-5.524353e-01</td>\n",
              "      <td>0.833556</td>\n",
              "      <td>NaN</td>\n",
              "      <td>NaN</td>\n",
              "    </tr>\n",
              "    <tr>\n",
              "      <th>14</th>\n",
              "      <td>2023-11-28</td>\n",
              "      <td>578585.312600</td>\n",
              "      <td>0</td>\n",
              "      <td>-4.067366e-01</td>\n",
              "      <td>0.913545</td>\n",
              "      <td>-5.000000e-01</td>\n",
              "      <td>0.866025</td>\n",
              "      <td>0.781831</td>\n",
              "      <td>0.623490</td>\n",
              "      <td>-5.380052e-01</td>\n",
              "      <td>0.842942</td>\n",
              "      <td>NaN</td>\n",
              "      <td>NaN</td>\n",
              "    </tr>\n",
              "    <tr>\n",
              "      <th>15</th>\n",
              "      <td>2023-11-29</td>\n",
              "      <td>575714.901780</td>\n",
              "      <td>0</td>\n",
              "      <td>-2.079117e-01</td>\n",
              "      <td>0.978148</td>\n",
              "      <td>-5.000000e-01</td>\n",
              "      <td>0.866025</td>\n",
              "      <td>0.974928</td>\n",
              "      <td>-0.222521</td>\n",
              "      <td>-5.234156e-01</td>\n",
              "      <td>0.852078</td>\n",
              "      <td>NaN</td>\n",
              "      <td>NaN</td>\n",
              "    </tr>\n",
              "    <tr>\n",
              "      <th>16</th>\n",
              "      <td>2023-11-30</td>\n",
              "      <td>516804.216896</td>\n",
              "      <td>0</td>\n",
              "      <td>-1.133108e-15</td>\n",
              "      <td>1.000000</td>\n",
              "      <td>-5.000000e-01</td>\n",
              "      <td>0.866025</td>\n",
              "      <td>0.433884</td>\n",
              "      <td>-0.900969</td>\n",
              "      <td>-5.086709e-01</td>\n",
              "      <td>0.860961</td>\n",
              "      <td>NaN</td>\n",
              "      <td>NaN</td>\n",
              "    </tr>\n",
              "    <tr>\n",
              "      <th>17</th>\n",
              "      <td>2023-12-01</td>\n",
              "      <td>624144.751488</td>\n",
              "      <td>0</td>\n",
              "      <td>2.012985e-01</td>\n",
              "      <td>0.979530</td>\n",
              "      <td>-2.449294e-16</td>\n",
              "      <td>1.000000</td>\n",
              "      <td>-0.433884</td>\n",
              "      <td>-0.900969</td>\n",
              "      <td>-4.937756e-01</td>\n",
              "      <td>0.869589</td>\n",
              "      <td>NaN</td>\n",
              "      <td>NaN</td>\n",
              "    </tr>\n",
              "    <tr>\n",
              "      <th>18</th>\n",
              "      <td>2023-12-02</td>\n",
              "      <td>577958.876660</td>\n",
              "      <td>1</td>\n",
              "      <td>3.943559e-01</td>\n",
              "      <td>0.918958</td>\n",
              "      <td>-2.449294e-16</td>\n",
              "      <td>1.000000</td>\n",
              "      <td>-0.974928</td>\n",
              "      <td>-0.222521</td>\n",
              "      <td>-4.787338e-01</td>\n",
              "      <td>0.877960</td>\n",
              "      <td>NaN</td>\n",
              "      <td>NaN</td>\n",
              "    </tr>\n",
              "    <tr>\n",
              "      <th>19</th>\n",
              "      <td>2023-12-03</td>\n",
              "      <td>538579.091040</td>\n",
              "      <td>1</td>\n",
              "      <td>5.712682e-01</td>\n",
              "      <td>0.820763</td>\n",
              "      <td>-2.449294e-16</td>\n",
              "      <td>1.000000</td>\n",
              "      <td>-0.781831</td>\n",
              "      <td>0.623490</td>\n",
              "      <td>-4.635503e-01</td>\n",
              "      <td>0.886071</td>\n",
              "      <td>NaN</td>\n",
              "      <td>NaN</td>\n",
              "    </tr>\n",
              "    <tr>\n",
              "      <th>20</th>\n",
              "      <td>2023-12-04</td>\n",
              "      <td>595295.692173</td>\n",
              "      <td>0</td>\n",
              "      <td>7.247928e-01</td>\n",
              "      <td>0.688967</td>\n",
              "      <td>-2.449294e-16</td>\n",
              "      <td>1.000000</td>\n",
              "      <td>0.000000</td>\n",
              "      <td>1.000000</td>\n",
              "      <td>-4.482293e-01</td>\n",
              "      <td>0.893919</td>\n",
              "      <td>NaN</td>\n",
              "      <td>NaN</td>\n",
              "    </tr>\n",
              "    <tr>\n",
              "      <th>21</th>\n",
              "      <td>2023-12-05</td>\n",
              "      <td>594817.306090</td>\n",
              "      <td>0</td>\n",
              "      <td>8.486443e-01</td>\n",
              "      <td>0.528964</td>\n",
              "      <td>-2.449294e-16</td>\n",
              "      <td>1.000000</td>\n",
              "      <td>0.781831</td>\n",
              "      <td>0.623490</td>\n",
              "      <td>-4.327756e-01</td>\n",
              "      <td>0.901502</td>\n",
              "      <td>NaN</td>\n",
              "      <td>NaN</td>\n",
              "    </tr>\n",
              "    <tr>\n",
              "      <th>22</th>\n",
              "      <td>2023-12-06</td>\n",
              "      <td>590302.841156</td>\n",
              "      <td>0</td>\n",
              "      <td>9.377521e-01</td>\n",
              "      <td>0.347305</td>\n",
              "      <td>-2.449294e-16</td>\n",
              "      <td>1.000000</td>\n",
              "      <td>0.974928</td>\n",
              "      <td>-0.222521</td>\n",
              "      <td>-4.171936e-01</td>\n",
              "      <td>0.908818</td>\n",
              "      <td>NaN</td>\n",
              "      <td>NaN</td>\n",
              "    </tr>\n",
              "    <tr>\n",
              "      <th>23</th>\n",
              "      <td>2023-12-07</td>\n",
              "      <td>600606.881024</td>\n",
              "      <td>0</td>\n",
              "      <td>9.884683e-01</td>\n",
              "      <td>0.151428</td>\n",
              "      <td>-2.449294e-16</td>\n",
              "      <td>1.000000</td>\n",
              "      <td>0.433884</td>\n",
              "      <td>-0.900969</td>\n",
              "      <td>-4.014880e-01</td>\n",
              "      <td>0.915864</td>\n",
              "      <td>NaN</td>\n",
              "      <td>NaN</td>\n",
              "    </tr>\n",
              "    <tr>\n",
              "      <th>24</th>\n",
              "      <td>2023-12-08</td>\n",
              "      <td>597733.430723</td>\n",
              "      <td>0</td>\n",
              "      <td>9.987165e-01</td>\n",
              "      <td>-0.050649</td>\n",
              "      <td>-2.449294e-16</td>\n",
              "      <td>1.000000</td>\n",
              "      <td>-0.433884</td>\n",
              "      <td>-0.900969</td>\n",
              "      <td>-3.856634e-01</td>\n",
              "      <td>0.922640</td>\n",
              "      <td>NaN</td>\n",
              "      <td>NaN</td>\n",
              "    </tr>\n",
              "    <tr>\n",
              "      <th>25</th>\n",
              "      <td>2023-12-09</td>\n",
              "      <td>594784.244160</td>\n",
              "      <td>1</td>\n",
              "      <td>9.680771e-01</td>\n",
              "      <td>-0.250653</td>\n",
              "      <td>-2.449294e-16</td>\n",
              "      <td>1.000000</td>\n",
              "      <td>-0.974928</td>\n",
              "      <td>-0.222521</td>\n",
              "      <td>-3.697245e-01</td>\n",
              "      <td>0.929141</td>\n",
              "      <td>NaN</td>\n",
              "      <td>NaN</td>\n",
              "    </tr>\n",
              "    <tr>\n",
              "      <th>26</th>\n",
              "      <td>2023-12-10</td>\n",
              "      <td>555327.113247</td>\n",
              "      <td>1</td>\n",
              "      <td>8.978045e-01</td>\n",
              "      <td>-0.440394</td>\n",
              "      <td>-2.449294e-16</td>\n",
              "      <td>1.000000</td>\n",
              "      <td>-0.781831</td>\n",
              "      <td>0.623490</td>\n",
              "      <td>-3.536761e-01</td>\n",
              "      <td>0.935368</td>\n",
              "      <td>NaN</td>\n",
              "      <td>NaN</td>\n",
              "    </tr>\n",
              "    <tr>\n",
              "      <th>27</th>\n",
              "      <td>2023-12-11</td>\n",
              "      <td>586667.425636</td>\n",
              "      <td>0</td>\n",
              "      <td>7.907757e-01</td>\n",
              "      <td>-0.612106</td>\n",
              "      <td>-2.449294e-16</td>\n",
              "      <td>1.000000</td>\n",
              "      <td>0.000000</td>\n",
              "      <td>1.000000</td>\n",
              "      <td>-3.375229e-01</td>\n",
              "      <td>0.941317</td>\n",
              "      <td>NaN</td>\n",
              "      <td>NaN</td>\n",
              "    </tr>\n",
              "    <tr>\n",
              "      <th>28</th>\n",
              "      <td>2023-12-12</td>\n",
              "      <td>582995.352360</td>\n",
              "      <td>0</td>\n",
              "      <td>6.513725e-01</td>\n",
              "      <td>-0.758758</td>\n",
              "      <td>-2.449294e-16</td>\n",
              "      <td>1.000000</td>\n",
              "      <td>0.781831</td>\n",
              "      <td>0.623490</td>\n",
              "      <td>-3.212697e-01</td>\n",
              "      <td>0.946988</td>\n",
              "      <td>NaN</td>\n",
              "      <td>NaN</td>\n",
              "    </tr>\n",
              "    <tr>\n",
              "      <th>29</th>\n",
              "      <td>2023-12-13</td>\n",
              "      <td>600989.313485</td>\n",
              "      <td>0</td>\n",
              "      <td>4.853020e-01</td>\n",
              "      <td>-0.874347</td>\n",
              "      <td>-2.449294e-16</td>\n",
              "      <td>1.000000</td>\n",
              "      <td>0.974928</td>\n",
              "      <td>-0.222521</td>\n",
              "      <td>-3.049212e-01</td>\n",
              "      <td>0.952378</td>\n",
              "      <td>NaN</td>\n",
              "      <td>NaN</td>\n",
              "    </tr>\n",
              "    <tr>\n",
              "      <th>30</th>\n",
              "      <td>2023-12-14</td>\n",
              "      <td>617320.784948</td>\n",
              "      <td>0</td>\n",
              "      <td>2.993631e-01</td>\n",
              "      <td>-0.954139</td>\n",
              "      <td>-2.449294e-16</td>\n",
              "      <td>1.000000</td>\n",
              "      <td>0.433884</td>\n",
              "      <td>-0.900969</td>\n",
              "      <td>-2.884824e-01</td>\n",
              "      <td>0.957485</td>\n",
              "      <td>NaN</td>\n",
              "      <td>NaN</td>\n",
              "    </tr>\n",
              "    <tr>\n",
              "      <th>31</th>\n",
              "      <td>2023-12-15</td>\n",
              "      <td>596293.835490</td>\n",
              "      <td>0</td>\n",
              "      <td>1.011683e-01</td>\n",
              "      <td>-0.994869</td>\n",
              "      <td>-2.449294e-16</td>\n",
              "      <td>1.000000</td>\n",
              "      <td>-0.433884</td>\n",
              "      <td>-0.900969</td>\n",
              "      <td>-2.719582e-01</td>\n",
              "      <td>0.962309</td>\n",
              "      <td>NaN</td>\n",
              "      <td>NaN</td>\n",
              "    </tr>\n",
              "    <tr>\n",
              "      <th>32</th>\n",
              "      <td>2023-12-16</td>\n",
              "      <td>599334.573525</td>\n",
              "      <td>1</td>\n",
              "      <td>-1.011683e-01</td>\n",
              "      <td>-0.994869</td>\n",
              "      <td>-2.449294e-16</td>\n",
              "      <td>1.000000</td>\n",
              "      <td>-0.974928</td>\n",
              "      <td>-0.222521</td>\n",
              "      <td>-2.553533e-01</td>\n",
              "      <td>0.966848</td>\n",
              "      <td>NaN</td>\n",
              "      <td>NaN</td>\n",
              "    </tr>\n",
              "    <tr>\n",
              "      <th>33</th>\n",
              "      <td>2023-12-17</td>\n",
              "      <td>561998.780517</td>\n",
              "      <td>1</td>\n",
              "      <td>-2.993631e-01</td>\n",
              "      <td>-0.954139</td>\n",
              "      <td>-2.449294e-16</td>\n",
              "      <td>1.000000</td>\n",
              "      <td>-0.781831</td>\n",
              "      <td>0.623490</td>\n",
              "      <td>-2.386728e-01</td>\n",
              "      <td>0.971100</td>\n",
              "      <td>NaN</td>\n",
              "      <td>NaN</td>\n",
              "    </tr>\n",
              "    <tr>\n",
              "      <th>34</th>\n",
              "      <td>2023-12-18</td>\n",
              "      <td>591225.000000</td>\n",
              "      <td>0</td>\n",
              "      <td>-4.853020e-01</td>\n",
              "      <td>-0.874347</td>\n",
              "      <td>-2.449294e-16</td>\n",
              "      <td>1.000000</td>\n",
              "      <td>0.000000</td>\n",
              "      <td>1.000000</td>\n",
              "      <td>-2.219215e-01</td>\n",
              "      <td>0.975065</td>\n",
              "      <td>NaN</td>\n",
              "      <td>NaN</td>\n",
              "    </tr>\n",
              "    <tr>\n",
              "      <th>35</th>\n",
              "      <td>2023-12-19</td>\n",
              "      <td>583219.818499</td>\n",
              "      <td>0</td>\n",
              "      <td>-6.513725e-01</td>\n",
              "      <td>-0.758758</td>\n",
              "      <td>-2.449294e-16</td>\n",
              "      <td>1.000000</td>\n",
              "      <td>0.781831</td>\n",
              "      <td>0.623490</td>\n",
              "      <td>-2.051045e-01</td>\n",
              "      <td>0.978740</td>\n",
              "      <td>NaN</td>\n",
              "      <td>NaN</td>\n",
              "    </tr>\n",
              "    <tr>\n",
              "      <th>36</th>\n",
              "      <td>2023-12-20</td>\n",
              "      <td>583960.393272</td>\n",
              "      <td>0</td>\n",
              "      <td>-7.907757e-01</td>\n",
              "      <td>-0.612106</td>\n",
              "      <td>-2.449294e-16</td>\n",
              "      <td>1.000000</td>\n",
              "      <td>0.974928</td>\n",
              "      <td>-0.222521</td>\n",
              "      <td>-1.882267e-01</td>\n",
              "      <td>0.982126</td>\n",
              "      <td>NaN</td>\n",
              "      <td>NaN</td>\n",
              "    </tr>\n",
              "    <tr>\n",
              "      <th>37</th>\n",
              "      <td>2023-12-21</td>\n",
              "      <td>587184.746016</td>\n",
              "      <td>0</td>\n",
              "      <td>-8.978045e-01</td>\n",
              "      <td>-0.440394</td>\n",
              "      <td>-2.449294e-16</td>\n",
              "      <td>1.000000</td>\n",
              "      <td>0.433884</td>\n",
              "      <td>-0.900969</td>\n",
              "      <td>-1.712931e-01</td>\n",
              "      <td>0.985220</td>\n",
              "      <td>NaN</td>\n",
              "      <td>NaN</td>\n",
              "    </tr>\n",
              "    <tr>\n",
              "      <th>38</th>\n",
              "      <td>2023-12-22</td>\n",
              "      <td>586486.401692</td>\n",
              "      <td>0</td>\n",
              "      <td>-9.680771e-01</td>\n",
              "      <td>-0.250653</td>\n",
              "      <td>-2.449294e-16</td>\n",
              "      <td>1.000000</td>\n",
              "      <td>-0.433884</td>\n",
              "      <td>-0.900969</td>\n",
              "      <td>-1.543088e-01</td>\n",
              "      <td>0.988023</td>\n",
              "      <td>NaN</td>\n",
              "      <td>NaN</td>\n",
              "    </tr>\n",
              "    <tr>\n",
              "      <th>39</th>\n",
              "      <td>2023-12-23</td>\n",
              "      <td>565619.814480</td>\n",
              "      <td>1</td>\n",
              "      <td>-9.987165e-01</td>\n",
              "      <td>-0.050649</td>\n",
              "      <td>-2.449294e-16</td>\n",
              "      <td>1.000000</td>\n",
              "      <td>-0.974928</td>\n",
              "      <td>-0.222521</td>\n",
              "      <td>-1.372788e-01</td>\n",
              "      <td>0.990532</td>\n",
              "      <td>NaN</td>\n",
              "      <td>NaN</td>\n",
              "    </tr>\n",
              "    <tr>\n",
              "      <th>40</th>\n",
              "      <td>2023-12-24</td>\n",
              "      <td>556015.517748</td>\n",
              "      <td>1</td>\n",
              "      <td>-9.884683e-01</td>\n",
              "      <td>0.151428</td>\n",
              "      <td>-2.449294e-16</td>\n",
              "      <td>1.000000</td>\n",
              "      <td>-0.781831</td>\n",
              "      <td>0.623490</td>\n",
              "      <td>-1.202080e-01</td>\n",
              "      <td>0.992749</td>\n",
              "      <td>NaN</td>\n",
              "      <td>NaN</td>\n",
              "    </tr>\n",
              "    <tr>\n",
              "      <th>41</th>\n",
              "      <td>2023-12-25</td>\n",
              "      <td>592294.579128</td>\n",
              "      <td>0</td>\n",
              "      <td>-9.377521e-01</td>\n",
              "      <td>0.347305</td>\n",
              "      <td>-2.449294e-16</td>\n",
              "      <td>1.000000</td>\n",
              "      <td>0.000000</td>\n",
              "      <td>1.000000</td>\n",
              "      <td>-1.031017e-01</td>\n",
              "      <td>0.994671</td>\n",
              "      <td>NaN</td>\n",
              "      <td>NaN</td>\n",
              "    </tr>\n",
              "    <tr>\n",
              "      <th>42</th>\n",
              "      <td>2023-12-26</td>\n",
              "      <td>599715.663484</td>\n",
              "      <td>0</td>\n",
              "      <td>-8.486443e-01</td>\n",
              "      <td>0.528964</td>\n",
              "      <td>-2.449294e-16</td>\n",
              "      <td>1.000000</td>\n",
              "      <td>0.781831</td>\n",
              "      <td>0.623490</td>\n",
              "      <td>-8.596480e-02</td>\n",
              "      <td>0.996298</td>\n",
              "      <td>NaN</td>\n",
              "      <td>NaN</td>\n",
              "    </tr>\n",
              "    <tr>\n",
              "      <th>43</th>\n",
              "      <td>2023-12-27</td>\n",
              "      <td>571390.999704</td>\n",
              "      <td>0</td>\n",
              "      <td>-7.247928e-01</td>\n",
              "      <td>0.688967</td>\n",
              "      <td>-2.449294e-16</td>\n",
              "      <td>1.000000</td>\n",
              "      <td>0.974928</td>\n",
              "      <td>-0.222521</td>\n",
              "      <td>-6.880243e-02</td>\n",
              "      <td>0.997630</td>\n",
              "      <td>NaN</td>\n",
              "      <td>NaN</td>\n",
              "    </tr>\n",
              "    <tr>\n",
              "      <th>44</th>\n",
              "      <td>2023-12-28</td>\n",
              "      <td>576890.976666</td>\n",
              "      <td>0</td>\n",
              "      <td>-5.712682e-01</td>\n",
              "      <td>0.820763</td>\n",
              "      <td>-2.449294e-16</td>\n",
              "      <td>1.000000</td>\n",
              "      <td>0.433884</td>\n",
              "      <td>-0.900969</td>\n",
              "      <td>-5.161967e-02</td>\n",
              "      <td>0.998667</td>\n",
              "      <td>NaN</td>\n",
              "      <td>NaN</td>\n",
              "    </tr>\n",
              "    <tr>\n",
              "      <th>45</th>\n",
              "      <td>2023-12-29</td>\n",
              "      <td>572104.814138</td>\n",
              "      <td>0</td>\n",
              "      <td>-3.943559e-01</td>\n",
              "      <td>0.918958</td>\n",
              "      <td>-2.449294e-16</td>\n",
              "      <td>1.000000</td>\n",
              "      <td>-0.433884</td>\n",
              "      <td>-0.900969</td>\n",
              "      <td>-3.442161e-02</td>\n",
              "      <td>0.999407</td>\n",
              "      <td>NaN</td>\n",
              "      <td>NaN</td>\n",
              "    </tr>\n",
              "    <tr>\n",
              "      <th>46</th>\n",
              "      <td>2023-12-30</td>\n",
              "      <td>585843.459244</td>\n",
              "      <td>1</td>\n",
              "      <td>-2.012985e-01</td>\n",
              "      <td>0.979530</td>\n",
              "      <td>-2.449294e-16</td>\n",
              "      <td>1.000000</td>\n",
              "      <td>-0.974928</td>\n",
              "      <td>-0.222521</td>\n",
              "      <td>-1.721336e-02</td>\n",
              "      <td>0.999852</td>\n",
              "      <td>NaN</td>\n",
              "      <td>NaN</td>\n",
              "    </tr>\n",
              "    <tr>\n",
              "      <th>47</th>\n",
              "      <td>2023-12-31</td>\n",
              "      <td>537720.849840</td>\n",
              "      <td>1</td>\n",
              "      <td>-2.449294e-16</td>\n",
              "      <td>1.000000</td>\n",
              "      <td>-2.449294e-16</td>\n",
              "      <td>1.000000</td>\n",
              "      <td>-0.781831</td>\n",
              "      <td>0.623490</td>\n",
              "      <td>6.432491e-16</td>\n",
              "      <td>1.000000</td>\n",
              "      <td>NaN</td>\n",
              "      <td>NaN</td>\n",
              "    </tr>\n",
              "  </tbody>\n",
              "</table>\n",
              "</div>"
            ],
            "text/plain": [
              "         Date          Sales  IsWeekend       Day_sin   Day_cos     Month_sin  \\\n",
              "0  2023-11-14  448402.566024          0  2.079117e-01 -0.978148 -5.000000e-01   \n",
              "1  2023-11-15  457435.032133          0  5.665539e-16 -1.000000 -5.000000e-01   \n",
              "2  2023-11-16  471428.896804          0 -2.079117e-01 -0.978148 -5.000000e-01   \n",
              "3  2023-11-17  475409.127696          0 -4.067366e-01 -0.913545 -5.000000e-01   \n",
              "4  2023-11-18  514993.122618          1 -5.877853e-01 -0.809017 -5.000000e-01   \n",
              "5  2023-11-19  464018.006250          1 -7.431448e-01 -0.669131 -5.000000e-01   \n",
              "6  2023-11-20  544307.729660          0 -8.660254e-01 -0.500000 -5.000000e-01   \n",
              "7  2023-11-21  542697.508514          0 -9.510565e-01 -0.309017 -5.000000e-01   \n",
              "8  2023-11-22  539481.678832          0 -9.945219e-01 -0.104528 -5.000000e-01   \n",
              "9  2023-11-23  550689.508324          0 -9.945219e-01  0.104528 -5.000000e-01   \n",
              "10 2023-11-24  554647.294220          0 -9.510565e-01  0.309017 -5.000000e-01   \n",
              "11 2023-11-25  568277.235685          1 -8.660254e-01  0.500000 -5.000000e-01   \n",
              "12 2023-11-26  519246.319413          1 -7.431448e-01  0.669131 -5.000000e-01   \n",
              "13 2023-11-27  608415.712688          0 -5.877853e-01  0.809017 -5.000000e-01   \n",
              "14 2023-11-28  578585.312600          0 -4.067366e-01  0.913545 -5.000000e-01   \n",
              "15 2023-11-29  575714.901780          0 -2.079117e-01  0.978148 -5.000000e-01   \n",
              "16 2023-11-30  516804.216896          0 -1.133108e-15  1.000000 -5.000000e-01   \n",
              "17 2023-12-01  624144.751488          0  2.012985e-01  0.979530 -2.449294e-16   \n",
              "18 2023-12-02  577958.876660          1  3.943559e-01  0.918958 -2.449294e-16   \n",
              "19 2023-12-03  538579.091040          1  5.712682e-01  0.820763 -2.449294e-16   \n",
              "20 2023-12-04  595295.692173          0  7.247928e-01  0.688967 -2.449294e-16   \n",
              "21 2023-12-05  594817.306090          0  8.486443e-01  0.528964 -2.449294e-16   \n",
              "22 2023-12-06  590302.841156          0  9.377521e-01  0.347305 -2.449294e-16   \n",
              "23 2023-12-07  600606.881024          0  9.884683e-01  0.151428 -2.449294e-16   \n",
              "24 2023-12-08  597733.430723          0  9.987165e-01 -0.050649 -2.449294e-16   \n",
              "25 2023-12-09  594784.244160          1  9.680771e-01 -0.250653 -2.449294e-16   \n",
              "26 2023-12-10  555327.113247          1  8.978045e-01 -0.440394 -2.449294e-16   \n",
              "27 2023-12-11  586667.425636          0  7.907757e-01 -0.612106 -2.449294e-16   \n",
              "28 2023-12-12  582995.352360          0  6.513725e-01 -0.758758 -2.449294e-16   \n",
              "29 2023-12-13  600989.313485          0  4.853020e-01 -0.874347 -2.449294e-16   \n",
              "30 2023-12-14  617320.784948          0  2.993631e-01 -0.954139 -2.449294e-16   \n",
              "31 2023-12-15  596293.835490          0  1.011683e-01 -0.994869 -2.449294e-16   \n",
              "32 2023-12-16  599334.573525          1 -1.011683e-01 -0.994869 -2.449294e-16   \n",
              "33 2023-12-17  561998.780517          1 -2.993631e-01 -0.954139 -2.449294e-16   \n",
              "34 2023-12-18  591225.000000          0 -4.853020e-01 -0.874347 -2.449294e-16   \n",
              "35 2023-12-19  583219.818499          0 -6.513725e-01 -0.758758 -2.449294e-16   \n",
              "36 2023-12-20  583960.393272          0 -7.907757e-01 -0.612106 -2.449294e-16   \n",
              "37 2023-12-21  587184.746016          0 -8.978045e-01 -0.440394 -2.449294e-16   \n",
              "38 2023-12-22  586486.401692          0 -9.680771e-01 -0.250653 -2.449294e-16   \n",
              "39 2023-12-23  565619.814480          1 -9.987165e-01 -0.050649 -2.449294e-16   \n",
              "40 2023-12-24  556015.517748          1 -9.884683e-01  0.151428 -2.449294e-16   \n",
              "41 2023-12-25  592294.579128          0 -9.377521e-01  0.347305 -2.449294e-16   \n",
              "42 2023-12-26  599715.663484          0 -8.486443e-01  0.528964 -2.449294e-16   \n",
              "43 2023-12-27  571390.999704          0 -7.247928e-01  0.688967 -2.449294e-16   \n",
              "44 2023-12-28  576890.976666          0 -5.712682e-01  0.820763 -2.449294e-16   \n",
              "45 2023-12-29  572104.814138          0 -3.943559e-01  0.918958 -2.449294e-16   \n",
              "46 2023-12-30  585843.459244          1 -2.012985e-01  0.979530 -2.449294e-16   \n",
              "47 2023-12-31  537720.849840          1 -2.449294e-16  1.000000 -2.449294e-16   \n",
              "\n",
              "    Month_cos  Weekday_sin  Weekday_cos  DayOfYear_sin  DayOfYear_cos  \\\n",
              "0    0.866025     0.781831     0.623490  -7.236440e-01       0.690173   \n",
              "1    0.866025     0.974928    -0.222521  -7.116566e-01       0.702527   \n",
              "2    0.866025     0.433884    -0.900969  -6.994583e-01       0.714673   \n",
              "3    0.866025    -0.433884    -0.900969  -6.870528e-01       0.726608   \n",
              "4    0.866025    -0.974928    -0.222521  -6.744436e-01       0.738326   \n",
              "5    0.866025    -0.781831     0.623490  -6.616346e-01       0.749826   \n",
              "6    0.866025     0.000000     1.000000  -6.486296e-01       0.761104   \n",
              "7    0.866025     0.781831     0.623490  -6.354323e-01       0.772157   \n",
              "8    0.866025     0.974928    -0.222521  -6.220467e-01       0.782980   \n",
              "9    0.866025     0.433884    -0.900969  -6.084769e-01       0.793572   \n",
              "10   0.866025    -0.433884    -0.900969  -5.947267e-01       0.803928   \n",
              "11   0.866025    -0.974928    -0.222521  -5.808003e-01       0.814046   \n",
              "12   0.866025    -0.781831     0.623490  -5.667018e-01       0.823923   \n",
              "13   0.866025     0.000000     1.000000  -5.524353e-01       0.833556   \n",
              "14   0.866025     0.781831     0.623490  -5.380052e-01       0.842942   \n",
              "15   0.866025     0.974928    -0.222521  -5.234156e-01       0.852078   \n",
              "16   0.866025     0.433884    -0.900969  -5.086709e-01       0.860961   \n",
              "17   1.000000    -0.433884    -0.900969  -4.937756e-01       0.869589   \n",
              "18   1.000000    -0.974928    -0.222521  -4.787338e-01       0.877960   \n",
              "19   1.000000    -0.781831     0.623490  -4.635503e-01       0.886071   \n",
              "20   1.000000     0.000000     1.000000  -4.482293e-01       0.893919   \n",
              "21   1.000000     0.781831     0.623490  -4.327756e-01       0.901502   \n",
              "22   1.000000     0.974928    -0.222521  -4.171936e-01       0.908818   \n",
              "23   1.000000     0.433884    -0.900969  -4.014880e-01       0.915864   \n",
              "24   1.000000    -0.433884    -0.900969  -3.856634e-01       0.922640   \n",
              "25   1.000000    -0.974928    -0.222521  -3.697245e-01       0.929141   \n",
              "26   1.000000    -0.781831     0.623490  -3.536761e-01       0.935368   \n",
              "27   1.000000     0.000000     1.000000  -3.375229e-01       0.941317   \n",
              "28   1.000000     0.781831     0.623490  -3.212697e-01       0.946988   \n",
              "29   1.000000     0.974928    -0.222521  -3.049212e-01       0.952378   \n",
              "30   1.000000     0.433884    -0.900969  -2.884824e-01       0.957485   \n",
              "31   1.000000    -0.433884    -0.900969  -2.719582e-01       0.962309   \n",
              "32   1.000000    -0.974928    -0.222521  -2.553533e-01       0.966848   \n",
              "33   1.000000    -0.781831     0.623490  -2.386728e-01       0.971100   \n",
              "34   1.000000     0.000000     1.000000  -2.219215e-01       0.975065   \n",
              "35   1.000000     0.781831     0.623490  -2.051045e-01       0.978740   \n",
              "36   1.000000     0.974928    -0.222521  -1.882267e-01       0.982126   \n",
              "37   1.000000     0.433884    -0.900969  -1.712931e-01       0.985220   \n",
              "38   1.000000    -0.433884    -0.900969  -1.543088e-01       0.988023   \n",
              "39   1.000000    -0.974928    -0.222521  -1.372788e-01       0.990532   \n",
              "40   1.000000    -0.781831     0.623490  -1.202080e-01       0.992749   \n",
              "41   1.000000     0.000000     1.000000  -1.031017e-01       0.994671   \n",
              "42   1.000000     0.781831     0.623490  -8.596480e-02       0.996298   \n",
              "43   1.000000     0.974928    -0.222521  -6.880243e-02       0.997630   \n",
              "44   1.000000     0.433884    -0.900969  -5.161967e-02       0.998667   \n",
              "45   1.000000    -0.433884    -0.900969  -3.442161e-02       0.999407   \n",
              "46   1.000000    -0.974928    -0.222521  -1.721336e-02       0.999852   \n",
              "47   1.000000    -0.781831     0.623490   6.432491e-16       1.000000   \n",
              "\n",
              "    Sales_MA_7  Predicted_Sales  \n",
              "0          NaN              NaN  \n",
              "1          NaN              NaN  \n",
              "2          NaN              NaN  \n",
              "3          NaN              NaN  \n",
              "4          NaN              NaN  \n",
              "5          NaN              NaN  \n",
              "6          NaN              NaN  \n",
              "7          NaN              NaN  \n",
              "8          NaN              NaN  \n",
              "9          NaN              NaN  \n",
              "10         NaN              NaN  \n",
              "11         NaN              NaN  \n",
              "12         NaN              NaN  \n",
              "13         NaN              NaN  \n",
              "14         NaN              NaN  \n",
              "15         NaN              NaN  \n",
              "16         NaN              NaN  \n",
              "17         NaN              NaN  \n",
              "18         NaN              NaN  \n",
              "19         NaN              NaN  \n",
              "20         NaN              NaN  \n",
              "21         NaN              NaN  \n",
              "22         NaN              NaN  \n",
              "23         NaN              NaN  \n",
              "24         NaN              NaN  \n",
              "25         NaN              NaN  \n",
              "26         NaN              NaN  \n",
              "27         NaN              NaN  \n",
              "28         NaN              NaN  \n",
              "29         NaN              NaN  \n",
              "30         NaN              NaN  \n",
              "31         NaN              NaN  \n",
              "32         NaN              NaN  \n",
              "33         NaN              NaN  \n",
              "34         NaN              NaN  \n",
              "35         NaN              NaN  \n",
              "36         NaN              NaN  \n",
              "37         NaN              NaN  \n",
              "38         NaN              NaN  \n",
              "39         NaN              NaN  \n",
              "40         NaN              NaN  \n",
              "41         NaN              NaN  \n",
              "42         NaN              NaN  \n",
              "43         NaN              NaN  \n",
              "44         NaN              NaN  \n",
              "45         NaN              NaN  \n",
              "46         NaN              NaN  \n",
              "47         NaN              NaN  "
            ]
          },
          "execution_count": 21,
          "metadata": {},
          "output_type": "execute_result"
        }
      ],
      "source": [
        "test_df = pd.concat([val_df[-7:],test_df]).reset_index(drop=True)\n",
        "test_df['Sales_MA_7'] = np.nan\n",
        "test_df['Predicted_Sales'] = np.nan\n",
        "test_df"
      ]
    },
    {
      "cell_type": "code",
      "execution_count": 23,
      "metadata": {
        "colab": {
          "base_uri": "https://localhost:8080/"
        },
        "id": "DvLjPgFTF2z7",
        "outputId": "9592cdf7-dae0-4da1-ce95-1ab10cc210a4"
      },
      "outputs": [
        {
          "name": "stdout",
          "output_type": "stream",
          "text": [
            "\u001b[1m1/1\u001b[0m \u001b[32m━━━━━━━━━━━━━━━━━━━━\u001b[0m\u001b[37m\u001b[0m \u001b[1m0s\u001b[0m 90ms/step\n",
            "\u001b[1m1/1\u001b[0m \u001b[32m━━━━━━━━━━━━━━━━━━━━\u001b[0m\u001b[37m\u001b[0m \u001b[1m0s\u001b[0m 23ms/step\n",
            "\u001b[1m1/1\u001b[0m \u001b[32m━━━━━━━━━━━━━━━━━━━━\u001b[0m\u001b[37m\u001b[0m \u001b[1m0s\u001b[0m 37ms/step\n",
            "\u001b[1m1/1\u001b[0m \u001b[32m━━━━━━━━━━━━━━━━━━━━\u001b[0m\u001b[37m\u001b[0m \u001b[1m0s\u001b[0m 40ms/step\n",
            "\u001b[1m1/1\u001b[0m \u001b[32m━━━━━━━━━━━━━━━━━━━━\u001b[0m\u001b[37m\u001b[0m \u001b[1m0s\u001b[0m 35ms/step\n",
            "\u001b[1m1/1\u001b[0m \u001b[32m━━━━━━━━━━━━━━━━━━━━\u001b[0m\u001b[37m\u001b[0m \u001b[1m0s\u001b[0m 28ms/step\n",
            "\u001b[1m1/1\u001b[0m \u001b[32m━━━━━━━━━━━━━━━━━━━━\u001b[0m\u001b[37m\u001b[0m \u001b[1m0s\u001b[0m 30ms/step\n",
            "\u001b[1m1/1\u001b[0m \u001b[32m━━━━━━━━━━━━━━━━━━━━\u001b[0m\u001b[37m\u001b[0m \u001b[1m0s\u001b[0m 43ms/step\n",
            "\u001b[1m1/1\u001b[0m \u001b[32m━━━━━━━━━━━━━━━━━━━━\u001b[0m\u001b[37m\u001b[0m \u001b[1m0s\u001b[0m 68ms/step\n",
            "\u001b[1m1/1\u001b[0m \u001b[32m━━━━━━━━━━━━━━━━━━━━\u001b[0m\u001b[37m\u001b[0m \u001b[1m0s\u001b[0m 39ms/step\n",
            "\u001b[1m1/1\u001b[0m \u001b[32m━━━━━━━━━━━━━━━━━━━━\u001b[0m\u001b[37m\u001b[0m \u001b[1m0s\u001b[0m 35ms/step\n",
            "\u001b[1m1/1\u001b[0m \u001b[32m━━━━━━━━━━━━━━━━━━━━\u001b[0m\u001b[37m\u001b[0m \u001b[1m0s\u001b[0m 32ms/step\n",
            "\u001b[1m1/1\u001b[0m \u001b[32m━━━━━━━━━━━━━━━━━━━━\u001b[0m\u001b[37m\u001b[0m \u001b[1m0s\u001b[0m 36ms/step\n",
            "\u001b[1m1/1\u001b[0m \u001b[32m━━━━━━━━━━━━━━━━━━━━\u001b[0m\u001b[37m\u001b[0m \u001b[1m0s\u001b[0m 41ms/step\n",
            "\u001b[1m1/1\u001b[0m \u001b[32m━━━━━━━━━━━━━━━━━━━━\u001b[0m\u001b[37m\u001b[0m \u001b[1m0s\u001b[0m 31ms/step\n",
            "\u001b[1m1/1\u001b[0m \u001b[32m━━━━━━━━━━━━━━━━━━━━\u001b[0m\u001b[37m\u001b[0m \u001b[1m0s\u001b[0m 33ms/step\n",
            "\u001b[1m1/1\u001b[0m \u001b[32m━━━━━━━━━━━━━━━━━━━━\u001b[0m\u001b[37m\u001b[0m \u001b[1m0s\u001b[0m 41ms/step\n",
            "\u001b[1m1/1\u001b[0m \u001b[32m━━━━━━━━━━━━━━━━━━━━\u001b[0m\u001b[37m\u001b[0m \u001b[1m0s\u001b[0m 47ms/step\n",
            "\u001b[1m1/1\u001b[0m \u001b[32m━━━━━━━━━━━━━━━━━━━━\u001b[0m\u001b[37m\u001b[0m \u001b[1m0s\u001b[0m 46ms/step\n",
            "\u001b[1m1/1\u001b[0m \u001b[32m━━━━━━━━━━━━━━━━━━━━\u001b[0m\u001b[37m\u001b[0m \u001b[1m0s\u001b[0m 38ms/step\n",
            "\u001b[1m1/1\u001b[0m \u001b[32m━━━━━━━━━━━━━━━━━━━━\u001b[0m\u001b[37m\u001b[0m \u001b[1m0s\u001b[0m 32ms/step\n",
            "\u001b[1m1/1\u001b[0m \u001b[32m━━━━━━━━━━━━━━━━━━━━\u001b[0m\u001b[37m\u001b[0m \u001b[1m0s\u001b[0m 34ms/step\n",
            "\u001b[1m1/1\u001b[0m \u001b[32m━━━━━━━━━━━━━━━━━━━━\u001b[0m\u001b[37m\u001b[0m \u001b[1m0s\u001b[0m 35ms/step\n",
            "\u001b[1m1/1\u001b[0m \u001b[32m━━━━━━━━━━━━━━━━━━━━\u001b[0m\u001b[37m\u001b[0m \u001b[1m0s\u001b[0m 31ms/step\n",
            "\u001b[1m1/1\u001b[0m \u001b[32m━━━━━━━━━━━━━━━━━━━━\u001b[0m\u001b[37m\u001b[0m \u001b[1m0s\u001b[0m 38ms/step\n",
            "\u001b[1m1/1\u001b[0m \u001b[32m━━━━━━━━━━━━━━━━━━━━\u001b[0m\u001b[37m\u001b[0m \u001b[1m0s\u001b[0m 41ms/step\n",
            "\u001b[1m1/1\u001b[0m \u001b[32m━━━━━━━━━━━━━━━━━━━━\u001b[0m\u001b[37m\u001b[0m \u001b[1m0s\u001b[0m 31ms/step\n",
            "\u001b[1m1/1\u001b[0m \u001b[32m━━━━━━━━━━━━━━━━━━━━\u001b[0m\u001b[37m\u001b[0m \u001b[1m0s\u001b[0m 65ms/step\n",
            "\u001b[1m1/1\u001b[0m \u001b[32m━━━━━━━━━━━━━━━━━━━━\u001b[0m\u001b[37m\u001b[0m \u001b[1m0s\u001b[0m 47ms/step\n",
            "\u001b[1m1/1\u001b[0m \u001b[32m━━━━━━━━━━━━━━━━━━━━\u001b[0m\u001b[37m\u001b[0m \u001b[1m0s\u001b[0m 47ms/step\n",
            "\u001b[1m1/1\u001b[0m \u001b[32m━━━━━━━━━━━━━━━━━━━━\u001b[0m\u001b[37m\u001b[0m \u001b[1m0s\u001b[0m 52ms/step\n",
            "\u001b[1m1/1\u001b[0m \u001b[32m━━━━━━━━━━━━━━━━━━━━\u001b[0m\u001b[37m\u001b[0m \u001b[1m0s\u001b[0m 45ms/step\n",
            "\u001b[1m1/1\u001b[0m \u001b[32m━━━━━━━━━━━━━━━━━━━━\u001b[0m\u001b[37m\u001b[0m \u001b[1m0s\u001b[0m 38ms/step\n",
            "\u001b[1m1/1\u001b[0m \u001b[32m━━━━━━━━━━━━━━━━━━━━\u001b[0m\u001b[37m\u001b[0m \u001b[1m0s\u001b[0m 37ms/step\n",
            "\u001b[1m1/1\u001b[0m \u001b[32m━━━━━━━━━━━━━━━━━━━━\u001b[0m\u001b[37m\u001b[0m \u001b[1m0s\u001b[0m 29ms/step\n",
            "\u001b[1m1/1\u001b[0m \u001b[32m━━━━━━━━━━━━━━━━━━━━\u001b[0m\u001b[37m\u001b[0m \u001b[1m0s\u001b[0m 35ms/step\n",
            "\u001b[1m1/1\u001b[0m \u001b[32m━━━━━━━━━━━━━━━━━━━━\u001b[0m\u001b[37m\u001b[0m \u001b[1m0s\u001b[0m 38ms/step\n",
            "\u001b[1m1/1\u001b[0m \u001b[32m━━━━━━━━━━━━━━━━━━━━\u001b[0m\u001b[37m\u001b[0m \u001b[1m0s\u001b[0m 36ms/step\n",
            "\u001b[1m1/1\u001b[0m \u001b[32m━━━━━━━━━━━━━━━━━━━━\u001b[0m\u001b[37m\u001b[0m \u001b[1m0s\u001b[0m 35ms/step\n",
            "\u001b[1m1/1\u001b[0m \u001b[32m━━━━━━━━━━━━━━━━━━━━\u001b[0m\u001b[37m\u001b[0m \u001b[1m0s\u001b[0m 38ms/step\n",
            "\u001b[1m1/1\u001b[0m \u001b[32m━━━━━━━━━━━━━━━━━━━━\u001b[0m\u001b[37m\u001b[0m \u001b[1m0s\u001b[0m 35ms/step\n"
          ]
        }
      ],
      "source": [
        "for row in test_df.itertuples(index=True, name='Rows'):\n",
        "  if row.Index >= 7:\n",
        "    test_df.loc[row.Index, 'Sales_MA_7'] = test_df.iloc[row.Index-7:row.Index]['Sales'].mean()\n",
        "    X_test = np.array(test_df.loc[row.Index, features].values, dtype = np.float64)\n",
        "    test_df.loc[row.Index, 'Predicted_Sales'] = model.predict(X_test.reshape(1,len(features)))"
      ]
    },
    {
      "cell_type": "code",
      "execution_count": 24,
      "metadata": {
        "colab": {
          "base_uri": "https://localhost:8080/"
        },
        "id": "AlTwZc53U9yl",
        "outputId": "9ef3c61a-0a05-46bb-d392-9f5cefb7300f"
      },
      "outputs": [
        {
          "data": {
            "text/plain": [
              "<tf.Tensor: shape=(), dtype=float32, numpy=3.7574284076690674>"
            ]
          },
          "execution_count": 24,
          "metadata": {},
          "output_type": "execute_result"
        }
      ],
      "source": [
        "error = mape(test_df.iloc[7:]['Sales'],test_df.iloc[7:]['Predicted_Sales'])\n",
        "error"
      ]
    },
    {
      "cell_type": "code",
      "execution_count": 25,
      "metadata": {},
      "outputs": [
        {
          "name": "stderr",
          "output_type": "stream",
          "text": [
            "c:\\Users\\milan\\Desktop\\CDIS Project\\.venv\\Lib\\site-packages\\plotly\\graph_objs\\_deprecations.py:378: DeprecationWarning:\n",
            "\n",
            "plotly.graph_objs.Line is deprecated.\n",
            "Please replace it with one of the following more specific types\n",
            "  - plotly.graph_objs.scatter.Line\n",
            "  - plotly.graph_objs.layout.shape.Line\n",
            "  - etc.\n",
            "\n",
            "\n"
          ]
        },
        {
          "data": {
            "application/vnd.plotly.v1+json": {
              "config": {
                "plotlyServerURL": "https://plot.ly"
              },
              "data": [
                {
                  "mode": "lines+markers",
                  "name": "Actual Sales",
                  "type": "scatter",
                  "x": [
                    "2023-11-14T00:00:00.000000000",
                    "2023-11-15T00:00:00.000000000",
                    "2023-11-16T00:00:00.000000000",
                    "2023-11-17T00:00:00.000000000",
                    "2023-11-18T00:00:00.000000000",
                    "2023-11-19T00:00:00.000000000",
                    "2023-11-20T00:00:00.000000000",
                    "2023-11-21T00:00:00.000000000",
                    "2023-11-22T00:00:00.000000000",
                    "2023-11-23T00:00:00.000000000",
                    "2023-11-24T00:00:00.000000000",
                    "2023-11-25T00:00:00.000000000",
                    "2023-11-26T00:00:00.000000000",
                    "2023-11-27T00:00:00.000000000",
                    "2023-11-28T00:00:00.000000000",
                    "2023-11-29T00:00:00.000000000",
                    "2023-11-30T00:00:00.000000000",
                    "2023-12-01T00:00:00.000000000",
                    "2023-12-02T00:00:00.000000000",
                    "2023-12-03T00:00:00.000000000",
                    "2023-12-04T00:00:00.000000000",
                    "2023-12-05T00:00:00.000000000",
                    "2023-12-06T00:00:00.000000000",
                    "2023-12-07T00:00:00.000000000",
                    "2023-12-08T00:00:00.000000000",
                    "2023-12-09T00:00:00.000000000",
                    "2023-12-10T00:00:00.000000000",
                    "2023-12-11T00:00:00.000000000",
                    "2023-12-12T00:00:00.000000000",
                    "2023-12-13T00:00:00.000000000",
                    "2023-12-14T00:00:00.000000000",
                    "2023-12-15T00:00:00.000000000",
                    "2023-12-16T00:00:00.000000000",
                    "2023-12-17T00:00:00.000000000",
                    "2023-12-18T00:00:00.000000000",
                    "2023-12-19T00:00:00.000000000",
                    "2023-12-20T00:00:00.000000000",
                    "2023-12-21T00:00:00.000000000",
                    "2023-12-22T00:00:00.000000000",
                    "2023-12-23T00:00:00.000000000",
                    "2023-12-24T00:00:00.000000000",
                    "2023-12-25T00:00:00.000000000",
                    "2023-12-26T00:00:00.000000000",
                    "2023-12-27T00:00:00.000000000",
                    "2023-12-28T00:00:00.000000000",
                    "2023-12-29T00:00:00.000000000",
                    "2023-12-30T00:00:00.000000000",
                    "2023-12-31T00:00:00.000000000"
                  ],
                  "y": {
                    "bdata": "o8ubQ0peG0EgeecgbOsbQazJU5YTxhxBf73CgkQEHUGwko99xG4fQWZmZgZIUhxB2v6VdWecIEFv8lsE048gQS/ej1uzdiBBGAtDBEPOIEH8AKSWLu0gQU60q3iqVyFBlDMURzmxH0EJceVsP5EiQXEbDaAyqCFBsBu2zcWRIUEr/BneEIsfQf8Iw4AhDCNBW5TZwE2jIUF9y5wupm8gQdx/ZGK/KiJBINS3nAInIkHO/6uuvQMiQeaTFcM9VCJBnbmH3Mo9IkEeigJ9wCYiQcOC+zl+8iBBOPbs2VbnIUGph2i0psohQR4bgaA6VyJBSrTkkdHWIkFkWMWrizIiQZ0RpSVNSiJBmuyfj50mIUEAAAAA8goiQQpNEqNnzCFBlfJayTDSIUElz/V9YeshQeaSqs3s5SFBxoUDoedCIUEPRBYJ3/cgQRh3gyhNEyJBwyy0U0dNIkHjM9n//W8hQeKQDfT1miFBKbLWoJF1IUGSByLr5uAhQX46HrPxaCBB",
                    "dtype": "f8"
                  }
                },
                {
                  "mode": "lines+markers",
                  "name": "Predicted Sales",
                  "type": "scatter",
                  "x": [
                    "2023-11-14T00:00:00.000000000",
                    "2023-11-15T00:00:00.000000000",
                    "2023-11-16T00:00:00.000000000",
                    "2023-11-17T00:00:00.000000000",
                    "2023-11-18T00:00:00.000000000",
                    "2023-11-19T00:00:00.000000000",
                    "2023-11-20T00:00:00.000000000",
                    "2023-11-21T00:00:00.000000000",
                    "2023-11-22T00:00:00.000000000",
                    "2023-11-23T00:00:00.000000000",
                    "2023-11-24T00:00:00.000000000",
                    "2023-11-25T00:00:00.000000000",
                    "2023-11-26T00:00:00.000000000",
                    "2023-11-27T00:00:00.000000000",
                    "2023-11-28T00:00:00.000000000",
                    "2023-11-29T00:00:00.000000000",
                    "2023-11-30T00:00:00.000000000",
                    "2023-12-01T00:00:00.000000000",
                    "2023-12-02T00:00:00.000000000",
                    "2023-12-03T00:00:00.000000000",
                    "2023-12-04T00:00:00.000000000",
                    "2023-12-05T00:00:00.000000000",
                    "2023-12-06T00:00:00.000000000",
                    "2023-12-07T00:00:00.000000000",
                    "2023-12-08T00:00:00.000000000",
                    "2023-12-09T00:00:00.000000000",
                    "2023-12-10T00:00:00.000000000",
                    "2023-12-11T00:00:00.000000000",
                    "2023-12-12T00:00:00.000000000",
                    "2023-12-13T00:00:00.000000000",
                    "2023-12-14T00:00:00.000000000",
                    "2023-12-15T00:00:00.000000000",
                    "2023-12-16T00:00:00.000000000",
                    "2023-12-17T00:00:00.000000000",
                    "2023-12-18T00:00:00.000000000",
                    "2023-12-19T00:00:00.000000000",
                    "2023-12-20T00:00:00.000000000",
                    "2023-12-21T00:00:00.000000000",
                    "2023-12-22T00:00:00.000000000",
                    "2023-12-23T00:00:00.000000000",
                    "2023-12-24T00:00:00.000000000",
                    "2023-12-25T00:00:00.000000000",
                    "2023-12-26T00:00:00.000000000",
                    "2023-12-27T00:00:00.000000000",
                    "2023-12-28T00:00:00.000000000",
                    "2023-12-29T00:00:00.000000000",
                    "2023-12-30T00:00:00.000000000",
                    "2023-12-31T00:00:00.000000000"
                  ],
                  "y": {
                    "bdata": "AAAAAAAA+H8AAAAAAAD4fwAAAAAAAPh/AAAAAAAA+H8AAAAAAAD4fwAAAAAAAPh/AAAAAAAA+H8AAAAggq0dQQAAACC2gR5BAAAAwFk6H0EAAAAAuOwfQQAAAGCFTyBBAAAAwHqLIEEAAADAoMkgQQAAAKDDESFBAAAAQCU6IUEAAADA6WIhQQAAACDIPCFBAAAAQPuKIUEAAADg4JUhQQAAAGCiqyFBAAAAQN+cIUEAAACAIq8hQQAAAOCLvyFBAAAAQNcdIkEAAAAAHwAiQQAAAGAOEyJBAAAA4OYlIkEAAACgMRwiQQAAAODjDiJBAAAAYOkaIkEAAACAty0iQQAAAKAYLCJBAAAAADgxIkEAAABgujgiQQAAAIDbPSJBAAAAABw+IkEAAADg8SoiQQAAAMAICSJBAAAAoP/9IUEAAADAENghQQAAAABW0SFBAAAAQIrSIUEAAADgGeUhQQAAAID01iFBAAAAAF/LIUEAAABgMLshQQAAAKDy0SFB",
                    "dtype": "f8"
                  }
                }
              ],
              "layout": {
                "template": {
                  "data": {
                    "bar": [
                      {
                        "error_x": {
                          "color": "#2a3f5f"
                        },
                        "error_y": {
                          "color": "#2a3f5f"
                        },
                        "marker": {
                          "line": {
                            "color": "#E5ECF6",
                            "width": 0.5
                          },
                          "pattern": {
                            "fillmode": "overlay",
                            "size": 10,
                            "solidity": 0.2
                          }
                        },
                        "type": "bar"
                      }
                    ],
                    "barpolar": [
                      {
                        "marker": {
                          "line": {
                            "color": "#E5ECF6",
                            "width": 0.5
                          },
                          "pattern": {
                            "fillmode": "overlay",
                            "size": 10,
                            "solidity": 0.2
                          }
                        },
                        "type": "barpolar"
                      }
                    ],
                    "carpet": [
                      {
                        "aaxis": {
                          "endlinecolor": "#2a3f5f",
                          "gridcolor": "white",
                          "linecolor": "white",
                          "minorgridcolor": "white",
                          "startlinecolor": "#2a3f5f"
                        },
                        "baxis": {
                          "endlinecolor": "#2a3f5f",
                          "gridcolor": "white",
                          "linecolor": "white",
                          "minorgridcolor": "white",
                          "startlinecolor": "#2a3f5f"
                        },
                        "type": "carpet"
                      }
                    ],
                    "choropleth": [
                      {
                        "colorbar": {
                          "outlinewidth": 0,
                          "ticks": ""
                        },
                        "type": "choropleth"
                      }
                    ],
                    "contour": [
                      {
                        "colorbar": {
                          "outlinewidth": 0,
                          "ticks": ""
                        },
                        "colorscale": [
                          [
                            0,
                            "#0d0887"
                          ],
                          [
                            0.1111111111111111,
                            "#46039f"
                          ],
                          [
                            0.2222222222222222,
                            "#7201a8"
                          ],
                          [
                            0.3333333333333333,
                            "#9c179e"
                          ],
                          [
                            0.4444444444444444,
                            "#bd3786"
                          ],
                          [
                            0.5555555555555556,
                            "#d8576b"
                          ],
                          [
                            0.6666666666666666,
                            "#ed7953"
                          ],
                          [
                            0.7777777777777778,
                            "#fb9f3a"
                          ],
                          [
                            0.8888888888888888,
                            "#fdca26"
                          ],
                          [
                            1,
                            "#f0f921"
                          ]
                        ],
                        "type": "contour"
                      }
                    ],
                    "contourcarpet": [
                      {
                        "colorbar": {
                          "outlinewidth": 0,
                          "ticks": ""
                        },
                        "type": "contourcarpet"
                      }
                    ],
                    "heatmap": [
                      {
                        "colorbar": {
                          "outlinewidth": 0,
                          "ticks": ""
                        },
                        "colorscale": [
                          [
                            0,
                            "#0d0887"
                          ],
                          [
                            0.1111111111111111,
                            "#46039f"
                          ],
                          [
                            0.2222222222222222,
                            "#7201a8"
                          ],
                          [
                            0.3333333333333333,
                            "#9c179e"
                          ],
                          [
                            0.4444444444444444,
                            "#bd3786"
                          ],
                          [
                            0.5555555555555556,
                            "#d8576b"
                          ],
                          [
                            0.6666666666666666,
                            "#ed7953"
                          ],
                          [
                            0.7777777777777778,
                            "#fb9f3a"
                          ],
                          [
                            0.8888888888888888,
                            "#fdca26"
                          ],
                          [
                            1,
                            "#f0f921"
                          ]
                        ],
                        "type": "heatmap"
                      }
                    ],
                    "histogram": [
                      {
                        "marker": {
                          "pattern": {
                            "fillmode": "overlay",
                            "size": 10,
                            "solidity": 0.2
                          }
                        },
                        "type": "histogram"
                      }
                    ],
                    "histogram2d": [
                      {
                        "colorbar": {
                          "outlinewidth": 0,
                          "ticks": ""
                        },
                        "colorscale": [
                          [
                            0,
                            "#0d0887"
                          ],
                          [
                            0.1111111111111111,
                            "#46039f"
                          ],
                          [
                            0.2222222222222222,
                            "#7201a8"
                          ],
                          [
                            0.3333333333333333,
                            "#9c179e"
                          ],
                          [
                            0.4444444444444444,
                            "#bd3786"
                          ],
                          [
                            0.5555555555555556,
                            "#d8576b"
                          ],
                          [
                            0.6666666666666666,
                            "#ed7953"
                          ],
                          [
                            0.7777777777777778,
                            "#fb9f3a"
                          ],
                          [
                            0.8888888888888888,
                            "#fdca26"
                          ],
                          [
                            1,
                            "#f0f921"
                          ]
                        ],
                        "type": "histogram2d"
                      }
                    ],
                    "histogram2dcontour": [
                      {
                        "colorbar": {
                          "outlinewidth": 0,
                          "ticks": ""
                        },
                        "colorscale": [
                          [
                            0,
                            "#0d0887"
                          ],
                          [
                            0.1111111111111111,
                            "#46039f"
                          ],
                          [
                            0.2222222222222222,
                            "#7201a8"
                          ],
                          [
                            0.3333333333333333,
                            "#9c179e"
                          ],
                          [
                            0.4444444444444444,
                            "#bd3786"
                          ],
                          [
                            0.5555555555555556,
                            "#d8576b"
                          ],
                          [
                            0.6666666666666666,
                            "#ed7953"
                          ],
                          [
                            0.7777777777777778,
                            "#fb9f3a"
                          ],
                          [
                            0.8888888888888888,
                            "#fdca26"
                          ],
                          [
                            1,
                            "#f0f921"
                          ]
                        ],
                        "type": "histogram2dcontour"
                      }
                    ],
                    "mesh3d": [
                      {
                        "colorbar": {
                          "outlinewidth": 0,
                          "ticks": ""
                        },
                        "type": "mesh3d"
                      }
                    ],
                    "parcoords": [
                      {
                        "line": {
                          "colorbar": {
                            "outlinewidth": 0,
                            "ticks": ""
                          }
                        },
                        "type": "parcoords"
                      }
                    ],
                    "pie": [
                      {
                        "automargin": true,
                        "type": "pie"
                      }
                    ],
                    "scatter": [
                      {
                        "fillpattern": {
                          "fillmode": "overlay",
                          "size": 10,
                          "solidity": 0.2
                        },
                        "type": "scatter"
                      }
                    ],
                    "scatter3d": [
                      {
                        "line": {
                          "colorbar": {
                            "outlinewidth": 0,
                            "ticks": ""
                          }
                        },
                        "marker": {
                          "colorbar": {
                            "outlinewidth": 0,
                            "ticks": ""
                          }
                        },
                        "type": "scatter3d"
                      }
                    ],
                    "scattercarpet": [
                      {
                        "marker": {
                          "colorbar": {
                            "outlinewidth": 0,
                            "ticks": ""
                          }
                        },
                        "type": "scattercarpet"
                      }
                    ],
                    "scattergeo": [
                      {
                        "marker": {
                          "colorbar": {
                            "outlinewidth": 0,
                            "ticks": ""
                          }
                        },
                        "type": "scattergeo"
                      }
                    ],
                    "scattergl": [
                      {
                        "marker": {
                          "colorbar": {
                            "outlinewidth": 0,
                            "ticks": ""
                          }
                        },
                        "type": "scattergl"
                      }
                    ],
                    "scattermap": [
                      {
                        "marker": {
                          "colorbar": {
                            "outlinewidth": 0,
                            "ticks": ""
                          }
                        },
                        "type": "scattermap"
                      }
                    ],
                    "scattermapbox": [
                      {
                        "marker": {
                          "colorbar": {
                            "outlinewidth": 0,
                            "ticks": ""
                          }
                        },
                        "type": "scattermapbox"
                      }
                    ],
                    "scatterpolar": [
                      {
                        "marker": {
                          "colorbar": {
                            "outlinewidth": 0,
                            "ticks": ""
                          }
                        },
                        "type": "scatterpolar"
                      }
                    ],
                    "scatterpolargl": [
                      {
                        "marker": {
                          "colorbar": {
                            "outlinewidth": 0,
                            "ticks": ""
                          }
                        },
                        "type": "scatterpolargl"
                      }
                    ],
                    "scatterternary": [
                      {
                        "marker": {
                          "colorbar": {
                            "outlinewidth": 0,
                            "ticks": ""
                          }
                        },
                        "type": "scatterternary"
                      }
                    ],
                    "surface": [
                      {
                        "colorbar": {
                          "outlinewidth": 0,
                          "ticks": ""
                        },
                        "colorscale": [
                          [
                            0,
                            "#0d0887"
                          ],
                          [
                            0.1111111111111111,
                            "#46039f"
                          ],
                          [
                            0.2222222222222222,
                            "#7201a8"
                          ],
                          [
                            0.3333333333333333,
                            "#9c179e"
                          ],
                          [
                            0.4444444444444444,
                            "#bd3786"
                          ],
                          [
                            0.5555555555555556,
                            "#d8576b"
                          ],
                          [
                            0.6666666666666666,
                            "#ed7953"
                          ],
                          [
                            0.7777777777777778,
                            "#fb9f3a"
                          ],
                          [
                            0.8888888888888888,
                            "#fdca26"
                          ],
                          [
                            1,
                            "#f0f921"
                          ]
                        ],
                        "type": "surface"
                      }
                    ],
                    "table": [
                      {
                        "cells": {
                          "fill": {
                            "color": "#EBF0F8"
                          },
                          "line": {
                            "color": "white"
                          }
                        },
                        "header": {
                          "fill": {
                            "color": "#C8D4E3"
                          },
                          "line": {
                            "color": "white"
                          }
                        },
                        "type": "table"
                      }
                    ]
                  },
                  "layout": {
                    "annotationdefaults": {
                      "arrowcolor": "#2a3f5f",
                      "arrowhead": 0,
                      "arrowwidth": 1
                    },
                    "autotypenumbers": "strict",
                    "coloraxis": {
                      "colorbar": {
                        "outlinewidth": 0,
                        "ticks": ""
                      }
                    },
                    "colorscale": {
                      "diverging": [
                        [
                          0,
                          "#8e0152"
                        ],
                        [
                          0.1,
                          "#c51b7d"
                        ],
                        [
                          0.2,
                          "#de77ae"
                        ],
                        [
                          0.3,
                          "#f1b6da"
                        ],
                        [
                          0.4,
                          "#fde0ef"
                        ],
                        [
                          0.5,
                          "#f7f7f7"
                        ],
                        [
                          0.6,
                          "#e6f5d0"
                        ],
                        [
                          0.7,
                          "#b8e186"
                        ],
                        [
                          0.8,
                          "#7fbc41"
                        ],
                        [
                          0.9,
                          "#4d9221"
                        ],
                        [
                          1,
                          "#276419"
                        ]
                      ],
                      "sequential": [
                        [
                          0,
                          "#0d0887"
                        ],
                        [
                          0.1111111111111111,
                          "#46039f"
                        ],
                        [
                          0.2222222222222222,
                          "#7201a8"
                        ],
                        [
                          0.3333333333333333,
                          "#9c179e"
                        ],
                        [
                          0.4444444444444444,
                          "#bd3786"
                        ],
                        [
                          0.5555555555555556,
                          "#d8576b"
                        ],
                        [
                          0.6666666666666666,
                          "#ed7953"
                        ],
                        [
                          0.7777777777777778,
                          "#fb9f3a"
                        ],
                        [
                          0.8888888888888888,
                          "#fdca26"
                        ],
                        [
                          1,
                          "#f0f921"
                        ]
                      ],
                      "sequentialminus": [
                        [
                          0,
                          "#0d0887"
                        ],
                        [
                          0.1111111111111111,
                          "#46039f"
                        ],
                        [
                          0.2222222222222222,
                          "#7201a8"
                        ],
                        [
                          0.3333333333333333,
                          "#9c179e"
                        ],
                        [
                          0.4444444444444444,
                          "#bd3786"
                        ],
                        [
                          0.5555555555555556,
                          "#d8576b"
                        ],
                        [
                          0.6666666666666666,
                          "#ed7953"
                        ],
                        [
                          0.7777777777777778,
                          "#fb9f3a"
                        ],
                        [
                          0.8888888888888888,
                          "#fdca26"
                        ],
                        [
                          1,
                          "#f0f921"
                        ]
                      ]
                    },
                    "colorway": [
                      "#636efa",
                      "#EF553B",
                      "#00cc96",
                      "#ab63fa",
                      "#FFA15A",
                      "#19d3f3",
                      "#FF6692",
                      "#B6E880",
                      "#FF97FF",
                      "#FECB52"
                    ],
                    "font": {
                      "color": "#2a3f5f"
                    },
                    "geo": {
                      "bgcolor": "white",
                      "lakecolor": "white",
                      "landcolor": "#E5ECF6",
                      "showlakes": true,
                      "showland": true,
                      "subunitcolor": "white"
                    },
                    "hoverlabel": {
                      "align": "left"
                    },
                    "hovermode": "closest",
                    "mapbox": {
                      "style": "light"
                    },
                    "paper_bgcolor": "white",
                    "plot_bgcolor": "#E5ECF6",
                    "polar": {
                      "angularaxis": {
                        "gridcolor": "white",
                        "linecolor": "white",
                        "ticks": ""
                      },
                      "bgcolor": "#E5ECF6",
                      "radialaxis": {
                        "gridcolor": "white",
                        "linecolor": "white",
                        "ticks": ""
                      }
                    },
                    "scene": {
                      "xaxis": {
                        "backgroundcolor": "#E5ECF6",
                        "gridcolor": "white",
                        "gridwidth": 2,
                        "linecolor": "white",
                        "showbackground": true,
                        "ticks": "",
                        "zerolinecolor": "white"
                      },
                      "yaxis": {
                        "backgroundcolor": "#E5ECF6",
                        "gridcolor": "white",
                        "gridwidth": 2,
                        "linecolor": "white",
                        "showbackground": true,
                        "ticks": "",
                        "zerolinecolor": "white"
                      },
                      "zaxis": {
                        "backgroundcolor": "#E5ECF6",
                        "gridcolor": "white",
                        "gridwidth": 2,
                        "linecolor": "white",
                        "showbackground": true,
                        "ticks": "",
                        "zerolinecolor": "white"
                      }
                    },
                    "shapedefaults": {
                      "line": {
                        "color": "#2a3f5f"
                      }
                    },
                    "ternary": {
                      "aaxis": {
                        "gridcolor": "white",
                        "linecolor": "white",
                        "ticks": ""
                      },
                      "baxis": {
                        "gridcolor": "white",
                        "linecolor": "white",
                        "ticks": ""
                      },
                      "bgcolor": "#E5ECF6",
                      "caxis": {
                        "gridcolor": "white",
                        "linecolor": "white",
                        "ticks": ""
                      }
                    },
                    "title": {
                      "x": 0.05
                    },
                    "xaxis": {
                      "automargin": true,
                      "gridcolor": "white",
                      "linecolor": "white",
                      "ticks": "",
                      "title": {
                        "standoff": 15
                      },
                      "zerolinecolor": "white",
                      "zerolinewidth": 2
                    },
                    "yaxis": {
                      "automargin": true,
                      "gridcolor": "white",
                      "linecolor": "white",
                      "ticks": "",
                      "title": {
                        "standoff": 15
                      },
                      "zerolinecolor": "white",
                      "zerolinewidth": 2
                    }
                  }
                },
                "xaxis": {
                  "title": {
                    "text": "Date"
                  }
                },
                "yaxis": {
                  "title": {
                    "text": "Sales"
                  }
                }
              }
            }
          },
          "metadata": {},
          "output_type": "display_data"
        }
      ],
      "source": [
        "fig = go.Figure()\n",
        "\n",
        "fig.add_trace(go.Line(x = test_df['Date'],\n",
        "                      y = test_df['Sales'],\n",
        "                      mode = 'lines+markers',\n",
        "                      name = 'Actual Sales'))\n",
        "fig.add_trace(go.Line(x = test_df['Date'],\n",
        "                      y = test_df['Predicted_Sales'],\n",
        "                      mode = 'lines+markers',\n",
        "                      name = 'Predicted Sales'))\n",
        "\n",
        "fig.update_layout(xaxis_title = 'Date', yaxis_title = 'Sales')\n",
        "fig.show()"
      ]
    }
  ],
  "metadata": {
    "colab": {
      "collapsed_sections": [
        "M2-BtNO2yG3e"
      ],
      "provenance": []
    },
    "kernelspec": {
      "display_name": ".venv",
      "language": "python",
      "name": "python3"
    },
    "language_info": {
      "codemirror_mode": {
        "name": "ipython",
        "version": 3
      },
      "file_extension": ".py",
      "mimetype": "text/x-python",
      "name": "python",
      "nbconvert_exporter": "python",
      "pygments_lexer": "ipython3",
      "version": "3.11.4"
    }
  },
  "nbformat": 4,
  "nbformat_minor": 0
}
