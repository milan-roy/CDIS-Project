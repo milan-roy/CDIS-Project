{
  "cells": [
    {
      "cell_type": "markdown",
      "metadata": {
        "id": "J95whe3obLY9"
      },
      "source": [
        "# Loading Data\n",
        "Data for each of FY is present as a seperate sheet in the same excel file."
      ]
    },
    {
      "cell_type": "markdown",
      "metadata": {
        "id": "84qpSlsrB6ld"
      },
      "source": [
        "## Training Data"
      ]
    },
    {
      "cell_type": "code",
      "execution_count": 1,
      "metadata": {
        "colab": {
          "base_uri": "https://localhost:8080/",
          "height": 461
        },
        "id": "_lQYGbWeZxxG",
        "outputId": "b1ed0a5f-43f1-43a3-b49d-fe03779a426e"
      },
      "outputs": [
        {
          "data": {
            "text/html": [
              "<div>\n",
              "<style scoped>\n",
              "    .dataframe tbody tr th:only-of-type {\n",
              "        vertical-align: middle;\n",
              "    }\n",
              "\n",
              "    .dataframe tbody tr th {\n",
              "        vertical-align: top;\n",
              "    }\n",
              "\n",
              "    .dataframe thead th {\n",
              "        text-align: right;\n",
              "    }\n",
              "</style>\n",
              "<table border=\"1\" class=\"dataframe\">\n",
              "  <thead>\n",
              "    <tr style=\"text-align: right;\">\n",
              "      <th></th>\n",
              "      <th>Date</th>\n",
              "      <th>Month</th>\n",
              "      <th>Time Block</th>\n",
              "      <th>Demand</th>\n",
              "    </tr>\n",
              "  </thead>\n",
              "  <tbody>\n",
              "    <tr>\n",
              "      <th>0</th>\n",
              "      <td>2010-04-01</td>\n",
              "      <td>4</td>\n",
              "      <td>1</td>\n",
              "      <td>1125.851800</td>\n",
              "    </tr>\n",
              "    <tr>\n",
              "      <th>1</th>\n",
              "      <td>2010-04-01</td>\n",
              "      <td>4</td>\n",
              "      <td>2</td>\n",
              "      <td>1093.590000</td>\n",
              "    </tr>\n",
              "    <tr>\n",
              "      <th>2</th>\n",
              "      <td>2010-04-01</td>\n",
              "      <td>4</td>\n",
              "      <td>3</td>\n",
              "      <td>1062.779600</td>\n",
              "    </tr>\n",
              "    <tr>\n",
              "      <th>3</th>\n",
              "      <td>2010-04-01</td>\n",
              "      <td>4</td>\n",
              "      <td>4</td>\n",
              "      <td>1027.584300</td>\n",
              "    </tr>\n",
              "    <tr>\n",
              "      <th>4</th>\n",
              "      <td>2010-04-01</td>\n",
              "      <td>4</td>\n",
              "      <td>5</td>\n",
              "      <td>999.537900</td>\n",
              "    </tr>\n",
              "    <tr>\n",
              "      <th>...</th>\n",
              "      <td>...</td>\n",
              "      <td>...</td>\n",
              "      <td>...</td>\n",
              "      <td>...</td>\n",
              "    </tr>\n",
              "    <tr>\n",
              "      <th>35035</th>\n",
              "      <td>2023-03-31</td>\n",
              "      <td>3</td>\n",
              "      <td>92</td>\n",
              "      <td>1347.293286</td>\n",
              "    </tr>\n",
              "    <tr>\n",
              "      <th>35036</th>\n",
              "      <td>2023-03-31</td>\n",
              "      <td>3</td>\n",
              "      <td>93</td>\n",
              "      <td>1340.936102</td>\n",
              "    </tr>\n",
              "    <tr>\n",
              "      <th>35037</th>\n",
              "      <td>2023-03-31</td>\n",
              "      <td>3</td>\n",
              "      <td>94</td>\n",
              "      <td>1339.039369</td>\n",
              "    </tr>\n",
              "    <tr>\n",
              "      <th>35038</th>\n",
              "      <td>2023-03-31</td>\n",
              "      <td>3</td>\n",
              "      <td>95</td>\n",
              "      <td>1332.054652</td>\n",
              "    </tr>\n",
              "    <tr>\n",
              "      <th>35039</th>\n",
              "      <td>2023-03-31</td>\n",
              "      <td>3</td>\n",
              "      <td>96</td>\n",
              "      <td>1327.331745</td>\n",
              "    </tr>\n",
              "  </tbody>\n",
              "</table>\n",
              "<p>455808 rows × 4 columns</p>\n",
              "</div>"
            ],
            "text/plain": [
              "            Date  Month  Time Block       Demand\n",
              "0     2010-04-01      4           1  1125.851800\n",
              "1     2010-04-01      4           2  1093.590000\n",
              "2     2010-04-01      4           3  1062.779600\n",
              "3     2010-04-01      4           4  1027.584300\n",
              "4     2010-04-01      4           5   999.537900\n",
              "...          ...    ...         ...          ...\n",
              "35035 2023-03-31      3          92  1347.293286\n",
              "35036 2023-03-31      3          93  1340.936102\n",
              "35037 2023-03-31      3          94  1339.039369\n",
              "35038 2023-03-31      3          95  1332.054652\n",
              "35039 2023-03-31      3          96  1327.331745\n",
              "\n",
              "[455808 rows x 4 columns]"
            ]
          },
          "execution_count": 1,
          "metadata": {},
          "output_type": "execute_result"
        }
      ],
      "source": [
        "import pandas as pd\n",
        "\n",
        "train_df = pd.DataFrame()\n",
        "# Data for the different years are stored as seperate sheets in the same excel file.\n",
        "sheet_names= ['FY10-11', 'FY11-12', 'FY12-13', 'FY13-14', 'FY14-15', 'FY15-16', 'FY16-17', 'FY17-18', 'FY18-19', 'FY19-20', 'FY20-21','FY21-22','FY22-23']\n",
        "\n",
        "# Loading the Excel files.\n",
        "for sheet_name in sheet_names:\n",
        "  df = pd.read_excel('Actual Demand data_FY10-11 to Dec-23.xlsx',\n",
        "                   sheet_name=sheet_name)\n",
        "  # Changing the column names.\n",
        "  df.columns = ['Date', 'Month', 'Time Block', 'Demand'] # Changing the column names.\n",
        "  train_df = pd.concat([train_df, df]) # Concatenating the years.\n",
        "\n",
        "train_df"
      ]
    },
    {
      "cell_type": "markdown",
      "metadata": {
        "id": "i5ivQTs7HRa6"
      },
      "source": [
        "The month column is redundant, so lets drop it and then try to merge the time block with the date column."
      ]
    },
    {
      "cell_type": "code",
      "execution_count": 2,
      "metadata": {
        "colab": {
          "base_uri": "https://localhost:8080/",
          "height": 344
        },
        "id": "hrae64MgHVRG",
        "outputId": "15f566bf-c654-46e1-bbbc-60211e1bae54"
      },
      "outputs": [
        {
          "data": {
            "text/html": [
              "<div>\n",
              "<style scoped>\n",
              "    .dataframe tbody tr th:only-of-type {\n",
              "        vertical-align: middle;\n",
              "    }\n",
              "\n",
              "    .dataframe tbody tr th {\n",
              "        vertical-align: top;\n",
              "    }\n",
              "\n",
              "    .dataframe thead th {\n",
              "        text-align: right;\n",
              "    }\n",
              "</style>\n",
              "<table border=\"1\" class=\"dataframe\">\n",
              "  <thead>\n",
              "    <tr style=\"text-align: right;\">\n",
              "      <th></th>\n",
              "      <th>Demand</th>\n",
              "    </tr>\n",
              "    <tr>\n",
              "      <th>DateTime</th>\n",
              "      <th></th>\n",
              "    </tr>\n",
              "  </thead>\n",
              "  <tbody>\n",
              "    <tr>\n",
              "      <th>2010-04-01 00:00:00</th>\n",
              "      <td>1125.8518</td>\n",
              "    </tr>\n",
              "    <tr>\n",
              "      <th>2010-04-01 00:15:00</th>\n",
              "      <td>1093.5900</td>\n",
              "    </tr>\n",
              "    <tr>\n",
              "      <th>2010-04-01 00:30:00</th>\n",
              "      <td>1062.7796</td>\n",
              "    </tr>\n",
              "    <tr>\n",
              "      <th>2010-04-01 00:45:00</th>\n",
              "      <td>1027.5843</td>\n",
              "    </tr>\n",
              "    <tr>\n",
              "      <th>2010-04-01 01:00:00</th>\n",
              "      <td>999.5379</td>\n",
              "    </tr>\n",
              "  </tbody>\n",
              "</table>\n",
              "</div>"
            ],
            "text/plain": [
              "                        Demand\n",
              "DateTime                      \n",
              "2010-04-01 00:00:00  1125.8518\n",
              "2010-04-01 00:15:00  1093.5900\n",
              "2010-04-01 00:30:00  1062.7796\n",
              "2010-04-01 00:45:00  1027.5843\n",
              "2010-04-01 01:00:00   999.5379"
            ]
          },
          "execution_count": 2,
          "metadata": {},
          "output_type": "execute_result"
        }
      ],
      "source": [
        "# Droping the Month Colomn\n",
        "train_df = train_df.drop('Month', axis=1)\n",
        "\n",
        "# Adding a column 'Time' with time data with 15 mins interval.\n",
        "train_df['Time'] = [f\"{h:02}:{m:02}\" for h in range(24) for m in range(0, 60, 15)] * (len(train_df)//96) # Multiplying for 2 years\n",
        "\n",
        "# Creating a new column with both Date and Time.\n",
        "train_df['DateTime'] = train_df['Date'].astype(str) + ' ' + train_df['Time']\n",
        "\n",
        "# Droping 'Date', 'Time', and 'Time Block' columns.\n",
        "train_df = train_df.drop(['Date','Time', 'Time Block'], axis=1)\n",
        "\n",
        "# Setting the 'DateTime' column as index.\n",
        "train_df.set_index('DateTime', inplace=True)\n",
        "train_df.index = pd.DatetimeIndex(train_df.index, freq = '15min') # Converting the index to datetime index\n",
        "train_df.head()"
      ]
    },
    {
      "cell_type": "markdown",
      "metadata": {
        "id": "e9QE7UXDCBjo"
      },
      "source": [
        "## Test Data"
      ]
    },
    {
      "cell_type": "code",
      "execution_count": 3,
      "metadata": {
        "colab": {
          "base_uri": "https://localhost:8080/",
          "height": 344
        },
        "id": "FIVtFG_tAyE9",
        "outputId": "9f4e8cbb-13b6-4917-b189-9600b78d65fb"
      },
      "outputs": [
        {
          "data": {
            "text/html": [
              "<div>\n",
              "<style scoped>\n",
              "    .dataframe tbody tr th:only-of-type {\n",
              "        vertical-align: middle;\n",
              "    }\n",
              "\n",
              "    .dataframe tbody tr th {\n",
              "        vertical-align: top;\n",
              "    }\n",
              "\n",
              "    .dataframe thead th {\n",
              "        text-align: right;\n",
              "    }\n",
              "</style>\n",
              "<table border=\"1\" class=\"dataframe\">\n",
              "  <thead>\n",
              "    <tr style=\"text-align: right;\">\n",
              "      <th></th>\n",
              "      <th>Demand</th>\n",
              "    </tr>\n",
              "    <tr>\n",
              "      <th>DateTime</th>\n",
              "      <th></th>\n",
              "    </tr>\n",
              "  </thead>\n",
              "  <tbody>\n",
              "    <tr>\n",
              "      <th>2023-04-01 00:00:00</th>\n",
              "      <td>1311.951746</td>\n",
              "    </tr>\n",
              "    <tr>\n",
              "      <th>2023-04-01 00:15:00</th>\n",
              "      <td>1292.723031</td>\n",
              "    </tr>\n",
              "    <tr>\n",
              "      <th>2023-04-01 00:30:00</th>\n",
              "      <td>1272.618655</td>\n",
              "    </tr>\n",
              "    <tr>\n",
              "      <th>2023-04-01 00:45:00</th>\n",
              "      <td>1251.742822</td>\n",
              "    </tr>\n",
              "    <tr>\n",
              "      <th>2023-04-01 01:00:00</th>\n",
              "      <td>1230.047525</td>\n",
              "    </tr>\n",
              "  </tbody>\n",
              "</table>\n",
              "</div>"
            ],
            "text/plain": [
              "                          Demand\n",
              "DateTime                        \n",
              "2023-04-01 00:00:00  1311.951746\n",
              "2023-04-01 00:15:00  1292.723031\n",
              "2023-04-01 00:30:00  1272.618655\n",
              "2023-04-01 00:45:00  1251.742822\n",
              "2023-04-01 01:00:00  1230.047525"
            ]
          },
          "execution_count": 3,
          "metadata": {},
          "output_type": "execute_result"
        }
      ],
      "source": [
        "test_df = pd.read_excel('Actual Demand data_FY10-11 to Dec-23.xlsx',\n",
        "                   sheet_name='FY23-24')\n",
        "test_df.columns = ['Date', 'Month', 'Time Block', 'Demand'] # Changing the column names.\n",
        "\n",
        "# Droping the Month Colomn\n",
        "test_df = test_df.drop('Month', axis=1)\n",
        "\n",
        "# Adding a column 'Time' with time data with 15 mins interval.\n",
        "test_df['Time'] = [f\"{h:02}:{m:02}\" for h in range(24) for m in range(0, 60, 15)] * (len(test_df)//96) # Multiplying for 2 years\n",
        "\n",
        "# Creating a new column with both Date and Time.\n",
        "test_df['DateTime'] = test_df['Date'].astype(str) + ' ' + test_df['Time']\n",
        "\n",
        "# Droping 'Date', 'Time', and 'Time Block' columns.\n",
        "test_df = test_df.drop(['Date','Time', 'Time Block'], axis=1)\n",
        "\n",
        "# Setting the 'DateTime' column as index.\n",
        "test_df.set_index('DateTime', inplace=True)\n",
        "test_df.index = pd.DatetimeIndex(test_df.index, freq = '15min') # Converting the index to datetime index\n",
        "test_df.head()"
      ]
    },
    {
      "cell_type": "markdown",
      "metadata": {
        "id": "w7MTal_SCnS6"
      },
      "source": [
        "# Loading Exogenous Variables\n",
        "The exogenous variable data for different years are stored slightly differently, so we have to load each of them individually."
      ]
    },
    {
      "cell_type": "markdown",
      "metadata": {
        "id": "9AMPZcktfhds"
      },
      "source": [
        "## Training Data"
      ]
    },
    {
      "cell_type": "code",
      "execution_count": 4,
      "metadata": {
        "colab": {
          "base_uri": "https://localhost:8080/",
          "height": 444
        },
        "id": "bvF1n4U1Cmrs",
        "outputId": "0dc9416d-433d-4bf3-9ee4-c6cfd7926bb8"
      },
      "outputs": [
        {
          "data": {
            "text/html": [
              "<div>\n",
              "<style scoped>\n",
              "    .dataframe tbody tr th:only-of-type {\n",
              "        vertical-align: middle;\n",
              "    }\n",
              "\n",
              "    .dataframe tbody tr th {\n",
              "        vertical-align: top;\n",
              "    }\n",
              "\n",
              "    .dataframe thead th {\n",
              "        text-align: right;\n",
              "    }\n",
              "</style>\n",
              "<table border=\"1\" class=\"dataframe\">\n",
              "  <thead>\n",
              "    <tr style=\"text-align: right;\">\n",
              "      <th></th>\n",
              "      <th>Date</th>\n",
              "      <th>Temp</th>\n",
              "      <th>Humidity</th>\n",
              "    </tr>\n",
              "  </thead>\n",
              "  <tbody>\n",
              "    <tr>\n",
              "      <th>0</th>\n",
              "      <td>2010-04-01</td>\n",
              "      <td>27.1</td>\n",
              "      <td>79.0</td>\n",
              "    </tr>\n",
              "    <tr>\n",
              "      <th>1</th>\n",
              "      <td>2010-04-01</td>\n",
              "      <td>27.1</td>\n",
              "      <td>79.0</td>\n",
              "    </tr>\n",
              "    <tr>\n",
              "      <th>2</th>\n",
              "      <td>2010-04-01</td>\n",
              "      <td>27.1</td>\n",
              "      <td>79.0</td>\n",
              "    </tr>\n",
              "    <tr>\n",
              "      <th>3</th>\n",
              "      <td>2010-04-01</td>\n",
              "      <td>27.1</td>\n",
              "      <td>78.0</td>\n",
              "    </tr>\n",
              "    <tr>\n",
              "      <th>4</th>\n",
              "      <td>2010-04-01</td>\n",
              "      <td>27.0</td>\n",
              "      <td>76.0</td>\n",
              "    </tr>\n",
              "    <tr>\n",
              "      <th>...</th>\n",
              "      <td>...</td>\n",
              "      <td>...</td>\n",
              "      <td>...</td>\n",
              "    </tr>\n",
              "    <tr>\n",
              "      <th>35131</th>\n",
              "      <td>2012-03-31</td>\n",
              "      <td>27.0</td>\n",
              "      <td>84.0</td>\n",
              "    </tr>\n",
              "    <tr>\n",
              "      <th>35132</th>\n",
              "      <td>2012-03-31</td>\n",
              "      <td>27.0</td>\n",
              "      <td>84.0</td>\n",
              "    </tr>\n",
              "    <tr>\n",
              "      <th>35133</th>\n",
              "      <td>2012-03-31</td>\n",
              "      <td>27.0</td>\n",
              "      <td>85.0</td>\n",
              "    </tr>\n",
              "    <tr>\n",
              "      <th>35134</th>\n",
              "      <td>2012-03-31</td>\n",
              "      <td>27.0</td>\n",
              "      <td>85.0</td>\n",
              "    </tr>\n",
              "    <tr>\n",
              "      <th>35135</th>\n",
              "      <td>2012-03-31</td>\n",
              "      <td>27.0</td>\n",
              "      <td>86.0</td>\n",
              "    </tr>\n",
              "  </tbody>\n",
              "</table>\n",
              "<p>70176 rows × 3 columns</p>\n",
              "</div>"
            ],
            "text/plain": [
              "             Date  Temp  Humidity\n",
              "0      2010-04-01  27.1      79.0\n",
              "1      2010-04-01  27.1      79.0\n",
              "2      2010-04-01  27.1      79.0\n",
              "3      2010-04-01  27.1      78.0\n",
              "4      2010-04-01  27.0      76.0\n",
              "...           ...   ...       ...\n",
              "35131  2012-03-31  27.0      84.0\n",
              "35132  2012-03-31  27.0      84.0\n",
              "35133  2012-03-31  27.0      85.0\n",
              "35134  2012-03-31  27.0      85.0\n",
              "35135  2012-03-31  27.0      86.0\n",
              "\n",
              "[70176 rows x 3 columns]"
            ]
          },
          "execution_count": 4,
          "metadata": {},
          "output_type": "execute_result"
        }
      ],
      "source": [
        "import pandas as pd\n",
        "ex_df1 = pd.DataFrame()\n",
        "df1 = pd.read_excel('Weather Master From FY10-11 to FY18-19.xlsx',\n",
        "                       sheet_name='FY 10-11')\n",
        "# This sheet had date and time as the 'WEATHER_DATE', which doesnt match the others. So removing the time.\n",
        "df1['WEATHER_DATE'] = df1['WEATHER_DATE'].astype('str').str.split(' ').str[0]\n",
        "\n",
        "df2 = pd.read_excel('Weather Master From FY10-11 to FY18-19.xlsx',\n",
        "                       sheet_name='FY 11-12')\n",
        "df2['WEATHER_DATE'] = df2['WEATHER_DATE'].astype('str').str.split(' ').str[0]\n",
        "\n",
        "ex_df1 = pd.concat([df1, df2]) # Concatenating the two dfs.\n",
        "ex_df1 = ex_df1.drop(['Block', 'ACT_RAINRATE'], axis =1) # Droping unwanted colomns.\n",
        "ex_df1.columns = ['Date', 'Temp', 'Humidity'] # Renaming the colomns.\n",
        "ex_df1\n"
      ]
    },
    {
      "cell_type": "code",
      "execution_count": 5,
      "metadata": {
        "colab": {
          "base_uri": "https://localhost:8080/",
          "height": 444
        },
        "id": "KBwS7FV3NYeV",
        "outputId": "5d0ea655-545e-4ab6-9b19-6be9d344fdaa"
      },
      "outputs": [
        {
          "data": {
            "text/html": [
              "<div>\n",
              "<style scoped>\n",
              "    .dataframe tbody tr th:only-of-type {\n",
              "        vertical-align: middle;\n",
              "    }\n",
              "\n",
              "    .dataframe tbody tr th {\n",
              "        vertical-align: top;\n",
              "    }\n",
              "\n",
              "    .dataframe thead th {\n",
              "        text-align: right;\n",
              "    }\n",
              "</style>\n",
              "<table border=\"1\" class=\"dataframe\">\n",
              "  <thead>\n",
              "    <tr style=\"text-align: right;\">\n",
              "      <th></th>\n",
              "      <th>Date</th>\n",
              "      <th>Temp</th>\n",
              "      <th>Humidity</th>\n",
              "    </tr>\n",
              "  </thead>\n",
              "  <tbody>\n",
              "    <tr>\n",
              "      <th>0</th>\n",
              "      <td>2012-04-01</td>\n",
              "      <td>27.00</td>\n",
              "      <td>86.00</td>\n",
              "    </tr>\n",
              "    <tr>\n",
              "      <th>1</th>\n",
              "      <td>2012-04-01</td>\n",
              "      <td>27.00</td>\n",
              "      <td>86.00</td>\n",
              "    </tr>\n",
              "    <tr>\n",
              "      <th>2</th>\n",
              "      <td>2012-04-01</td>\n",
              "      <td>26.00</td>\n",
              "      <td>87.00</td>\n",
              "    </tr>\n",
              "    <tr>\n",
              "      <th>3</th>\n",
              "      <td>2012-04-01</td>\n",
              "      <td>26.00</td>\n",
              "      <td>87.00</td>\n",
              "    </tr>\n",
              "    <tr>\n",
              "      <th>4</th>\n",
              "      <td>2012-04-01</td>\n",
              "      <td>26.00</td>\n",
              "      <td>87.00</td>\n",
              "    </tr>\n",
              "    <tr>\n",
              "      <th>...</th>\n",
              "      <td>...</td>\n",
              "      <td>...</td>\n",
              "      <td>...</td>\n",
              "    </tr>\n",
              "    <tr>\n",
              "      <th>105115</th>\n",
              "      <td>2019-03-31</td>\n",
              "      <td>27.14</td>\n",
              "      <td>80.06</td>\n",
              "    </tr>\n",
              "    <tr>\n",
              "      <th>105116</th>\n",
              "      <td>2019-03-31</td>\n",
              "      <td>27.06</td>\n",
              "      <td>80.62</td>\n",
              "    </tr>\n",
              "    <tr>\n",
              "      <th>105117</th>\n",
              "      <td>2019-03-31</td>\n",
              "      <td>26.98</td>\n",
              "      <td>81.03</td>\n",
              "    </tr>\n",
              "    <tr>\n",
              "      <th>105118</th>\n",
              "      <td>2019-03-31</td>\n",
              "      <td>26.92</td>\n",
              "      <td>81.27</td>\n",
              "    </tr>\n",
              "    <tr>\n",
              "      <th>105119</th>\n",
              "      <td>2019-03-31</td>\n",
              "      <td>26.85</td>\n",
              "      <td>81.22</td>\n",
              "    </tr>\n",
              "  </tbody>\n",
              "</table>\n",
              "<p>245376 rows × 3 columns</p>\n",
              "</div>"
            ],
            "text/plain": [
              "             Date   Temp  Humidity\n",
              "0      2012-04-01  27.00     86.00\n",
              "1      2012-04-01  27.00     86.00\n",
              "2      2012-04-01  26.00     87.00\n",
              "3      2012-04-01  26.00     87.00\n",
              "4      2012-04-01  26.00     87.00\n",
              "...           ...    ...       ...\n",
              "105115 2019-03-31  27.14     80.06\n",
              "105116 2019-03-31  27.06     80.62\n",
              "105117 2019-03-31  26.98     81.03\n",
              "105118 2019-03-31  26.92     81.27\n",
              "105119 2019-03-31  26.85     81.22\n",
              "\n",
              "[245376 rows x 3 columns]"
            ]
          },
          "execution_count": 5,
          "metadata": {},
          "output_type": "execute_result"
        }
      ],
      "source": [
        "df1 = pd.read_excel('Weather Master From FY10-11 to FY18-19.xlsx',\n",
        "                       sheet_name='FY12-13')\n",
        "df2 = pd.read_excel('Weather Master From FY10-11 to FY18-19.xlsx',\n",
        "                       sheet_name='FY13-14')\n",
        "df3 = pd.read_excel('Weather Master From FY10-11 to FY18-19.xlsx',\n",
        "                       sheet_name='FY14-15 to FY15-16')\n",
        "df4 = pd.read_excel('Weather Master From FY10-11 to FY18-19.xlsx',\n",
        "                       sheet_name='FY16-17 to FY18-19')\n",
        "df4.columns = df3.columns # Renaming the columns.\n",
        "\n",
        "ex_df2 = pd.concat([df1, df2, df3, df4]) # Concatenating the dfs.\n",
        "ex_df2 = ex_df2.iloc[:,2:6] # Choosing only the required coloumns.\n",
        "ex_df2 = ex_df2.drop(ex_df2.columns[1], axis =1) # Droping unwanted colomns.\n",
        "ex_df2.columns = ['Date', 'Temp', 'Humidity'] # Renaming the colomns.\n",
        "ex_df2\n"
      ]
    },
    {
      "cell_type": "code",
      "execution_count": 6,
      "metadata": {
        "colab": {
          "base_uri": "https://localhost:8080/",
          "height": 444
        },
        "id": "pDuAQsPvPlti",
        "outputId": "7a39030d-ae58-41ae-dad1-01ad656caf1c"
      },
      "outputs": [
        {
          "data": {
            "text/html": [
              "<div>\n",
              "<style scoped>\n",
              "    .dataframe tbody tr th:only-of-type {\n",
              "        vertical-align: middle;\n",
              "    }\n",
              "\n",
              "    .dataframe tbody tr th {\n",
              "        vertical-align: top;\n",
              "    }\n",
              "\n",
              "    .dataframe thead th {\n",
              "        text-align: right;\n",
              "    }\n",
              "</style>\n",
              "<table border=\"1\" class=\"dataframe\">\n",
              "  <thead>\n",
              "    <tr style=\"text-align: right;\">\n",
              "      <th></th>\n",
              "      <th>Date</th>\n",
              "      <th>Temp</th>\n",
              "      <th>Humidity</th>\n",
              "    </tr>\n",
              "  </thead>\n",
              "  <tbody>\n",
              "    <tr>\n",
              "      <th>0</th>\n",
              "      <td>2019-04-01</td>\n",
              "      <td>26.71</td>\n",
              "      <td>80.61</td>\n",
              "    </tr>\n",
              "    <tr>\n",
              "      <th>1</th>\n",
              "      <td>2019-04-01</td>\n",
              "      <td>26.67</td>\n",
              "      <td>80.52</td>\n",
              "    </tr>\n",
              "    <tr>\n",
              "      <th>2</th>\n",
              "      <td>2019-04-01</td>\n",
              "      <td>26.62</td>\n",
              "      <td>80.90</td>\n",
              "    </tr>\n",
              "    <tr>\n",
              "      <th>3</th>\n",
              "      <td>2019-04-01</td>\n",
              "      <td>26.58</td>\n",
              "      <td>81.23</td>\n",
              "    </tr>\n",
              "    <tr>\n",
              "      <th>4</th>\n",
              "      <td>2019-04-01</td>\n",
              "      <td>26.55</td>\n",
              "      <td>81.53</td>\n",
              "    </tr>\n",
              "    <tr>\n",
              "      <th>...</th>\n",
              "      <td>...</td>\n",
              "      <td>...</td>\n",
              "      <td>...</td>\n",
              "    </tr>\n",
              "    <tr>\n",
              "      <th>35035</th>\n",
              "      <td>2023-03-31</td>\n",
              "      <td>26.80</td>\n",
              "      <td>71.00</td>\n",
              "    </tr>\n",
              "    <tr>\n",
              "      <th>35036</th>\n",
              "      <td>2023-03-31</td>\n",
              "      <td>26.60</td>\n",
              "      <td>72.00</td>\n",
              "    </tr>\n",
              "    <tr>\n",
              "      <th>35037</th>\n",
              "      <td>2023-03-31</td>\n",
              "      <td>26.43</td>\n",
              "      <td>72.00</td>\n",
              "    </tr>\n",
              "    <tr>\n",
              "      <th>35038</th>\n",
              "      <td>2023-03-31</td>\n",
              "      <td>26.60</td>\n",
              "      <td>72.00</td>\n",
              "    </tr>\n",
              "    <tr>\n",
              "      <th>35039</th>\n",
              "      <td>2023-03-31</td>\n",
              "      <td>26.56</td>\n",
              "      <td>72.00</td>\n",
              "    </tr>\n",
              "  </tbody>\n",
              "</table>\n",
              "<p>140256 rows × 3 columns</p>\n",
              "</div>"
            ],
            "text/plain": [
              "            Date   Temp  Humidity\n",
              "0     2019-04-01  26.71     80.61\n",
              "1     2019-04-01  26.67     80.52\n",
              "2     2019-04-01  26.62     80.90\n",
              "3     2019-04-01  26.58     81.23\n",
              "4     2019-04-01  26.55     81.53\n",
              "...          ...    ...       ...\n",
              "35035 2023-03-31  26.80     71.00\n",
              "35036 2023-03-31  26.60     72.00\n",
              "35037 2023-03-31  26.43     72.00\n",
              "35038 2023-03-31  26.60     72.00\n",
              "35039 2023-03-31  26.56     72.00\n",
              "\n",
              "[140256 rows x 3 columns]"
            ]
          },
          "execution_count": 6,
          "metadata": {},
          "output_type": "execute_result"
        }
      ],
      "source": [
        "ex_df3 = pd.DataFrame()\n",
        "sheet_names = ['FY19-20','FY20-21', 'FY21-22']\n",
        "for sheet_name in sheet_names:\n",
        "  df = pd.read_excel('Weather Master From FY19-20 to Dec-23.xlsx',\n",
        "                      sheet_name=sheet_name)\n",
        "  df = df[['Date','ACT_TEMP','ACT_HUMIDITY']] # Choosing only the required coloumns.\n",
        "  ex_df3 = pd.concat([ex_df3, df]) # Concatenating the dfs.\n",
        "\n",
        "df = pd.read_excel('Weather Master FY 22-23.xlsx',\n",
        "                      sheet_name='FY22-23')\n",
        "df = df[['Date','ACT_TEMP','ACT_HUMIDITY']] # Choosing only the required coloumns.\n",
        "ex_df3 = pd.concat([ex_df3, df]) # Concatenating the dfs.\n",
        "\n",
        "ex_df3.columns = ['Date', 'Temp', 'Humidity'] # Renaming the colomns.\n",
        "ex_df3\n",
        "\n"
      ]
    },
    {
      "cell_type": "code",
      "execution_count": 7,
      "metadata": {
        "colab": {
          "base_uri": "https://localhost:8080/",
          "height": 444
        },
        "id": "n0UfOpKqpxfM",
        "outputId": "bc7585f1-4080-42ec-cf62-aa77ae7d45f0"
      },
      "outputs": [
        {
          "data": {
            "text/html": [
              "<div>\n",
              "<style scoped>\n",
              "    .dataframe tbody tr th:only-of-type {\n",
              "        vertical-align: middle;\n",
              "    }\n",
              "\n",
              "    .dataframe tbody tr th {\n",
              "        vertical-align: top;\n",
              "    }\n",
              "\n",
              "    .dataframe thead th {\n",
              "        text-align: right;\n",
              "    }\n",
              "</style>\n",
              "<table border=\"1\" class=\"dataframe\">\n",
              "  <thead>\n",
              "    <tr style=\"text-align: right;\">\n",
              "      <th></th>\n",
              "      <th>Date</th>\n",
              "      <th>Temp</th>\n",
              "      <th>Humidity</th>\n",
              "    </tr>\n",
              "  </thead>\n",
              "  <tbody>\n",
              "    <tr>\n",
              "      <th>0</th>\n",
              "      <td>2010-04-01</td>\n",
              "      <td>27.10</td>\n",
              "      <td>79.0</td>\n",
              "    </tr>\n",
              "    <tr>\n",
              "      <th>1</th>\n",
              "      <td>2010-04-01</td>\n",
              "      <td>27.10</td>\n",
              "      <td>79.0</td>\n",
              "    </tr>\n",
              "    <tr>\n",
              "      <th>2</th>\n",
              "      <td>2010-04-01</td>\n",
              "      <td>27.10</td>\n",
              "      <td>79.0</td>\n",
              "    </tr>\n",
              "    <tr>\n",
              "      <th>3</th>\n",
              "      <td>2010-04-01</td>\n",
              "      <td>27.10</td>\n",
              "      <td>78.0</td>\n",
              "    </tr>\n",
              "    <tr>\n",
              "      <th>4</th>\n",
              "      <td>2010-04-01</td>\n",
              "      <td>27.00</td>\n",
              "      <td>76.0</td>\n",
              "    </tr>\n",
              "    <tr>\n",
              "      <th>...</th>\n",
              "      <td>...</td>\n",
              "      <td>...</td>\n",
              "      <td>...</td>\n",
              "    </tr>\n",
              "    <tr>\n",
              "      <th>35035</th>\n",
              "      <td>2023-03-31</td>\n",
              "      <td>26.80</td>\n",
              "      <td>71.0</td>\n",
              "    </tr>\n",
              "    <tr>\n",
              "      <th>35036</th>\n",
              "      <td>2023-03-31</td>\n",
              "      <td>26.60</td>\n",
              "      <td>72.0</td>\n",
              "    </tr>\n",
              "    <tr>\n",
              "      <th>35037</th>\n",
              "      <td>2023-03-31</td>\n",
              "      <td>26.43</td>\n",
              "      <td>72.0</td>\n",
              "    </tr>\n",
              "    <tr>\n",
              "      <th>35038</th>\n",
              "      <td>2023-03-31</td>\n",
              "      <td>26.60</td>\n",
              "      <td>72.0</td>\n",
              "    </tr>\n",
              "    <tr>\n",
              "      <th>35039</th>\n",
              "      <td>2023-03-31</td>\n",
              "      <td>26.56</td>\n",
              "      <td>72.0</td>\n",
              "    </tr>\n",
              "  </tbody>\n",
              "</table>\n",
              "<p>455808 rows × 3 columns</p>\n",
              "</div>"
            ],
            "text/plain": [
              "             Date   Temp  Humidity\n",
              "0      2010-04-01  27.10      79.0\n",
              "1      2010-04-01  27.10      79.0\n",
              "2      2010-04-01  27.10      79.0\n",
              "3      2010-04-01  27.10      78.0\n",
              "4      2010-04-01  27.00      76.0\n",
              "...           ...    ...       ...\n",
              "35035  2023-03-31  26.80      71.0\n",
              "35036  2023-03-31  26.60      72.0\n",
              "35037  2023-03-31  26.43      72.0\n",
              "35038  2023-03-31  26.60      72.0\n",
              "35039  2023-03-31  26.56      72.0\n",
              "\n",
              "[455808 rows x 3 columns]"
            ]
          },
          "execution_count": 7,
          "metadata": {},
          "output_type": "execute_result"
        }
      ],
      "source": [
        "ex_train_df = pd.concat([ex_df1, ex_df2, ex_df3]) # Concatenating the dfs.\n",
        "ex_train_df['Date'] = ex_train_df['Date'].astype('str').str.split(' ').str[0] # Removing the time from the date.\n",
        "ex_train_df = ex_train_df.ffill()\n",
        "ex_train_df"
      ]
    },
    {
      "cell_type": "code",
      "execution_count": 8,
      "metadata": {
        "colab": {
          "base_uri": "https://localhost:8080/",
          "height": 649
        },
        "id": "a6PkxrI5ol_r",
        "outputId": "ee571144-b557-4684-be43-27f0afa9bf8a"
      },
      "outputs": [
        {
          "data": {
            "text/html": [
              "<div>\n",
              "<style scoped>\n",
              "    .dataframe tbody tr th:only-of-type {\n",
              "        vertical-align: middle;\n",
              "    }\n",
              "\n",
              "    .dataframe tbody tr th {\n",
              "        vertical-align: top;\n",
              "    }\n",
              "\n",
              "    .dataframe thead th {\n",
              "        text-align: right;\n",
              "    }\n",
              "</style>\n",
              "<table border=\"1\" class=\"dataframe\">\n",
              "  <thead>\n",
              "    <tr style=\"text-align: right;\">\n",
              "      <th></th>\n",
              "      <th>Temp</th>\n",
              "      <th>Humidity</th>\n",
              "    </tr>\n",
              "    <tr>\n",
              "      <th>DateTime</th>\n",
              "      <th></th>\n",
              "      <th></th>\n",
              "    </tr>\n",
              "  </thead>\n",
              "  <tbody>\n",
              "    <tr>\n",
              "      <th>2010-04-01 00:00:00</th>\n",
              "      <td>27.10</td>\n",
              "      <td>79.0</td>\n",
              "    </tr>\n",
              "    <tr>\n",
              "      <th>2010-04-01 00:15:00</th>\n",
              "      <td>27.10</td>\n",
              "      <td>79.0</td>\n",
              "    </tr>\n",
              "    <tr>\n",
              "      <th>2010-04-01 00:30:00</th>\n",
              "      <td>27.10</td>\n",
              "      <td>79.0</td>\n",
              "    </tr>\n",
              "    <tr>\n",
              "      <th>2010-04-01 00:45:00</th>\n",
              "      <td>27.10</td>\n",
              "      <td>78.0</td>\n",
              "    </tr>\n",
              "    <tr>\n",
              "      <th>2010-04-01 01:00:00</th>\n",
              "      <td>27.00</td>\n",
              "      <td>76.0</td>\n",
              "    </tr>\n",
              "    <tr>\n",
              "      <th>...</th>\n",
              "      <td>...</td>\n",
              "      <td>...</td>\n",
              "    </tr>\n",
              "    <tr>\n",
              "      <th>2023-03-31 22:45:00</th>\n",
              "      <td>26.80</td>\n",
              "      <td>71.0</td>\n",
              "    </tr>\n",
              "    <tr>\n",
              "      <th>2023-03-31 23:00:00</th>\n",
              "      <td>26.60</td>\n",
              "      <td>72.0</td>\n",
              "    </tr>\n",
              "    <tr>\n",
              "      <th>2023-03-31 23:15:00</th>\n",
              "      <td>26.43</td>\n",
              "      <td>72.0</td>\n",
              "    </tr>\n",
              "    <tr>\n",
              "      <th>2023-03-31 23:30:00</th>\n",
              "      <td>26.60</td>\n",
              "      <td>72.0</td>\n",
              "    </tr>\n",
              "    <tr>\n",
              "      <th>2023-03-31 23:45:00</th>\n",
              "      <td>26.56</td>\n",
              "      <td>72.0</td>\n",
              "    </tr>\n",
              "  </tbody>\n",
              "</table>\n",
              "<p>455808 rows × 2 columns</p>\n",
              "</div>"
            ],
            "text/plain": [
              "                      Temp  Humidity\n",
              "DateTime                            \n",
              "2010-04-01 00:00:00  27.10      79.0\n",
              "2010-04-01 00:15:00  27.10      79.0\n",
              "2010-04-01 00:30:00  27.10      79.0\n",
              "2010-04-01 00:45:00  27.10      78.0\n",
              "2010-04-01 01:00:00  27.00      76.0\n",
              "...                    ...       ...\n",
              "2023-03-31 22:45:00  26.80      71.0\n",
              "2023-03-31 23:00:00  26.60      72.0\n",
              "2023-03-31 23:15:00  26.43      72.0\n",
              "2023-03-31 23:30:00  26.60      72.0\n",
              "2023-03-31 23:45:00  26.56      72.0\n",
              "\n",
              "[455808 rows x 2 columns]"
            ]
          },
          "execution_count": 8,
          "metadata": {},
          "output_type": "execute_result"
        }
      ],
      "source": [
        "# Adding a column 'Time' with time data with 15 mins interval.\n",
        "ex_train_df['Time'] = [f\"{h:02}:{m:02}\" for h in range(24) for m in range(0, 60, 15)] * (len(ex_train_df)//96) # Multiplying for 2 years\n",
        "\n",
        "# Creating a new column with both Date and Time.\n",
        "ex_train_df['DateTime'] = ex_train_df['Date'].astype(str) + ' ' + ex_train_df['Time']\n",
        "\n",
        "# Droping 'Date', 'Time', and 'Time Block' columns.\n",
        "ex_train_df = ex_train_df.drop(['Date','Time'], axis=1)\n",
        "\n",
        "# Setting the 'DateTime' column as index.\n",
        "ex_train_df.set_index('DateTime', inplace=True)\n",
        "ex_train_df.index = pd.DatetimeIndex(ex_train_df.index,freq='15min') # Converting the index to datetime index\n",
        "ex_train_df"
      ]
    },
    {
      "cell_type": "markdown",
      "metadata": {
        "id": "ZHezYoKgfuxp"
      },
      "source": [
        "## Testing Data"
      ]
    },
    {
      "cell_type": "code",
      "execution_count": 9,
      "metadata": {
        "colab": {
          "base_uri": "https://localhost:8080/",
          "height": 649
        },
        "id": "0OFOufrmgsaP",
        "outputId": "f2559f20-5fe8-47db-c540-36858dcc90ab"
      },
      "outputs": [
        {
          "data": {
            "text/html": [
              "<div>\n",
              "<style scoped>\n",
              "    .dataframe tbody tr th:only-of-type {\n",
              "        vertical-align: middle;\n",
              "    }\n",
              "\n",
              "    .dataframe tbody tr th {\n",
              "        vertical-align: top;\n",
              "    }\n",
              "\n",
              "    .dataframe thead th {\n",
              "        text-align: right;\n",
              "    }\n",
              "</style>\n",
              "<table border=\"1\" class=\"dataframe\">\n",
              "  <thead>\n",
              "    <tr style=\"text-align: right;\">\n",
              "      <th></th>\n",
              "      <th>Temp</th>\n",
              "      <th>Humidity</th>\n",
              "    </tr>\n",
              "    <tr>\n",
              "      <th>DateTime</th>\n",
              "      <th></th>\n",
              "      <th></th>\n",
              "    </tr>\n",
              "  </thead>\n",
              "  <tbody>\n",
              "    <tr>\n",
              "      <th>2023-04-01 00:00:00</th>\n",
              "      <td>26.46</td>\n",
              "      <td>72.0</td>\n",
              "    </tr>\n",
              "    <tr>\n",
              "      <th>2023-04-01 00:15:00</th>\n",
              "      <td>26.42</td>\n",
              "      <td>72.0</td>\n",
              "    </tr>\n",
              "    <tr>\n",
              "      <th>2023-04-01 00:30:00</th>\n",
              "      <td>26.40</td>\n",
              "      <td>73.0</td>\n",
              "    </tr>\n",
              "    <tr>\n",
              "      <th>2023-04-01 00:45:00</th>\n",
              "      <td>26.37</td>\n",
              "      <td>74.0</td>\n",
              "    </tr>\n",
              "    <tr>\n",
              "      <th>2023-04-01 01:00:00</th>\n",
              "      <td>26.32</td>\n",
              "      <td>74.0</td>\n",
              "    </tr>\n",
              "    <tr>\n",
              "      <th>...</th>\n",
              "      <td>...</td>\n",
              "      <td>...</td>\n",
              "    </tr>\n",
              "    <tr>\n",
              "      <th>2023-12-31 22:45:00</th>\n",
              "      <td>26.30</td>\n",
              "      <td>62.0</td>\n",
              "    </tr>\n",
              "    <tr>\n",
              "      <th>2023-12-31 23:00:00</th>\n",
              "      <td>26.14</td>\n",
              "      <td>63.0</td>\n",
              "    </tr>\n",
              "    <tr>\n",
              "      <th>2023-12-31 23:15:00</th>\n",
              "      <td>25.98</td>\n",
              "      <td>64.0</td>\n",
              "    </tr>\n",
              "    <tr>\n",
              "      <th>2023-12-31 23:30:00</th>\n",
              "      <td>25.75</td>\n",
              "      <td>66.0</td>\n",
              "    </tr>\n",
              "    <tr>\n",
              "      <th>2023-12-31 23:45:00</th>\n",
              "      <td>25.68</td>\n",
              "      <td>65.0</td>\n",
              "    </tr>\n",
              "  </tbody>\n",
              "</table>\n",
              "<p>26400 rows × 2 columns</p>\n",
              "</div>"
            ],
            "text/plain": [
              "                      Temp  Humidity\n",
              "DateTime                            \n",
              "2023-04-01 00:00:00  26.46      72.0\n",
              "2023-04-01 00:15:00  26.42      72.0\n",
              "2023-04-01 00:30:00  26.40      73.0\n",
              "2023-04-01 00:45:00  26.37      74.0\n",
              "2023-04-01 01:00:00  26.32      74.0\n",
              "...                    ...       ...\n",
              "2023-12-31 22:45:00  26.30      62.0\n",
              "2023-12-31 23:00:00  26.14      63.0\n",
              "2023-12-31 23:15:00  25.98      64.0\n",
              "2023-12-31 23:30:00  25.75      66.0\n",
              "2023-12-31 23:45:00  25.68      65.0\n",
              "\n",
              "[26400 rows x 2 columns]"
            ]
          },
          "execution_count": 9,
          "metadata": {},
          "output_type": "execute_result"
        }
      ],
      "source": [
        "ex_test_df = pd.read_excel('Weather Master From FY19-20 to Dec-23.xlsx',\n",
        "                      sheet_name='FY 23-24')\n",
        "ex_test_df = ex_test_df[['Date','ACT_TEMP','ACT_HUMIDITY']] # Choosing only the required coloumns.\n",
        "\n",
        "ex_test_df.columns = ['Date', 'Temp', 'Humidity'] # Renaming the colomns.\n",
        "\n",
        "ex_test_df = ex_test_df.ffill()\n",
        "\n",
        "# Adding a column 'Time' with time data with 15 mins interval.\n",
        "ex_test_df['Time'] = [f\"{h:02}:{m:02}\" for h in range(24) for m in range(0, 60, 15)] * (len(ex_test_df)//96) # Multiplying for 2 years\n",
        "\n",
        "# Creating a new column with both Date and Time.\n",
        "ex_test_df['DateTime'] = ex_test_df['Date'].astype(str) + ' ' + ex_test_df['Time']\n",
        "\n",
        "# Droping 'Date', 'Time', and 'Time Block' columns.\n",
        "ex_test_df = ex_test_df.drop(['Date','Time'], axis=1)\n",
        "\n",
        "# Setting the 'DateTime' column as index.\n",
        "ex_test_df.set_index('DateTime', inplace=True)\n",
        "ex_test_df.index = pd.DatetimeIndex(ex_test_df.index,freq='15min') # Converting the index to datetime index\n",
        "\n",
        "ex_test_df"
      ]
    },
    {
      "cell_type": "markdown",
      "metadata": {
        "id": "c6nVOMXBMBxv"
      },
      "source": [
        "# Plotting Data"
      ]
    },
    {
      "cell_type": "markdown",
      "metadata": {
        "id": "9dJL6uIJMIZT"
      },
      "source": [
        "**Training Data**"
      ]
    },
    {
      "cell_type": "code",
      "execution_count": 10,
      "metadata": {
        "id": "EWYnQYhJMLGQ"
      },
      "outputs": [
        {
          "data": {
            "text/plain": [
              "(<Figure size 1600x400 with 1 Axes>, <Axes: ylabel='Demand'>)"
            ]
          },
          "execution_count": 10,
          "metadata": {},
          "output_type": "execute_result"
        },
        {
          "data": {
            "image/png": "[encoded data removed]",
            "text/plain": [
              "<Figure size 1600x400 with 1 Axes>"
            ]
          },
          "metadata": {},
          "output_type": "display_data"
        }
      ],
      "source": [
        "from sktime.utils.plotting import plot_series\n",
        "plot_series(train_df)"
      ]
    },
    {
      "cell_type": "markdown",
      "metadata": {
        "id": "XKhxcMqBQHQt"
      },
      "source": [
        "**Test Data**"
      ]
    },
    {
      "cell_type": "code",
      "execution_count": 11,
      "metadata": {
        "id": "oAgaA1B9QJ5Q"
      },
      "outputs": [
        {
          "data": {
            "text/plain": [
              "(<Figure size 1600x400 with 1 Axes>, <Axes: ylabel='Demand'>)"
            ]
          },
          "execution_count": 11,
          "metadata": {},
          "output_type": "execute_result"
        },
        {
          "data": {
            "image/png": "[encoded data removed]",
            "text/plain": [
              "<Figure size 1600x400 with 1 Axes>"
            ]
          },
          "metadata": {},
          "output_type": "display_data"
        }
      ],
      "source": [
        "from sktime.utils.plotting import plot_series\n",
        "plot_series(test_df)"
      ]
    },
    {
      "cell_type": "markdown",
      "metadata": {
        "id": "o5af3Gv6aIc3"
      },
      "source": [
        "# Prophet (Without Exo Variables)"
      ]
    },
    {
      "cell_type": "code",
      "execution_count": null,
      "metadata": {
        "id": "wY_LWB_2aKu7"
      },
      "outputs": [],
      "source": [
        "prophet_train_df = train_df.copy()\n",
        "prophet_test_df = test_df.copy()"
      ]
    },
    {
      "cell_type": "code",
      "execution_count": null,
      "metadata": {
        "colab": {
          "base_uri": "https://localhost:8080/"
        },
        "id": "I2xc3S8DaRDH",
        "outputId": "df535c48-e0cb-4590-a9c7-6d8837550fb7"
      },
      "outputs": [
        {
          "name": "stderr",
          "output_type": "stream",
          "text": [
            "/usr/local/lib/python3.10/dist-packages/holidays/countries/india.py:103: Warning: Diwali and Holi holidays available from 2001 to 2030 only\n",
            "  warnings.warn(warning_msg, Warning)\n",
            "DEBUG:cmdstanpy:input tempfile: /tmp/tmp_oqvqrmn/yrd06plw.json\n",
            "DEBUG:cmdstanpy:input tempfile: /tmp/tmp_oqvqrmn/tx6hnj2v.json\n",
            "DEBUG:cmdstanpy:idx 0\n",
            "DEBUG:cmdstanpy:running CmdStan, num_threads: None\n",
            "DEBUG:cmdstanpy:CmdStan args: ['/usr/local/lib/python3.10/dist-packages/prophet/stan_model/prophet_model.bin', 'random', 'seed=88120', 'data', 'file=/tmp/tmp_oqvqrmn/yrd06plw.json', 'init=/tmp/tmp_oqvqrmn/tx6hnj2v.json', 'output', 'file=/tmp/tmp_oqvqrmn/prophet_modellwufp3yk/prophet_model-20250112141516.csv', 'method=optimize', 'algorithm=lbfgs', 'iter=10000']\n",
            "14:15:16 - cmdstanpy - INFO - Chain [1] start processing\n",
            "INFO:cmdstanpy:Chain [1] start processing\n",
            "14:29:47 - cmdstanpy - INFO - Chain [1] done processing\n",
            "INFO:cmdstanpy:Chain [1] done processing\n"
          ]
        }
      ],
      "source": [
        "from sktime.forecasting.fbprophet import Prophet\n",
        "from sktime.forecasting.base import ForecastingHorizon\n",
        "import numpy as np\n",
        "\n",
        "fh = ForecastingHorizon([i for i in range(1, len(prophet_test_df) +1)], is_relative=True)\n",
        "forecaster = Prophet(yearly_seasonality = True,\n",
        "                      add_country_holidays={'country_name': 'India'})\n",
        "forecaster.fit(prophet_train_df['Demand'].astype(np.float32))\n",
        "\n",
        "# Generate predictions\n",
        "prophet_test_df['Predictions'] = forecaster.predict(fh)"
      ]
    },
    {
      "cell_type": "code",
      "execution_count": null,
      "metadata": {
        "colab": {
          "base_uri": "https://localhost:8080/",
          "height": 385
        },
        "id": "_FIoXvlwaZ1i",
        "outputId": "762ea7e5-bda4-40e4-e43f-4bcaf0627162"
      },
      "outputs": [
        {
          "name": "stdout",
          "output_type": "stream",
          "text": [
            "Mean Absolute Percentage Error: 0.06583993658959243\n",
            "Median Absolute Percentage Error: 0.05353801040893419\n"
          ]
        },
        {
          "data": {
            "image/png": "[encoded data removed]",
            "text/plain": [
              "<Figure size 1600x400 with 1 Axes>"
            ]
          },
          "metadata": {},
          "output_type": "display_data"
        }
      ],
      "source": [
        "from sktime.utils.plotting import plot_series\n",
        "from sktime.performance_metrics.forecasting import median_absolute_percentage_error, mean_absolute_percentage_error\n",
        "\n",
        "# Plotting the actual Demand and Predicted Demand for each day.\n",
        "plot_series(prophet_test_df['Demand'],prophet_test_df['Predictions'], labels=[\"Demand\", \"Prediction\"])\n",
        "\n",
        "# Caluculating the MAE\n",
        "median_absolute_percentage_error = median_absolute_percentage_error(prophet_test_df['Demand'], prophet_test_df['Predictions'])\n",
        "mean_absolute_percentage_error = mean_absolute_percentage_error(prophet_test_df['Demand'], prophet_test_df['Predictions'])\n",
        "print(f\"Mean Absolute Percentage Error: {mean_absolute_percentage_error}\")\n",
        "print(f\"Median Absolute Percentage Error: {median_absolute_percentage_error}\")"
      ]
    },
    {
      "cell_type": "markdown",
      "metadata": {
        "id": "cMjCgQ4v5S4j"
      },
      "source": [
        "# Prophet (With Exo Variables)"
      ]
    },
    {
      "cell_type": "code",
      "execution_count": 12,
      "metadata": {
        "id": "AqCGfzoV6ii3"
      },
      "outputs": [],
      "source": [
        "prophet_train_df = pd.concat([train_df, ex_train_df], axis=1)\n",
        "prophet_test_df = pd.concat([test_df, ex_test_df], axis=1)"
      ]
    },
    {
      "cell_type": "code",
      "execution_count": 13,
      "metadata": {
        "colab": {
          "base_uri": "https://localhost:8080/"
        },
        "id": "4FwDtUB-6lVn",
        "outputId": "f280a434-7050-4c81-8a36-b9e438f25bd5"
      },
      "outputs": [
        {
          "name": "stderr",
          "output_type": "stream",
          "text": [
            "/home/milanroy/Desktop/AEML/.venv/lib/python3.10/site-packages/tqdm/auto.py:21: TqdmWarning: IProgress not found. Please update jupyter and ipywidgets. See https://ipywidgets.readthedocs.io/en/stable/user_install.html\n",
            "  from .autonotebook import tqdm as notebook_tqdm\n",
            "Importing plotly failed. Interactive plots will not work.\n",
            "/home/milanroy/Desktop/AEML/.venv/lib/python3.10/site-packages/holidays/countries/india.py:103: Warning: Diwali and Holi holidays available from 2001 to 2030 only\n",
            "  warnings.warn(warning_msg, Warning)\n",
            "17:08:09 - cmdstanpy - INFO - Chain [1] start processing\n",
            "17:15:14 - cmdstanpy - INFO - Chain [1] done processing\n"
          ]
        },
        {
          "data": {
            "text/plain": [
              "<prophet.forecaster.Prophet at 0x776c221c2f20>"
            ]
          },
          "execution_count": 13,
          "metadata": {},
          "output_type": "execute_result"
        }
      ],
      "source": [
        "from prophet import Prophet\n",
        "\n",
        "model = Prophet()\n",
        "model.add_country_holidays(country_name='India')\n",
        "model.add_regressor('Temp')\n",
        "model.add_regressor('Humidity')\n",
        "prophet_train_df.reset_index(inplace=True)\n",
        "prophet_train_df.columns = ['ds', 'y', 'Temp', 'Humidity']\n",
        "model.fit(prophet_train_df)\n"
      ]
    },
    {
      "cell_type": "code",
      "execution_count": 14,
      "metadata": {
        "id": "Cr9LwqwqCpi-"
      },
      "outputs": [
        {
          "data": {
            "image/png": "[encoded data removed]",
            "text/plain": [
              "<Figure size 1000x600 with 1 Axes>"
            ]
          },
          "execution_count": 14,
          "metadata": {},
          "output_type": "execute_result"
        },
        {
          "data": {
            "image/png": "[encoded data removed]",
            "text/plain": [
              "<Figure size 1000x600 with 1 Axes>"
            ]
          },
          "metadata": {},
          "output_type": "display_data"
        }
      ],
      "source": [
        "# Create a DataFrame for future dates\n",
        "future = model.make_future_dataframe(periods=len(prophet_test_df), freq='15min')\n",
        "\n",
        "future['Temp'] = list(prophet_train_df['Temp']) + list(prophet_test_df.iloc[:275*96]['Temp'])  # Provide future values\n",
        "future['Humidity'] = prophet_train_df['Humidity'].to_list() +  prophet_test_df.iloc[:275*96]['Humidity'].to_list()  # Provide future values\n",
        "\n",
        "# Make predictions\n",
        "forecast = model.predict(future )\n",
        "# Plot the forecast\n",
        "model.plot(forecast)"
      ]
    },
    {
      "cell_type": "code",
      "execution_count": 15,
      "metadata": {
        "id": "WtuCZJvGDyQK"
      },
      "outputs": [
        {
          "name": "stdout",
          "output_type": "stream",
          "text": [
            "Mean Absolute Error (MAE): 0.06583927031925102\n",
            "Median Absolute Percentage Error: 0.05126753544458033\n"
          ]
        }
      ],
      "source": [
        "from sklearn.metrics import mean_absolute_error\n",
        "from sktime.performance_metrics.forecasting import median_absolute_percentage_error, mean_absolute_percentage_error\n",
        "\n",
        "test_predictions = forecast.iloc[-275*96:]['yhat']\n",
        "prophet_test_df = prophet_test_df.iloc[:275*96]['Demand']\n",
        "\n",
        "# Calculate MAE\n",
        "mae = mean_absolute_percentage_error(prophet_test_df, test_predictions)\n",
        "median_absolute_percentage_error = median_absolute_percentage_error(prophet_test_df, test_predictions)\n",
        "print(f\"Mean Absolute Error (MAE): {mae}\")\n",
        "print(f\"Median Absolute Percentage Error: {median_absolute_percentage_error}\")"
      ]
    }
  ],
  "metadata": {
    "colab": {
      "collapsed_sections": [
        "c6nVOMXBMBxv"
      ],
      "provenance": []
    },
    "kernelspec": {
      "display_name": ".venv",
      "language": "python",
      "name": "python3"
    },
    "language_info": {
      "codemirror_mode": {
        "name": "ipython",
        "version": 3
      },
      "file_extension": ".py",
      "mimetype": "text/x-python",
      "name": "python",
      "nbconvert_exporter": "python",
      "pygments_lexer": "ipython3",
      "version": "3.10.12"
    }
  },
  "nbformat": 4,
  "nbformat_minor": 0
}
