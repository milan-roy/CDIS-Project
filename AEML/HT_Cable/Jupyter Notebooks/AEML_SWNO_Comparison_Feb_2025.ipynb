{
 "cells": [
  {
   "cell_type": "code",
   "execution_count": 2,
   "metadata": {},
   "outputs": [
    {
     "ename": "ModuleNotFoundError",
     "evalue": "No module named 'pandas'",
     "output_type": "error",
     "traceback": [
      "\u001b[1;31m---------------------------------------------------------------------------\u001b[0m",
      "\u001b[1;31mModuleNotFoundError\u001b[0m                       Traceback (most recent call last)",
      "Cell \u001b[1;32mIn[2], line 1\u001b[0m\n\u001b[1;32m----> 1\u001b[0m \u001b[38;5;28;01mimport\u001b[39;00m\u001b[38;5;250m \u001b[39m\u001b[38;5;21;01mpandas\u001b[39;00m\u001b[38;5;250m \u001b[39m\u001b[38;5;28;01mas\u001b[39;00m\u001b[38;5;250m \u001b[39m\u001b[38;5;21;01mpd\u001b[39;00m\n",
      "\u001b[1;31mModuleNotFoundError\u001b[0m: No module named 'pandas'"
     ]
    }
   ],
   "source": [
    "import pandas as pd"
   ]
  },
  {
   "cell_type": "code",
   "execution_count": 5,
   "metadata": {},
   "outputs": [],
   "source": [
    "import os\n",
    "root_dir1 = r'C:\\Users\\milan\\Desktop\\CDIS Project\\AEML\\HT_Cable\\Data (from AEML)'\n",
    "root_dir2 = r'C:\\Users\\milan\\Desktop\\CDIS Project\\AEML\\HT_Cable\\Data (from me)'"
   ]
  },
  {
   "cell_type": "markdown",
   "metadata": {},
   "source": [
    "### Loading Fault Report"
   ]
  },
  {
   "cell_type": "code",
   "execution_count": 6,
   "metadata": {},
   "outputs": [
    {
     "data": {
      "application/vnd.microsoft.datawrangler.viewer.v0+json": {
       "columns": [
        {
         "name": "index",
         "rawType": "int64",
         "type": "integer"
        },
        {
         "name": "VOLTAGE",
         "rawType": "object",
         "type": "unknown"
        },
        {
         "name": "FROM SWITCH",
         "rawType": "object",
         "type": "unknown"
        },
        {
         "name": "TO SWITCH",
         "rawType": "float64",
         "type": "float"
        }
       ],
       "conversionMethod": "pd.DataFrame",
       "ref": "0ebde29e-9d6d-4be7-99ff-10c42386593d",
       "rows": [
        [
         "0",
         "11 KV",
         "39949",
         "7869.0"
        ],
        [
         "1",
         "11 KV",
         "30632",
         "43054.0"
        ],
        [
         "2",
         "11 KV",
         "31943",
         "25766.0"
        ],
        [
         "3",
         "11 KV",
         "4269",
         "4682.0"
        ],
        [
         "4",
         "11 KV",
         "7430",
         "11675.0"
        ],
        [
         "5",
         "11 KV",
         "6163",
         "35343.0"
        ],
        [
         "6",
         "11 KV",
         "30482",
         "11642.0"
        ],
        [
         "7",
         "11 KV",
         "26206",
         "28057.0"
        ],
        [
         "8",
         "11 KV",
         "15229",
         "7729.0"
        ],
        [
         "9",
         "11 KV",
         "26119",
         null
        ],
        [
         "10",
         "11 KV",
         "7142",
         "12416.0"
        ],
        [
         "11",
         "11 KV",
         "37095",
         "14739.0"
        ],
        [
         "12",
         "11 KV",
         "7861",
         "31608.0"
        ],
        [
         "13",
         "11 KV",
         "15630",
         "9370.0"
        ],
        [
         "14",
         "22 KV",
         "T22CHMBOG03",
         "1151.0"
        ],
        [
         "15",
         "22 KV",
         "T22SAKOG09",
         "33063.0"
        ],
        [
         "16",
         "11 KV",
         "1013",
         "5952.0"
        ],
        [
         "17",
         "11 KV",
         "9235",
         "17427.0"
        ],
        [
         "18",
         "11 KV",
         "9850",
         "6368.0"
        ],
        [
         "19",
         "11 KV",
         "30558",
         "18881.0"
        ],
        [
         "20",
         "11 KV",
         "15066",
         null
        ],
        [
         "21",
         "11 KV",
         "39925",
         "41234.0"
        ],
        [
         "22",
         "11 KV",
         "35964",
         "32974.0"
        ],
        [
         "23",
         "33 KV",
         "220GOR32",
         "33160.0"
        ],
        [
         "24",
         "11 KV",
         "15961",
         "29877.0"
        ],
        [
         "25",
         "11 KV",
         "34405",
         "26126.0"
        ],
        [
         "26",
         "11 KV",
         "41910",
         "31116.0"
        ],
        [
         "27",
         "11 KV",
         "12965",
         "32295.0"
        ],
        [
         "28",
         "11 KV",
         "13248",
         null
        ],
        [
         "29",
         "11 KV",
         "9664",
         "38978.0"
        ],
        [
         "30",
         "11 KV",
         "42559",
         null
        ],
        [
         "31",
         "33 KV",
         "220GOI18",
         "33172.0"
        ],
        [
         "32",
         "11 KV",
         "30975",
         "36876.0"
        ],
        [
         "33",
         "11 KV",
         "19693",
         "34871.0"
        ],
        [
         "34",
         "11 KV",
         "19605",
         "19780.0"
        ],
        [
         "35",
         "11 KV",
         "32174",
         "9566.0"
        ],
        [
         "36",
         "11 KV",
         "16997",
         "31989.0"
        ],
        [
         "37",
         "11 KV",
         "40721",
         "18251.0"
        ],
        [
         "38",
         "11 KV",
         "26373",
         "31233.0"
        ],
        [
         "39",
         "33 KV",
         "220AAR41",
         "33207.0"
        ],
        [
         "40",
         "11 KV",
         "35936",
         "43145.0"
        ],
        [
         "41",
         "11 KV",
         "38856",
         "42497.0"
        ],
        [
         "42",
         "11 KV",
         "4365",
         "29358.0"
        ],
        [
         "43",
         "11 KV",
         "11982",
         "26953.0"
        ],
        [
         "44",
         "33 KV",
         "220AAR90",
         "33163.0"
        ],
        [
         "45",
         "33 KV",
         "T33DHAOG5H08",
         "33248.0"
        ],
        [
         "46",
         "22 KV",
         "T22DHAOG07H09",
         "33154.0"
        ],
        [
         "47",
         "11 KV",
         "31723",
         "19317.0"
        ],
        [
         "48",
         "11 KV",
         "17452",
         "10400.0"
        ],
        [
         "49",
         "11 KV",
         "42737",
         "9893.0"
        ]
       ],
       "shape": {
        "columns": 3,
        "rows": 217
       }
      },
      "text/html": [
       "<div>\n",
       "<style scoped>\n",
       "    .dataframe tbody tr th:only-of-type {\n",
       "        vertical-align: middle;\n",
       "    }\n",
       "\n",
       "    .dataframe tbody tr th {\n",
       "        vertical-align: top;\n",
       "    }\n",
       "\n",
       "    .dataframe thead th {\n",
       "        text-align: right;\n",
       "    }\n",
       "</style>\n",
       "<table border=\"1\" class=\"dataframe\">\n",
       "  <thead>\n",
       "    <tr style=\"text-align: right;\">\n",
       "      <th></th>\n",
       "      <th>VOLTAGE</th>\n",
       "      <th>FROM SWITCH</th>\n",
       "      <th>TO SWITCH</th>\n",
       "    </tr>\n",
       "  </thead>\n",
       "  <tbody>\n",
       "    <tr>\n",
       "      <th>0</th>\n",
       "      <td>11 KV</td>\n",
       "      <td>39949</td>\n",
       "      <td>7869.0</td>\n",
       "    </tr>\n",
       "    <tr>\n",
       "      <th>1</th>\n",
       "      <td>11 KV</td>\n",
       "      <td>30632</td>\n",
       "      <td>43054.0</td>\n",
       "    </tr>\n",
       "    <tr>\n",
       "      <th>2</th>\n",
       "      <td>11 KV</td>\n",
       "      <td>31943</td>\n",
       "      <td>25766.0</td>\n",
       "    </tr>\n",
       "    <tr>\n",
       "      <th>3</th>\n",
       "      <td>11 KV</td>\n",
       "      <td>4269</td>\n",
       "      <td>4682.0</td>\n",
       "    </tr>\n",
       "    <tr>\n",
       "      <th>4</th>\n",
       "      <td>11 KV</td>\n",
       "      <td>7430</td>\n",
       "      <td>11675.0</td>\n",
       "    </tr>\n",
       "    <tr>\n",
       "      <th>...</th>\n",
       "      <td>...</td>\n",
       "      <td>...</td>\n",
       "      <td>...</td>\n",
       "    </tr>\n",
       "    <tr>\n",
       "      <th>212</th>\n",
       "      <td>11 KV</td>\n",
       "      <td>39272</td>\n",
       "      <td>1534.0</td>\n",
       "    </tr>\n",
       "    <tr>\n",
       "      <th>213</th>\n",
       "      <td>11 KV</td>\n",
       "      <td>3104</td>\n",
       "      <td>6857.0</td>\n",
       "    </tr>\n",
       "    <tr>\n",
       "      <th>214</th>\n",
       "      <td>11 KV</td>\n",
       "      <td>16641</td>\n",
       "      <td>17241.0</td>\n",
       "    </tr>\n",
       "    <tr>\n",
       "      <th>215</th>\n",
       "      <td>11 KV</td>\n",
       "      <td>18417</td>\n",
       "      <td>13092.0</td>\n",
       "    </tr>\n",
       "    <tr>\n",
       "      <th>216</th>\n",
       "      <td>11 KV</td>\n",
       "      <td>41053</td>\n",
       "      <td>2214.0</td>\n",
       "    </tr>\n",
       "  </tbody>\n",
       "</table>\n",
       "<p>217 rows × 3 columns</p>\n",
       "</div>"
      ],
      "text/plain": [
       "    VOLTAGE FROM SWITCH  TO SWITCH\n",
       "0     11 KV       39949     7869.0\n",
       "1     11 KV       30632    43054.0\n",
       "2     11 KV       31943    25766.0\n",
       "3     11 KV        4269     4682.0\n",
       "4     11 KV        7430    11675.0\n",
       "..      ...         ...        ...\n",
       "212   11 KV       39272     1534.0\n",
       "213   11 KV        3104     6857.0\n",
       "214   11 KV       16641    17241.0\n",
       "215   11 KV       18417    13092.0\n",
       "216   11 KV       41053     2214.0\n",
       "\n",
       "[217 rows x 3 columns]"
      ]
     },
     "execution_count": 6,
     "metadata": {},
     "output_type": "execute_result"
    }
   ],
   "source": [
    "fault_report_df = pd.read_excel(os.path.join(root_dir1,'Fault Report 3 month.xlsx'))\n",
    "fault_report_df = fault_report_df.drop_duplicates(subset='EVENT_TIME', keep='first').reset_index(drop=True)\n",
    "fault_report_df = fault_report_df[['VOLTAGE','FROM SWITCH', 'TO SWITCH']]\n",
    "fault_report_df"
   ]
  },
  {
   "cell_type": "code",
   "execution_count": 7,
   "metadata": {},
   "outputs": [
    {
     "data": {
      "application/vnd.microsoft.datawrangler.viewer.v0+json": {
       "columns": [
        {
         "name": "index",
         "rawType": "int64",
         "type": "integer"
        },
        {
         "name": "VOLTAGE",
         "rawType": "object",
         "type": "string"
        },
        {
         "name": "FROM SWITCH",
         "rawType": "object",
         "type": "unknown"
        },
        {
         "name": "TO SWITCH",
         "rawType": "float64",
         "type": "float"
        }
       ],
       "conversionMethod": "pd.DataFrame",
       "ref": "cdc3c27c-672c-4943-af8d-9a19252855a8",
       "rows": [
        [
         "0",
         "11 KV",
         "39949",
         "7869.0"
        ],
        [
         "1",
         "11 KV",
         "30632",
         "43054.0"
        ],
        [
         "2",
         "11 KV",
         "31943",
         "25766.0"
        ],
        [
         "3",
         "11 KV",
         "4269",
         "4682.0"
        ],
        [
         "4",
         "11 KV",
         "7430",
         "11675.0"
        ],
        [
         "5",
         "11 KV",
         "6163",
         "35343.0"
        ],
        [
         "6",
         "11 KV",
         "30482",
         "11642.0"
        ],
        [
         "7",
         "11 KV",
         "26206",
         "28057.0"
        ],
        [
         "8",
         "11 KV",
         "15229",
         "7729.0"
        ],
        [
         "9",
         "11 KV",
         "26119",
         null
        ],
        [
         "10",
         "11 KV",
         "7142",
         "12416.0"
        ],
        [
         "11",
         "11 KV",
         "37095",
         "14739.0"
        ],
        [
         "12",
         "11 KV",
         "7861",
         "31608.0"
        ],
        [
         "13",
         "11 KV",
         "15630",
         "9370.0"
        ],
        [
         "14",
         "11 KV",
         "1013",
         "5952.0"
        ],
        [
         "15",
         "11 KV",
         "9235",
         "17427.0"
        ],
        [
         "16",
         "11 KV",
         "9850",
         "6368.0"
        ],
        [
         "17",
         "11 KV",
         "30558",
         "18881.0"
        ],
        [
         "18",
         "11 KV",
         "15066",
         null
        ],
        [
         "19",
         "11 KV",
         "39925",
         "41234.0"
        ],
        [
         "20",
         "11 KV",
         "35964",
         "32974.0"
        ],
        [
         "21",
         "11 KV",
         "15961",
         "29877.0"
        ],
        [
         "22",
         "11 KV",
         "34405",
         "26126.0"
        ],
        [
         "23",
         "11 KV",
         "41910",
         "31116.0"
        ],
        [
         "24",
         "11 KV",
         "12965",
         "32295.0"
        ],
        [
         "25",
         "11 KV",
         "13248",
         null
        ],
        [
         "26",
         "11 KV",
         "9664",
         "38978.0"
        ],
        [
         "27",
         "11 KV",
         "42559",
         null
        ],
        [
         "28",
         "11 KV",
         "30975",
         "36876.0"
        ],
        [
         "29",
         "11 KV",
         "19693",
         "34871.0"
        ],
        [
         "30",
         "11 KV",
         "19605",
         "19780.0"
        ],
        [
         "31",
         "11 KV",
         "32174",
         "9566.0"
        ],
        [
         "32",
         "11 KV",
         "16997",
         "31989.0"
        ],
        [
         "33",
         "11 KV",
         "40721",
         "18251.0"
        ],
        [
         "34",
         "11 KV",
         "26373",
         "31233.0"
        ],
        [
         "35",
         "11 KV",
         "35936",
         "43145.0"
        ],
        [
         "36",
         "11 KV",
         "38856",
         "42497.0"
        ],
        [
         "37",
         "11 KV",
         "4365",
         "29358.0"
        ],
        [
         "38",
         "11 KV",
         "11982",
         "26953.0"
        ],
        [
         "39",
         "11 KV",
         "31723",
         "19317.0"
        ],
        [
         "40",
         "11 KV",
         "17452",
         "10400.0"
        ],
        [
         "41",
         "11 KV",
         "42737",
         "9893.0"
        ],
        [
         "42",
         "11 KV",
         "7832",
         "42822.0"
        ],
        [
         "43",
         "11 KV",
         "10547",
         "14546.0"
        ],
        [
         "44",
         "11 KV",
         "43020",
         "35731.0"
        ],
        [
         "45",
         "11 KV",
         "13606",
         "19740.0"
        ],
        [
         "46",
         "11 KV",
         "14606",
         "18331.0"
        ],
        [
         "47",
         "11 KV",
         null,
         null
        ],
        [
         "48",
         "11 KV",
         "15464",
         "28047.0"
        ],
        [
         "49",
         "11 KV",
         "32830",
         "14104.0"
        ]
       ],
       "shape": {
        "columns": 3,
        "rows": 193
       }
      },
      "text/html": [
       "<div>\n",
       "<style scoped>\n",
       "    .dataframe tbody tr th:only-of-type {\n",
       "        vertical-align: middle;\n",
       "    }\n",
       "\n",
       "    .dataframe tbody tr th {\n",
       "        vertical-align: top;\n",
       "    }\n",
       "\n",
       "    .dataframe thead th {\n",
       "        text-align: right;\n",
       "    }\n",
       "</style>\n",
       "<table border=\"1\" class=\"dataframe\">\n",
       "  <thead>\n",
       "    <tr style=\"text-align: right;\">\n",
       "      <th></th>\n",
       "      <th>VOLTAGE</th>\n",
       "      <th>FROM SWITCH</th>\n",
       "      <th>TO SWITCH</th>\n",
       "    </tr>\n",
       "  </thead>\n",
       "  <tbody>\n",
       "    <tr>\n",
       "      <th>0</th>\n",
       "      <td>11 KV</td>\n",
       "      <td>39949</td>\n",
       "      <td>7869.0</td>\n",
       "    </tr>\n",
       "    <tr>\n",
       "      <th>1</th>\n",
       "      <td>11 KV</td>\n",
       "      <td>30632</td>\n",
       "      <td>43054.0</td>\n",
       "    </tr>\n",
       "    <tr>\n",
       "      <th>2</th>\n",
       "      <td>11 KV</td>\n",
       "      <td>31943</td>\n",
       "      <td>25766.0</td>\n",
       "    </tr>\n",
       "    <tr>\n",
       "      <th>3</th>\n",
       "      <td>11 KV</td>\n",
       "      <td>4269</td>\n",
       "      <td>4682.0</td>\n",
       "    </tr>\n",
       "    <tr>\n",
       "      <th>4</th>\n",
       "      <td>11 KV</td>\n",
       "      <td>7430</td>\n",
       "      <td>11675.0</td>\n",
       "    </tr>\n",
       "    <tr>\n",
       "      <th>...</th>\n",
       "      <td>...</td>\n",
       "      <td>...</td>\n",
       "      <td>...</td>\n",
       "    </tr>\n",
       "    <tr>\n",
       "      <th>188</th>\n",
       "      <td>11 KV</td>\n",
       "      <td>39272</td>\n",
       "      <td>1534.0</td>\n",
       "    </tr>\n",
       "    <tr>\n",
       "      <th>189</th>\n",
       "      <td>11 KV</td>\n",
       "      <td>3104</td>\n",
       "      <td>6857.0</td>\n",
       "    </tr>\n",
       "    <tr>\n",
       "      <th>190</th>\n",
       "      <td>11 KV</td>\n",
       "      <td>16641</td>\n",
       "      <td>17241.0</td>\n",
       "    </tr>\n",
       "    <tr>\n",
       "      <th>191</th>\n",
       "      <td>11 KV</td>\n",
       "      <td>18417</td>\n",
       "      <td>13092.0</td>\n",
       "    </tr>\n",
       "    <tr>\n",
       "      <th>192</th>\n",
       "      <td>11 KV</td>\n",
       "      <td>41053</td>\n",
       "      <td>2214.0</td>\n",
       "    </tr>\n",
       "  </tbody>\n",
       "</table>\n",
       "<p>193 rows × 3 columns</p>\n",
       "</div>"
      ],
      "text/plain": [
       "    VOLTAGE FROM SWITCH  TO SWITCH\n",
       "0     11 KV       39949     7869.0\n",
       "1     11 KV       30632    43054.0\n",
       "2     11 KV       31943    25766.0\n",
       "3     11 KV        4269     4682.0\n",
       "4     11 KV        7430    11675.0\n",
       "..      ...         ...        ...\n",
       "188   11 KV       39272     1534.0\n",
       "189   11 KV        3104     6857.0\n",
       "190   11 KV       16641    17241.0\n",
       "191   11 KV       18417    13092.0\n",
       "192   11 KV       41053     2214.0\n",
       "\n",
       "[193 rows x 3 columns]"
      ]
     },
     "execution_count": 7,
     "metadata": {},
     "output_type": "execute_result"
    }
   ],
   "source": [
    "fault_report11KV_df = fault_report_df[fault_report_df['VOLTAGE'] == '11 KV'].reset_index(drop=True)\n",
    "fault_report11KV_df"
   ]
  },
  {
   "cell_type": "code",
   "execution_count": 8,
   "metadata": {},
   "outputs": [
    {
     "data": {
      "application/vnd.microsoft.datawrangler.viewer.v0+json": {
       "columns": [
        {
         "name": "index",
         "rawType": "int64",
         "type": "integer"
        },
        {
         "name": "VOLTAGE",
         "rawType": "object",
         "type": "unknown"
        },
        {
         "name": "FROM SWITCH",
         "rawType": "object",
         "type": "unknown"
        },
        {
         "name": "TO SWITCH",
         "rawType": "float64",
         "type": "float"
        }
       ],
       "conversionMethod": "pd.DataFrame",
       "ref": "7b840258-afe0-44dc-92d2-354a5228432d",
       "rows": [
        [
         "0",
         "22 KV",
         "T22CHMBOG03",
         "1151.0"
        ],
        [
         "1",
         "22 KV",
         "T22SAKOG09",
         "33063.0"
        ],
        [
         "2",
         "33 KV",
         "220GOR32",
         "33160.0"
        ],
        [
         "3",
         "33 KV",
         "220GOI18",
         "33172.0"
        ],
        [
         "4",
         "33 KV",
         "220AAR41",
         "33207.0"
        ],
        [
         "5",
         "33 KV",
         "220AAR90",
         "33163.0"
        ],
        [
         "6",
         "33 KV",
         "T33DHAOG5H08",
         "33248.0"
        ],
        [
         "7",
         "22 KV",
         "T22DHAOG07H09",
         "33154.0"
        ],
        [
         "8",
         "33 KV",
         "T33DHAOG6H08",
         "33325.0"
        ],
        [
         "9",
         "33 KV",
         "T33DHAOG9H24",
         "33236.0"
        ],
        [
         "10",
         "22 KV",
         "T22DHAOG07H09",
         "33154.0"
        ],
        [
         "11",
         "33 KV",
         "220GHO47",
         "33176.0"
        ],
        [
         "12",
         "33 KV",
         "T33DHAOG9H24",
         "33236.0"
        ],
        [
         "13",
         "22 KV",
         "33054",
         "33012.0"
        ],
        [
         "14",
         "33 KV",
         "220GHO61",
         "33059.0"
        ],
        [
         "15",
         "22 KV",
         "220AAR41",
         "33207.0"
        ],
        [
         "16",
         "33 KV",
         "220SAK32",
         "33056.0"
        ],
        [
         "17",
         "22 KV",
         "T33CHMBOG03",
         "1151.0"
        ],
        [
         "18",
         "22 KV",
         "T22SAKOG10",
         "1289.0"
        ],
        [
         "19",
         "33 KV",
         "T33DHAOG11H20",
         "33128.0"
        ],
        [
         "20",
         "33 KV",
         "220VER63",
         "33294.0"
        ],
        [
         "21",
         "33 KV",
         "220AAR58",
         "33353.0"
        ],
        [
         "22",
         null,
         "T22SHROG11H31",
         "33348.0"
        ],
        [
         "23",
         "22 KV",
         "1135",
         "1102.0"
        ]
       ],
       "shape": {
        "columns": 3,
        "rows": 24
       }
      },
      "text/html": [
       "<div>\n",
       "<style scoped>\n",
       "    .dataframe tbody tr th:only-of-type {\n",
       "        vertical-align: middle;\n",
       "    }\n",
       "\n",
       "    .dataframe tbody tr th {\n",
       "        vertical-align: top;\n",
       "    }\n",
       "\n",
       "    .dataframe thead th {\n",
       "        text-align: right;\n",
       "    }\n",
       "</style>\n",
       "<table border=\"1\" class=\"dataframe\">\n",
       "  <thead>\n",
       "    <tr style=\"text-align: right;\">\n",
       "      <th></th>\n",
       "      <th>VOLTAGE</th>\n",
       "      <th>FROM SWITCH</th>\n",
       "      <th>TO SWITCH</th>\n",
       "    </tr>\n",
       "  </thead>\n",
       "  <tbody>\n",
       "    <tr>\n",
       "      <th>0</th>\n",
       "      <td>22 KV</td>\n",
       "      <td>T22CHMBOG03</td>\n",
       "      <td>1151.0</td>\n",
       "    </tr>\n",
       "    <tr>\n",
       "      <th>1</th>\n",
       "      <td>22 KV</td>\n",
       "      <td>T22SAKOG09</td>\n",
       "      <td>33063.0</td>\n",
       "    </tr>\n",
       "    <tr>\n",
       "      <th>2</th>\n",
       "      <td>33 KV</td>\n",
       "      <td>220GOR32</td>\n",
       "      <td>33160.0</td>\n",
       "    </tr>\n",
       "    <tr>\n",
       "      <th>3</th>\n",
       "      <td>33 KV</td>\n",
       "      <td>220GOI18</td>\n",
       "      <td>33172.0</td>\n",
       "    </tr>\n",
       "    <tr>\n",
       "      <th>4</th>\n",
       "      <td>33 KV</td>\n",
       "      <td>220AAR41</td>\n",
       "      <td>33207.0</td>\n",
       "    </tr>\n",
       "    <tr>\n",
       "      <th>5</th>\n",
       "      <td>33 KV</td>\n",
       "      <td>220AAR90</td>\n",
       "      <td>33163.0</td>\n",
       "    </tr>\n",
       "    <tr>\n",
       "      <th>6</th>\n",
       "      <td>33 KV</td>\n",
       "      <td>T33DHAOG5H08</td>\n",
       "      <td>33248.0</td>\n",
       "    </tr>\n",
       "    <tr>\n",
       "      <th>7</th>\n",
       "      <td>22 KV</td>\n",
       "      <td>T22DHAOG07H09</td>\n",
       "      <td>33154.0</td>\n",
       "    </tr>\n",
       "    <tr>\n",
       "      <th>8</th>\n",
       "      <td>33 KV</td>\n",
       "      <td>T33DHAOG6H08</td>\n",
       "      <td>33325.0</td>\n",
       "    </tr>\n",
       "    <tr>\n",
       "      <th>9</th>\n",
       "      <td>33 KV</td>\n",
       "      <td>T33DHAOG9H24</td>\n",
       "      <td>33236.0</td>\n",
       "    </tr>\n",
       "    <tr>\n",
       "      <th>10</th>\n",
       "      <td>22 KV</td>\n",
       "      <td>T22DHAOG07H09</td>\n",
       "      <td>33154.0</td>\n",
       "    </tr>\n",
       "    <tr>\n",
       "      <th>11</th>\n",
       "      <td>33 KV</td>\n",
       "      <td>220GHO47</td>\n",
       "      <td>33176.0</td>\n",
       "    </tr>\n",
       "    <tr>\n",
       "      <th>12</th>\n",
       "      <td>33 KV</td>\n",
       "      <td>T33DHAOG9H24</td>\n",
       "      <td>33236.0</td>\n",
       "    </tr>\n",
       "    <tr>\n",
       "      <th>13</th>\n",
       "      <td>22 KV</td>\n",
       "      <td>33054</td>\n",
       "      <td>33012.0</td>\n",
       "    </tr>\n",
       "    <tr>\n",
       "      <th>14</th>\n",
       "      <td>33 KV</td>\n",
       "      <td>220GHO61</td>\n",
       "      <td>33059.0</td>\n",
       "    </tr>\n",
       "    <tr>\n",
       "      <th>15</th>\n",
       "      <td>22 KV</td>\n",
       "      <td>220AAR41</td>\n",
       "      <td>33207.0</td>\n",
       "    </tr>\n",
       "    <tr>\n",
       "      <th>16</th>\n",
       "      <td>33 KV</td>\n",
       "      <td>220SAK32</td>\n",
       "      <td>33056.0</td>\n",
       "    </tr>\n",
       "    <tr>\n",
       "      <th>17</th>\n",
       "      <td>22 KV</td>\n",
       "      <td>T33CHMBOG03</td>\n",
       "      <td>1151.0</td>\n",
       "    </tr>\n",
       "    <tr>\n",
       "      <th>18</th>\n",
       "      <td>22 KV</td>\n",
       "      <td>T22SAKOG10</td>\n",
       "      <td>1289.0</td>\n",
       "    </tr>\n",
       "    <tr>\n",
       "      <th>19</th>\n",
       "      <td>33 KV</td>\n",
       "      <td>T33DHAOG11H20</td>\n",
       "      <td>33128.0</td>\n",
       "    </tr>\n",
       "    <tr>\n",
       "      <th>20</th>\n",
       "      <td>33 KV</td>\n",
       "      <td>220VER63</td>\n",
       "      <td>33294.0</td>\n",
       "    </tr>\n",
       "    <tr>\n",
       "      <th>21</th>\n",
       "      <td>33 KV</td>\n",
       "      <td>220AAR58</td>\n",
       "      <td>33353.0</td>\n",
       "    </tr>\n",
       "    <tr>\n",
       "      <th>22</th>\n",
       "      <td>NaN</td>\n",
       "      <td>T22SHROG11H31</td>\n",
       "      <td>33348.0</td>\n",
       "    </tr>\n",
       "    <tr>\n",
       "      <th>23</th>\n",
       "      <td>22 KV</td>\n",
       "      <td>1135</td>\n",
       "      <td>1102.0</td>\n",
       "    </tr>\n",
       "  </tbody>\n",
       "</table>\n",
       "</div>"
      ],
      "text/plain": [
       "   VOLTAGE    FROM SWITCH  TO SWITCH\n",
       "0    22 KV    T22CHMBOG03     1151.0\n",
       "1    22 KV     T22SAKOG09    33063.0\n",
       "2    33 KV       220GOR32    33160.0\n",
       "3    33 KV       220GOI18    33172.0\n",
       "4    33 KV       220AAR41    33207.0\n",
       "5    33 KV       220AAR90    33163.0\n",
       "6    33 KV   T33DHAOG5H08    33248.0\n",
       "7    22 KV  T22DHAOG07H09    33154.0\n",
       "8    33 KV   T33DHAOG6H08    33325.0\n",
       "9    33 KV   T33DHAOG9H24    33236.0\n",
       "10   22 KV  T22DHAOG07H09    33154.0\n",
       "11   33 KV       220GHO47    33176.0\n",
       "12   33 KV   T33DHAOG9H24    33236.0\n",
       "13   22 KV          33054    33012.0\n",
       "14   33 KV       220GHO61    33059.0\n",
       "15   22 KV       220AAR41    33207.0\n",
       "16   33 KV       220SAK32    33056.0\n",
       "17   22 KV    T33CHMBOG03     1151.0\n",
       "18   22 KV     T22SAKOG10     1289.0\n",
       "19   33 KV  T33DHAOG11H20    33128.0\n",
       "20   33 KV       220VER63    33294.0\n",
       "21   33 KV       220AAR58    33353.0\n",
       "22     NaN  T22SHROG11H31    33348.0\n",
       "23   22 KV           1135     1102.0"
      ]
     },
     "execution_count": 8,
     "metadata": {},
     "output_type": "execute_result"
    }
   ],
   "source": [
    "fault_report22_33KV_df = fault_report_df[fault_report_df['VOLTAGE'] != '11 KV'].reset_index(drop=True)\n",
    "fault_report22_33KV_df"
   ]
  },
  {
   "cell_type": "markdown",
   "metadata": {},
   "source": [
    "### Loading Logsheet "
   ]
  },
  {
   "cell_type": "code",
   "execution_count": 9,
   "metadata": {},
   "outputs": [
    {
     "data": {
      "application/vnd.microsoft.datawrangler.viewer.v0+json": {
       "columns": [
        {
         "name": "index",
         "rawType": "int64",
         "type": "integer"
        },
        {
         "name": "VOLTAGE",
         "rawType": "int64",
         "type": "integer"
        },
        {
         "name": "TO SWITCH",
         "rawType": "int64",
         "type": "integer"
        },
        {
         "name": "FROM SWITCH",
         "rawType": "int64",
         "type": "integer"
        }
       ],
       "conversionMethod": "pd.DataFrame",
       "ref": "99e2faa1-c4a1-49c9-9431-893e45f71ead",
       "rows": [
        [
         "0",
         "11",
         "13154",
         "35884"
        ],
        [
         "1",
         "11",
         "12674",
         "31072"
        ],
        [
         "2",
         "11",
         "15393",
         "15444"
        ],
        [
         "3",
         "11",
         "9301",
         "17080"
        ],
        [
         "4",
         "11",
         "35080",
         "30126"
        ],
        [
         "5",
         "11",
         "11650",
         "10909"
        ],
        [
         "6",
         "11",
         "14272",
         "16142"
        ],
        [
         "7",
         "11",
         "28832",
         "15506"
        ],
        [
         "8",
         "11",
         "19489",
         "16716"
        ],
        [
         "9",
         "11",
         "38016",
         "19758"
        ],
        [
         "10",
         "11",
         "38164",
         "18198"
        ],
        [
         "11",
         "11",
         "4069",
         "13909"
        ],
        [
         "12",
         "11",
         "41618",
         "27004"
        ],
        [
         "13",
         "11",
         "39743",
         "19155"
        ],
        [
         "14",
         "11",
         "37129",
         "15892"
        ],
        [
         "15",
         "11",
         "36140",
         "10035"
        ],
        [
         "16",
         "11",
         "19690",
         "38542"
        ],
        [
         "17",
         "11",
         "40055",
         "39999"
        ],
        [
         "18",
         "11",
         "6667",
         "11702"
        ],
        [
         "19",
         "11",
         "16401",
         "19699"
        ],
        [
         "20",
         "11",
         "25913",
         "12172"
        ],
        [
         "21",
         "11",
         "17859",
         "41717"
        ],
        [
         "22",
         "11",
         "7028",
         "13512"
        ],
        [
         "23",
         "11",
         "28841",
         "25059"
        ],
        [
         "24",
         "11",
         "31608",
         "7861"
        ],
        [
         "25",
         "11",
         "19071",
         "7717"
        ],
        [
         "26",
         "11",
         "4482",
         "13464"
        ],
        [
         "27",
         "11",
         "35956",
         "4520"
        ],
        [
         "28",
         "11",
         "34607",
         "32476"
        ],
        [
         "29",
         "11",
         "171",
         "4992"
        ],
        [
         "30",
         "11",
         "42081",
         "29063"
        ],
        [
         "31",
         "11",
         "35694",
         "35677"
        ],
        [
         "32",
         "11",
         "13879",
         "29559"
        ],
        [
         "33",
         "11",
         "14004",
         "12561"
        ],
        [
         "34",
         "11",
         "12676",
         "37929"
        ],
        [
         "35",
         "11",
         "18713",
         "28483"
        ],
        [
         "36",
         "11",
         "12416",
         "7142"
        ],
        [
         "37",
         "11",
         "6857",
         "3104"
        ],
        [
         "38",
         "11",
         "19780",
         "19605"
        ],
        [
         "39",
         "11",
         "12212",
         "13504"
        ],
        [
         "40",
         "11",
         "14001",
         "2927"
        ],
        [
         "41",
         "11",
         "11642",
         "30482"
        ],
        [
         "42",
         "11",
         "10400",
         "17452"
        ],
        [
         "43",
         "11",
         "37861",
         "7648"
        ],
        [
         "44",
         "11",
         "4787",
         "34782"
        ],
        [
         "45",
         "11",
         "43035",
         "30648"
        ],
        [
         "46",
         "11",
         "5499",
         "40770"
        ],
        [
         "47",
         "11",
         "42822",
         "7832"
        ],
        [
         "48",
         "11",
         "11675",
         "7430"
        ],
        [
         "49",
         "11",
         "5952",
         "1013"
        ]
       ],
       "shape": {
        "columns": 3,
        "rows": 294
       }
      },
      "text/html": [
       "<div>\n",
       "<style scoped>\n",
       "    .dataframe tbody tr th:only-of-type {\n",
       "        vertical-align: middle;\n",
       "    }\n",
       "\n",
       "    .dataframe tbody tr th {\n",
       "        vertical-align: top;\n",
       "    }\n",
       "\n",
       "    .dataframe thead th {\n",
       "        text-align: right;\n",
       "    }\n",
       "</style>\n",
       "<table border=\"1\" class=\"dataframe\">\n",
       "  <thead>\n",
       "    <tr style=\"text-align: right;\">\n",
       "      <th></th>\n",
       "      <th>VOLTAGE</th>\n",
       "      <th>TO SWITCH</th>\n",
       "      <th>FROM SWITCH</th>\n",
       "    </tr>\n",
       "  </thead>\n",
       "  <tbody>\n",
       "    <tr>\n",
       "      <th>0</th>\n",
       "      <td>11</td>\n",
       "      <td>13154</td>\n",
       "      <td>35884</td>\n",
       "    </tr>\n",
       "    <tr>\n",
       "      <th>1</th>\n",
       "      <td>11</td>\n",
       "      <td>12674</td>\n",
       "      <td>31072</td>\n",
       "    </tr>\n",
       "    <tr>\n",
       "      <th>2</th>\n",
       "      <td>11</td>\n",
       "      <td>15393</td>\n",
       "      <td>15444</td>\n",
       "    </tr>\n",
       "    <tr>\n",
       "      <th>3</th>\n",
       "      <td>11</td>\n",
       "      <td>9301</td>\n",
       "      <td>17080</td>\n",
       "    </tr>\n",
       "    <tr>\n",
       "      <th>4</th>\n",
       "      <td>11</td>\n",
       "      <td>35080</td>\n",
       "      <td>30126</td>\n",
       "    </tr>\n",
       "    <tr>\n",
       "      <th>...</th>\n",
       "      <td>...</td>\n",
       "      <td>...</td>\n",
       "      <td>...</td>\n",
       "    </tr>\n",
       "    <tr>\n",
       "      <th>289</th>\n",
       "      <td>11</td>\n",
       "      <td>32732</td>\n",
       "      <td>29037</td>\n",
       "    </tr>\n",
       "    <tr>\n",
       "      <th>290</th>\n",
       "      <td>11</td>\n",
       "      <td>31608</td>\n",
       "      <td>7861</td>\n",
       "    </tr>\n",
       "    <tr>\n",
       "      <th>291</th>\n",
       "      <td>11</td>\n",
       "      <td>38339</td>\n",
       "      <td>37814</td>\n",
       "    </tr>\n",
       "    <tr>\n",
       "      <th>292</th>\n",
       "      <td>11</td>\n",
       "      <td>39936</td>\n",
       "      <td>12262</td>\n",
       "    </tr>\n",
       "    <tr>\n",
       "      <th>293</th>\n",
       "      <td>11</td>\n",
       "      <td>14887</td>\n",
       "      <td>12043</td>\n",
       "    </tr>\n",
       "  </tbody>\n",
       "</table>\n",
       "<p>294 rows × 3 columns</p>\n",
       "</div>"
      ],
      "text/plain": [
       "     VOLTAGE  TO SWITCH  FROM SWITCH\n",
       "0         11      13154        35884\n",
       "1         11      12674        31072\n",
       "2         11      15393        15444\n",
       "3         11       9301        17080\n",
       "4         11      35080        30126\n",
       "..       ...        ...          ...\n",
       "289       11      32732        29037\n",
       "290       11      31608         7861\n",
       "291       11      38339        37814\n",
       "292       11      39936        12262\n",
       "293       11      14887        12043\n",
       "\n",
       "[294 rows x 3 columns]"
      ]
     },
     "execution_count": 9,
     "metadata": {},
     "output_type": "execute_result"
    }
   ],
   "source": [
    "logsheet11KV_df = pd.read_excel(os.path.join(root_dir1,'Updated Logsheet Report_3 months.xlsx'),sheet_name='11KV')\n",
    "logsheet11KV_df = logsheet11KV_df[['VOLTAGE_LEVEL', 'TO_SWITCH', 'FROM_SWITCH']]\n",
    "logsheet11KV_df.rename(columns={'VOLTAGE_LEVEL':'VOLTAGE', 'TO_SWITCH': 'TO SWITCH','FROM_SWITCH': 'FROM SWITCH'}, inplace= True)\n",
    "logsheet11KV_df"
   ]
  },
  {
   "cell_type": "code",
   "execution_count": 10,
   "metadata": {},
   "outputs": [
    {
     "data": {
      "application/vnd.microsoft.datawrangler.viewer.v0+json": {
       "columns": [
        {
         "name": "index",
         "rawType": "int64",
         "type": "integer"
        },
        {
         "name": "VOLTAGE",
         "rawType": "int64",
         "type": "integer"
        },
        {
         "name": "TO SWITCH",
         "rawType": "int64",
         "type": "integer"
        }
       ],
       "conversionMethod": "pd.DataFrame",
       "ref": "3d3fa091-7932-412e-b0c6-87e8d0b9f2b4",
       "rows": [
        [
         "0",
         "33",
         "33138"
        ],
        [
         "1",
         "33",
         "33176"
        ],
        [
         "2",
         "22",
         "33209"
        ],
        [
         "3",
         "22",
         "1151"
        ],
        [
         "4",
         "33",
         "33074"
        ],
        [
         "5",
         "22",
         "33063"
        ],
        [
         "6",
         "33",
         "33248"
        ],
        [
         "7",
         "33",
         "33236"
        ],
        [
         "8",
         "33",
         "33353"
        ],
        [
         "9",
         "33",
         "33329"
        ],
        [
         "10",
         "33",
         "33099"
        ],
        [
         "11",
         "33",
         "33056"
        ],
        [
         "12",
         "33",
         "33059"
        ],
        [
         "13",
         "33",
         "33059"
        ],
        [
         "14",
         "22",
         "33154"
        ],
        [
         "15",
         "33",
         "33128"
        ],
        [
         "16",
         "33",
         "33207"
        ],
        [
         "17",
         "33",
         "33207"
        ],
        [
         "18",
         "22",
         "33054"
        ],
        [
         "19",
         "22",
         "33069"
        ],
        [
         "20",
         "33",
         "11540"
        ],
        [
         "21",
         "22",
         "33154"
        ],
        [
         "22",
         "33",
         "33222"
        ],
        [
         "23",
         "22",
         "1102"
        ],
        [
         "24",
         "33",
         "33236"
        ],
        [
         "25",
         "33",
         "33230"
        ],
        [
         "26",
         "33",
         "33160"
        ],
        [
         "27",
         "33",
         "33294"
        ],
        [
         "28",
         "22",
         "1151"
        ],
        [
         "29",
         "33",
         "33353"
        ],
        [
         "30",
         "22",
         "1289"
        ],
        [
         "31",
         "33",
         "33348"
        ],
        [
         "32",
         "33",
         "33325"
        ]
       ],
       "shape": {
        "columns": 2,
        "rows": 33
       }
      },
      "text/html": [
       "<div>\n",
       "<style scoped>\n",
       "    .dataframe tbody tr th:only-of-type {\n",
       "        vertical-align: middle;\n",
       "    }\n",
       "\n",
       "    .dataframe tbody tr th {\n",
       "        vertical-align: top;\n",
       "    }\n",
       "\n",
       "    .dataframe thead th {\n",
       "        text-align: right;\n",
       "    }\n",
       "</style>\n",
       "<table border=\"1\" class=\"dataframe\">\n",
       "  <thead>\n",
       "    <tr style=\"text-align: right;\">\n",
       "      <th></th>\n",
       "      <th>VOLTAGE</th>\n",
       "      <th>TO SWITCH</th>\n",
       "    </tr>\n",
       "  </thead>\n",
       "  <tbody>\n",
       "    <tr>\n",
       "      <th>0</th>\n",
       "      <td>33</td>\n",
       "      <td>33138</td>\n",
       "    </tr>\n",
       "    <tr>\n",
       "      <th>1</th>\n",
       "      <td>33</td>\n",
       "      <td>33176</td>\n",
       "    </tr>\n",
       "    <tr>\n",
       "      <th>2</th>\n",
       "      <td>22</td>\n",
       "      <td>33209</td>\n",
       "    </tr>\n",
       "    <tr>\n",
       "      <th>3</th>\n",
       "      <td>22</td>\n",
       "      <td>1151</td>\n",
       "    </tr>\n",
       "    <tr>\n",
       "      <th>4</th>\n",
       "      <td>33</td>\n",
       "      <td>33074</td>\n",
       "    </tr>\n",
       "    <tr>\n",
       "      <th>5</th>\n",
       "      <td>22</td>\n",
       "      <td>33063</td>\n",
       "    </tr>\n",
       "    <tr>\n",
       "      <th>6</th>\n",
       "      <td>33</td>\n",
       "      <td>33248</td>\n",
       "    </tr>\n",
       "    <tr>\n",
       "      <th>7</th>\n",
       "      <td>33</td>\n",
       "      <td>33236</td>\n",
       "    </tr>\n",
       "    <tr>\n",
       "      <th>8</th>\n",
       "      <td>33</td>\n",
       "      <td>33353</td>\n",
       "    </tr>\n",
       "    <tr>\n",
       "      <th>9</th>\n",
       "      <td>33</td>\n",
       "      <td>33329</td>\n",
       "    </tr>\n",
       "    <tr>\n",
       "      <th>10</th>\n",
       "      <td>33</td>\n",
       "      <td>33099</td>\n",
       "    </tr>\n",
       "    <tr>\n",
       "      <th>11</th>\n",
       "      <td>33</td>\n",
       "      <td>33056</td>\n",
       "    </tr>\n",
       "    <tr>\n",
       "      <th>12</th>\n",
       "      <td>33</td>\n",
       "      <td>33059</td>\n",
       "    </tr>\n",
       "    <tr>\n",
       "      <th>13</th>\n",
       "      <td>33</td>\n",
       "      <td>33059</td>\n",
       "    </tr>\n",
       "    <tr>\n",
       "      <th>14</th>\n",
       "      <td>22</td>\n",
       "      <td>33154</td>\n",
       "    </tr>\n",
       "    <tr>\n",
       "      <th>15</th>\n",
       "      <td>33</td>\n",
       "      <td>33128</td>\n",
       "    </tr>\n",
       "    <tr>\n",
       "      <th>16</th>\n",
       "      <td>33</td>\n",
       "      <td>33207</td>\n",
       "    </tr>\n",
       "    <tr>\n",
       "      <th>17</th>\n",
       "      <td>33</td>\n",
       "      <td>33207</td>\n",
       "    </tr>\n",
       "    <tr>\n",
       "      <th>18</th>\n",
       "      <td>22</td>\n",
       "      <td>33054</td>\n",
       "    </tr>\n",
       "    <tr>\n",
       "      <th>19</th>\n",
       "      <td>22</td>\n",
       "      <td>33069</td>\n",
       "    </tr>\n",
       "    <tr>\n",
       "      <th>20</th>\n",
       "      <td>33</td>\n",
       "      <td>11540</td>\n",
       "    </tr>\n",
       "    <tr>\n",
       "      <th>21</th>\n",
       "      <td>22</td>\n",
       "      <td>33154</td>\n",
       "    </tr>\n",
       "    <tr>\n",
       "      <th>22</th>\n",
       "      <td>33</td>\n",
       "      <td>33222</td>\n",
       "    </tr>\n",
       "    <tr>\n",
       "      <th>23</th>\n",
       "      <td>22</td>\n",
       "      <td>1102</td>\n",
       "    </tr>\n",
       "    <tr>\n",
       "      <th>24</th>\n",
       "      <td>33</td>\n",
       "      <td>33236</td>\n",
       "    </tr>\n",
       "    <tr>\n",
       "      <th>25</th>\n",
       "      <td>33</td>\n",
       "      <td>33230</td>\n",
       "    </tr>\n",
       "    <tr>\n",
       "      <th>26</th>\n",
       "      <td>33</td>\n",
       "      <td>33160</td>\n",
       "    </tr>\n",
       "    <tr>\n",
       "      <th>27</th>\n",
       "      <td>33</td>\n",
       "      <td>33294</td>\n",
       "    </tr>\n",
       "    <tr>\n",
       "      <th>28</th>\n",
       "      <td>22</td>\n",
       "      <td>1151</td>\n",
       "    </tr>\n",
       "    <tr>\n",
       "      <th>29</th>\n",
       "      <td>33</td>\n",
       "      <td>33353</td>\n",
       "    </tr>\n",
       "    <tr>\n",
       "      <th>30</th>\n",
       "      <td>22</td>\n",
       "      <td>1289</td>\n",
       "    </tr>\n",
       "    <tr>\n",
       "      <th>31</th>\n",
       "      <td>33</td>\n",
       "      <td>33348</td>\n",
       "    </tr>\n",
       "    <tr>\n",
       "      <th>32</th>\n",
       "      <td>33</td>\n",
       "      <td>33325</td>\n",
       "    </tr>\n",
       "  </tbody>\n",
       "</table>\n",
       "</div>"
      ],
      "text/plain": [
       "    VOLTAGE  TO SWITCH\n",
       "0        33      33138\n",
       "1        33      33176\n",
       "2        22      33209\n",
       "3        22       1151\n",
       "4        33      33074\n",
       "5        22      33063\n",
       "6        33      33248\n",
       "7        33      33236\n",
       "8        33      33353\n",
       "9        33      33329\n",
       "10       33      33099\n",
       "11       33      33056\n",
       "12       33      33059\n",
       "13       33      33059\n",
       "14       22      33154\n",
       "15       33      33128\n",
       "16       33      33207\n",
       "17       33      33207\n",
       "18       22      33054\n",
       "19       22      33069\n",
       "20       33      11540\n",
       "21       22      33154\n",
       "22       33      33222\n",
       "23       22       1102\n",
       "24       33      33236\n",
       "25       33      33230\n",
       "26       33      33160\n",
       "27       33      33294\n",
       "28       22       1151\n",
       "29       33      33353\n",
       "30       22       1289\n",
       "31       33      33348\n",
       "32       33      33325"
      ]
     },
     "execution_count": 10,
     "metadata": {},
     "output_type": "execute_result"
    }
   ],
   "source": [
    "logsheet22_33KV_df = pd.read_excel(os.path.join(root_dir1,'Updated Logsheet Report_3 months.xlsx'),sheet_name='22_33KV')\n",
    "logsheet22_33KV_df = logsheet22_33KV_df[['VOLTAGE_LEVEL', 'TO_SWITCH']]\n",
    "logsheet22_33KV_df.rename(columns={'VOLTAGE_LEVEL':'VOLTAGE', 'TO_SWITCH': 'TO SWITCH'}, inplace= True)\n",
    "logsheet22_33KV_df"
   ]
  },
  {
   "cell_type": "markdown",
   "metadata": {},
   "source": [
    "### Checking if switches in one file are also present in another"
   ]
  },
  {
   "cell_type": "code",
   "execution_count": 11,
   "metadata": {},
   "outputs": [
    {
     "name": "stdout",
     "output_type": "stream",
     "text": [
      "Number of switches that are in Fault Report but not in Log sheet for 11KV is:  20\n",
      "Number of switches that are in Log Sheet but not in Fault Report for 11KV is:  114\n",
      "Number of switches that are in both Log Sheet and Fault Report for 11KV is:  158\n",
      "\n",
      "Number of switches that are in Fault Report but not in Log sheet for 22KV, 33KV is:  3\n",
      "Number of switches that are in Log Sheet but not in Fault Report for 22KV, 33KV is:  10\n",
      "Number of switches that are in both Log Sheet and Fault Report for 22, 33KV is:  17\n"
     ]
    }
   ],
   "source": [
    "inFaultNotInLog_11KV = set(fault_report11KV_df['FROM SWITCH'].dropna().astype(int)) - set(logsheet11KV_df['FROM SWITCH'].dropna().astype(int))\n",
    "inLogNotInFault_11KV = set(logsheet11KV_df['FROM SWITCH'].dropna().astype(int)) - set(fault_report11KV_df['FROM SWITCH'].dropna().astype(int))\n",
    "inBoth_11KV = set(logsheet11KV_df['FROM SWITCH'].dropna().astype(int)) & set(fault_report11KV_df['FROM SWITCH'].dropna().astype(int))\n",
    "\n",
    "inFaultNotInLog_22_33KV = set(fault_report22_33KV_df['TO SWITCH'].dropna().astype(int)) - set(logsheet22_33KV_df['TO SWITCH'].dropna().astype(int)) \n",
    "inLogNotInFault_22_33KV = set(logsheet22_33KV_df['TO SWITCH'].dropna().astype(int)) - set(fault_report22_33KV_df['TO SWITCH'].dropna().astype(int)) \n",
    "inBoth_22_33KV = set(logsheet22_33KV_df['TO SWITCH'].dropna().astype(int)) & set(fault_report22_33KV_df['TO SWITCH'].dropna().astype(int))\n",
    "\n",
    "print(\"Number of switches that are in Fault Report but not in Log sheet for 11KV is: \", len(inFaultNotInLog_11KV))\n",
    "print(\"Number of switches that are in Log Sheet but not in Fault Report for 11KV is: \", len(inLogNotInFault_11KV))\n",
    "print(\"Number of switches that are in both Log Sheet and Fault Report for 11KV is: \", len(inBoth_11KV))\n",
    "print()\n",
    "print(\"Number of switches that are in Fault Report but not in Log sheet for 22KV, 33KV is: \", len(inFaultNotInLog_22_33KV))\n",
    "print(\"Number of switches that are in Log Sheet but not in Fault Report for 22KV, 33KV is: \", len(inLogNotInFault_22_33KV))\n",
    "print(\"Number of switches that are in both Log Sheet and Fault Report for 22, 33KV is: \", len(inBoth_22_33KV))"
   ]
  },
  {
   "cell_type": "code",
   "execution_count": 11,
   "metadata": {},
   "outputs": [],
   "source": [
    "def write_txt (file_name, data):\n",
    "    with open(file_name+'.txt', 'w') as file:\n",
    "        for item in data:\n",
    "            file.write(str(item) + '\\n')\n"
   ]
  },
  {
   "cell_type": "code",
   "execution_count": 13,
   "metadata": {},
   "outputs": [],
   "source": [
    "write_txt('inFaultNotInLog_11KV',inFaultNotInLog_11KV)\n",
    "write_txt('inLogNotInFault_11KV',inLogNotInFault_11KV)\n",
    "write_txt('inBoth_11KV',inBoth_11KV)\n",
    "write_txt('inFaultNotInLog_22_33KV',inFaultNotInLog_22_33KV)\n",
    "write_txt('inLogNotInFault_22_33KV',inLogNotInFault_22_33KV)\n",
    "write_txt('inBoth_22_33KV',inBoth_22_33KV)\n"
   ]
  },
  {
   "cell_type": "code",
   "execution_count": 12,
   "metadata": {},
   "outputs": [
    {
     "data": {
      "text/plain": [
       "(179, 272)"
      ]
     },
     "execution_count": 12,
     "metadata": {},
     "output_type": "execute_result"
    }
   ],
   "source": [
    "len(fault_report11KV_df['FROM SWITCH'].unique()), len(logsheet11KV_df['FROM SWITCH'].unique())"
   ]
  },
  {
   "cell_type": "code",
   "execution_count": 13,
   "metadata": {},
   "outputs": [
    {
     "data": {
      "text/plain": [
       "(20, 27)"
      ]
     },
     "execution_count": 13,
     "metadata": {},
     "output_type": "execute_result"
    }
   ],
   "source": [
    "len(fault_report22_33KV_df['TO SWITCH'].unique()), len(logsheet22_33KV_df['TO SWITCH'].unique())"
   ]
  },
  {
   "cell_type": "markdown",
   "metadata": {},
   "source": [
    "### Loading Scada Data"
   ]
  },
  {
   "cell_type": "code",
   "execution_count": 14,
   "metadata": {},
   "outputs": [
    {
     "data": {
      "application/vnd.microsoft.datawrangler.viewer.v0+json": {
       "columns": [
        {
         "name": "index",
         "rawType": "int64",
         "type": "integer"
        },
        {
         "name": "SWNO",
         "rawType": "int64",
         "type": "integer"
        },
        {
         "name": "VOLTAGE",
         "rawType": "object",
         "type": "string"
        }
       ],
       "conversionMethod": "pd.DataFrame",
       "ref": "089cb369-2e04-4240-9b15-51809786c4b7",
       "rows": [
        [
         "0",
         "104",
         "11KV"
        ],
        [
         "1",
         "105",
         "11KV"
        ],
        [
         "2",
         "106",
         "11KV"
        ],
        [
         "3",
         "108",
         "11KV"
        ],
        [
         "4",
         "109",
         "11KV"
        ],
        [
         "5",
         "110",
         "11KV"
        ],
        [
         "6",
         "231",
         "11KV"
        ],
        [
         "7",
         "233",
         "11KV"
        ],
        [
         "8",
         "234",
         "11KV"
        ],
        [
         "9",
         "235",
         "11KV"
        ],
        [
         "10",
         "738",
         "11KV"
        ],
        [
         "11",
         "1102",
         "22KV"
        ],
        [
         "12",
         "1103",
         "22KV"
        ],
        [
         "13",
         "1128",
         "22KV"
        ],
        [
         "14",
         "1129",
         "22KV"
        ],
        [
         "15",
         "1133",
         "22KV"
        ],
        [
         "16",
         "1135",
         "22KV"
        ],
        [
         "17",
         "1143",
         "22KV"
        ],
        [
         "18",
         "1151",
         "22KV"
        ],
        [
         "19",
         "1159",
         "22KV"
        ],
        [
         "20",
         "1163",
         "22KV"
        ],
        [
         "21",
         "1171",
         "22KV"
        ],
        [
         "22",
         "1175",
         "33KV"
        ],
        [
         "23",
         "1192",
         "22KV"
        ],
        [
         "24",
         "1193",
         "22KV"
        ],
        [
         "25",
         "1285",
         "33KV"
        ],
        [
         "26",
         "1289",
         "22KV"
        ],
        [
         "27",
         "1301",
         "11KV"
        ],
        [
         "28",
         "1302",
         "11KV"
        ],
        [
         "29",
         "1303",
         "11KV"
        ],
        [
         "30",
         "1304",
         "11KV"
        ],
        [
         "31",
         "1305",
         "11KV"
        ],
        [
         "32",
         "1306",
         "11KV"
        ],
        [
         "33",
         "1308",
         "11KV"
        ],
        [
         "34",
         "1309",
         "11KV"
        ],
        [
         "35",
         "1310",
         "11KV"
        ],
        [
         "36",
         "1311",
         "11KV"
        ],
        [
         "37",
         "1312",
         "11KV"
        ],
        [
         "38",
         "1315",
         "11KV"
        ],
        [
         "39",
         "1316",
         "11KV"
        ],
        [
         "40",
         "1318",
         "11KV"
        ],
        [
         "41",
         "1319",
         "11KV"
        ],
        [
         "42",
         "1321",
         "11KV"
        ],
        [
         "43",
         "1323",
         "11KV"
        ],
        [
         "44",
         "1324",
         "11KV"
        ],
        [
         "45",
         "1325",
         "11KV"
        ],
        [
         "46",
         "1326",
         "11KV"
        ],
        [
         "47",
         "1327",
         "11KV"
        ],
        [
         "48",
         "1328",
         "11KV"
        ],
        [
         "49",
         "1329",
         "11KV"
        ]
       ],
       "shape": {
        "columns": 2,
        "rows": 2017
       }
      },
      "text/html": [
       "<div>\n",
       "<style scoped>\n",
       "    .dataframe tbody tr th:only-of-type {\n",
       "        vertical-align: middle;\n",
       "    }\n",
       "\n",
       "    .dataframe tbody tr th {\n",
       "        vertical-align: top;\n",
       "    }\n",
       "\n",
       "    .dataframe thead th {\n",
       "        text-align: right;\n",
       "    }\n",
       "</style>\n",
       "<table border=\"1\" class=\"dataframe\">\n",
       "  <thead>\n",
       "    <tr style=\"text-align: right;\">\n",
       "      <th></th>\n",
       "      <th>SWNO</th>\n",
       "      <th>VOLTAGE</th>\n",
       "    </tr>\n",
       "  </thead>\n",
       "  <tbody>\n",
       "    <tr>\n",
       "      <th>0</th>\n",
       "      <td>104</td>\n",
       "      <td>11KV</td>\n",
       "    </tr>\n",
       "    <tr>\n",
       "      <th>1</th>\n",
       "      <td>105</td>\n",
       "      <td>11KV</td>\n",
       "    </tr>\n",
       "    <tr>\n",
       "      <th>2</th>\n",
       "      <td>106</td>\n",
       "      <td>11KV</td>\n",
       "    </tr>\n",
       "    <tr>\n",
       "      <th>3</th>\n",
       "      <td>108</td>\n",
       "      <td>11KV</td>\n",
       "    </tr>\n",
       "    <tr>\n",
       "      <th>4</th>\n",
       "      <td>109</td>\n",
       "      <td>11KV</td>\n",
       "    </tr>\n",
       "    <tr>\n",
       "      <th>...</th>\n",
       "      <td>...</td>\n",
       "      <td>...</td>\n",
       "    </tr>\n",
       "    <tr>\n",
       "      <th>2012</th>\n",
       "      <td>42782</td>\n",
       "      <td>11KV</td>\n",
       "    </tr>\n",
       "    <tr>\n",
       "      <th>2013</th>\n",
       "      <td>42783</td>\n",
       "      <td>11KV</td>\n",
       "    </tr>\n",
       "    <tr>\n",
       "      <th>2014</th>\n",
       "      <td>42784</td>\n",
       "      <td>11KV</td>\n",
       "    </tr>\n",
       "    <tr>\n",
       "      <th>2015</th>\n",
       "      <td>42785</td>\n",
       "      <td>11KV</td>\n",
       "    </tr>\n",
       "    <tr>\n",
       "      <th>2016</th>\n",
       "      <td>42786</td>\n",
       "      <td>11KV</td>\n",
       "    </tr>\n",
       "  </tbody>\n",
       "</table>\n",
       "<p>2017 rows × 2 columns</p>\n",
       "</div>"
      ],
      "text/plain": [
       "       SWNO VOLTAGE\n",
       "0       104    11KV\n",
       "1       105    11KV\n",
       "2       106    11KV\n",
       "3       108    11KV\n",
       "4       109    11KV\n",
       "...     ...     ...\n",
       "2012  42782    11KV\n",
       "2013  42783    11KV\n",
       "2014  42784    11KV\n",
       "2015  42785    11KV\n",
       "2016  42786    11KV\n",
       "\n",
       "[2017 rows x 2 columns]"
      ]
     },
     "execution_count": 14,
     "metadata": {},
     "output_type": "execute_result"
    }
   ],
   "source": [
    "scada_data_df = pd.read_excel(os.path.join(root_dir2,'Scada Data','Scada_Analysis-I.xlsx'))\n",
    "scada_data_df = scada_data_df[['SWNO', 'VOLTAGE']]\n",
    "scada_data_df"
   ]
  },
  {
   "cell_type": "code",
   "execution_count": 15,
   "metadata": {},
   "outputs": [
    {
     "data": {
      "application/vnd.microsoft.datawrangler.viewer.v0+json": {
       "columns": [
        {
         "name": "index",
         "rawType": "int64",
         "type": "integer"
        },
        {
         "name": "SWNO",
         "rawType": "int64",
         "type": "integer"
        },
        {
         "name": "VOLTAGE",
         "rawType": "object",
         "type": "string"
        }
       ],
       "conversionMethod": "pd.DataFrame",
       "ref": "53771b47-c808-4dd6-9597-643e3289a521",
       "rows": [
        [
         "0",
         "104",
         "11KV"
        ],
        [
         "1",
         "105",
         "11KV"
        ],
        [
         "2",
         "106",
         "11KV"
        ],
        [
         "3",
         "108",
         "11KV"
        ],
        [
         "4",
         "109",
         "11KV"
        ],
        [
         "5",
         "110",
         "11KV"
        ],
        [
         "6",
         "231",
         "11KV"
        ],
        [
         "7",
         "233",
         "11KV"
        ],
        [
         "8",
         "234",
         "11KV"
        ],
        [
         "9",
         "235",
         "11KV"
        ],
        [
         "10",
         "738",
         "11KV"
        ],
        [
         "11",
         "1301",
         "11KV"
        ],
        [
         "12",
         "1302",
         "11KV"
        ],
        [
         "13",
         "1303",
         "11KV"
        ],
        [
         "14",
         "1304",
         "11KV"
        ],
        [
         "15",
         "1305",
         "11KV"
        ],
        [
         "16",
         "1306",
         "11KV"
        ],
        [
         "17",
         "1308",
         "11KV"
        ],
        [
         "18",
         "1309",
         "11KV"
        ],
        [
         "19",
         "1310",
         "11KV"
        ],
        [
         "20",
         "1311",
         "11KV"
        ],
        [
         "21",
         "1312",
         "11KV"
        ],
        [
         "22",
         "1315",
         "11KV"
        ],
        [
         "23",
         "1316",
         "11KV"
        ],
        [
         "24",
         "1318",
         "11KV"
        ],
        [
         "25",
         "1319",
         "11KV"
        ],
        [
         "26",
         "1321",
         "11KV"
        ],
        [
         "27",
         "1323",
         "11KV"
        ],
        [
         "28",
         "1324",
         "11KV"
        ],
        [
         "29",
         "1325",
         "11KV"
        ],
        [
         "30",
         "1326",
         "11KV"
        ],
        [
         "31",
         "1327",
         "11KV"
        ],
        [
         "32",
         "1328",
         "11KV"
        ],
        [
         "33",
         "1329",
         "11KV"
        ],
        [
         "34",
         "1331",
         "11KV"
        ],
        [
         "35",
         "1332",
         "11KV"
        ],
        [
         "36",
         "1334",
         "11KV"
        ],
        [
         "37",
         "1335",
         "11KV"
        ],
        [
         "38",
         "1336",
         "11KV"
        ],
        [
         "39",
         "1337",
         "11KV"
        ],
        [
         "40",
         "1502",
         "11KV"
        ],
        [
         "41",
         "1503",
         "11KV"
        ],
        [
         "42",
         "1504",
         "11KV"
        ],
        [
         "43",
         "1505",
         "11KV"
        ],
        [
         "44",
         "1506",
         "11KV"
        ],
        [
         "45",
         "1508",
         "11KV"
        ],
        [
         "46",
         "1509",
         "11KV"
        ],
        [
         "47",
         "1510",
         "11KV"
        ],
        [
         "48",
         "1512",
         "11KV"
        ],
        [
         "49",
         "1513",
         "11KV"
        ]
       ],
       "shape": {
        "columns": 2,
        "rows": 1727
       }
      },
      "text/html": [
       "<div>\n",
       "<style scoped>\n",
       "    .dataframe tbody tr th:only-of-type {\n",
       "        vertical-align: middle;\n",
       "    }\n",
       "\n",
       "    .dataframe tbody tr th {\n",
       "        vertical-align: top;\n",
       "    }\n",
       "\n",
       "    .dataframe thead th {\n",
       "        text-align: right;\n",
       "    }\n",
       "</style>\n",
       "<table border=\"1\" class=\"dataframe\">\n",
       "  <thead>\n",
       "    <tr style=\"text-align: right;\">\n",
       "      <th></th>\n",
       "      <th>SWNO</th>\n",
       "      <th>VOLTAGE</th>\n",
       "    </tr>\n",
       "  </thead>\n",
       "  <tbody>\n",
       "    <tr>\n",
       "      <th>0</th>\n",
       "      <td>104</td>\n",
       "      <td>11KV</td>\n",
       "    </tr>\n",
       "    <tr>\n",
       "      <th>1</th>\n",
       "      <td>105</td>\n",
       "      <td>11KV</td>\n",
       "    </tr>\n",
       "    <tr>\n",
       "      <th>2</th>\n",
       "      <td>106</td>\n",
       "      <td>11KV</td>\n",
       "    </tr>\n",
       "    <tr>\n",
       "      <th>3</th>\n",
       "      <td>108</td>\n",
       "      <td>11KV</td>\n",
       "    </tr>\n",
       "    <tr>\n",
       "      <th>4</th>\n",
       "      <td>109</td>\n",
       "      <td>11KV</td>\n",
       "    </tr>\n",
       "    <tr>\n",
       "      <th>...</th>\n",
       "      <td>...</td>\n",
       "      <td>...</td>\n",
       "    </tr>\n",
       "    <tr>\n",
       "      <th>1722</th>\n",
       "      <td>42782</td>\n",
       "      <td>11KV</td>\n",
       "    </tr>\n",
       "    <tr>\n",
       "      <th>1723</th>\n",
       "      <td>42783</td>\n",
       "      <td>11KV</td>\n",
       "    </tr>\n",
       "    <tr>\n",
       "      <th>1724</th>\n",
       "      <td>42784</td>\n",
       "      <td>11KV</td>\n",
       "    </tr>\n",
       "    <tr>\n",
       "      <th>1725</th>\n",
       "      <td>42785</td>\n",
       "      <td>11KV</td>\n",
       "    </tr>\n",
       "    <tr>\n",
       "      <th>1726</th>\n",
       "      <td>42786</td>\n",
       "      <td>11KV</td>\n",
       "    </tr>\n",
       "  </tbody>\n",
       "</table>\n",
       "<p>1727 rows × 2 columns</p>\n",
       "</div>"
      ],
      "text/plain": [
       "       SWNO VOLTAGE\n",
       "0       104    11KV\n",
       "1       105    11KV\n",
       "2       106    11KV\n",
       "3       108    11KV\n",
       "4       109    11KV\n",
       "...     ...     ...\n",
       "1722  42782    11KV\n",
       "1723  42783    11KV\n",
       "1724  42784    11KV\n",
       "1725  42785    11KV\n",
       "1726  42786    11KV\n",
       "\n",
       "[1727 rows x 2 columns]"
      ]
     },
     "execution_count": 15,
     "metadata": {},
     "output_type": "execute_result"
    }
   ],
   "source": [
    "scada_data_11kv_df = scada_data_df[scada_data_df['VOLTAGE'] == '11KV'].reset_index(drop=True)\n",
    "scada_data_11kv_df"
   ]
  },
  {
   "cell_type": "code",
   "execution_count": 16,
   "metadata": {},
   "outputs": [
    {
     "data": {
      "application/vnd.microsoft.datawrangler.viewer.v0+json": {
       "columns": [
        {
         "name": "index",
         "rawType": "int64",
         "type": "integer"
        },
        {
         "name": "SWNO",
         "rawType": "int64",
         "type": "integer"
        },
        {
         "name": "VOLTAGE",
         "rawType": "object",
         "type": "string"
        }
       ],
       "conversionMethod": "pd.DataFrame",
       "ref": "6b0617ca-5061-4a44-9de6-3acdcc1196b3",
       "rows": [
        [
         "0",
         "1102",
         "22KV"
        ],
        [
         "1",
         "1103",
         "22KV"
        ],
        [
         "2",
         "1128",
         "22KV"
        ],
        [
         "3",
         "1129",
         "22KV"
        ],
        [
         "4",
         "1133",
         "22KV"
        ],
        [
         "5",
         "1135",
         "22KV"
        ],
        [
         "6",
         "1143",
         "22KV"
        ],
        [
         "7",
         "1151",
         "22KV"
        ],
        [
         "8",
         "1159",
         "22KV"
        ],
        [
         "9",
         "1163",
         "22KV"
        ],
        [
         "10",
         "1171",
         "22KV"
        ],
        [
         "11",
         "1175",
         "33KV"
        ],
        [
         "12",
         "1192",
         "22KV"
        ],
        [
         "13",
         "1193",
         "22KV"
        ],
        [
         "14",
         "1285",
         "33KV"
        ],
        [
         "15",
         "1289",
         "22KV"
        ],
        [
         "16",
         "22001",
         "22KV"
        ],
        [
         "17",
         "33001",
         "33KV"
        ],
        [
         "18",
         "33002",
         "33KV"
        ],
        [
         "19",
         "33003",
         "33KV"
        ],
        [
         "20",
         "33004",
         "33KV"
        ],
        [
         "21",
         "33006",
         "33KV"
        ],
        [
         "22",
         "33008",
         "33KV"
        ],
        [
         "23",
         "33009",
         "33KV"
        ],
        [
         "24",
         "33010",
         "33KV"
        ],
        [
         "25",
         "33011",
         "33KV"
        ],
        [
         "26",
         "33012",
         "33KV"
        ],
        [
         "27",
         "33015",
         "33KV"
        ],
        [
         "28",
         "33018",
         "33KV"
        ],
        [
         "29",
         "33019",
         "33KV"
        ],
        [
         "30",
         "33020",
         "33KV"
        ],
        [
         "31",
         "33021",
         "33KV"
        ],
        [
         "32",
         "33022",
         "33KV"
        ],
        [
         "33",
         "33024",
         "33KV"
        ],
        [
         "34",
         "33026",
         "33KV"
        ],
        [
         "35",
         "33027",
         "33KV"
        ],
        [
         "36",
         "33030",
         "33KV"
        ],
        [
         "37",
         "33031",
         "33KV"
        ],
        [
         "38",
         "33032",
         "33KV"
        ],
        [
         "39",
         "33035",
         "33KV"
        ],
        [
         "40",
         "33036",
         "33KV"
        ],
        [
         "41",
         "33037",
         "33KV"
        ],
        [
         "42",
         "33038",
         "33KV"
        ],
        [
         "43",
         "33039",
         "33KV"
        ],
        [
         "44",
         "33040",
         "33KV"
        ],
        [
         "45",
         "33041",
         "33KV"
        ],
        [
         "46",
         "33043",
         "33KV"
        ],
        [
         "47",
         "33044",
         "33KV"
        ],
        [
         "48",
         "33045",
         "33KV"
        ],
        [
         "49",
         "33047",
         "22KV"
        ]
       ],
       "shape": {
        "columns": 2,
        "rows": 290
       }
      },
      "text/html": [
       "<div>\n",
       "<style scoped>\n",
       "    .dataframe tbody tr th:only-of-type {\n",
       "        vertical-align: middle;\n",
       "    }\n",
       "\n",
       "    .dataframe tbody tr th {\n",
       "        vertical-align: top;\n",
       "    }\n",
       "\n",
       "    .dataframe thead th {\n",
       "        text-align: right;\n",
       "    }\n",
       "</style>\n",
       "<table border=\"1\" class=\"dataframe\">\n",
       "  <thead>\n",
       "    <tr style=\"text-align: right;\">\n",
       "      <th></th>\n",
       "      <th>SWNO</th>\n",
       "      <th>VOLTAGE</th>\n",
       "    </tr>\n",
       "  </thead>\n",
       "  <tbody>\n",
       "    <tr>\n",
       "      <th>0</th>\n",
       "      <td>1102</td>\n",
       "      <td>22KV</td>\n",
       "    </tr>\n",
       "    <tr>\n",
       "      <th>1</th>\n",
       "      <td>1103</td>\n",
       "      <td>22KV</td>\n",
       "    </tr>\n",
       "    <tr>\n",
       "      <th>2</th>\n",
       "      <td>1128</td>\n",
       "      <td>22KV</td>\n",
       "    </tr>\n",
       "    <tr>\n",
       "      <th>3</th>\n",
       "      <td>1129</td>\n",
       "      <td>22KV</td>\n",
       "    </tr>\n",
       "    <tr>\n",
       "      <th>4</th>\n",
       "      <td>1133</td>\n",
       "      <td>22KV</td>\n",
       "    </tr>\n",
       "    <tr>\n",
       "      <th>...</th>\n",
       "      <td>...</td>\n",
       "      <td>...</td>\n",
       "    </tr>\n",
       "    <tr>\n",
       "      <th>285</th>\n",
       "      <td>33393</td>\n",
       "      <td>33KV</td>\n",
       "    </tr>\n",
       "    <tr>\n",
       "      <th>286</th>\n",
       "      <td>33394</td>\n",
       "      <td>33KV</td>\n",
       "    </tr>\n",
       "    <tr>\n",
       "      <th>287</th>\n",
       "      <td>33395</td>\n",
       "      <td>33KV</td>\n",
       "    </tr>\n",
       "    <tr>\n",
       "      <th>288</th>\n",
       "      <td>33396</td>\n",
       "      <td>22KV</td>\n",
       "    </tr>\n",
       "    <tr>\n",
       "      <th>289</th>\n",
       "      <td>33409</td>\n",
       "      <td>22KV</td>\n",
       "    </tr>\n",
       "  </tbody>\n",
       "</table>\n",
       "<p>290 rows × 2 columns</p>\n",
       "</div>"
      ],
      "text/plain": [
       "      SWNO VOLTAGE\n",
       "0     1102    22KV\n",
       "1     1103    22KV\n",
       "2     1128    22KV\n",
       "3     1129    22KV\n",
       "4     1133    22KV\n",
       "..     ...     ...\n",
       "285  33393    33KV\n",
       "286  33394    33KV\n",
       "287  33395    33KV\n",
       "288  33396    22KV\n",
       "289  33409    22KV\n",
       "\n",
       "[290 rows x 2 columns]"
      ]
     },
     "execution_count": 16,
     "metadata": {},
     "output_type": "execute_result"
    }
   ],
   "source": [
    "scada_data_22_33kv_df = scada_data_df[scada_data_df['VOLTAGE'] != '11KV'].reset_index(drop=True)\n",
    "scada_data_22_33kv_df"
   ]
  },
  {
   "cell_type": "code",
   "execution_count": 20,
   "metadata": {},
   "outputs": [
    {
     "name": "stdout",
     "output_type": "stream",
     "text": [
      "Number of switches that are in Fault Report but not in Scada for 11KV is:  152\n",
      "Number of switches that are in Log Sheet but not in Scada for 11KV is:  237\n",
      "Number of switches that are in both Log Sheet and Scada for 11KV is:  35\n",
      "\n",
      "Number of switches that are in Fault Report but not in Scada for 22KV, 33KV is:  1\n",
      "Number of switches that are in Log Sheet but not in Scada for 22KV, 33KV is:  2\n",
      "Number of switches that are in both Log Sheet and Scada for 22KV, 33KV is:  25\n"
     ]
    }
   ],
   "source": [
    "inFaultNotInScada_11KV = set(fault_report11KV_df['FROM SWITCH'].dropna().astype(int)) - set(scada_data_11kv_df['SWNO'].dropna().astype(int))\n",
    "inLogNotInScada_11KV = set(logsheet11KV_df['FROM SWITCH'].dropna().astype(int)) - set(scada_data_11kv_df['SWNO'].dropna().astype(int))\n",
    "inBothLogAndScada_11KV = set(logsheet11KV_df['FROM SWITCH'].dropna().astype(int)) & set(scada_data_11kv_df['SWNO'].dropna().astype(int))\n",
    "\n",
    "inFaultNotInScada_22_33KV = set(fault_report22_33KV_df['TO SWITCH'].dropna().astype(int)) - set(scada_data_22_33kv_df['SWNO'].dropna().astype(int))\n",
    "inLogNotInScada_22_33KV = set(logsheet22_33KV_df['TO SWITCH'].dropna().astype(int)) - set(scada_data_22_33kv_df['SWNO'].dropna().astype(int))\n",
    "inBothLogAndScada_22_33KV = set(logsheet22_33KV_df['TO SWITCH'].dropna().astype(int)) & set(scada_data_22_33kv_df['SWNO'].dropna().astype(int))\n",
    "\n",
    "print(\"Number of switches that are in Fault Report but not in Scada for 11KV is: \", len(inFaultNotInScada_11KV))\n",
    "print(\"Number of switches that are in Log Sheet but not in Scada for 11KV is: \", len(inLogNotInScada_11KV))\n",
    "print(\"Number of switches that are in both Log Sheet and Scada for 11KV is: \", len(inBothLogAndScada_11KV))\n",
    "print()\n",
    "print(\"Number of switches that are in Fault Report but not in Scada for 22KV, 33KV is: \", len(inFaultNotInScada_22_33KV))\n",
    "print(\"Number of switches that are in Log Sheet but not in Scada for 22KV, 33KV is: \", len(inLogNotInScada_22_33KV))\n",
    "print(\"Number of switches that are in both Log Sheet and Scada for 22KV, 33KV is: \", len(inBothLogAndScada_22_33KV))"
   ]
  },
  {
   "cell_type": "code",
   "execution_count": 25,
   "metadata": {},
   "outputs": [],
   "source": [
    "write_txt('inFaultNotInScada_11KV',inFaultNotInScada_11KV)\n",
    "write_txt('inLogNotInScada_11KV',inLogNotInScada_11KV)\n",
    "write_txt('inFaultNotInScada_22_33KV',inFaultNotInScada_22_33KV)\n",
    "write_txt('inLogNotInScada_22_33KV',inLogNotInScada_22_33KV)\n"
   ]
  },
  {
   "cell_type": "code",
   "execution_count": 18,
   "metadata": {},
   "outputs": [
    {
     "data": {
      "text/plain": [
       "(179, 272)"
      ]
     },
     "execution_count": 18,
     "metadata": {},
     "output_type": "execute_result"
    }
   ],
   "source": [
    "len(fault_report11KV_df['FROM SWITCH'].unique()), len(logsheet11KV_df['FROM SWITCH'].unique())"
   ]
  },
  {
   "cell_type": "code",
   "execution_count": 19,
   "metadata": {},
   "outputs": [
    {
     "data": {
      "text/plain": [
       "(20, 27)"
      ]
     },
     "execution_count": 19,
     "metadata": {},
     "output_type": "execute_result"
    }
   ],
   "source": [
    "len(fault_report22_33KV_df['TO SWITCH'].unique()), len(logsheet22_33KV_df['TO SWITCH'].unique())"
   ]
  },
  {
   "cell_type": "code",
   "execution_count": 1,
   "metadata": {},
   "outputs": [
    {
     "ename": "NameError",
     "evalue": "name 'inLogNotInScada_11KV' is not defined",
     "output_type": "error",
     "traceback": [
      "\u001b[1;31m---------------------------------------------------------------------------\u001b[0m",
      "\u001b[1;31mNameError\u001b[0m                                 Traceback (most recent call last)",
      "Cell \u001b[1;32mIn[1], line 1\u001b[0m\n\u001b[1;32m----> 1\u001b[0m \u001b[43minLogNotInScada_11KV\u001b[49m\n",
      "\u001b[1;31mNameError\u001b[0m: name 'inLogNotInScada_11KV' is not defined"
     ]
    }
   ],
   "source": [
    "inLogNotInScada_11KV"
   ]
  },
  {
   "cell_type": "code",
   "execution_count": 21,
   "metadata": {},
   "outputs": [
    {
     "data": {
      "text/plain": [
       "{1331,\n",
       " 3104,\n",
       " 4992,\n",
       " 7832,\n",
       " 7834,\n",
       " 9256,\n",
       " 11763,\n",
       " 15506,\n",
       " 18444,\n",
       " 18638,\n",
       " 18828,\n",
       " 25356,\n",
       " 26032,\n",
       " 26206,\n",
       " 26373,\n",
       " 28483,\n",
       " 28484,\n",
       " 28490,\n",
       " 29559,\n",
       " 30476,\n",
       " 30482,\n",
       " 31266,\n",
       " 31276,\n",
       " 32165,\n",
       " 32561,\n",
       " 34557,\n",
       " 35366,\n",
       " 35372,\n",
       " 35874,\n",
       " 35884,\n",
       " 40721,\n",
       " 41717,\n",
       " 41856,\n",
       " 41910,\n",
       " 42303}"
      ]
     },
     "execution_count": 21,
     "metadata": {},
     "output_type": "execute_result"
    }
   ],
   "source": [
    "inBothLogAndScada_11KV"
   ]
  }
 ],
 "metadata": {
  "kernelspec": {
   "display_name": "Python 3",
   "language": "python",
   "name": "python3"
  },
  "language_info": {
   "codemirror_mode": {
    "name": "ipython",
    "version": 3
   },
   "file_extension": ".py",
   "mimetype": "text/x-python",
   "name": "python",
   "nbconvert_exporter": "python",
   "pygments_lexer": "ipython3",
   "version": "3.12.5"
  }
 },
 "nbformat": 4,
 "nbformat_minor": 2
}
