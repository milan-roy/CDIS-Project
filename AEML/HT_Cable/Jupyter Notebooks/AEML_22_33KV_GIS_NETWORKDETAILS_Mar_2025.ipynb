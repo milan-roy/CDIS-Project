{
 "cells": [
  {
   "cell_type": "code",
   "execution_count": 50,
   "metadata": {},
   "outputs": [],
   "source": [
    "import pandas as pd\n",
    "import os"
   ]
  },
  {
   "cell_type": "code",
   "execution_count": 51,
   "metadata": {},
   "outputs": [],
   "source": [
    "root_1 = os.path.join(\"..\",\"Data from company\")\n",
    "root_2 = os.path.join(\"..\",\"Data from me\")"
   ]
  },
  {
   "cell_type": "code",
   "execution_count": 52,
   "metadata": {},
   "outputs": [],
   "source": [
    "gis_df = pd.read_csv(os.path.join(root_1,'GIS_NETWORKDETAILS.csv'))\n",
    "gis_df['TO_SWITCHID'] = pd.to_numeric(gis_df['TO_SWITCHID'],errors='coerce')\n",
    "gis_df = gis_df.dropna(subset=['TO_SWITCHID']).reset_index(drop=True)\n",
    "switches_22_33_KV = gis_df['TO_SWITCHID'].astype('int').unique()"
   ]
  },
  {
   "cell_type": "code",
   "execution_count": 53,
   "metadata": {},
   "outputs": [],
   "source": [
    "gis_df = pd.read_csv(os.path.join(root_1,'GIS_NETWORKDETAILS.csv'))\n",
    "gis_df['FROM_SWITCHID'] = pd.to_numeric(gis_df['FROM_SWITCHID'],errors='coerce')\n",
    "gis_df = gis_df.dropna(subset=['FROM_SWITCHID']).reset_index(drop=True)\n",
    "switches_11_KV = gis_df['FROM_SWITCHID'].astype('int').unique()"
   ]
  },
  {
   "cell_type": "code",
   "execution_count": 54,
   "metadata": {},
   "outputs": [
    {
     "data": {
      "text/plain": [
       "(9508, 8904)"
      ]
     },
     "execution_count": 54,
     "metadata": {},
     "output_type": "execute_result"
    }
   ],
   "source": [
    "len(switches_11_KV), len(switches_22_33_KV)"
   ]
  },
  {
   "cell_type": "code",
   "execution_count": 55,
   "metadata": {},
   "outputs": [
    {
     "ename": "MemoryError",
     "evalue": "Unable to allocate 1.55 GiB for an array with shape (3, 69508488) and data type object",
     "output_type": "error",
     "traceback": [
      "\u001b[31m---------------------------------------------------------------------------\u001b[39m",
      "\u001b[31mMemoryError\u001b[39m                               Traceback (most recent call last)",
      "\u001b[36mCell\u001b[39m\u001b[36m \u001b[39m\u001b[32mIn[55]\u001b[39m\u001b[32m, line 1\u001b[39m\n\u001b[32m----> \u001b[39m\u001b[32m1\u001b[39m scada_df = \u001b[43mpd\u001b[49m\u001b[43m.\u001b[49m\u001b[43mread_csv\u001b[49m\u001b[43m(\u001b[49m\u001b[43mos\u001b[49m\u001b[43m.\u001b[49m\u001b[43mpath\u001b[49m\u001b[43m.\u001b[49m\u001b[43mjoin\u001b[49m\u001b[43m(\u001b[49m\u001b[43mroot_2\u001b[49m\u001b[43m,\u001b[49m\u001b[33;43m'\u001b[39;49m\u001b[33;43mScada Data\u001b[39;49m\u001b[33;43m'\u001b[39;49m\u001b[43m,\u001b[49m\u001b[33;43m'\u001b[39;49m\u001b[33;43mCombined_Scada_Data.csv\u001b[39;49m\u001b[33;43m'\u001b[39;49m\u001b[43m)\u001b[49m\u001b[43m)\u001b[49m\n\u001b[32m      2\u001b[39m scada_11_KV_df = scada_df[scada_df[\u001b[33m'\u001b[39m\u001b[33mVOLTAGE\u001b[39m\u001b[33m'\u001b[39m]==\u001b[33m'\u001b[39m\u001b[33m11KV\u001b[39m\u001b[33m'\u001b[39m].reset_index(drop=\u001b[38;5;28;01mTrue\u001b[39;00m)\n\u001b[32m      3\u001b[39m scada_11_KV_df = scada_11_KV_df[scada_11_KV_df[\u001b[33m'\u001b[39m\u001b[33mPARA\u001b[39m\u001b[33m'\u001b[39m]==\u001b[33m'\u001b[39m\u001b[33mI\u001b[39m\u001b[33m'\u001b[39m].reset_index(drop=\u001b[38;5;28;01mTrue\u001b[39;00m)\n",
      "\u001b[36mFile \u001b[39m\u001b[32mc:\\Users\\milan\\Desktop\\CDIS Project\\.venv\\Lib\\site-packages\\pandas\\io\\parsers\\readers.py:1026\u001b[39m, in \u001b[36mread_csv\u001b[39m\u001b[34m(filepath_or_buffer, sep, delimiter, header, names, index_col, usecols, dtype, engine, converters, true_values, false_values, skipinitialspace, skiprows, skipfooter, nrows, na_values, keep_default_na, na_filter, verbose, skip_blank_lines, parse_dates, infer_datetime_format, keep_date_col, date_parser, date_format, dayfirst, cache_dates, iterator, chunksize, compression, thousands, decimal, lineterminator, quotechar, quoting, doublequote, escapechar, comment, encoding, encoding_errors, dialect, on_bad_lines, delim_whitespace, low_memory, memory_map, float_precision, storage_options, dtype_backend)\u001b[39m\n\u001b[32m   1013\u001b[39m kwds_defaults = _refine_defaults_read(\n\u001b[32m   1014\u001b[39m     dialect,\n\u001b[32m   1015\u001b[39m     delimiter,\n\u001b[32m   (...)\u001b[39m\u001b[32m   1022\u001b[39m     dtype_backend=dtype_backend,\n\u001b[32m   1023\u001b[39m )\n\u001b[32m   1024\u001b[39m kwds.update(kwds_defaults)\n\u001b[32m-> \u001b[39m\u001b[32m1026\u001b[39m \u001b[38;5;28;01mreturn\u001b[39;00m \u001b[43m_read\u001b[49m\u001b[43m(\u001b[49m\u001b[43mfilepath_or_buffer\u001b[49m\u001b[43m,\u001b[49m\u001b[43m \u001b[49m\u001b[43mkwds\u001b[49m\u001b[43m)\u001b[49m\n",
      "\u001b[36mFile \u001b[39m\u001b[32mc:\\Users\\milan\\Desktop\\CDIS Project\\.venv\\Lib\\site-packages\\pandas\\io\\parsers\\readers.py:626\u001b[39m, in \u001b[36m_read\u001b[39m\u001b[34m(filepath_or_buffer, kwds)\u001b[39m\n\u001b[32m    623\u001b[39m     \u001b[38;5;28;01mreturn\u001b[39;00m parser\n\u001b[32m    625\u001b[39m \u001b[38;5;28;01mwith\u001b[39;00m parser:\n\u001b[32m--> \u001b[39m\u001b[32m626\u001b[39m     \u001b[38;5;28;01mreturn\u001b[39;00m \u001b[43mparser\u001b[49m\u001b[43m.\u001b[49m\u001b[43mread\u001b[49m\u001b[43m(\u001b[49m\u001b[43mnrows\u001b[49m\u001b[43m)\u001b[49m\n",
      "\u001b[36mFile \u001b[39m\u001b[32mc:\\Users\\milan\\Desktop\\CDIS Project\\.venv\\Lib\\site-packages\\pandas\\io\\parsers\\readers.py:1968\u001b[39m, in \u001b[36mTextFileReader.read\u001b[39m\u001b[34m(self, nrows)\u001b[39m\n\u001b[32m   1965\u001b[39m     \u001b[38;5;28;01melse\u001b[39;00m:\n\u001b[32m   1966\u001b[39m         new_col_dict = col_dict\n\u001b[32m-> \u001b[39m\u001b[32m1968\u001b[39m     df = \u001b[43mDataFrame\u001b[49m\u001b[43m(\u001b[49m\n\u001b[32m   1969\u001b[39m \u001b[43m        \u001b[49m\u001b[43mnew_col_dict\u001b[49m\u001b[43m,\u001b[49m\n\u001b[32m   1970\u001b[39m \u001b[43m        \u001b[49m\u001b[43mcolumns\u001b[49m\u001b[43m=\u001b[49m\u001b[43mcolumns\u001b[49m\u001b[43m,\u001b[49m\n\u001b[32m   1971\u001b[39m \u001b[43m        \u001b[49m\u001b[43mindex\u001b[49m\u001b[43m=\u001b[49m\u001b[43mindex\u001b[49m\u001b[43m,\u001b[49m\n\u001b[32m   1972\u001b[39m \u001b[43m        \u001b[49m\u001b[43mcopy\u001b[49m\u001b[43m=\u001b[49m\u001b[38;5;129;43;01mnot\u001b[39;49;00m\u001b[43m \u001b[49m\u001b[43musing_copy_on_write\u001b[49m\u001b[43m(\u001b[49m\u001b[43m)\u001b[49m\u001b[43m,\u001b[49m\n\u001b[32m   1973\u001b[39m \u001b[43m    \u001b[49m\u001b[43m)\u001b[49m\n\u001b[32m   1975\u001b[39m     \u001b[38;5;28mself\u001b[39m._currow += new_rows\n\u001b[32m   1976\u001b[39m \u001b[38;5;28;01mreturn\u001b[39;00m df\n",
      "\u001b[36mFile \u001b[39m\u001b[32mc:\\Users\\milan\\Desktop\\CDIS Project\\.venv\\Lib\\site-packages\\pandas\\core\\frame.py:778\u001b[39m, in \u001b[36mDataFrame.__init__\u001b[39m\u001b[34m(self, data, index, columns, dtype, copy)\u001b[39m\n\u001b[32m    772\u001b[39m     mgr = \u001b[38;5;28mself\u001b[39m._init_mgr(\n\u001b[32m    773\u001b[39m         data, axes={\u001b[33m\"\u001b[39m\u001b[33mindex\u001b[39m\u001b[33m\"\u001b[39m: index, \u001b[33m\"\u001b[39m\u001b[33mcolumns\u001b[39m\u001b[33m\"\u001b[39m: columns}, dtype=dtype, copy=copy\n\u001b[32m    774\u001b[39m     )\n\u001b[32m    776\u001b[39m \u001b[38;5;28;01melif\u001b[39;00m \u001b[38;5;28misinstance\u001b[39m(data, \u001b[38;5;28mdict\u001b[39m):\n\u001b[32m    777\u001b[39m     \u001b[38;5;66;03m# GH#38939 de facto copy defaults to False only in non-dict cases\u001b[39;00m\n\u001b[32m--> \u001b[39m\u001b[32m778\u001b[39m     mgr = \u001b[43mdict_to_mgr\u001b[49m\u001b[43m(\u001b[49m\u001b[43mdata\u001b[49m\u001b[43m,\u001b[49m\u001b[43m \u001b[49m\u001b[43mindex\u001b[49m\u001b[43m,\u001b[49m\u001b[43m \u001b[49m\u001b[43mcolumns\u001b[49m\u001b[43m,\u001b[49m\u001b[43m \u001b[49m\u001b[43mdtype\u001b[49m\u001b[43m=\u001b[49m\u001b[43mdtype\u001b[49m\u001b[43m,\u001b[49m\u001b[43m \u001b[49m\u001b[43mcopy\u001b[49m\u001b[43m=\u001b[49m\u001b[43mcopy\u001b[49m\u001b[43m,\u001b[49m\u001b[43m \u001b[49m\u001b[43mtyp\u001b[49m\u001b[43m=\u001b[49m\u001b[43mmanager\u001b[49m\u001b[43m)\u001b[49m\n\u001b[32m    779\u001b[39m \u001b[38;5;28;01melif\u001b[39;00m \u001b[38;5;28misinstance\u001b[39m(data, ma.MaskedArray):\n\u001b[32m    780\u001b[39m     \u001b[38;5;28;01mfrom\u001b[39;00m\u001b[38;5;250m \u001b[39m\u001b[34;01mnumpy\u001b[39;00m\u001b[34;01m.\u001b[39;00m\u001b[34;01mma\u001b[39;00m\u001b[38;5;250m \u001b[39m\u001b[38;5;28;01mimport\u001b[39;00m mrecords\n",
      "\u001b[36mFile \u001b[39m\u001b[32mc:\\Users\\milan\\Desktop\\CDIS Project\\.venv\\Lib\\site-packages\\pandas\\core\\internals\\construction.py:503\u001b[39m, in \u001b[36mdict_to_mgr\u001b[39m\u001b[34m(data, index, columns, dtype, typ, copy)\u001b[39m\n\u001b[32m    499\u001b[39m     \u001b[38;5;28;01melse\u001b[39;00m:\n\u001b[32m    500\u001b[39m         \u001b[38;5;66;03m# dtype check to exclude e.g. range objects, scalars\u001b[39;00m\n\u001b[32m    501\u001b[39m         arrays = [x.copy() \u001b[38;5;28;01mif\u001b[39;00m \u001b[38;5;28mhasattr\u001b[39m(x, \u001b[33m\"\u001b[39m\u001b[33mdtype\u001b[39m\u001b[33m\"\u001b[39m) \u001b[38;5;28;01melse\u001b[39;00m x \u001b[38;5;28;01mfor\u001b[39;00m x \u001b[38;5;129;01min\u001b[39;00m arrays]\n\u001b[32m--> \u001b[39m\u001b[32m503\u001b[39m \u001b[38;5;28;01mreturn\u001b[39;00m \u001b[43marrays_to_mgr\u001b[49m\u001b[43m(\u001b[49m\u001b[43marrays\u001b[49m\u001b[43m,\u001b[49m\u001b[43m \u001b[49m\u001b[43mcolumns\u001b[49m\u001b[43m,\u001b[49m\u001b[43m \u001b[49m\u001b[43mindex\u001b[49m\u001b[43m,\u001b[49m\u001b[43m \u001b[49m\u001b[43mdtype\u001b[49m\u001b[43m=\u001b[49m\u001b[43mdtype\u001b[49m\u001b[43m,\u001b[49m\u001b[43m \u001b[49m\u001b[43mtyp\u001b[49m\u001b[43m=\u001b[49m\u001b[43mtyp\u001b[49m\u001b[43m,\u001b[49m\u001b[43m \u001b[49m\u001b[43mconsolidate\u001b[49m\u001b[43m=\u001b[49m\u001b[43mcopy\u001b[49m\u001b[43m)\u001b[49m\n",
      "\u001b[36mFile \u001b[39m\u001b[32mc:\\Users\\milan\\Desktop\\CDIS Project\\.venv\\Lib\\site-packages\\pandas\\core\\internals\\construction.py:152\u001b[39m, in \u001b[36marrays_to_mgr\u001b[39m\u001b[34m(arrays, columns, index, dtype, verify_integrity, typ, consolidate)\u001b[39m\n\u001b[32m    149\u001b[39m axes = [columns, index]\n\u001b[32m    151\u001b[39m \u001b[38;5;28;01mif\u001b[39;00m typ == \u001b[33m\"\u001b[39m\u001b[33mblock\u001b[39m\u001b[33m\"\u001b[39m:\n\u001b[32m--> \u001b[39m\u001b[32m152\u001b[39m     \u001b[38;5;28;01mreturn\u001b[39;00m \u001b[43mcreate_block_manager_from_column_arrays\u001b[49m\u001b[43m(\u001b[49m\n\u001b[32m    153\u001b[39m \u001b[43m        \u001b[49m\u001b[43marrays\u001b[49m\u001b[43m,\u001b[49m\u001b[43m \u001b[49m\u001b[43maxes\u001b[49m\u001b[43m,\u001b[49m\u001b[43m \u001b[49m\u001b[43mconsolidate\u001b[49m\u001b[43m=\u001b[49m\u001b[43mconsolidate\u001b[49m\u001b[43m,\u001b[49m\u001b[43m \u001b[49m\u001b[43mrefs\u001b[49m\u001b[43m=\u001b[49m\u001b[43mrefs\u001b[49m\n\u001b[32m    154\u001b[39m \u001b[43m    \u001b[49m\u001b[43m)\u001b[49m\n\u001b[32m    155\u001b[39m \u001b[38;5;28;01melif\u001b[39;00m typ == \u001b[33m\"\u001b[39m\u001b[33marray\u001b[39m\u001b[33m\"\u001b[39m:\n\u001b[32m    156\u001b[39m     \u001b[38;5;28;01mreturn\u001b[39;00m ArrayManager(arrays, [index, columns])\n",
      "\u001b[36mFile \u001b[39m\u001b[32mc:\\Users\\milan\\Desktop\\CDIS Project\\.venv\\Lib\\site-packages\\pandas\\core\\internals\\managers.py:2144\u001b[39m, in \u001b[36mcreate_block_manager_from_column_arrays\u001b[39m\u001b[34m(arrays, axes, consolidate, refs)\u001b[39m\n\u001b[32m   2142\u001b[39m     raise_construction_error(\u001b[38;5;28mlen\u001b[39m(arrays), arrays[\u001b[32m0\u001b[39m].shape, axes, e)\n\u001b[32m   2143\u001b[39m \u001b[38;5;28;01mif\u001b[39;00m consolidate:\n\u001b[32m-> \u001b[39m\u001b[32m2144\u001b[39m     \u001b[43mmgr\u001b[49m\u001b[43m.\u001b[49m\u001b[43m_consolidate_inplace\u001b[49m\u001b[43m(\u001b[49m\u001b[43m)\u001b[49m\n\u001b[32m   2145\u001b[39m \u001b[38;5;28;01mreturn\u001b[39;00m mgr\n",
      "\u001b[36mFile \u001b[39m\u001b[32mc:\\Users\\milan\\Desktop\\CDIS Project\\.venv\\Lib\\site-packages\\pandas\\core\\internals\\managers.py:1788\u001b[39m, in \u001b[36mBlockManager._consolidate_inplace\u001b[39m\u001b[34m(self)\u001b[39m\n\u001b[32m   1782\u001b[39m \u001b[38;5;28;01mdef\u001b[39;00m\u001b[38;5;250m \u001b[39m\u001b[34m_consolidate_inplace\u001b[39m(\u001b[38;5;28mself\u001b[39m) -> \u001b[38;5;28;01mNone\u001b[39;00m:\n\u001b[32m   1783\u001b[39m     \u001b[38;5;66;03m# In general, _consolidate_inplace should only be called via\u001b[39;00m\n\u001b[32m   1784\u001b[39m     \u001b[38;5;66;03m#  DataFrame._consolidate_inplace, otherwise we will fail to invalidate\u001b[39;00m\n\u001b[32m   1785\u001b[39m     \u001b[38;5;66;03m#  the DataFrame's _item_cache. The exception is for newly-created\u001b[39;00m\n\u001b[32m   1786\u001b[39m     \u001b[38;5;66;03m#  BlockManager objects not yet attached to a DataFrame.\u001b[39;00m\n\u001b[32m   1787\u001b[39m     \u001b[38;5;28;01mif\u001b[39;00m \u001b[38;5;129;01mnot\u001b[39;00m \u001b[38;5;28mself\u001b[39m.is_consolidated():\n\u001b[32m-> \u001b[39m\u001b[32m1788\u001b[39m         \u001b[38;5;28mself\u001b[39m.blocks = \u001b[43m_consolidate\u001b[49m\u001b[43m(\u001b[49m\u001b[38;5;28;43mself\u001b[39;49m\u001b[43m.\u001b[49m\u001b[43mblocks\u001b[49m\u001b[43m)\u001b[49m\n\u001b[32m   1789\u001b[39m         \u001b[38;5;28mself\u001b[39m._is_consolidated = \u001b[38;5;28;01mTrue\u001b[39;00m\n\u001b[32m   1790\u001b[39m         \u001b[38;5;28mself\u001b[39m._known_consolidated = \u001b[38;5;28;01mTrue\u001b[39;00m\n",
      "\u001b[36mFile \u001b[39m\u001b[32mc:\\Users\\milan\\Desktop\\CDIS Project\\.venv\\Lib\\site-packages\\pandas\\core\\internals\\managers.py:2269\u001b[39m, in \u001b[36m_consolidate\u001b[39m\u001b[34m(blocks)\u001b[39m\n\u001b[32m   2267\u001b[39m new_blocks: \u001b[38;5;28mlist\u001b[39m[Block] = []\n\u001b[32m   2268\u001b[39m \u001b[38;5;28;01mfor\u001b[39;00m (_can_consolidate, dtype), group_blocks \u001b[38;5;129;01min\u001b[39;00m grouper:\n\u001b[32m-> \u001b[39m\u001b[32m2269\u001b[39m     merged_blocks, _ = \u001b[43m_merge_blocks\u001b[49m\u001b[43m(\u001b[49m\n\u001b[32m   2270\u001b[39m \u001b[43m        \u001b[49m\u001b[38;5;28;43mlist\u001b[39;49m\u001b[43m(\u001b[49m\u001b[43mgroup_blocks\u001b[49m\u001b[43m)\u001b[49m\u001b[43m,\u001b[49m\u001b[43m \u001b[49m\u001b[43mdtype\u001b[49m\u001b[43m=\u001b[49m\u001b[43mdtype\u001b[49m\u001b[43m,\u001b[49m\u001b[43m \u001b[49m\u001b[43mcan_consolidate\u001b[49m\u001b[43m=\u001b[49m\u001b[43m_can_consolidate\u001b[49m\n\u001b[32m   2271\u001b[39m \u001b[43m    \u001b[49m\u001b[43m)\u001b[49m\n\u001b[32m   2272\u001b[39m     new_blocks = extend_blocks(merged_blocks, new_blocks)\n\u001b[32m   2273\u001b[39m \u001b[38;5;28;01mreturn\u001b[39;00m \u001b[38;5;28mtuple\u001b[39m(new_blocks)\n",
      "\u001b[36mFile \u001b[39m\u001b[32mc:\\Users\\milan\\Desktop\\CDIS Project\\.venv\\Lib\\site-packages\\pandas\\core\\internals\\managers.py:2301\u001b[39m, in \u001b[36m_merge_blocks\u001b[39m\u001b[34m(blocks, dtype, can_consolidate)\u001b[39m\n\u001b[32m   2298\u001b[39m     new_values = bvals2[\u001b[32m0\u001b[39m]._concat_same_type(bvals2, axis=\u001b[32m0\u001b[39m)\n\u001b[32m   2300\u001b[39m argsort = np.argsort(new_mgr_locs)\n\u001b[32m-> \u001b[39m\u001b[32m2301\u001b[39m new_values = \u001b[43mnew_values\u001b[49m\u001b[43m[\u001b[49m\u001b[43margsort\u001b[49m\u001b[43m]\u001b[49m\n\u001b[32m   2302\u001b[39m new_mgr_locs = new_mgr_locs[argsort]\n\u001b[32m   2304\u001b[39m bp = BlockPlacement(new_mgr_locs)\n",
      "\u001b[31mMemoryError\u001b[39m: Unable to allocate 1.55 GiB for an array with shape (3, 69508488) and data type object"
     ]
    }
   ],
   "source": [
    "scada_df = pd.read_csv(os.path.join(root_2,'Scada Data','Combined_Scada_Data.csv'))\n",
    "scada_11_KV_df = scada_df[scada_df['VOLTAGE']=='11KV'].reset_index(drop=True)\n",
    "scada_11_KV_df = scada_11_KV_df[scada_11_KV_df['PARA']=='I'].reset_index(drop=True)\n",
    "scada_11_KV_df"
   ]
  },
  {
   "cell_type": "code",
   "execution_count": null,
   "metadata": {},
   "outputs": [
    {
     "data": {
      "application/vnd.microsoft.datawrangler.viewer.v0+json": {
       "columns": [
        {
         "name": "index",
         "rawType": "int64",
         "type": "integer"
        },
        {
         "name": "SYSTIME",
         "rawType": "object",
         "type": "string"
        },
        {
         "name": "SWNO",
         "rawType": "int64",
         "type": "integer"
        },
        {
         "name": "VOLTAGE",
         "rawType": "object",
         "type": "string"
        },
        {
         "name": "PARA",
         "rawType": "object",
         "type": "string"
        },
        {
         "name": "VALUE",
         "rawType": "float64",
         "type": "float"
        }
       ],
       "conversionMethod": "pd.DataFrame",
       "ref": "8732b540-014f-4598-aa13-7ac35b6f6b26",
       "rows": [
        [
         "0",
         "2024-09-16 00:00:00+00:00",
         "33318",
         "33KV",
         "I",
         "49.89"
        ],
        [
         "1",
         "2024-09-16 00:00:00+00:00",
         "33120",
         "22KV",
         "I",
         "148.0"
        ],
        [
         "2",
         "2024-09-16 00:00:00+00:00",
         "33245",
         "33KV",
         "I",
         "96.0"
        ],
        [
         "3",
         "2024-09-16 00:00:00+00:00",
         "1163",
         "22KV",
         "I",
         "85.9"
        ],
        [
         "4",
         "2024-09-16 00:00:00+00:00",
         "33152",
         "33KV",
         "I",
         "86.92"
        ],
        [
         "5",
         "2024-09-16 00:00:00+00:00",
         "22001",
         "22KV",
         "I",
         "144.94"
        ],
        [
         "6",
         "2024-09-16 00:00:00+00:00",
         "33232",
         "33KV",
         "I",
         "136.0"
        ],
        [
         "7",
         "2024-09-16 00:00:00+00:00",
         "33295",
         "33KV",
         "I",
         "49.97"
        ],
        [
         "8",
         "2024-09-16 00:00:00+00:00",
         "33240",
         "33KV",
         "I",
         "140.0"
        ],
        [
         "9",
         "2024-09-16 00:00:00+00:00",
         "33065",
         "33KV",
         "I",
         "58.0"
        ],
        [
         "10",
         "2024-09-16 00:00:00+00:00",
         "33193",
         "22KV",
         "I",
         "65.89"
        ],
        [
         "11",
         "2024-09-16 00:00:00+00:00",
         "33179",
         "22KV",
         "I",
         "79.27"
        ],
        [
         "12",
         "2024-09-16 00:00:00+00:00",
         "33044",
         "33KV",
         "I",
         "90.48"
        ],
        [
         "13",
         "2024-09-16 00:00:00+00:00",
         "33221",
         "22KV",
         "I",
         "101.0"
        ],
        [
         "14",
         "2024-09-16 00:00:00+00:00",
         "33137",
         "22KV",
         "I",
         "138.46"
        ],
        [
         "15",
         "2024-09-16 00:00:00+00:00",
         "33219",
         "33KV",
         "I",
         "29.54"
        ],
        [
         "16",
         "2024-09-16 00:00:00+00:00",
         "33064",
         "22KV",
         "I",
         "38.47"
        ],
        [
         "17",
         "2024-09-16 00:00:00+00:00",
         "33173",
         "33KV",
         "I",
         "108.79"
        ],
        [
         "18",
         "2024-09-16 00:00:00+00:00",
         "33185",
         "33KV",
         "I",
         "53.66"
        ],
        [
         "19",
         "2024-09-16 00:00:00+00:00",
         "33233",
         "33KV",
         "I",
         "106.0"
        ],
        [
         "20",
         "2024-09-16 00:00:00+00:00",
         "33291",
         "33KV",
         "I",
         "108.9"
        ],
        [
         "21",
         "2024-09-16 00:00:00+00:00",
         "33322",
         "22KV",
         "I",
         "54.7"
        ],
        [
         "22",
         "2024-09-16 00:00:00+00:00",
         "33207",
         "22KV",
         "I",
         "110.03"
        ],
        [
         "23",
         "2024-09-16 00:00:00+00:00",
         "33136",
         "22KV",
         "I",
         "134.3"
        ],
        [
         "24",
         "2024-09-16 00:00:00+00:00",
         "33122",
         "33KV",
         "I",
         "78.36"
        ],
        [
         "25",
         "2024-09-16 00:00:00+00:00",
         "33300",
         "33KV",
         "I",
         "141.42"
        ],
        [
         "26",
         "2024-09-16 00:00:00+00:00",
         "33208",
         "33KV",
         "I",
         "46.0"
        ],
        [
         "27",
         "2024-09-16 00:00:00+00:00",
         "33206",
         "33KV",
         "I",
         "102.32"
        ],
        [
         "28",
         "2024-09-16 00:00:00+00:00",
         "33302",
         "33KV",
         "I",
         "79.83"
        ],
        [
         "29",
         "2024-09-16 00:00:00+00:00",
         "33121",
         "33KV",
         "I",
         "134.0"
        ],
        [
         "30",
         "2024-09-16 00:00:00+00:00",
         "33001",
         "33KV",
         "I",
         "117.0"
        ],
        [
         "31",
         "2024-09-16 00:00:00+00:00",
         "33212",
         "33KV",
         "I",
         "62.42"
        ],
        [
         "32",
         "2024-09-16 00:00:00+00:00",
         "33067",
         "33KV",
         "I",
         "72.0"
        ],
        [
         "33",
         "2024-09-16 00:00:00+00:00",
         "33056",
         "33KV",
         "I",
         "116.78"
        ],
        [
         "34",
         "2024-09-16 00:00:00+00:00",
         "1285",
         "33KV",
         "I",
         "67.0"
        ],
        [
         "35",
         "2024-09-16 00:00:00+00:00",
         "33222",
         "33KV",
         "I",
         "77.48"
        ],
        [
         "36",
         "2024-09-16 00:00:00+00:00",
         "33043",
         "33KV",
         "I",
         "113.57"
        ],
        [
         "37",
         "2024-09-16 00:00:00+00:00",
         "33070",
         "33KV",
         "I",
         "155.09"
        ],
        [
         "38",
         "2024-09-16 00:00:00+00:00",
         "33009",
         "33KV",
         "I",
         "183.27"
        ],
        [
         "39",
         "2024-09-16 00:00:00+00:00",
         "33166",
         "33KV",
         "I",
         "99.72"
        ],
        [
         "40",
         "2024-09-16 00:00:00+00:00",
         "33063",
         "22KV",
         "I",
         "31.25"
        ],
        [
         "41",
         "2024-09-16 00:00:00+00:00",
         "33002",
         "33KV",
         "I",
         "144.92"
        ],
        [
         "42",
         "2024-09-16 00:00:00+00:00",
         "33086",
         "33KV",
         "I",
         "36.0"
        ],
        [
         "43",
         "2024-09-16 00:00:00+00:00",
         "33175",
         "33KV",
         "I",
         "137.75"
        ],
        [
         "44",
         "2024-09-16 00:00:00+00:00",
         "33098",
         "33KV",
         "I",
         "115.87"
        ],
        [
         "45",
         "2024-09-16 00:00:00+00:00",
         "33128",
         "33KV",
         "I",
         "151.01"
        ],
        [
         "46",
         "2024-09-16 00:00:00+00:00",
         "33178",
         "33KV",
         "I",
         "68.06"
        ],
        [
         "47",
         "2024-09-16 00:00:00+00:00",
         "33243",
         "22KV",
         "I",
         "43.0"
        ],
        [
         "48",
         "2024-09-16 00:00:00+00:00",
         "33095",
         "33KV",
         "I",
         "53.84"
        ],
        [
         "49",
         "2024-09-16 00:00:00+00:00",
         "33213",
         "33KV",
         "I",
         "177.57"
        ]
       ],
       "shape": {
        "columns": 5,
        "rows": 2183884
       }
      },
      "text/html": [
       "<div>\n",
       "<style scoped>\n",
       "    .dataframe tbody tr th:only-of-type {\n",
       "        vertical-align: middle;\n",
       "    }\n",
       "\n",
       "    .dataframe tbody tr th {\n",
       "        vertical-align: top;\n",
       "    }\n",
       "\n",
       "    .dataframe thead th {\n",
       "        text-align: right;\n",
       "    }\n",
       "</style>\n",
       "<table border=\"1\" class=\"dataframe\">\n",
       "  <thead>\n",
       "    <tr style=\"text-align: right;\">\n",
       "      <th></th>\n",
       "      <th>SYSTIME</th>\n",
       "      <th>SWNO</th>\n",
       "      <th>VOLTAGE</th>\n",
       "      <th>PARA</th>\n",
       "      <th>VALUE</th>\n",
       "    </tr>\n",
       "  </thead>\n",
       "  <tbody>\n",
       "    <tr>\n",
       "      <th>0</th>\n",
       "      <td>2024-09-16 00:00:00+00:00</td>\n",
       "      <td>33318</td>\n",
       "      <td>33KV</td>\n",
       "      <td>I</td>\n",
       "      <td>49.89</td>\n",
       "    </tr>\n",
       "    <tr>\n",
       "      <th>1</th>\n",
       "      <td>2024-09-16 00:00:00+00:00</td>\n",
       "      <td>33120</td>\n",
       "      <td>22KV</td>\n",
       "      <td>I</td>\n",
       "      <td>148.00</td>\n",
       "    </tr>\n",
       "    <tr>\n",
       "      <th>2</th>\n",
       "      <td>2024-09-16 00:00:00+00:00</td>\n",
       "      <td>33245</td>\n",
       "      <td>33KV</td>\n",
       "      <td>I</td>\n",
       "      <td>96.00</td>\n",
       "    </tr>\n",
       "    <tr>\n",
       "      <th>3</th>\n",
       "      <td>2024-09-16 00:00:00+00:00</td>\n",
       "      <td>1163</td>\n",
       "      <td>22KV</td>\n",
       "      <td>I</td>\n",
       "      <td>85.90</td>\n",
       "    </tr>\n",
       "    <tr>\n",
       "      <th>4</th>\n",
       "      <td>2024-09-16 00:00:00+00:00</td>\n",
       "      <td>33152</td>\n",
       "      <td>33KV</td>\n",
       "      <td>I</td>\n",
       "      <td>86.92</td>\n",
       "    </tr>\n",
       "    <tr>\n",
       "      <th>...</th>\n",
       "      <td>...</td>\n",
       "      <td>...</td>\n",
       "      <td>...</td>\n",
       "      <td>...</td>\n",
       "      <td>...</td>\n",
       "    </tr>\n",
       "    <tr>\n",
       "      <th>2183879</th>\n",
       "      <td>2024-12-15 23:45:00+00:00</td>\n",
       "      <td>33036</td>\n",
       "      <td>33KV</td>\n",
       "      <td>I</td>\n",
       "      <td>91.97</td>\n",
       "    </tr>\n",
       "    <tr>\n",
       "      <th>2183880</th>\n",
       "      <td>2024-12-15 23:45:00+00:00</td>\n",
       "      <td>33244</td>\n",
       "      <td>22KV</td>\n",
       "      <td>I</td>\n",
       "      <td>78.00</td>\n",
       "    </tr>\n",
       "    <tr>\n",
       "      <th>2183881</th>\n",
       "      <td>2024-12-15 23:45:00+00:00</td>\n",
       "      <td>1192</td>\n",
       "      <td>22KV</td>\n",
       "      <td>I</td>\n",
       "      <td>74.58</td>\n",
       "    </tr>\n",
       "    <tr>\n",
       "      <th>2183882</th>\n",
       "      <td>2024-12-15 23:45:00+00:00</td>\n",
       "      <td>33136</td>\n",
       "      <td>22KV</td>\n",
       "      <td>I</td>\n",
       "      <td>104.20</td>\n",
       "    </tr>\n",
       "    <tr>\n",
       "      <th>2183883</th>\n",
       "      <td>2024-12-15 23:45:00+00:00</td>\n",
       "      <td>33055</td>\n",
       "      <td>33KV</td>\n",
       "      <td>I</td>\n",
       "      <td>95.29</td>\n",
       "    </tr>\n",
       "  </tbody>\n",
       "</table>\n",
       "<p>2183884 rows × 5 columns</p>\n",
       "</div>"
      ],
      "text/plain": [
       "                           SYSTIME   SWNO VOLTAGE PARA   VALUE\n",
       "0        2024-09-16 00:00:00+00:00  33318    33KV    I   49.89\n",
       "1        2024-09-16 00:00:00+00:00  33120    22KV    I  148.00\n",
       "2        2024-09-16 00:00:00+00:00  33245    33KV    I   96.00\n",
       "3        2024-09-16 00:00:00+00:00   1163    22KV    I   85.90\n",
       "4        2024-09-16 00:00:00+00:00  33152    33KV    I   86.92\n",
       "...                            ...    ...     ...  ...     ...\n",
       "2183879  2024-12-15 23:45:00+00:00  33036    33KV    I   91.97\n",
       "2183880  2024-12-15 23:45:00+00:00  33244    22KV    I   78.00\n",
       "2183881  2024-12-15 23:45:00+00:00   1192    22KV    I   74.58\n",
       "2183882  2024-12-15 23:45:00+00:00  33136    22KV    I  104.20\n",
       "2183883  2024-12-15 23:45:00+00:00  33055    33KV    I   95.29\n",
       "\n",
       "[2183884 rows x 5 columns]"
      ]
     },
     "execution_count": 47,
     "metadata": {},
     "output_type": "execute_result"
    }
   ],
   "source": [
    "scada_df = pd.read_csv(os.path.join(root_2,'Scada Data','Combined_Scada_Data.csv'))\n",
    "scada_22_33_KV_df = scada_df[scada_df['VOLTAGE']!='11KV'].reset_index(drop=True)\n",
    "scada_22_33_KV_df = scada_22_33_KV_df[scada_22_33_KV_df['PARA']=='I'].reset_index(drop=True)\n",
    "scada_22_33_KV_df"
   ]
  }
 ],
 "metadata": {
  "kernelspec": {
   "display_name": ".venv",
   "language": "python",
   "name": "python3"
  },
  "language_info": {
   "codemirror_mode": {
    "name": "ipython",
    "version": 3
   },
   "file_extension": ".py",
   "mimetype": "text/x-python",
   "name": "python",
   "nbconvert_exporter": "python",
   "pygments_lexer": "ipython3",
   "version": "3.11.4"
  }
 },
 "nbformat": 4,
 "nbformat_minor": 2
}
