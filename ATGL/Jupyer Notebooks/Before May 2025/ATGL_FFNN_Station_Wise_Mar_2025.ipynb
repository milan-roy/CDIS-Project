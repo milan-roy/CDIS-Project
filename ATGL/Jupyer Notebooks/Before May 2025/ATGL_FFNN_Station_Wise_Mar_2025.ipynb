{
 "cells": [
  {
   "cell_type": "code",
   "execution_count": 1,
   "metadata": {},
   "outputs": [
    {
     "data": {
      "text/html": [
       "<div>\n",
       "<style scoped>\n",
       "    .dataframe tbody tr th:only-of-type {\n",
       "        vertical-align: middle;\n",
       "    }\n",
       "\n",
       "    .dataframe tbody tr th {\n",
       "        vertical-align: top;\n",
       "    }\n",
       "\n",
       "    .dataframe thead th {\n",
       "        text-align: right;\n",
       "    }\n",
       "</style>\n",
       "<table border=\"1\" class=\"dataframe\">\n",
       "  <thead>\n",
       "    <tr style=\"text-align: right;\">\n",
       "      <th></th>\n",
       "      <th>CONFIDENTIAL DATA</th>\n",
       "      <th>Unnamed: 1</th>\n",
       "      <th>Unnamed: 2</th>\n",
       "      <th>Unnamed: 3</th>\n",
       "      <th>Unnamed: 4</th>\n",
       "      <th>Unnamed: 5</th>\n",
       "      <th>Unnamed: 6</th>\n",
       "      <th>Unnamed: 7</th>\n",
       "      <th>Unnamed: 8</th>\n",
       "      <th>Unnamed: 9</th>\n",
       "      <th>...</th>\n",
       "      <th>Unnamed: 268</th>\n",
       "      <th>Unnamed: 269</th>\n",
       "      <th>Unnamed: 270</th>\n",
       "      <th>Unnamed: 271</th>\n",
       "      <th>Unnamed: 272</th>\n",
       "      <th>Unnamed: 273</th>\n",
       "      <th>Unnamed: 274</th>\n",
       "      <th>Unnamed: 275</th>\n",
       "      <th>Unnamed: 276</th>\n",
       "      <th>Unnamed: 277</th>\n",
       "    </tr>\n",
       "  </thead>\n",
       "  <tbody>\n",
       "    <tr>\n",
       "      <th>0</th>\n",
       "      <td>Sr.No.</td>\n",
       "      <td>CNG Station Name</td>\n",
       "      <td>Date ®</td>\n",
       "      <td>2023-04-01 00:00:00</td>\n",
       "      <td>2023-04-02 00:00:00</td>\n",
       "      <td>2023-04-03 00:00:00</td>\n",
       "      <td>2023-04-04 00:00:00</td>\n",
       "      <td>2023-04-05 00:00:00</td>\n",
       "      <td>2023-04-06 00:00:00</td>\n",
       "      <td>2023-04-07 00:00:00</td>\n",
       "      <td>...</td>\n",
       "      <td>2023-12-22 00:00:00</td>\n",
       "      <td>2023-12-23 00:00:00</td>\n",
       "      <td>2023-12-24 00:00:00</td>\n",
       "      <td>2023-12-25 00:00:00</td>\n",
       "      <td>2023-12-26 00:00:00</td>\n",
       "      <td>2023-12-27 00:00:00</td>\n",
       "      <td>2023-12-28 00:00:00</td>\n",
       "      <td>2023-12-29 00:00:00</td>\n",
       "      <td>2023-12-30 00:00:00</td>\n",
       "      <td>2023-12-31 00:00:00</td>\n",
       "    </tr>\n",
       "    <tr>\n",
       "      <th>1</th>\n",
       "      <td>NaN</td>\n",
       "      <td>NaN</td>\n",
       "      <td>Day ®</td>\n",
       "      <td>Saturday</td>\n",
       "      <td>Sunday</td>\n",
       "      <td>Monday</td>\n",
       "      <td>Tuesday</td>\n",
       "      <td>Wednesday</td>\n",
       "      <td>Thursday</td>\n",
       "      <td>Friday</td>\n",
       "      <td>...</td>\n",
       "      <td>Friday</td>\n",
       "      <td>Saturday</td>\n",
       "      <td>Sunday</td>\n",
       "      <td>Monday</td>\n",
       "      <td>Tuesday</td>\n",
       "      <td>Wednesday</td>\n",
       "      <td>Thursday</td>\n",
       "      <td>Friday</td>\n",
       "      <td>Saturday</td>\n",
       "      <td>Sunday</td>\n",
       "    </tr>\n",
       "    <tr>\n",
       "      <th>2</th>\n",
       "      <td>NaN</td>\n",
       "      <td>NaN</td>\n",
       "      <td>KG to SCM ®</td>\n",
       "      <td>1.2788</td>\n",
       "      <td>1.4071</td>\n",
       "      <td>1.2535</td>\n",
       "      <td>1.224</td>\n",
       "      <td>1.2242</td>\n",
       "      <td>1.2248</td>\n",
       "      <td>1.2242</td>\n",
       "      <td>...</td>\n",
       "      <td>1.4018</td>\n",
       "      <td>1.3965</td>\n",
       "      <td>1.3932</td>\n",
       "      <td>1.3784</td>\n",
       "      <td>1.3826</td>\n",
       "      <td>1.3896</td>\n",
       "      <td>1.3899</td>\n",
       "      <td>1.3859</td>\n",
       "      <td>1.3798</td>\n",
       "      <td>1.3835</td>\n",
       "    </tr>\n",
       "    <tr>\n",
       "      <th>3</th>\n",
       "      <td>NaN</td>\n",
       "      <td>NaN</td>\n",
       "      <td>Op Model ¯</td>\n",
       "      <td>(KG/day)</td>\n",
       "      <td>(KG/day)</td>\n",
       "      <td>(KG/day)</td>\n",
       "      <td>(KG/day)</td>\n",
       "      <td>(KG/day)</td>\n",
       "      <td>(KG/day)</td>\n",
       "      <td>(KG/day)</td>\n",
       "      <td>...</td>\n",
       "      <td>(KG/day)</td>\n",
       "      <td>(KG/day)</td>\n",
       "      <td>(KG/day)</td>\n",
       "      <td>(KG/day)</td>\n",
       "      <td>(KG/day)</td>\n",
       "      <td>(KG/day)</td>\n",
       "      <td>(KG/day)</td>\n",
       "      <td>(KG/day)</td>\n",
       "      <td>(KG/day)</td>\n",
       "      <td>(KG/day)</td>\n",
       "    </tr>\n",
       "    <tr>\n",
       "      <th>4</th>\n",
       "      <td>1</td>\n",
       "      <td>Jamalpur Station</td>\n",
       "      <td>CODO</td>\n",
       "      <td>10485.08</td>\n",
       "      <td>7949.78</td>\n",
       "      <td>10399.14</td>\n",
       "      <td>10766.83</td>\n",
       "      <td>10616.97</td>\n",
       "      <td>10579.35</td>\n",
       "      <td>8167.66</td>\n",
       "      <td>...</td>\n",
       "      <td>11743.04</td>\n",
       "      <td>12630.99</td>\n",
       "      <td>10968.34</td>\n",
       "      <td>11975.36</td>\n",
       "      <td>12194.06</td>\n",
       "      <td>9753.09</td>\n",
       "      <td>9311.79</td>\n",
       "      <td>11823.97</td>\n",
       "      <td>11923.18</td>\n",
       "      <td>9698.54</td>\n",
       "    </tr>\n",
       "    <tr>\n",
       "      <th>...</th>\n",
       "      <td>...</td>\n",
       "      <td>...</td>\n",
       "      <td>...</td>\n",
       "      <td>...</td>\n",
       "      <td>...</td>\n",
       "      <td>...</td>\n",
       "      <td>...</td>\n",
       "      <td>...</td>\n",
       "      <td>...</td>\n",
       "      <td>...</td>\n",
       "      <td>...</td>\n",
       "      <td>...</td>\n",
       "      <td>...</td>\n",
       "      <td>...</td>\n",
       "      <td>...</td>\n",
       "      <td>...</td>\n",
       "      <td>...</td>\n",
       "      <td>...</td>\n",
       "      <td>...</td>\n",
       "      <td>...</td>\n",
       "      <td>...</td>\n",
       "    </tr>\n",
       "    <tr>\n",
       "      <th>85</th>\n",
       "      <td>82</td>\n",
       "      <td>SHREEJI AUTO SERVICE-HPCL</td>\n",
       "      <td>COLO</td>\n",
       "      <td>3028.97</td>\n",
       "      <td>2226.45</td>\n",
       "      <td>2655.22</td>\n",
       "      <td>2710.97</td>\n",
       "      <td>2935.93</td>\n",
       "      <td>3025.09</td>\n",
       "      <td>2580.33</td>\n",
       "      <td>...</td>\n",
       "      <td>3227.75</td>\n",
       "      <td>3641.13</td>\n",
       "      <td>3173.9</td>\n",
       "      <td>3015.84</td>\n",
       "      <td>3057.07</td>\n",
       "      <td>3116.68</td>\n",
       "      <td>3377.52</td>\n",
       "      <td>3128.33</td>\n",
       "      <td>3069.71</td>\n",
       "      <td>2313.88</td>\n",
       "    </tr>\n",
       "    <tr>\n",
       "      <th>86</th>\n",
       "      <td>83</td>\n",
       "      <td>RAVI PETROLEUM-BPCL</td>\n",
       "      <td>COLO</td>\n",
       "      <td>5816.08</td>\n",
       "      <td>4956.7</td>\n",
       "      <td>5854.4</td>\n",
       "      <td>5613.24</td>\n",
       "      <td>4120.45</td>\n",
       "      <td>5660.4</td>\n",
       "      <td>3408.94</td>\n",
       "      <td>...</td>\n",
       "      <td>6445.06</td>\n",
       "      <td>7067.38</td>\n",
       "      <td>6851.94</td>\n",
       "      <td>6924</td>\n",
       "      <td>6687.55</td>\n",
       "      <td>6131.88</td>\n",
       "      <td>6388.5</td>\n",
       "      <td>6488.69</td>\n",
       "      <td>6468.13</td>\n",
       "      <td>6466.37</td>\n",
       "    </tr>\n",
       "    <tr>\n",
       "      <th>87</th>\n",
       "      <td>84</td>\n",
       "      <td>GUJARAT AUTO (USHMANPURA)- IOCL STATION</td>\n",
       "      <td>COLO</td>\n",
       "      <td>1780.32</td>\n",
       "      <td>1092.51</td>\n",
       "      <td>1582.6</td>\n",
       "      <td>1540.98</td>\n",
       "      <td>1814.59</td>\n",
       "      <td>2014.72</td>\n",
       "      <td>1488.27</td>\n",
       "      <td>...</td>\n",
       "      <td>2182.69</td>\n",
       "      <td>1967.18</td>\n",
       "      <td>1319.91</td>\n",
       "      <td>1759.12</td>\n",
       "      <td>2051.58</td>\n",
       "      <td>1940.04</td>\n",
       "      <td>1964.28</td>\n",
       "      <td>1938.53</td>\n",
       "      <td>1752.29</td>\n",
       "      <td>1397.5</td>\n",
       "    </tr>\n",
       "    <tr>\n",
       "      <th>88</th>\n",
       "      <td>Total Daily CNG Sales</td>\n",
       "      <td>NaN</td>\n",
       "      <td>SCM/day ®</td>\n",
       "      <td>496690.689924</td>\n",
       "      <td>449019.976491</td>\n",
       "      <td>463311.3997</td>\n",
       "      <td>456306.3432</td>\n",
       "      <td>493338.999138</td>\n",
       "      <td>494010.905488</td>\n",
       "      <td>409583.985034</td>\n",
       "      <td>...</td>\n",
       "      <td>586486.401692</td>\n",
       "      <td>565619.81448</td>\n",
       "      <td>556015.517748</td>\n",
       "      <td>592294.579128</td>\n",
       "      <td>599715.663484</td>\n",
       "      <td>571390.999704</td>\n",
       "      <td>576890.976666</td>\n",
       "      <td>572104.814138</td>\n",
       "      <td>585843.459244</td>\n",
       "      <td>537720.84984</td>\n",
       "    </tr>\n",
       "    <tr>\n",
       "      <th>89</th>\n",
       "      <td>CONFIDENTIAL DATA</td>\n",
       "      <td>NaN</td>\n",
       "      <td>NaN</td>\n",
       "      <td>NaN</td>\n",
       "      <td>NaN</td>\n",
       "      <td>NaN</td>\n",
       "      <td>NaN</td>\n",
       "      <td>NaN</td>\n",
       "      <td>NaN</td>\n",
       "      <td>NaN</td>\n",
       "      <td>...</td>\n",
       "      <td>NaN</td>\n",
       "      <td>NaN</td>\n",
       "      <td>NaN</td>\n",
       "      <td>NaN</td>\n",
       "      <td>NaN</td>\n",
       "      <td>NaN</td>\n",
       "      <td>NaN</td>\n",
       "      <td>NaN</td>\n",
       "      <td>NaN</td>\n",
       "      <td>NaN</td>\n",
       "    </tr>\n",
       "  </tbody>\n",
       "</table>\n",
       "<p>90 rows × 278 columns</p>\n",
       "</div>"
      ],
      "text/plain": [
       "        CONFIDENTIAL DATA                                Unnamed: 1  \\\n",
       "0                 Sr.No.                           CNG Station Name   \n",
       "1                     NaN                                       NaN   \n",
       "2                     NaN                                       NaN   \n",
       "3                     NaN                                       NaN   \n",
       "4                       1                          Jamalpur Station   \n",
       "..                    ...                                       ...   \n",
       "85                     82                 SHREEJI AUTO SERVICE-HPCL   \n",
       "86                     83                       RAVI PETROLEUM-BPCL   \n",
       "87                     84  GUJARAT AUTO (USHMANPURA)- IOCL STATION    \n",
       "88  Total Daily CNG Sales                                       NaN   \n",
       "89      CONFIDENTIAL DATA                                       NaN   \n",
       "\n",
       "     Unnamed: 2           Unnamed: 3           Unnamed: 4  \\\n",
       "0        Date ®  2023-04-01 00:00:00  2023-04-02 00:00:00   \n",
       "1         Day ®             Saturday               Sunday   \n",
       "2   KG to SCM ®               1.2788               1.4071   \n",
       "3    Op Model ¯             (KG/day)             (KG/day)   \n",
       "4          CODO             10485.08              7949.78   \n",
       "..          ...                  ...                  ...   \n",
       "85         COLO              3028.97              2226.45   \n",
       "86         COLO              5816.08               4956.7   \n",
       "87         COLO              1780.32              1092.51   \n",
       "88    SCM/day ®        496690.689924        449019.976491   \n",
       "89          NaN                  NaN                  NaN   \n",
       "\n",
       "             Unnamed: 5           Unnamed: 6           Unnamed: 7  \\\n",
       "0   2023-04-03 00:00:00  2023-04-04 00:00:00  2023-04-05 00:00:00   \n",
       "1                Monday              Tuesday            Wednesday   \n",
       "2                1.2535                1.224               1.2242   \n",
       "3              (KG/day)             (KG/day)             (KG/day)   \n",
       "4              10399.14             10766.83             10616.97   \n",
       "..                  ...                  ...                  ...   \n",
       "85              2655.22              2710.97              2935.93   \n",
       "86               5854.4              5613.24              4120.45   \n",
       "87               1582.6              1540.98              1814.59   \n",
       "88          463311.3997          456306.3432        493338.999138   \n",
       "89                  NaN                  NaN                  NaN   \n",
       "\n",
       "             Unnamed: 8           Unnamed: 9  ...         Unnamed: 268  \\\n",
       "0   2023-04-06 00:00:00  2023-04-07 00:00:00  ...  2023-12-22 00:00:00   \n",
       "1              Thursday               Friday  ...               Friday   \n",
       "2                1.2248               1.2242  ...               1.4018   \n",
       "3              (KG/day)             (KG/day)  ...             (KG/day)   \n",
       "4              10579.35              8167.66  ...             11743.04   \n",
       "..                  ...                  ...  ...                  ...   \n",
       "85              3025.09              2580.33  ...              3227.75   \n",
       "86               5660.4              3408.94  ...              6445.06   \n",
       "87              2014.72              1488.27  ...              2182.69   \n",
       "88        494010.905488        409583.985034  ...        586486.401692   \n",
       "89                  NaN                  NaN  ...                  NaN   \n",
       "\n",
       "           Unnamed: 269         Unnamed: 270         Unnamed: 271  \\\n",
       "0   2023-12-23 00:00:00  2023-12-24 00:00:00  2023-12-25 00:00:00   \n",
       "1              Saturday               Sunday               Monday   \n",
       "2                1.3965               1.3932               1.3784   \n",
       "3              (KG/day)             (KG/day)             (KG/day)   \n",
       "4              12630.99             10968.34             11975.36   \n",
       "..                  ...                  ...                  ...   \n",
       "85              3641.13               3173.9              3015.84   \n",
       "86              7067.38              6851.94                 6924   \n",
       "87              1967.18              1319.91              1759.12   \n",
       "88         565619.81448        556015.517748        592294.579128   \n",
       "89                  NaN                  NaN                  NaN   \n",
       "\n",
       "           Unnamed: 272         Unnamed: 273         Unnamed: 274  \\\n",
       "0   2023-12-26 00:00:00  2023-12-27 00:00:00  2023-12-28 00:00:00   \n",
       "1               Tuesday            Wednesday             Thursday   \n",
       "2                1.3826               1.3896               1.3899   \n",
       "3              (KG/day)             (KG/day)             (KG/day)   \n",
       "4              12194.06              9753.09              9311.79   \n",
       "..                  ...                  ...                  ...   \n",
       "85              3057.07              3116.68              3377.52   \n",
       "86              6687.55              6131.88               6388.5   \n",
       "87              2051.58              1940.04              1964.28   \n",
       "88        599715.663484        571390.999704        576890.976666   \n",
       "89                  NaN                  NaN                  NaN   \n",
       "\n",
       "           Unnamed: 275         Unnamed: 276         Unnamed: 277  \n",
       "0   2023-12-29 00:00:00  2023-12-30 00:00:00  2023-12-31 00:00:00  \n",
       "1                Friday             Saturday               Sunday  \n",
       "2                1.3859               1.3798               1.3835  \n",
       "3              (KG/day)             (KG/day)             (KG/day)  \n",
       "4              11823.97             11923.18              9698.54  \n",
       "..                  ...                  ...                  ...  \n",
       "85              3128.33              3069.71              2313.88  \n",
       "86              6488.69              6468.13              6466.37  \n",
       "87              1938.53              1752.29               1397.5  \n",
       "88        572104.814138        585843.459244         537720.84984  \n",
       "89                  NaN                  NaN                  NaN  \n",
       "\n",
       "[90 rows x 278 columns]"
      ]
     },
     "execution_count": 1,
     "metadata": {},
     "output_type": "execute_result"
    }
   ],
   "source": [
    "import pandas as pd\n",
    "import os\n",
    "root = os.path.join(\"..\",\"Data\")\n",
    "df = pd.read_excel(os.path.join(root, 'DEMAND_FILE.xlsx'),\n",
    "                    sheet_name= 'Daily CNG Volume - Ahmedabad')\n",
    "\n",
    "df"
   ]
  },
  {
   "cell_type": "code",
   "execution_count": 2,
   "metadata": {},
   "outputs": [
    {
     "data": {
      "text/html": [
       "<div>\n",
       "<style scoped>\n",
       "    .dataframe tbody tr th:only-of-type {\n",
       "        vertical-align: middle;\n",
       "    }\n",
       "\n",
       "    .dataframe tbody tr th {\n",
       "        vertical-align: top;\n",
       "    }\n",
       "\n",
       "    .dataframe thead th {\n",
       "        text-align: right;\n",
       "    }\n",
       "</style>\n",
       "<table border=\"1\" class=\"dataframe\">\n",
       "  <thead>\n",
       "    <tr style=\"text-align: right;\">\n",
       "      <th></th>\n",
       "      <th>Jamalpur Station</th>\n",
       "      <th>Jamalpur Amts</th>\n",
       "      <th>Pragatinagar Station</th>\n",
       "      <th>Maninagar Station</th>\n",
       "      <th>Memco Station</th>\n",
       "      <th>Paldi Station</th>\n",
       "      <th>Paldi Amts</th>\n",
       "      <th>Sarkhej  Station</th>\n",
       "      <th>Gota Station</th>\n",
       "      <th>Memnagar Station</th>\n",
       "      <th>...</th>\n",
       "      <th>Vinayak Petroleum - IOCL</th>\n",
       "      <th>Radhey Petroleum - BPCL</th>\n",
       "      <th>Shree Gokulesh Petroleum - IOCL</th>\n",
       "      <th>B N Gasoline - BPCL</th>\n",
       "      <th>Millennium-HPCL</th>\n",
       "      <th>SHREEJI AUTO SERVICE-HPCL</th>\n",
       "      <th>RAVI PETROLEUM-BPCL</th>\n",
       "      <th>GUJARAT AUTO (USHMANPURA)- IOCL STATION</th>\n",
       "      <th>NaN</th>\n",
       "      <th>NaN</th>\n",
       "    </tr>\n",
       "  </thead>\n",
       "  <tbody>\n",
       "    <tr>\n",
       "      <th>0</th>\n",
       "      <td>10485.08</td>\n",
       "      <td>5954.47</td>\n",
       "      <td>6389.5</td>\n",
       "      <td>11492.98</td>\n",
       "      <td>11517.52</td>\n",
       "      <td>11557.27</td>\n",
       "      <td>1198.99</td>\n",
       "      <td>12189.48</td>\n",
       "      <td>16840.47</td>\n",
       "      <td>6511.6</td>\n",
       "      <td>...</td>\n",
       "      <td>2279.5</td>\n",
       "      <td>3503.84</td>\n",
       "      <td>3720.81</td>\n",
       "      <td>5929.37</td>\n",
       "      <td>2596.84</td>\n",
       "      <td>3028.97</td>\n",
       "      <td>5816.08</td>\n",
       "      <td>1780.32</td>\n",
       "      <td>496690.689924</td>\n",
       "      <td>NaN</td>\n",
       "    </tr>\n",
       "    <tr>\n",
       "      <th>1</th>\n",
       "      <td>7949.78</td>\n",
       "      <td>4046.22</td>\n",
       "      <td>5083.51</td>\n",
       "      <td>9231.52</td>\n",
       "      <td>9352.54</td>\n",
       "      <td>9026.1</td>\n",
       "      <td>885.83</td>\n",
       "      <td>8977.69</td>\n",
       "      <td>13244.86</td>\n",
       "      <td>4942.25</td>\n",
       "      <td>...</td>\n",
       "      <td>1587.03</td>\n",
       "      <td>1978.2</td>\n",
       "      <td>3067.51</td>\n",
       "      <td>4578.82</td>\n",
       "      <td>2467.13</td>\n",
       "      <td>2226.45</td>\n",
       "      <td>4956.7</td>\n",
       "      <td>1092.51</td>\n",
       "      <td>449019.976491</td>\n",
       "      <td>NaN</td>\n",
       "    </tr>\n",
       "    <tr>\n",
       "      <th>2</th>\n",
       "      <td>10399.14</td>\n",
       "      <td>6736.62</td>\n",
       "      <td>6349.81</td>\n",
       "      <td>11539.11</td>\n",
       "      <td>12081.9</td>\n",
       "      <td>11815.25</td>\n",
       "      <td>1577.99</td>\n",
       "      <td>11881.09</td>\n",
       "      <td>15618.76</td>\n",
       "      <td>6536.86</td>\n",
       "      <td>...</td>\n",
       "      <td>1915.31</td>\n",
       "      <td>2258.49</td>\n",
       "      <td>3023.93</td>\n",
       "      <td>4946.22</td>\n",
       "      <td>2101.97</td>\n",
       "      <td>2655.22</td>\n",
       "      <td>5854.4</td>\n",
       "      <td>1582.6</td>\n",
       "      <td>463311.3997</td>\n",
       "      <td>NaN</td>\n",
       "    </tr>\n",
       "    <tr>\n",
       "      <th>3</th>\n",
       "      <td>10766.83</td>\n",
       "      <td>5844.85</td>\n",
       "      <td>6270.87</td>\n",
       "      <td>11454.52</td>\n",
       "      <td>11740.23</td>\n",
       "      <td>11815.94</td>\n",
       "      <td>1279.73</td>\n",
       "      <td>11114.76</td>\n",
       "      <td>16438.86</td>\n",
       "      <td>6310.99</td>\n",
       "      <td>...</td>\n",
       "      <td>2128.84</td>\n",
       "      <td>3228.88</td>\n",
       "      <td>3641.32</td>\n",
       "      <td>5660.6</td>\n",
       "      <td>2581.75</td>\n",
       "      <td>2710.97</td>\n",
       "      <td>5613.24</td>\n",
       "      <td>1540.98</td>\n",
       "      <td>456306.3432</td>\n",
       "      <td>NaN</td>\n",
       "    </tr>\n",
       "    <tr>\n",
       "      <th>4</th>\n",
       "      <td>10616.97</td>\n",
       "      <td>6577.18</td>\n",
       "      <td>6686.69</td>\n",
       "      <td>13364.06</td>\n",
       "      <td>12694.16</td>\n",
       "      <td>12510.74</td>\n",
       "      <td>1369.5</td>\n",
       "      <td>14110.06</td>\n",
       "      <td>17764.37</td>\n",
       "      <td>7076.15</td>\n",
       "      <td>...</td>\n",
       "      <td>2142.56</td>\n",
       "      <td>3607.01</td>\n",
       "      <td>4023.43</td>\n",
       "      <td>5880.08</td>\n",
       "      <td>1283.6</td>\n",
       "      <td>2935.93</td>\n",
       "      <td>4120.45</td>\n",
       "      <td>1814.59</td>\n",
       "      <td>493338.999138</td>\n",
       "      <td>NaN</td>\n",
       "    </tr>\n",
       "    <tr>\n",
       "      <th>...</th>\n",
       "      <td>...</td>\n",
       "      <td>...</td>\n",
       "      <td>...</td>\n",
       "      <td>...</td>\n",
       "      <td>...</td>\n",
       "      <td>...</td>\n",
       "      <td>...</td>\n",
       "      <td>...</td>\n",
       "      <td>...</td>\n",
       "      <td>...</td>\n",
       "      <td>...</td>\n",
       "      <td>...</td>\n",
       "      <td>...</td>\n",
       "      <td>...</td>\n",
       "      <td>...</td>\n",
       "      <td>...</td>\n",
       "      <td>...</td>\n",
       "      <td>...</td>\n",
       "      <td>...</td>\n",
       "      <td>...</td>\n",
       "      <td>...</td>\n",
       "    </tr>\n",
       "    <tr>\n",
       "      <th>270</th>\n",
       "      <td>9753.09</td>\n",
       "      <td>7897.37</td>\n",
       "      <td>6674.81</td>\n",
       "      <td>14314.59</td>\n",
       "      <td>11716.02</td>\n",
       "      <td>14292.79</td>\n",
       "      <td>1782.5</td>\n",
       "      <td>11173.44</td>\n",
       "      <td>15523.6</td>\n",
       "      <td>6904.83</td>\n",
       "      <td>...</td>\n",
       "      <td>2636.25</td>\n",
       "      <td>4955.65</td>\n",
       "      <td>3844.79</td>\n",
       "      <td>6555.8</td>\n",
       "      <td>2836.25</td>\n",
       "      <td>3116.68</td>\n",
       "      <td>6131.88</td>\n",
       "      <td>1940.04</td>\n",
       "      <td>571390.999704</td>\n",
       "      <td>NaN</td>\n",
       "    </tr>\n",
       "    <tr>\n",
       "      <th>271</th>\n",
       "      <td>9311.79</td>\n",
       "      <td>8167.22</td>\n",
       "      <td>6724.91</td>\n",
       "      <td>13966.64</td>\n",
       "      <td>11945.58</td>\n",
       "      <td>14667.29</td>\n",
       "      <td>1917.59</td>\n",
       "      <td>10823.1</td>\n",
       "      <td>16055.54</td>\n",
       "      <td>8093.54</td>\n",
       "      <td>...</td>\n",
       "      <td>2209.49</td>\n",
       "      <td>4990.76</td>\n",
       "      <td>3499.73</td>\n",
       "      <td>6032.43</td>\n",
       "      <td>2977.81</td>\n",
       "      <td>3377.52</td>\n",
       "      <td>6388.5</td>\n",
       "      <td>1964.28</td>\n",
       "      <td>576890.976666</td>\n",
       "      <td>NaN</td>\n",
       "    </tr>\n",
       "    <tr>\n",
       "      <th>272</th>\n",
       "      <td>11823.97</td>\n",
       "      <td>7861.88</td>\n",
       "      <td>6824.56</td>\n",
       "      <td>14401.3</td>\n",
       "      <td>12323.39</td>\n",
       "      <td>14624.47</td>\n",
       "      <td>1833.94</td>\n",
       "      <td>11581.16</td>\n",
       "      <td>16459.55</td>\n",
       "      <td>7514.96</td>\n",
       "      <td>...</td>\n",
       "      <td>2381.25</td>\n",
       "      <td>4714.38</td>\n",
       "      <td>3390.89</td>\n",
       "      <td>7211.59</td>\n",
       "      <td>2537.57</td>\n",
       "      <td>3128.33</td>\n",
       "      <td>6488.69</td>\n",
       "      <td>1938.53</td>\n",
       "      <td>572104.814138</td>\n",
       "      <td>NaN</td>\n",
       "    </tr>\n",
       "    <tr>\n",
       "      <th>273</th>\n",
       "      <td>11923.18</td>\n",
       "      <td>8052.41</td>\n",
       "      <td>7063.87</td>\n",
       "      <td>14739.7</td>\n",
       "      <td>12074.35</td>\n",
       "      <td>15118.93</td>\n",
       "      <td>1967.75</td>\n",
       "      <td>11048.89</td>\n",
       "      <td>16616.74</td>\n",
       "      <td>7591.41</td>\n",
       "      <td>...</td>\n",
       "      <td>2890.62</td>\n",
       "      <td>5233.52</td>\n",
       "      <td>2992.46</td>\n",
       "      <td>6702.05</td>\n",
       "      <td>2600.94</td>\n",
       "      <td>3069.71</td>\n",
       "      <td>6468.13</td>\n",
       "      <td>1752.29</td>\n",
       "      <td>585843.459244</td>\n",
       "      <td>NaN</td>\n",
       "    </tr>\n",
       "    <tr>\n",
       "      <th>274</th>\n",
       "      <td>9698.54</td>\n",
       "      <td>6427.78</td>\n",
       "      <td>6281.4</td>\n",
       "      <td>13836.75</td>\n",
       "      <td>11061.82</td>\n",
       "      <td>14926.68</td>\n",
       "      <td>1384.74</td>\n",
       "      <td>10656.89</td>\n",
       "      <td>15858.92</td>\n",
       "      <td>6930.69</td>\n",
       "      <td>...</td>\n",
       "      <td>1695.38</td>\n",
       "      <td>4884.14</td>\n",
       "      <td>2671.14</td>\n",
       "      <td>6791.42</td>\n",
       "      <td>2849.06</td>\n",
       "      <td>2313.88</td>\n",
       "      <td>6466.37</td>\n",
       "      <td>1397.5</td>\n",
       "      <td>537720.84984</td>\n",
       "      <td>NaN</td>\n",
       "    </tr>\n",
       "  </tbody>\n",
       "</table>\n",
       "<p>275 rows × 86 columns</p>\n",
       "</div>"
      ],
      "text/plain": [
       "    Jamalpur Station Jamalpur Amts  Pragatinagar Station Maninagar Station  \\\n",
       "0           10485.08        5954.47               6389.5          11492.98   \n",
       "1            7949.78        4046.22              5083.51           9231.52   \n",
       "2           10399.14        6736.62              6349.81          11539.11   \n",
       "3           10766.83        5844.85              6270.87          11454.52   \n",
       "4           10616.97        6577.18              6686.69          13364.06   \n",
       "..               ...            ...                  ...               ...   \n",
       "270          9753.09        7897.37              6674.81          14314.59   \n",
       "271          9311.79        8167.22              6724.91          13966.64   \n",
       "272         11823.97        7861.88              6824.56           14401.3   \n",
       "273         11923.18        8052.41              7063.87           14739.7   \n",
       "274          9698.54        6427.78               6281.4          13836.75   \n",
       "\n",
       "    Memco Station Paldi Station Paldi Amts  Sarkhej  Station Gota Station  \\\n",
       "0        11517.52      11557.27     1198.99         12189.48     16840.47   \n",
       "1         9352.54        9026.1      885.83          8977.69     13244.86   \n",
       "2         12081.9      11815.25     1577.99         11881.09     15618.76   \n",
       "3        11740.23      11815.94     1279.73         11114.76     16438.86   \n",
       "4        12694.16      12510.74      1369.5         14110.06     17764.37   \n",
       "..            ...           ...         ...              ...          ...   \n",
       "270      11716.02      14292.79      1782.5         11173.44      15523.6   \n",
       "271      11945.58      14667.29     1917.59          10823.1     16055.54   \n",
       "272      12323.39      14624.47     1833.94         11581.16     16459.55   \n",
       "273      12074.35      15118.93     1967.75         11048.89     16616.74   \n",
       "274      11061.82      14926.68     1384.74         10656.89     15858.92   \n",
       "\n",
       "    Memnagar Station  ... Vinayak Petroleum - IOCL Radhey Petroleum - BPCL  \\\n",
       "0             6511.6  ...                   2279.5                 3503.84   \n",
       "1            4942.25  ...                  1587.03                  1978.2   \n",
       "2            6536.86  ...                  1915.31                 2258.49   \n",
       "3            6310.99  ...                  2128.84                 3228.88   \n",
       "4            7076.15  ...                  2142.56                 3607.01   \n",
       "..               ...  ...                      ...                     ...   \n",
       "270          6904.83  ...                  2636.25                 4955.65   \n",
       "271          8093.54  ...                  2209.49                 4990.76   \n",
       "272          7514.96  ...                  2381.25                 4714.38   \n",
       "273          7591.41  ...                  2890.62                 5233.52   \n",
       "274          6930.69  ...                  1695.38                 4884.14   \n",
       "\n",
       "    Shree Gokulesh Petroleum - IOCL B N Gasoline - BPCL Millennium-HPCL  \\\n",
       "0                           3720.81             5929.37         2596.84   \n",
       "1                           3067.51             4578.82         2467.13   \n",
       "2                           3023.93             4946.22         2101.97   \n",
       "3                           3641.32              5660.6         2581.75   \n",
       "4                           4023.43             5880.08          1283.6   \n",
       "..                              ...                 ...             ...   \n",
       "270                         3844.79              6555.8         2836.25   \n",
       "271                         3499.73             6032.43         2977.81   \n",
       "272                         3390.89             7211.59         2537.57   \n",
       "273                         2992.46             6702.05         2600.94   \n",
       "274                         2671.14             6791.42         2849.06   \n",
       "\n",
       "    SHREEJI AUTO SERVICE-HPCL RAVI PETROLEUM-BPCL  \\\n",
       "0                     3028.97             5816.08   \n",
       "1                     2226.45              4956.7   \n",
       "2                     2655.22              5854.4   \n",
       "3                     2710.97             5613.24   \n",
       "4                     2935.93             4120.45   \n",
       "..                        ...                 ...   \n",
       "270                   3116.68             6131.88   \n",
       "271                   3377.52              6388.5   \n",
       "272                   3128.33             6488.69   \n",
       "273                   3069.71             6468.13   \n",
       "274                   2313.88             6466.37   \n",
       "\n",
       "    GUJARAT AUTO (USHMANPURA)- IOCL STATION             NaN  NaN  \n",
       "0                                    1780.32  496690.689924  NaN  \n",
       "1                                    1092.51  449019.976491  NaN  \n",
       "2                                     1582.6    463311.3997  NaN  \n",
       "3                                    1540.98    456306.3432  NaN  \n",
       "4                                    1814.59  493338.999138  NaN  \n",
       "..                                       ...            ...  ...  \n",
       "270                                  1940.04  571390.999704  NaN  \n",
       "271                                  1964.28  576890.976666  NaN  \n",
       "272                                  1938.53  572104.814138  NaN  \n",
       "273                                  1752.29  585843.459244  NaN  \n",
       "274                                   1397.5   537720.84984  NaN  \n",
       "\n",
       "[275 rows x 86 columns]"
      ]
     },
     "execution_count": 2,
     "metadata": {},
     "output_type": "execute_result"
    }
   ],
   "source": [
    "gas_df = df.iloc[4:,1:]\n",
    "gas_df = gas_df.drop(gas_df.columns[1],axis=1).T.reset_index(drop=True)\n",
    "gas_df.columns = gas_df.iloc[0,:].values\n",
    "gas_df = gas_df.drop(0).reset_index(drop=True)\n",
    "gas_df"
   ]
  },
  {
   "cell_type": "code",
   "execution_count": 3,
   "metadata": {},
   "outputs": [
    {
     "data": {
      "text/html": [
       "<div>\n",
       "<style scoped>\n",
       "    .dataframe tbody tr th:only-of-type {\n",
       "        vertical-align: middle;\n",
       "    }\n",
       "\n",
       "    .dataframe tbody tr th {\n",
       "        vertical-align: top;\n",
       "    }\n",
       "\n",
       "    .dataframe thead th {\n",
       "        text-align: right;\n",
       "    }\n",
       "</style>\n",
       "<table border=\"1\" class=\"dataframe\">\n",
       "  <thead>\n",
       "    <tr style=\"text-align: right;\">\n",
       "      <th></th>\n",
       "      <th>Date</th>\n",
       "      <th>Jamalpur Station</th>\n",
       "      <th>Jamalpur Amts</th>\n",
       "      <th>Pragatinagar Station</th>\n",
       "      <th>Maninagar Station</th>\n",
       "      <th>Memco Station</th>\n",
       "      <th>Paldi Station</th>\n",
       "      <th>Paldi Amts</th>\n",
       "      <th>Sarkhej  Station</th>\n",
       "      <th>Gota Station</th>\n",
       "      <th>...</th>\n",
       "      <th>Vinayak Petroleum - IOCL</th>\n",
       "      <th>Radhey Petroleum - BPCL</th>\n",
       "      <th>Shree Gokulesh Petroleum - IOCL</th>\n",
       "      <th>B N Gasoline - BPCL</th>\n",
       "      <th>Millennium-HPCL</th>\n",
       "      <th>SHREEJI AUTO SERVICE-HPCL</th>\n",
       "      <th>RAVI PETROLEUM-BPCL</th>\n",
       "      <th>GUJARAT AUTO (USHMANPURA)- IOCL STATION</th>\n",
       "      <th>NaN</th>\n",
       "      <th>NaN</th>\n",
       "    </tr>\n",
       "  </thead>\n",
       "  <tbody>\n",
       "    <tr>\n",
       "      <th>0</th>\n",
       "      <td>2023-04-01</td>\n",
       "      <td>10485.08</td>\n",
       "      <td>5954.47</td>\n",
       "      <td>6389.5</td>\n",
       "      <td>11492.98</td>\n",
       "      <td>11517.52</td>\n",
       "      <td>11557.27</td>\n",
       "      <td>1198.99</td>\n",
       "      <td>12189.48</td>\n",
       "      <td>16840.47</td>\n",
       "      <td>...</td>\n",
       "      <td>2279.5</td>\n",
       "      <td>3503.84</td>\n",
       "      <td>3720.81</td>\n",
       "      <td>5929.37</td>\n",
       "      <td>2596.84</td>\n",
       "      <td>3028.97</td>\n",
       "      <td>5816.08</td>\n",
       "      <td>1780.32</td>\n",
       "      <td>496690.689924</td>\n",
       "      <td>NaN</td>\n",
       "    </tr>\n",
       "    <tr>\n",
       "      <th>1</th>\n",
       "      <td>2023-04-02</td>\n",
       "      <td>7949.78</td>\n",
       "      <td>4046.22</td>\n",
       "      <td>5083.51</td>\n",
       "      <td>9231.52</td>\n",
       "      <td>9352.54</td>\n",
       "      <td>9026.1</td>\n",
       "      <td>885.83</td>\n",
       "      <td>8977.69</td>\n",
       "      <td>13244.86</td>\n",
       "      <td>...</td>\n",
       "      <td>1587.03</td>\n",
       "      <td>1978.2</td>\n",
       "      <td>3067.51</td>\n",
       "      <td>4578.82</td>\n",
       "      <td>2467.13</td>\n",
       "      <td>2226.45</td>\n",
       "      <td>4956.7</td>\n",
       "      <td>1092.51</td>\n",
       "      <td>449019.976491</td>\n",
       "      <td>NaN</td>\n",
       "    </tr>\n",
       "    <tr>\n",
       "      <th>2</th>\n",
       "      <td>2023-04-03</td>\n",
       "      <td>10399.14</td>\n",
       "      <td>6736.62</td>\n",
       "      <td>6349.81</td>\n",
       "      <td>11539.11</td>\n",
       "      <td>12081.9</td>\n",
       "      <td>11815.25</td>\n",
       "      <td>1577.99</td>\n",
       "      <td>11881.09</td>\n",
       "      <td>15618.76</td>\n",
       "      <td>...</td>\n",
       "      <td>1915.31</td>\n",
       "      <td>2258.49</td>\n",
       "      <td>3023.93</td>\n",
       "      <td>4946.22</td>\n",
       "      <td>2101.97</td>\n",
       "      <td>2655.22</td>\n",
       "      <td>5854.4</td>\n",
       "      <td>1582.6</td>\n",
       "      <td>463311.3997</td>\n",
       "      <td>NaN</td>\n",
       "    </tr>\n",
       "    <tr>\n",
       "      <th>3</th>\n",
       "      <td>2023-04-04</td>\n",
       "      <td>10766.83</td>\n",
       "      <td>5844.85</td>\n",
       "      <td>6270.87</td>\n",
       "      <td>11454.52</td>\n",
       "      <td>11740.23</td>\n",
       "      <td>11815.94</td>\n",
       "      <td>1279.73</td>\n",
       "      <td>11114.76</td>\n",
       "      <td>16438.86</td>\n",
       "      <td>...</td>\n",
       "      <td>2128.84</td>\n",
       "      <td>3228.88</td>\n",
       "      <td>3641.32</td>\n",
       "      <td>5660.6</td>\n",
       "      <td>2581.75</td>\n",
       "      <td>2710.97</td>\n",
       "      <td>5613.24</td>\n",
       "      <td>1540.98</td>\n",
       "      <td>456306.3432</td>\n",
       "      <td>NaN</td>\n",
       "    </tr>\n",
       "    <tr>\n",
       "      <th>4</th>\n",
       "      <td>2023-04-05</td>\n",
       "      <td>10616.97</td>\n",
       "      <td>6577.18</td>\n",
       "      <td>6686.69</td>\n",
       "      <td>13364.06</td>\n",
       "      <td>12694.16</td>\n",
       "      <td>12510.74</td>\n",
       "      <td>1369.5</td>\n",
       "      <td>14110.06</td>\n",
       "      <td>17764.37</td>\n",
       "      <td>...</td>\n",
       "      <td>2142.56</td>\n",
       "      <td>3607.01</td>\n",
       "      <td>4023.43</td>\n",
       "      <td>5880.08</td>\n",
       "      <td>1283.6</td>\n",
       "      <td>2935.93</td>\n",
       "      <td>4120.45</td>\n",
       "      <td>1814.59</td>\n",
       "      <td>493338.999138</td>\n",
       "      <td>NaN</td>\n",
       "    </tr>\n",
       "    <tr>\n",
       "      <th>...</th>\n",
       "      <td>...</td>\n",
       "      <td>...</td>\n",
       "      <td>...</td>\n",
       "      <td>...</td>\n",
       "      <td>...</td>\n",
       "      <td>...</td>\n",
       "      <td>...</td>\n",
       "      <td>...</td>\n",
       "      <td>...</td>\n",
       "      <td>...</td>\n",
       "      <td>...</td>\n",
       "      <td>...</td>\n",
       "      <td>...</td>\n",
       "      <td>...</td>\n",
       "      <td>...</td>\n",
       "      <td>...</td>\n",
       "      <td>...</td>\n",
       "      <td>...</td>\n",
       "      <td>...</td>\n",
       "      <td>...</td>\n",
       "      <td>...</td>\n",
       "    </tr>\n",
       "    <tr>\n",
       "      <th>270</th>\n",
       "      <td>2023-12-27</td>\n",
       "      <td>9753.09</td>\n",
       "      <td>7897.37</td>\n",
       "      <td>6674.81</td>\n",
       "      <td>14314.59</td>\n",
       "      <td>11716.02</td>\n",
       "      <td>14292.79</td>\n",
       "      <td>1782.5</td>\n",
       "      <td>11173.44</td>\n",
       "      <td>15523.6</td>\n",
       "      <td>...</td>\n",
       "      <td>2636.25</td>\n",
       "      <td>4955.65</td>\n",
       "      <td>3844.79</td>\n",
       "      <td>6555.8</td>\n",
       "      <td>2836.25</td>\n",
       "      <td>3116.68</td>\n",
       "      <td>6131.88</td>\n",
       "      <td>1940.04</td>\n",
       "      <td>571390.999704</td>\n",
       "      <td>NaN</td>\n",
       "    </tr>\n",
       "    <tr>\n",
       "      <th>271</th>\n",
       "      <td>2023-12-28</td>\n",
       "      <td>9311.79</td>\n",
       "      <td>8167.22</td>\n",
       "      <td>6724.91</td>\n",
       "      <td>13966.64</td>\n",
       "      <td>11945.58</td>\n",
       "      <td>14667.29</td>\n",
       "      <td>1917.59</td>\n",
       "      <td>10823.1</td>\n",
       "      <td>16055.54</td>\n",
       "      <td>...</td>\n",
       "      <td>2209.49</td>\n",
       "      <td>4990.76</td>\n",
       "      <td>3499.73</td>\n",
       "      <td>6032.43</td>\n",
       "      <td>2977.81</td>\n",
       "      <td>3377.52</td>\n",
       "      <td>6388.5</td>\n",
       "      <td>1964.28</td>\n",
       "      <td>576890.976666</td>\n",
       "      <td>NaN</td>\n",
       "    </tr>\n",
       "    <tr>\n",
       "      <th>272</th>\n",
       "      <td>2023-12-29</td>\n",
       "      <td>11823.97</td>\n",
       "      <td>7861.88</td>\n",
       "      <td>6824.56</td>\n",
       "      <td>14401.3</td>\n",
       "      <td>12323.39</td>\n",
       "      <td>14624.47</td>\n",
       "      <td>1833.94</td>\n",
       "      <td>11581.16</td>\n",
       "      <td>16459.55</td>\n",
       "      <td>...</td>\n",
       "      <td>2381.25</td>\n",
       "      <td>4714.38</td>\n",
       "      <td>3390.89</td>\n",
       "      <td>7211.59</td>\n",
       "      <td>2537.57</td>\n",
       "      <td>3128.33</td>\n",
       "      <td>6488.69</td>\n",
       "      <td>1938.53</td>\n",
       "      <td>572104.814138</td>\n",
       "      <td>NaN</td>\n",
       "    </tr>\n",
       "    <tr>\n",
       "      <th>273</th>\n",
       "      <td>2023-12-30</td>\n",
       "      <td>11923.18</td>\n",
       "      <td>8052.41</td>\n",
       "      <td>7063.87</td>\n",
       "      <td>14739.7</td>\n",
       "      <td>12074.35</td>\n",
       "      <td>15118.93</td>\n",
       "      <td>1967.75</td>\n",
       "      <td>11048.89</td>\n",
       "      <td>16616.74</td>\n",
       "      <td>...</td>\n",
       "      <td>2890.62</td>\n",
       "      <td>5233.52</td>\n",
       "      <td>2992.46</td>\n",
       "      <td>6702.05</td>\n",
       "      <td>2600.94</td>\n",
       "      <td>3069.71</td>\n",
       "      <td>6468.13</td>\n",
       "      <td>1752.29</td>\n",
       "      <td>585843.459244</td>\n",
       "      <td>NaN</td>\n",
       "    </tr>\n",
       "    <tr>\n",
       "      <th>274</th>\n",
       "      <td>2023-12-31</td>\n",
       "      <td>9698.54</td>\n",
       "      <td>6427.78</td>\n",
       "      <td>6281.4</td>\n",
       "      <td>13836.75</td>\n",
       "      <td>11061.82</td>\n",
       "      <td>14926.68</td>\n",
       "      <td>1384.74</td>\n",
       "      <td>10656.89</td>\n",
       "      <td>15858.92</td>\n",
       "      <td>...</td>\n",
       "      <td>1695.38</td>\n",
       "      <td>4884.14</td>\n",
       "      <td>2671.14</td>\n",
       "      <td>6791.42</td>\n",
       "      <td>2849.06</td>\n",
       "      <td>2313.88</td>\n",
       "      <td>6466.37</td>\n",
       "      <td>1397.5</td>\n",
       "      <td>537720.84984</td>\n",
       "      <td>NaN</td>\n",
       "    </tr>\n",
       "  </tbody>\n",
       "</table>\n",
       "<p>275 rows × 87 columns</p>\n",
       "</div>"
      ],
      "text/plain": [
       "          Date Jamalpur Station Jamalpur Amts  Pragatinagar Station  \\\n",
       "0   2023-04-01         10485.08        5954.47               6389.5   \n",
       "1   2023-04-02          7949.78        4046.22              5083.51   \n",
       "2   2023-04-03         10399.14        6736.62              6349.81   \n",
       "3   2023-04-04         10766.83        5844.85              6270.87   \n",
       "4   2023-04-05         10616.97        6577.18              6686.69   \n",
       "..         ...              ...            ...                  ...   \n",
       "270 2023-12-27          9753.09        7897.37              6674.81   \n",
       "271 2023-12-28          9311.79        8167.22              6724.91   \n",
       "272 2023-12-29         11823.97        7861.88              6824.56   \n",
       "273 2023-12-30         11923.18        8052.41              7063.87   \n",
       "274 2023-12-31          9698.54        6427.78               6281.4   \n",
       "\n",
       "    Maninagar Station Memco Station Paldi Station Paldi Amts   \\\n",
       "0            11492.98      11517.52      11557.27     1198.99   \n",
       "1             9231.52       9352.54        9026.1      885.83   \n",
       "2            11539.11       12081.9      11815.25     1577.99   \n",
       "3            11454.52      11740.23      11815.94     1279.73   \n",
       "4            13364.06      12694.16      12510.74      1369.5   \n",
       "..                ...           ...           ...         ...   \n",
       "270          14314.59      11716.02      14292.79      1782.5   \n",
       "271          13966.64      11945.58      14667.29     1917.59   \n",
       "272           14401.3      12323.39      14624.47     1833.94   \n",
       "273           14739.7      12074.35      15118.93     1967.75   \n",
       "274          13836.75      11061.82      14926.68     1384.74   \n",
       "\n",
       "    Sarkhej  Station Gota Station  ... Vinayak Petroleum - IOCL  \\\n",
       "0           12189.48     16840.47  ...                   2279.5   \n",
       "1            8977.69     13244.86  ...                  1587.03   \n",
       "2           11881.09     15618.76  ...                  1915.31   \n",
       "3           11114.76     16438.86  ...                  2128.84   \n",
       "4           14110.06     17764.37  ...                  2142.56   \n",
       "..               ...          ...  ...                      ...   \n",
       "270         11173.44      15523.6  ...                  2636.25   \n",
       "271          10823.1     16055.54  ...                  2209.49   \n",
       "272         11581.16     16459.55  ...                  2381.25   \n",
       "273         11048.89     16616.74  ...                  2890.62   \n",
       "274         10656.89     15858.92  ...                  1695.38   \n",
       "\n",
       "    Radhey Petroleum - BPCL Shree Gokulesh Petroleum - IOCL  \\\n",
       "0                   3503.84                         3720.81   \n",
       "1                    1978.2                         3067.51   \n",
       "2                   2258.49                         3023.93   \n",
       "3                   3228.88                         3641.32   \n",
       "4                   3607.01                         4023.43   \n",
       "..                      ...                             ...   \n",
       "270                 4955.65                         3844.79   \n",
       "271                 4990.76                         3499.73   \n",
       "272                 4714.38                         3390.89   \n",
       "273                 5233.52                         2992.46   \n",
       "274                 4884.14                         2671.14   \n",
       "\n",
       "    B N Gasoline - BPCL Millennium-HPCL SHREEJI AUTO SERVICE-HPCL  \\\n",
       "0               5929.37         2596.84                   3028.97   \n",
       "1               4578.82         2467.13                   2226.45   \n",
       "2               4946.22         2101.97                   2655.22   \n",
       "3                5660.6         2581.75                   2710.97   \n",
       "4               5880.08          1283.6                   2935.93   \n",
       "..                  ...             ...                       ...   \n",
       "270              6555.8         2836.25                   3116.68   \n",
       "271             6032.43         2977.81                   3377.52   \n",
       "272             7211.59         2537.57                   3128.33   \n",
       "273             6702.05         2600.94                   3069.71   \n",
       "274             6791.42         2849.06                   2313.88   \n",
       "\n",
       "    RAVI PETROLEUM-BPCL GUJARAT AUTO (USHMANPURA)- IOCL STATION   \\\n",
       "0               5816.08                                  1780.32   \n",
       "1                4956.7                                  1092.51   \n",
       "2                5854.4                                   1582.6   \n",
       "3               5613.24                                  1540.98   \n",
       "4               4120.45                                  1814.59   \n",
       "..                  ...                                      ...   \n",
       "270             6131.88                                  1940.04   \n",
       "271              6388.5                                  1964.28   \n",
       "272             6488.69                                  1938.53   \n",
       "273             6468.13                                  1752.29   \n",
       "274             6466.37                                   1397.5   \n",
       "\n",
       "               NaN  NaN  \n",
       "0    496690.689924  NaN  \n",
       "1    449019.976491  NaN  \n",
       "2      463311.3997  NaN  \n",
       "3      456306.3432  NaN  \n",
       "4    493338.999138  NaN  \n",
       "..             ...  ...  \n",
       "270  571390.999704  NaN  \n",
       "271  576890.976666  NaN  \n",
       "272  572104.814138  NaN  \n",
       "273  585843.459244  NaN  \n",
       "274   537720.84984  NaN  \n",
       "\n",
       "[275 rows x 87 columns]"
      ]
     },
     "execution_count": 3,
     "metadata": {},
     "output_type": "execute_result"
    }
   ],
   "source": [
    "date_range = pd.date_range(start='2023-04-01', end='2023-12-31', freq='D')\n",
    "date_df = pd.DataFrame({'Date':date_range})\n",
    "gas_df = pd.concat([date_df, gas_df],axis=1)\n",
    "gas_df"
   ]
  },
  {
   "cell_type": "code",
   "execution_count": 4,
   "metadata": {},
   "outputs": [],
   "source": [
    "station_name = 'Alka Automobile-BPCL'"
   ]
  },
  {
   "cell_type": "code",
   "execution_count": 5,
   "metadata": {},
   "outputs": [
    {
     "name": "stderr",
     "output_type": "stream",
     "text": [
      "C:\\Users\\milan\\AppData\\Local\\Temp\\ipykernel_5216\\3120372119.py:2: SettingWithCopyWarning: \n",
      "A value is trying to be set on a copy of a slice from a DataFrame.\n",
      "Try using .loc[row_indexer,col_indexer] = value instead\n",
      "\n",
      "See the caveats in the documentation: https://pandas.pydata.org/pandas-docs/stable/user_guide/indexing.html#returning-a-view-versus-a-copy\n",
      "  gas_df[station_name] = gas_df[station_name].astype('float64')\n",
      "C:\\Users\\milan\\AppData\\Local\\Temp\\ipykernel_5216\\3120372119.py:3: SettingWithCopyWarning: \n",
      "A value is trying to be set on a copy of a slice from a DataFrame\n",
      "\n",
      "See the caveats in the documentation: https://pandas.pydata.org/pandas-docs/stable/user_guide/indexing.html#returning-a-view-versus-a-copy\n",
      "  gas_df.rename(columns={station_name:'Sales'},inplace=True)\n"
     ]
    },
    {
     "data": {
      "text/html": [
       "<div>\n",
       "<style scoped>\n",
       "    .dataframe tbody tr th:only-of-type {\n",
       "        vertical-align: middle;\n",
       "    }\n",
       "\n",
       "    .dataframe tbody tr th {\n",
       "        vertical-align: top;\n",
       "    }\n",
       "\n",
       "    .dataframe thead th {\n",
       "        text-align: right;\n",
       "    }\n",
       "</style>\n",
       "<table border=\"1\" class=\"dataframe\">\n",
       "  <thead>\n",
       "    <tr style=\"text-align: right;\">\n",
       "      <th></th>\n",
       "      <th>Date</th>\n",
       "      <th>Sales</th>\n",
       "    </tr>\n",
       "  </thead>\n",
       "  <tbody>\n",
       "    <tr>\n",
       "      <th>0</th>\n",
       "      <td>2023-04-01</td>\n",
       "      <td>5337.19</td>\n",
       "    </tr>\n",
       "    <tr>\n",
       "      <th>1</th>\n",
       "      <td>2023-04-02</td>\n",
       "      <td>4589.69</td>\n",
       "    </tr>\n",
       "    <tr>\n",
       "      <th>2</th>\n",
       "      <td>2023-04-03</td>\n",
       "      <td>4531.31</td>\n",
       "    </tr>\n",
       "    <tr>\n",
       "      <th>3</th>\n",
       "      <td>2023-04-04</td>\n",
       "      <td>4824.50</td>\n",
       "    </tr>\n",
       "    <tr>\n",
       "      <th>4</th>\n",
       "      <td>2023-04-05</td>\n",
       "      <td>5100.88</td>\n",
       "    </tr>\n",
       "    <tr>\n",
       "      <th>...</th>\n",
       "      <td>...</td>\n",
       "      <td>...</td>\n",
       "    </tr>\n",
       "    <tr>\n",
       "      <th>270</th>\n",
       "      <td>2023-12-27</td>\n",
       "      <td>5127.51</td>\n",
       "    </tr>\n",
       "    <tr>\n",
       "      <th>271</th>\n",
       "      <td>2023-12-28</td>\n",
       "      <td>5168.99</td>\n",
       "    </tr>\n",
       "    <tr>\n",
       "      <th>272</th>\n",
       "      <td>2023-12-29</td>\n",
       "      <td>4879.63</td>\n",
       "    </tr>\n",
       "    <tr>\n",
       "      <th>273</th>\n",
       "      <td>2023-12-30</td>\n",
       "      <td>5376.76</td>\n",
       "    </tr>\n",
       "    <tr>\n",
       "      <th>274</th>\n",
       "      <td>2023-12-31</td>\n",
       "      <td>5087.74</td>\n",
       "    </tr>\n",
       "  </tbody>\n",
       "</table>\n",
       "<p>275 rows × 2 columns</p>\n",
       "</div>"
      ],
      "text/plain": [
       "          Date    Sales\n",
       "0   2023-04-01  5337.19\n",
       "1   2023-04-02  4589.69\n",
       "2   2023-04-03  4531.31\n",
       "3   2023-04-04  4824.50\n",
       "4   2023-04-05  5100.88\n",
       "..         ...      ...\n",
       "270 2023-12-27  5127.51\n",
       "271 2023-12-28  5168.99\n",
       "272 2023-12-29  4879.63\n",
       "273 2023-12-30  5376.76\n",
       "274 2023-12-31  5087.74\n",
       "\n",
       "[275 rows x 2 columns]"
      ]
     },
     "execution_count": 5,
     "metadata": {},
     "output_type": "execute_result"
    }
   ],
   "source": [
    "gas_df = gas_df[['Date',station_name]]\n",
    "gas_df[station_name] = gas_df[station_name].astype('float64')\n",
    "gas_df.rename(columns={station_name:'Sales'},inplace=True)\n",
    "gas_df"
   ]
  },
  {
   "cell_type": "code",
   "execution_count": 6,
   "metadata": {},
   "outputs": [
    {
     "name": "stderr",
     "output_type": "stream",
     "text": [
      "C:\\Users\\milan\\AppData\\Local\\Temp\\ipykernel_5216\\371503532.py:5: SettingWithCopyWarning: \n",
      "A value is trying to be set on a copy of a slice from a DataFrame.\n",
      "Try using .loc[row_indexer,col_indexer] = value instead\n",
      "\n",
      "See the caveats in the documentation: https://pandas.pydata.org/pandas-docs/stable/user_guide/indexing.html#returning-a-view-versus-a-copy\n",
      "  gas_df['Day'] = gas_df['Date'].dt.day\n",
      "C:\\Users\\milan\\AppData\\Local\\Temp\\ipykernel_5216\\371503532.py:6: SettingWithCopyWarning: \n",
      "A value is trying to be set on a copy of a slice from a DataFrame.\n",
      "Try using .loc[row_indexer,col_indexer] = value instead\n",
      "\n",
      "See the caveats in the documentation: https://pandas.pydata.org/pandas-docs/stable/user_guide/indexing.html#returning-a-view-versus-a-copy\n",
      "  gas_df['Weekday'] = gas_df['Date'].dt.weekday\n",
      "C:\\Users\\milan\\AppData\\Local\\Temp\\ipykernel_5216\\371503532.py:7: SettingWithCopyWarning: \n",
      "A value is trying to be set on a copy of a slice from a DataFrame.\n",
      "Try using .loc[row_indexer,col_indexer] = value instead\n",
      "\n",
      "See the caveats in the documentation: https://pandas.pydata.org/pandas-docs/stable/user_guide/indexing.html#returning-a-view-versus-a-copy\n",
      "  gas_df['Month'] = gas_df['Date'].dt.month\n",
      "C:\\Users\\milan\\AppData\\Local\\Temp\\ipykernel_5216\\371503532.py:8: SettingWithCopyWarning: \n",
      "A value is trying to be set on a copy of a slice from a DataFrame.\n",
      "Try using .loc[row_indexer,col_indexer] = value instead\n",
      "\n",
      "See the caveats in the documentation: https://pandas.pydata.org/pandas-docs/stable/user_guide/indexing.html#returning-a-view-versus-a-copy\n",
      "  gas_df['Year'] = gas_df['Date'].dt.year\n",
      "C:\\Users\\milan\\AppData\\Local\\Temp\\ipykernel_5216\\371503532.py:9: SettingWithCopyWarning: \n",
      "A value is trying to be set on a copy of a slice from a DataFrame.\n",
      "Try using .loc[row_indexer,col_indexer] = value instead\n",
      "\n",
      "See the caveats in the documentation: https://pandas.pydata.org/pandas-docs/stable/user_guide/indexing.html#returning-a-view-versus-a-copy\n",
      "  gas_df['DayOfYear'] = gas_df['Date'].dt.dayofyear\n",
      "C:\\Users\\milan\\AppData\\Local\\Temp\\ipykernel_5216\\371503532.py:10: SettingWithCopyWarning: \n",
      "A value is trying to be set on a copy of a slice from a DataFrame.\n",
      "Try using .loc[row_indexer,col_indexer] = value instead\n",
      "\n",
      "See the caveats in the documentation: https://pandas.pydata.org/pandas-docs/stable/user_guide/indexing.html#returning-a-view-versus-a-copy\n",
      "  gas_df['IsWeekend'] = (gas_df['Weekday'] >= 5).astype(int)\n",
      "C:\\Users\\milan\\AppData\\Local\\Temp\\ipykernel_5216\\371503532.py:11: SettingWithCopyWarning: \n",
      "A value is trying to be set on a copy of a slice from a DataFrame.\n",
      "Try using .loc[row_indexer,col_indexer] = value instead\n",
      "\n",
      "See the caveats in the documentation: https://pandas.pydata.org/pandas-docs/stable/user_guide/indexing.html#returning-a-view-versus-a-copy\n",
      "  gas_df['DaysInMonth'] = gas_df.apply(days_in_month, axis=1)\n"
     ]
    },
    {
     "data": {
      "text/html": [
       "<div>\n",
       "<style scoped>\n",
       "    .dataframe tbody tr th:only-of-type {\n",
       "        vertical-align: middle;\n",
       "    }\n",
       "\n",
       "    .dataframe tbody tr th {\n",
       "        vertical-align: top;\n",
       "    }\n",
       "\n",
       "    .dataframe thead th {\n",
       "        text-align: right;\n",
       "    }\n",
       "</style>\n",
       "<table border=\"1\" class=\"dataframe\">\n",
       "  <thead>\n",
       "    <tr style=\"text-align: right;\">\n",
       "      <th></th>\n",
       "      <th>Date</th>\n",
       "      <th>Sales</th>\n",
       "      <th>Day</th>\n",
       "      <th>Weekday</th>\n",
       "      <th>Month</th>\n",
       "      <th>Year</th>\n",
       "      <th>DayOfYear</th>\n",
       "      <th>IsWeekend</th>\n",
       "      <th>DaysInMonth</th>\n",
       "    </tr>\n",
       "  </thead>\n",
       "  <tbody>\n",
       "    <tr>\n",
       "      <th>0</th>\n",
       "      <td>2023-04-01</td>\n",
       "      <td>5337.19</td>\n",
       "      <td>1</td>\n",
       "      <td>5</td>\n",
       "      <td>4</td>\n",
       "      <td>2023</td>\n",
       "      <td>91</td>\n",
       "      <td>1</td>\n",
       "      <td>30</td>\n",
       "    </tr>\n",
       "    <tr>\n",
       "      <th>1</th>\n",
       "      <td>2023-04-02</td>\n",
       "      <td>4589.69</td>\n",
       "      <td>2</td>\n",
       "      <td>6</td>\n",
       "      <td>4</td>\n",
       "      <td>2023</td>\n",
       "      <td>92</td>\n",
       "      <td>1</td>\n",
       "      <td>30</td>\n",
       "    </tr>\n",
       "    <tr>\n",
       "      <th>2</th>\n",
       "      <td>2023-04-03</td>\n",
       "      <td>4531.31</td>\n",
       "      <td>3</td>\n",
       "      <td>0</td>\n",
       "      <td>4</td>\n",
       "      <td>2023</td>\n",
       "      <td>93</td>\n",
       "      <td>0</td>\n",
       "      <td>30</td>\n",
       "    </tr>\n",
       "    <tr>\n",
       "      <th>3</th>\n",
       "      <td>2023-04-04</td>\n",
       "      <td>4824.50</td>\n",
       "      <td>4</td>\n",
       "      <td>1</td>\n",
       "      <td>4</td>\n",
       "      <td>2023</td>\n",
       "      <td>94</td>\n",
       "      <td>0</td>\n",
       "      <td>30</td>\n",
       "    </tr>\n",
       "    <tr>\n",
       "      <th>4</th>\n",
       "      <td>2023-04-05</td>\n",
       "      <td>5100.88</td>\n",
       "      <td>5</td>\n",
       "      <td>2</td>\n",
       "      <td>4</td>\n",
       "      <td>2023</td>\n",
       "      <td>95</td>\n",
       "      <td>0</td>\n",
       "      <td>30</td>\n",
       "    </tr>\n",
       "    <tr>\n",
       "      <th>...</th>\n",
       "      <td>...</td>\n",
       "      <td>...</td>\n",
       "      <td>...</td>\n",
       "      <td>...</td>\n",
       "      <td>...</td>\n",
       "      <td>...</td>\n",
       "      <td>...</td>\n",
       "      <td>...</td>\n",
       "      <td>...</td>\n",
       "    </tr>\n",
       "    <tr>\n",
       "      <th>270</th>\n",
       "      <td>2023-12-27</td>\n",
       "      <td>5127.51</td>\n",
       "      <td>27</td>\n",
       "      <td>2</td>\n",
       "      <td>12</td>\n",
       "      <td>2023</td>\n",
       "      <td>361</td>\n",
       "      <td>0</td>\n",
       "      <td>31</td>\n",
       "    </tr>\n",
       "    <tr>\n",
       "      <th>271</th>\n",
       "      <td>2023-12-28</td>\n",
       "      <td>5168.99</td>\n",
       "      <td>28</td>\n",
       "      <td>3</td>\n",
       "      <td>12</td>\n",
       "      <td>2023</td>\n",
       "      <td>362</td>\n",
       "      <td>0</td>\n",
       "      <td>31</td>\n",
       "    </tr>\n",
       "    <tr>\n",
       "      <th>272</th>\n",
       "      <td>2023-12-29</td>\n",
       "      <td>4879.63</td>\n",
       "      <td>29</td>\n",
       "      <td>4</td>\n",
       "      <td>12</td>\n",
       "      <td>2023</td>\n",
       "      <td>363</td>\n",
       "      <td>0</td>\n",
       "      <td>31</td>\n",
       "    </tr>\n",
       "    <tr>\n",
       "      <th>273</th>\n",
       "      <td>2023-12-30</td>\n",
       "      <td>5376.76</td>\n",
       "      <td>30</td>\n",
       "      <td>5</td>\n",
       "      <td>12</td>\n",
       "      <td>2023</td>\n",
       "      <td>364</td>\n",
       "      <td>1</td>\n",
       "      <td>31</td>\n",
       "    </tr>\n",
       "    <tr>\n",
       "      <th>274</th>\n",
       "      <td>2023-12-31</td>\n",
       "      <td>5087.74</td>\n",
       "      <td>31</td>\n",
       "      <td>6</td>\n",
       "      <td>12</td>\n",
       "      <td>2023</td>\n",
       "      <td>365</td>\n",
       "      <td>1</td>\n",
       "      <td>31</td>\n",
       "    </tr>\n",
       "  </tbody>\n",
       "</table>\n",
       "<p>275 rows × 9 columns</p>\n",
       "</div>"
      ],
      "text/plain": [
       "          Date    Sales  Day  Weekday  Month  Year  DayOfYear  IsWeekend  \\\n",
       "0   2023-04-01  5337.19    1        5      4  2023         91          1   \n",
       "1   2023-04-02  4589.69    2        6      4  2023         92          1   \n",
       "2   2023-04-03  4531.31    3        0      4  2023         93          0   \n",
       "3   2023-04-04  4824.50    4        1      4  2023         94          0   \n",
       "4   2023-04-05  5100.88    5        2      4  2023         95          0   \n",
       "..         ...      ...  ...      ...    ...   ...        ...        ...   \n",
       "270 2023-12-27  5127.51   27        2     12  2023        361          0   \n",
       "271 2023-12-28  5168.99   28        3     12  2023        362          0   \n",
       "272 2023-12-29  4879.63   29        4     12  2023        363          0   \n",
       "273 2023-12-30  5376.76   30        5     12  2023        364          1   \n",
       "274 2023-12-31  5087.74   31        6     12  2023        365          1   \n",
       "\n",
       "     DaysInMonth  \n",
       "0             30  \n",
       "1             30  \n",
       "2             30  \n",
       "3             30  \n",
       "4             30  \n",
       "..           ...  \n",
       "270           31  \n",
       "271           31  \n",
       "272           31  \n",
       "273           31  \n",
       "274           31  \n",
       "\n",
       "[275 rows x 9 columns]"
      ]
     },
     "execution_count": 6,
     "metadata": {},
     "output_type": "execute_result"
    }
   ],
   "source": [
    "import calendar\n",
    "def days_in_month(row):\n",
    "    return calendar.monthrange(row['Year'], row['Month'])[1]\n",
    "\n",
    "gas_df['Day'] = gas_df['Date'].dt.day\n",
    "gas_df['Weekday'] = gas_df['Date'].dt.weekday\n",
    "gas_df['Month'] = gas_df['Date'].dt.month\n",
    "gas_df['Year'] = gas_df['Date'].dt.year\n",
    "gas_df['DayOfYear'] = gas_df['Date'].dt.dayofyear\n",
    "gas_df['IsWeekend'] = (gas_df['Weekday'] >= 5).astype(int)\n",
    "gas_df['DaysInMonth'] = gas_df.apply(days_in_month, axis=1)\n",
    "gas_df\n"
   ]
  },
  {
   "cell_type": "code",
   "execution_count": 7,
   "metadata": {},
   "outputs": [
    {
     "name": "stderr",
     "output_type": "stream",
     "text": [
      "C:\\Users\\milan\\AppData\\Local\\Temp\\ipykernel_5216\\2563571466.py:3: SettingWithCopyWarning: \n",
      "A value is trying to be set on a copy of a slice from a DataFrame.\n",
      "Try using .loc[row_indexer,col_indexer] = value instead\n",
      "\n",
      "See the caveats in the documentation: https://pandas.pydata.org/pandas-docs/stable/user_guide/indexing.html#returning-a-view-versus-a-copy\n",
      "  gas_df['Day_sin'] = np.sin(2 * np.pi * gas_df['Day'] / gas_df['DaysInMonth'])\n",
      "C:\\Users\\milan\\AppData\\Local\\Temp\\ipykernel_5216\\2563571466.py:4: SettingWithCopyWarning: \n",
      "A value is trying to be set on a copy of a slice from a DataFrame.\n",
      "Try using .loc[row_indexer,col_indexer] = value instead\n",
      "\n",
      "See the caveats in the documentation: https://pandas.pydata.org/pandas-docs/stable/user_guide/indexing.html#returning-a-view-versus-a-copy\n",
      "  gas_df['Day_cos'] = np.cos(2 * np.pi * gas_df['Day'] / gas_df['DaysInMonth'])\n",
      "C:\\Users\\milan\\AppData\\Local\\Temp\\ipykernel_5216\\2563571466.py:6: SettingWithCopyWarning: \n",
      "A value is trying to be set on a copy of a slice from a DataFrame.\n",
      "Try using .loc[row_indexer,col_indexer] = value instead\n",
      "\n",
      "See the caveats in the documentation: https://pandas.pydata.org/pandas-docs/stable/user_guide/indexing.html#returning-a-view-versus-a-copy\n",
      "  gas_df['Month_sin'] = np.sin(2 * np.pi * gas_df['Month'] / 12)\n",
      "C:\\Users\\milan\\AppData\\Local\\Temp\\ipykernel_5216\\2563571466.py:7: SettingWithCopyWarning: \n",
      "A value is trying to be set on a copy of a slice from a DataFrame.\n",
      "Try using .loc[row_indexer,col_indexer] = value instead\n",
      "\n",
      "See the caveats in the documentation: https://pandas.pydata.org/pandas-docs/stable/user_guide/indexing.html#returning-a-view-versus-a-copy\n",
      "  gas_df['Month_cos'] = np.cos(2 * np.pi * gas_df['Month'] / 12)\n",
      "C:\\Users\\milan\\AppData\\Local\\Temp\\ipykernel_5216\\2563571466.py:9: SettingWithCopyWarning: \n",
      "A value is trying to be set on a copy of a slice from a DataFrame.\n",
      "Try using .loc[row_indexer,col_indexer] = value instead\n",
      "\n",
      "See the caveats in the documentation: https://pandas.pydata.org/pandas-docs/stable/user_guide/indexing.html#returning-a-view-versus-a-copy\n",
      "  gas_df['Weekday_sin'] = np.sin(2 * np.pi * gas_df['Weekday'] / 7)\n",
      "C:\\Users\\milan\\AppData\\Local\\Temp\\ipykernel_5216\\2563571466.py:10: SettingWithCopyWarning: \n",
      "A value is trying to be set on a copy of a slice from a DataFrame.\n",
      "Try using .loc[row_indexer,col_indexer] = value instead\n",
      "\n",
      "See the caveats in the documentation: https://pandas.pydata.org/pandas-docs/stable/user_guide/indexing.html#returning-a-view-versus-a-copy\n",
      "  gas_df['Weekday_cos'] = np.cos(2 * np.pi * gas_df['Weekday'] / 7)\n",
      "C:\\Users\\milan\\AppData\\Local\\Temp\\ipykernel_5216\\2563571466.py:12: SettingWithCopyWarning: \n",
      "A value is trying to be set on a copy of a slice from a DataFrame.\n",
      "Try using .loc[row_indexer,col_indexer] = value instead\n",
      "\n",
      "See the caveats in the documentation: https://pandas.pydata.org/pandas-docs/stable/user_guide/indexing.html#returning-a-view-versus-a-copy\n",
      "  gas_df['DayOfYear_sin'] = np.sin(2 * np.pi * gas_df['DayOfYear'] / 365)\n",
      "C:\\Users\\milan\\AppData\\Local\\Temp\\ipykernel_5216\\2563571466.py:13: SettingWithCopyWarning: \n",
      "A value is trying to be set on a copy of a slice from a DataFrame.\n",
      "Try using .loc[row_indexer,col_indexer] = value instead\n",
      "\n",
      "See the caveats in the documentation: https://pandas.pydata.org/pandas-docs/stable/user_guide/indexing.html#returning-a-view-versus-a-copy\n",
      "  gas_df['DayOfYear_cos'] = np.cos(2 * np.pi * gas_df['DayOfYear'] / 365)\n"
     ]
    },
    {
     "data": {
      "text/html": [
       "<div>\n",
       "<style scoped>\n",
       "    .dataframe tbody tr th:only-of-type {\n",
       "        vertical-align: middle;\n",
       "    }\n",
       "\n",
       "    .dataframe tbody tr th {\n",
       "        vertical-align: top;\n",
       "    }\n",
       "\n",
       "    .dataframe thead th {\n",
       "        text-align: right;\n",
       "    }\n",
       "</style>\n",
       "<table border=\"1\" class=\"dataframe\">\n",
       "  <thead>\n",
       "    <tr style=\"text-align: right;\">\n",
       "      <th></th>\n",
       "      <th>Date</th>\n",
       "      <th>Sales</th>\n",
       "      <th>IsWeekend</th>\n",
       "      <th>Day_sin</th>\n",
       "      <th>Day_cos</th>\n",
       "      <th>Month_sin</th>\n",
       "      <th>Month_cos</th>\n",
       "      <th>Weekday_sin</th>\n",
       "      <th>Weekday_cos</th>\n",
       "      <th>DayOfYear_sin</th>\n",
       "      <th>DayOfYear_cos</th>\n",
       "    </tr>\n",
       "  </thead>\n",
       "  <tbody>\n",
       "    <tr>\n",
       "      <th>0</th>\n",
       "      <td>2023-04-01</td>\n",
       "      <td>5337.19</td>\n",
       "      <td>1</td>\n",
       "      <td>2.079117e-01</td>\n",
       "      <td>0.978148</td>\n",
       "      <td>8.660254e-01</td>\n",
       "      <td>-0.5</td>\n",
       "      <td>-0.974928</td>\n",
       "      <td>-0.222521</td>\n",
       "      <td>9.999907e-01</td>\n",
       "      <td>0.004304</td>\n",
       "    </tr>\n",
       "    <tr>\n",
       "      <th>1</th>\n",
       "      <td>2023-04-02</td>\n",
       "      <td>4589.69</td>\n",
       "      <td>1</td>\n",
       "      <td>4.067366e-01</td>\n",
       "      <td>0.913545</td>\n",
       "      <td>8.660254e-01</td>\n",
       "      <td>-0.5</td>\n",
       "      <td>-0.781831</td>\n",
       "      <td>0.623490</td>\n",
       "      <td>9.999167e-01</td>\n",
       "      <td>-0.012910</td>\n",
       "    </tr>\n",
       "    <tr>\n",
       "      <th>2</th>\n",
       "      <td>2023-04-03</td>\n",
       "      <td>4531.31</td>\n",
       "      <td>0</td>\n",
       "      <td>5.877853e-01</td>\n",
       "      <td>0.809017</td>\n",
       "      <td>8.660254e-01</td>\n",
       "      <td>-0.5</td>\n",
       "      <td>0.000000</td>\n",
       "      <td>1.000000</td>\n",
       "      <td>9.995463e-01</td>\n",
       "      <td>-0.030120</td>\n",
       "    </tr>\n",
       "    <tr>\n",
       "      <th>3</th>\n",
       "      <td>2023-04-04</td>\n",
       "      <td>4824.50</td>\n",
       "      <td>0</td>\n",
       "      <td>7.431448e-01</td>\n",
       "      <td>0.669131</td>\n",
       "      <td>8.660254e-01</td>\n",
       "      <td>-0.5</td>\n",
       "      <td>0.781831</td>\n",
       "      <td>0.623490</td>\n",
       "      <td>9.988797e-01</td>\n",
       "      <td>-0.047321</td>\n",
       "    </tr>\n",
       "    <tr>\n",
       "      <th>4</th>\n",
       "      <td>2023-04-05</td>\n",
       "      <td>5100.88</td>\n",
       "      <td>0</td>\n",
       "      <td>8.660254e-01</td>\n",
       "      <td>0.500000</td>\n",
       "      <td>8.660254e-01</td>\n",
       "      <td>-0.5</td>\n",
       "      <td>0.974928</td>\n",
       "      <td>-0.222521</td>\n",
       "      <td>9.979172e-01</td>\n",
       "      <td>-0.064508</td>\n",
       "    </tr>\n",
       "    <tr>\n",
       "      <th>...</th>\n",
       "      <td>...</td>\n",
       "      <td>...</td>\n",
       "      <td>...</td>\n",
       "      <td>...</td>\n",
       "      <td>...</td>\n",
       "      <td>...</td>\n",
       "      <td>...</td>\n",
       "      <td>...</td>\n",
       "      <td>...</td>\n",
       "      <td>...</td>\n",
       "      <td>...</td>\n",
       "    </tr>\n",
       "    <tr>\n",
       "      <th>270</th>\n",
       "      <td>2023-12-27</td>\n",
       "      <td>5127.51</td>\n",
       "      <td>0</td>\n",
       "      <td>-7.247928e-01</td>\n",
       "      <td>0.688967</td>\n",
       "      <td>-2.449294e-16</td>\n",
       "      <td>1.0</td>\n",
       "      <td>0.974928</td>\n",
       "      <td>-0.222521</td>\n",
       "      <td>-6.880243e-02</td>\n",
       "      <td>0.997630</td>\n",
       "    </tr>\n",
       "    <tr>\n",
       "      <th>271</th>\n",
       "      <td>2023-12-28</td>\n",
       "      <td>5168.99</td>\n",
       "      <td>0</td>\n",
       "      <td>-5.712682e-01</td>\n",
       "      <td>0.820763</td>\n",
       "      <td>-2.449294e-16</td>\n",
       "      <td>1.0</td>\n",
       "      <td>0.433884</td>\n",
       "      <td>-0.900969</td>\n",
       "      <td>-5.161967e-02</td>\n",
       "      <td>0.998667</td>\n",
       "    </tr>\n",
       "    <tr>\n",
       "      <th>272</th>\n",
       "      <td>2023-12-29</td>\n",
       "      <td>4879.63</td>\n",
       "      <td>0</td>\n",
       "      <td>-3.943559e-01</td>\n",
       "      <td>0.918958</td>\n",
       "      <td>-2.449294e-16</td>\n",
       "      <td>1.0</td>\n",
       "      <td>-0.433884</td>\n",
       "      <td>-0.900969</td>\n",
       "      <td>-3.442161e-02</td>\n",
       "      <td>0.999407</td>\n",
       "    </tr>\n",
       "    <tr>\n",
       "      <th>273</th>\n",
       "      <td>2023-12-30</td>\n",
       "      <td>5376.76</td>\n",
       "      <td>1</td>\n",
       "      <td>-2.012985e-01</td>\n",
       "      <td>0.979530</td>\n",
       "      <td>-2.449294e-16</td>\n",
       "      <td>1.0</td>\n",
       "      <td>-0.974928</td>\n",
       "      <td>-0.222521</td>\n",
       "      <td>-1.721336e-02</td>\n",
       "      <td>0.999852</td>\n",
       "    </tr>\n",
       "    <tr>\n",
       "      <th>274</th>\n",
       "      <td>2023-12-31</td>\n",
       "      <td>5087.74</td>\n",
       "      <td>1</td>\n",
       "      <td>-2.449294e-16</td>\n",
       "      <td>1.000000</td>\n",
       "      <td>-2.449294e-16</td>\n",
       "      <td>1.0</td>\n",
       "      <td>-0.781831</td>\n",
       "      <td>0.623490</td>\n",
       "      <td>6.432491e-16</td>\n",
       "      <td>1.000000</td>\n",
       "    </tr>\n",
       "  </tbody>\n",
       "</table>\n",
       "<p>275 rows × 11 columns</p>\n",
       "</div>"
      ],
      "text/plain": [
       "          Date    Sales  IsWeekend       Day_sin   Day_cos     Month_sin  \\\n",
       "0   2023-04-01  5337.19          1  2.079117e-01  0.978148  8.660254e-01   \n",
       "1   2023-04-02  4589.69          1  4.067366e-01  0.913545  8.660254e-01   \n",
       "2   2023-04-03  4531.31          0  5.877853e-01  0.809017  8.660254e-01   \n",
       "3   2023-04-04  4824.50          0  7.431448e-01  0.669131  8.660254e-01   \n",
       "4   2023-04-05  5100.88          0  8.660254e-01  0.500000  8.660254e-01   \n",
       "..         ...      ...        ...           ...       ...           ...   \n",
       "270 2023-12-27  5127.51          0 -7.247928e-01  0.688967 -2.449294e-16   \n",
       "271 2023-12-28  5168.99          0 -5.712682e-01  0.820763 -2.449294e-16   \n",
       "272 2023-12-29  4879.63          0 -3.943559e-01  0.918958 -2.449294e-16   \n",
       "273 2023-12-30  5376.76          1 -2.012985e-01  0.979530 -2.449294e-16   \n",
       "274 2023-12-31  5087.74          1 -2.449294e-16  1.000000 -2.449294e-16   \n",
       "\n",
       "     Month_cos  Weekday_sin  Weekday_cos  DayOfYear_sin  DayOfYear_cos  \n",
       "0         -0.5    -0.974928    -0.222521   9.999907e-01       0.004304  \n",
       "1         -0.5    -0.781831     0.623490   9.999167e-01      -0.012910  \n",
       "2         -0.5     0.000000     1.000000   9.995463e-01      -0.030120  \n",
       "3         -0.5     0.781831     0.623490   9.988797e-01      -0.047321  \n",
       "4         -0.5     0.974928    -0.222521   9.979172e-01      -0.064508  \n",
       "..         ...          ...          ...            ...            ...  \n",
       "270        1.0     0.974928    -0.222521  -6.880243e-02       0.997630  \n",
       "271        1.0     0.433884    -0.900969  -5.161967e-02       0.998667  \n",
       "272        1.0    -0.433884    -0.900969  -3.442161e-02       0.999407  \n",
       "273        1.0    -0.974928    -0.222521  -1.721336e-02       0.999852  \n",
       "274        1.0    -0.781831     0.623490   6.432491e-16       1.000000  \n",
       "\n",
       "[275 rows x 11 columns]"
      ]
     },
     "execution_count": 7,
     "metadata": {},
     "output_type": "execute_result"
    }
   ],
   "source": [
    "import numpy as np\n",
    "# Apply Cyclical Encoding\n",
    "gas_df['Day_sin'] = np.sin(2 * np.pi * gas_df['Day'] / gas_df['DaysInMonth'])\n",
    "gas_df['Day_cos'] = np.cos(2 * np.pi * gas_df['Day'] / gas_df['DaysInMonth'])\n",
    "\n",
    "gas_df['Month_sin'] = np.sin(2 * np.pi * gas_df['Month'] / 12)\n",
    "gas_df['Month_cos'] = np.cos(2 * np.pi * gas_df['Month'] / 12)\n",
    "\n",
    "gas_df['Weekday_sin'] = np.sin(2 * np.pi * gas_df['Weekday'] / 7)\n",
    "gas_df['Weekday_cos'] = np.cos(2 * np.pi * gas_df['Weekday'] / 7)\n",
    "\n",
    "gas_df['DayOfYear_sin'] = np.sin(2 * np.pi * gas_df['DayOfYear'] / 365)\n",
    "gas_df['DayOfYear_cos'] = np.cos(2 * np.pi * gas_df['DayOfYear'] / 365)\n",
    "\n",
    "# Drop raw columns if necessary\n",
    "gas_df = gas_df.drop(columns=['Weekday', 'Month', 'DayOfYear', 'DaysInMonth','Day','Year'])\n",
    "gas_df"
   ]
  },
  {
   "cell_type": "code",
   "execution_count": 8,
   "metadata": {},
   "outputs": [
    {
     "data": {
      "text/html": [
       "<div>\n",
       "<style scoped>\n",
       "    .dataframe tbody tr th:only-of-type {\n",
       "        vertical-align: middle;\n",
       "    }\n",
       "\n",
       "    .dataframe tbody tr th {\n",
       "        vertical-align: top;\n",
       "    }\n",
       "\n",
       "    .dataframe thead th {\n",
       "        text-align: right;\n",
       "    }\n",
       "</style>\n",
       "<table border=\"1\" class=\"dataframe\">\n",
       "  <thead>\n",
       "    <tr style=\"text-align: right;\">\n",
       "      <th></th>\n",
       "      <th>Date</th>\n",
       "      <th>Sales</th>\n",
       "      <th>IsWeekend</th>\n",
       "      <th>Day_sin</th>\n",
       "      <th>Day_cos</th>\n",
       "      <th>Month_sin</th>\n",
       "      <th>Month_cos</th>\n",
       "      <th>Weekday_sin</th>\n",
       "      <th>Weekday_cos</th>\n",
       "      <th>DayOfYear_sin</th>\n",
       "      <th>DayOfYear_cos</th>\n",
       "      <th>Sales_MA_7</th>\n",
       "    </tr>\n",
       "  </thead>\n",
       "  <tbody>\n",
       "    <tr>\n",
       "      <th>0</th>\n",
       "      <td>2023-04-08</td>\n",
       "      <td>5652.45</td>\n",
       "      <td>1</td>\n",
       "      <td>9.945219e-01</td>\n",
       "      <td>-0.104528</td>\n",
       "      <td>8.660254e-01</td>\n",
       "      <td>-0.5</td>\n",
       "      <td>-0.974928</td>\n",
       "      <td>-0.222521</td>\n",
       "      <td>9.932568e-01</td>\n",
       "      <td>-0.115935</td>\n",
       "      <td>4730.410000</td>\n",
       "    </tr>\n",
       "    <tr>\n",
       "      <th>1</th>\n",
       "      <td>2023-04-09</td>\n",
       "      <td>4677.92</td>\n",
       "      <td>1</td>\n",
       "      <td>9.510565e-01</td>\n",
       "      <td>-0.309017</td>\n",
       "      <td>8.660254e-01</td>\n",
       "      <td>-0.5</td>\n",
       "      <td>-0.781831</td>\n",
       "      <td>0.623490</td>\n",
       "      <td>9.911141e-01</td>\n",
       "      <td>-0.133015</td>\n",
       "      <td>4775.447143</td>\n",
       "    </tr>\n",
       "    <tr>\n",
       "      <th>2</th>\n",
       "      <td>2023-04-10</td>\n",
       "      <td>5278.82</td>\n",
       "      <td>0</td>\n",
       "      <td>8.660254e-01</td>\n",
       "      <td>-0.500000</td>\n",
       "      <td>8.660254e-01</td>\n",
       "      <td>-0.5</td>\n",
       "      <td>0.000000</td>\n",
       "      <td>1.000000</td>\n",
       "      <td>9.886776e-01</td>\n",
       "      <td>-0.150055</td>\n",
       "      <td>4788.051429</td>\n",
       "    </tr>\n",
       "    <tr>\n",
       "      <th>3</th>\n",
       "      <td>2023-04-11</td>\n",
       "      <td>4849.26</td>\n",
       "      <td>0</td>\n",
       "      <td>7.431448e-01</td>\n",
       "      <td>-0.669131</td>\n",
       "      <td>8.660254e-01</td>\n",
       "      <td>-0.5</td>\n",
       "      <td>0.781831</td>\n",
       "      <td>0.623490</td>\n",
       "      <td>9.859481e-01</td>\n",
       "      <td>-0.167052</td>\n",
       "      <td>4894.838571</td>\n",
       "    </tr>\n",
       "    <tr>\n",
       "      <th>4</th>\n",
       "      <td>2023-04-12</td>\n",
       "      <td>4798.30</td>\n",
       "      <td>0</td>\n",
       "      <td>5.877853e-01</td>\n",
       "      <td>-0.809017</td>\n",
       "      <td>8.660254e-01</td>\n",
       "      <td>-0.5</td>\n",
       "      <td>0.974928</td>\n",
       "      <td>-0.222521</td>\n",
       "      <td>9.829266e-01</td>\n",
       "      <td>-0.183998</td>\n",
       "      <td>4898.375714</td>\n",
       "    </tr>\n",
       "    <tr>\n",
       "      <th>...</th>\n",
       "      <td>...</td>\n",
       "      <td>...</td>\n",
       "      <td>...</td>\n",
       "      <td>...</td>\n",
       "      <td>...</td>\n",
       "      <td>...</td>\n",
       "      <td>...</td>\n",
       "      <td>...</td>\n",
       "      <td>...</td>\n",
       "      <td>...</td>\n",
       "      <td>...</td>\n",
       "      <td>...</td>\n",
       "    </tr>\n",
       "    <tr>\n",
       "      <th>263</th>\n",
       "      <td>2023-12-27</td>\n",
       "      <td>5127.51</td>\n",
       "      <td>0</td>\n",
       "      <td>-7.247928e-01</td>\n",
       "      <td>0.688967</td>\n",
       "      <td>-2.449294e-16</td>\n",
       "      <td>1.0</td>\n",
       "      <td>0.974928</td>\n",
       "      <td>-0.222521</td>\n",
       "      <td>-6.880243e-02</td>\n",
       "      <td>0.997630</td>\n",
       "      <td>5009.910000</td>\n",
       "    </tr>\n",
       "    <tr>\n",
       "      <th>264</th>\n",
       "      <td>2023-12-28</td>\n",
       "      <td>5168.99</td>\n",
       "      <td>0</td>\n",
       "      <td>-5.712682e-01</td>\n",
       "      <td>0.820763</td>\n",
       "      <td>-2.449294e-16</td>\n",
       "      <td>1.0</td>\n",
       "      <td>0.433884</td>\n",
       "      <td>-0.900969</td>\n",
       "      <td>-5.161967e-02</td>\n",
       "      <td>0.998667</td>\n",
       "      <td>5023.518571</td>\n",
       "    </tr>\n",
       "    <tr>\n",
       "      <th>265</th>\n",
       "      <td>2023-12-29</td>\n",
       "      <td>4879.63</td>\n",
       "      <td>0</td>\n",
       "      <td>-3.943559e-01</td>\n",
       "      <td>0.918958</td>\n",
       "      <td>-2.449294e-16</td>\n",
       "      <td>1.0</td>\n",
       "      <td>-0.433884</td>\n",
       "      <td>-0.900969</td>\n",
       "      <td>-3.442161e-02</td>\n",
       "      <td>0.999407</td>\n",
       "      <td>5023.498571</td>\n",
       "    </tr>\n",
       "    <tr>\n",
       "      <th>266</th>\n",
       "      <td>2023-12-30</td>\n",
       "      <td>5376.76</td>\n",
       "      <td>1</td>\n",
       "      <td>-2.012985e-01</td>\n",
       "      <td>0.979530</td>\n",
       "      <td>-2.449294e-16</td>\n",
       "      <td>1.0</td>\n",
       "      <td>-0.974928</td>\n",
       "      <td>-0.222521</td>\n",
       "      <td>-1.721336e-02</td>\n",
       "      <td>0.999852</td>\n",
       "      <td>5019.660000</td>\n",
       "    </tr>\n",
       "    <tr>\n",
       "      <th>267</th>\n",
       "      <td>2023-12-31</td>\n",
       "      <td>5087.74</td>\n",
       "      <td>1</td>\n",
       "      <td>-2.449294e-16</td>\n",
       "      <td>1.000000</td>\n",
       "      <td>-2.449294e-16</td>\n",
       "      <td>1.0</td>\n",
       "      <td>-0.781831</td>\n",
       "      <td>0.623490</td>\n",
       "      <td>6.432491e-16</td>\n",
       "      <td>1.000000</td>\n",
       "      <td>5047.322857</td>\n",
       "    </tr>\n",
       "  </tbody>\n",
       "</table>\n",
       "<p>268 rows × 12 columns</p>\n",
       "</div>"
      ],
      "text/plain": [
       "          Date    Sales  IsWeekend       Day_sin   Day_cos     Month_sin  \\\n",
       "0   2023-04-08  5652.45          1  9.945219e-01 -0.104528  8.660254e-01   \n",
       "1   2023-04-09  4677.92          1  9.510565e-01 -0.309017  8.660254e-01   \n",
       "2   2023-04-10  5278.82          0  8.660254e-01 -0.500000  8.660254e-01   \n",
       "3   2023-04-11  4849.26          0  7.431448e-01 -0.669131  8.660254e-01   \n",
       "4   2023-04-12  4798.30          0  5.877853e-01 -0.809017  8.660254e-01   \n",
       "..         ...      ...        ...           ...       ...           ...   \n",
       "263 2023-12-27  5127.51          0 -7.247928e-01  0.688967 -2.449294e-16   \n",
       "264 2023-12-28  5168.99          0 -5.712682e-01  0.820763 -2.449294e-16   \n",
       "265 2023-12-29  4879.63          0 -3.943559e-01  0.918958 -2.449294e-16   \n",
       "266 2023-12-30  5376.76          1 -2.012985e-01  0.979530 -2.449294e-16   \n",
       "267 2023-12-31  5087.74          1 -2.449294e-16  1.000000 -2.449294e-16   \n",
       "\n",
       "     Month_cos  Weekday_sin  Weekday_cos  DayOfYear_sin  DayOfYear_cos  \\\n",
       "0         -0.5    -0.974928    -0.222521   9.932568e-01      -0.115935   \n",
       "1         -0.5    -0.781831     0.623490   9.911141e-01      -0.133015   \n",
       "2         -0.5     0.000000     1.000000   9.886776e-01      -0.150055   \n",
       "3         -0.5     0.781831     0.623490   9.859481e-01      -0.167052   \n",
       "4         -0.5     0.974928    -0.222521   9.829266e-01      -0.183998   \n",
       "..         ...          ...          ...            ...            ...   \n",
       "263        1.0     0.974928    -0.222521  -6.880243e-02       0.997630   \n",
       "264        1.0     0.433884    -0.900969  -5.161967e-02       0.998667   \n",
       "265        1.0    -0.433884    -0.900969  -3.442161e-02       0.999407   \n",
       "266        1.0    -0.974928    -0.222521  -1.721336e-02       0.999852   \n",
       "267        1.0    -0.781831     0.623490   6.432491e-16       1.000000   \n",
       "\n",
       "      Sales_MA_7  \n",
       "0    4730.410000  \n",
       "1    4775.447143  \n",
       "2    4788.051429  \n",
       "3    4894.838571  \n",
       "4    4898.375714  \n",
       "..           ...  \n",
       "263  5009.910000  \n",
       "264  5023.518571  \n",
       "265  5023.498571  \n",
       "266  5019.660000  \n",
       "267  5047.322857  \n",
       "\n",
       "[268 rows x 12 columns]"
      ]
     },
     "execution_count": 8,
     "metadata": {},
     "output_type": "execute_result"
    }
   ],
   "source": [
    "gas_df['Sales_MA_7'] = gas_df['Sales'].rolling(window=7).mean().shift(1)  # 7-day moving avg\n",
    "gas_df = gas_df.dropna().reset_index(drop=True)\n",
    "gas_df"
   ]
  },
  {
   "cell_type": "code",
   "execution_count": 9,
   "metadata": {},
   "outputs": [],
   "source": [
    "sales_df = gas_df"
   ]
  },
  {
   "cell_type": "code",
   "execution_count": 10,
   "metadata": {},
   "outputs": [
    {
     "data": {
      "text/html": [
       "<div>\n",
       "<style scoped>\n",
       "    .dataframe tbody tr th:only-of-type {\n",
       "        vertical-align: middle;\n",
       "    }\n",
       "\n",
       "    .dataframe tbody tr th {\n",
       "        vertical-align: top;\n",
       "    }\n",
       "\n",
       "    .dataframe thead th {\n",
       "        text-align: right;\n",
       "    }\n",
       "</style>\n",
       "<table border=\"1\" class=\"dataframe\">\n",
       "  <thead>\n",
       "    <tr style=\"text-align: right;\">\n",
       "      <th></th>\n",
       "      <th>Date</th>\n",
       "      <th>Temp</th>\n",
       "      <th>Humidity</th>\n",
       "      <th>Rain</th>\n",
       "    </tr>\n",
       "  </thead>\n",
       "  <tbody>\n",
       "    <tr>\n",
       "      <th>0</th>\n",
       "      <td>2023-04-08</td>\n",
       "      <td>88.9</td>\n",
       "      <td>29.8</td>\n",
       "      <td>0.0</td>\n",
       "    </tr>\n",
       "    <tr>\n",
       "      <th>1</th>\n",
       "      <td>2023-04-09</td>\n",
       "      <td>89.9</td>\n",
       "      <td>29.1</td>\n",
       "      <td>0.0</td>\n",
       "    </tr>\n",
       "    <tr>\n",
       "      <th>2</th>\n",
       "      <td>2023-04-10</td>\n",
       "      <td>91.4</td>\n",
       "      <td>28.9</td>\n",
       "      <td>0.0</td>\n",
       "    </tr>\n",
       "    <tr>\n",
       "      <th>3</th>\n",
       "      <td>2023-04-11</td>\n",
       "      <td>92.0</td>\n",
       "      <td>30.7</td>\n",
       "      <td>0.0</td>\n",
       "    </tr>\n",
       "    <tr>\n",
       "      <th>4</th>\n",
       "      <td>2023-04-12</td>\n",
       "      <td>90.0</td>\n",
       "      <td>33.3</td>\n",
       "      <td>0.0</td>\n",
       "    </tr>\n",
       "    <tr>\n",
       "      <th>...</th>\n",
       "      <td>...</td>\n",
       "      <td>...</td>\n",
       "      <td>...</td>\n",
       "      <td>...</td>\n",
       "    </tr>\n",
       "    <tr>\n",
       "      <th>263</th>\n",
       "      <td>2023-12-27</td>\n",
       "      <td>71.2</td>\n",
       "      <td>72.4</td>\n",
       "      <td>0.0</td>\n",
       "    </tr>\n",
       "    <tr>\n",
       "      <th>264</th>\n",
       "      <td>2023-12-28</td>\n",
       "      <td>72.5</td>\n",
       "      <td>60.0</td>\n",
       "      <td>0.0</td>\n",
       "    </tr>\n",
       "    <tr>\n",
       "      <th>265</th>\n",
       "      <td>2023-12-29</td>\n",
       "      <td>71.4</td>\n",
       "      <td>64.1</td>\n",
       "      <td>0.0</td>\n",
       "    </tr>\n",
       "    <tr>\n",
       "      <th>266</th>\n",
       "      <td>2023-12-30</td>\n",
       "      <td>71.9</td>\n",
       "      <td>69.3</td>\n",
       "      <td>0.0</td>\n",
       "    </tr>\n",
       "    <tr>\n",
       "      <th>267</th>\n",
       "      <td>2023-12-31</td>\n",
       "      <td>70.9</td>\n",
       "      <td>69.3</td>\n",
       "      <td>0.0</td>\n",
       "    </tr>\n",
       "  </tbody>\n",
       "</table>\n",
       "<p>268 rows × 4 columns</p>\n",
       "</div>"
      ],
      "text/plain": [
       "           Date  Temp  Humidity  Rain\n",
       "0    2023-04-08  88.9      29.8   0.0\n",
       "1    2023-04-09  89.9      29.1   0.0\n",
       "2    2023-04-10  91.4      28.9   0.0\n",
       "3    2023-04-11  92.0      30.7   0.0\n",
       "4    2023-04-12  90.0      33.3   0.0\n",
       "..          ...   ...       ...   ...\n",
       "263  2023-12-27  71.2      72.4   0.0\n",
       "264  2023-12-28  72.5      60.0   0.0\n",
       "265  2023-12-29  71.4      64.1   0.0\n",
       "266  2023-12-30  71.9      69.3   0.0\n",
       "267  2023-12-31  70.9      69.3   0.0\n",
       "\n",
       "[268 rows x 4 columns]"
      ]
     },
     "execution_count": 10,
     "metadata": {},
     "output_type": "execute_result"
    }
   ],
   "source": [
    "weather_df = pd.read_csv(os.path.join(root,'Ahmedabad_Weather_Data_Cleaned.csv')).drop(range(0,7)).reset_index(drop=True)\n",
    "weather_df"
   ]
  },
  {
   "cell_type": "code",
   "execution_count": 11,
   "metadata": {},
   "outputs": [
    {
     "data": {
      "text/html": [
       "<div>\n",
       "<style scoped>\n",
       "    .dataframe tbody tr th:only-of-type {\n",
       "        vertical-align: middle;\n",
       "    }\n",
       "\n",
       "    .dataframe tbody tr th {\n",
       "        vertical-align: top;\n",
       "    }\n",
       "\n",
       "    .dataframe thead th {\n",
       "        text-align: right;\n",
       "    }\n",
       "</style>\n",
       "<table border=\"1\" class=\"dataframe\">\n",
       "  <thead>\n",
       "    <tr style=\"text-align: right;\">\n",
       "      <th></th>\n",
       "      <th>Date</th>\n",
       "      <th>IsWeekend</th>\n",
       "      <th>Day_sin</th>\n",
       "      <th>Day_cos</th>\n",
       "      <th>Month_sin</th>\n",
       "      <th>Month_cos</th>\n",
       "      <th>Weekday_sin</th>\n",
       "      <th>Weekday_cos</th>\n",
       "      <th>DayOfYear_sin</th>\n",
       "      <th>DayOfYear_cos</th>\n",
       "      <th>Temp</th>\n",
       "      <th>Humidity</th>\n",
       "      <th>Rain</th>\n",
       "      <th>Sales_MA_7</th>\n",
       "      <th>Sales</th>\n",
       "    </tr>\n",
       "  </thead>\n",
       "  <tbody>\n",
       "    <tr>\n",
       "      <th>0</th>\n",
       "      <td>2023-04-08</td>\n",
       "      <td>1</td>\n",
       "      <td>9.945219e-01</td>\n",
       "      <td>-0.104528</td>\n",
       "      <td>8.660254e-01</td>\n",
       "      <td>-0.5</td>\n",
       "      <td>-0.974928</td>\n",
       "      <td>-0.222521</td>\n",
       "      <td>9.932568e-01</td>\n",
       "      <td>-0.115935</td>\n",
       "      <td>88.9</td>\n",
       "      <td>29.8</td>\n",
       "      <td>0.0</td>\n",
       "      <td>4730.410000</td>\n",
       "      <td>5652.45</td>\n",
       "    </tr>\n",
       "    <tr>\n",
       "      <th>1</th>\n",
       "      <td>2023-04-09</td>\n",
       "      <td>1</td>\n",
       "      <td>9.510565e-01</td>\n",
       "      <td>-0.309017</td>\n",
       "      <td>8.660254e-01</td>\n",
       "      <td>-0.5</td>\n",
       "      <td>-0.781831</td>\n",
       "      <td>0.623490</td>\n",
       "      <td>9.911141e-01</td>\n",
       "      <td>-0.133015</td>\n",
       "      <td>89.9</td>\n",
       "      <td>29.1</td>\n",
       "      <td>0.0</td>\n",
       "      <td>4775.447143</td>\n",
       "      <td>4677.92</td>\n",
       "    </tr>\n",
       "    <tr>\n",
       "      <th>2</th>\n",
       "      <td>2023-04-10</td>\n",
       "      <td>0</td>\n",
       "      <td>8.660254e-01</td>\n",
       "      <td>-0.500000</td>\n",
       "      <td>8.660254e-01</td>\n",
       "      <td>-0.5</td>\n",
       "      <td>0.000000</td>\n",
       "      <td>1.000000</td>\n",
       "      <td>9.886776e-01</td>\n",
       "      <td>-0.150055</td>\n",
       "      <td>91.4</td>\n",
       "      <td>28.9</td>\n",
       "      <td>0.0</td>\n",
       "      <td>4788.051429</td>\n",
       "      <td>5278.82</td>\n",
       "    </tr>\n",
       "    <tr>\n",
       "      <th>3</th>\n",
       "      <td>2023-04-11</td>\n",
       "      <td>0</td>\n",
       "      <td>7.431448e-01</td>\n",
       "      <td>-0.669131</td>\n",
       "      <td>8.660254e-01</td>\n",
       "      <td>-0.5</td>\n",
       "      <td>0.781831</td>\n",
       "      <td>0.623490</td>\n",
       "      <td>9.859481e-01</td>\n",
       "      <td>-0.167052</td>\n",
       "      <td>92.0</td>\n",
       "      <td>30.7</td>\n",
       "      <td>0.0</td>\n",
       "      <td>4894.838571</td>\n",
       "      <td>4849.26</td>\n",
       "    </tr>\n",
       "    <tr>\n",
       "      <th>4</th>\n",
       "      <td>2023-04-12</td>\n",
       "      <td>0</td>\n",
       "      <td>5.877853e-01</td>\n",
       "      <td>-0.809017</td>\n",
       "      <td>8.660254e-01</td>\n",
       "      <td>-0.5</td>\n",
       "      <td>0.974928</td>\n",
       "      <td>-0.222521</td>\n",
       "      <td>9.829266e-01</td>\n",
       "      <td>-0.183998</td>\n",
       "      <td>90.0</td>\n",
       "      <td>33.3</td>\n",
       "      <td>0.0</td>\n",
       "      <td>4898.375714</td>\n",
       "      <td>4798.30</td>\n",
       "    </tr>\n",
       "    <tr>\n",
       "      <th>...</th>\n",
       "      <td>...</td>\n",
       "      <td>...</td>\n",
       "      <td>...</td>\n",
       "      <td>...</td>\n",
       "      <td>...</td>\n",
       "      <td>...</td>\n",
       "      <td>...</td>\n",
       "      <td>...</td>\n",
       "      <td>...</td>\n",
       "      <td>...</td>\n",
       "      <td>...</td>\n",
       "      <td>...</td>\n",
       "      <td>...</td>\n",
       "      <td>...</td>\n",
       "      <td>...</td>\n",
       "    </tr>\n",
       "    <tr>\n",
       "      <th>263</th>\n",
       "      <td>2023-12-27</td>\n",
       "      <td>0</td>\n",
       "      <td>-7.247928e-01</td>\n",
       "      <td>0.688967</td>\n",
       "      <td>-2.449294e-16</td>\n",
       "      <td>1.0</td>\n",
       "      <td>0.974928</td>\n",
       "      <td>-0.222521</td>\n",
       "      <td>-6.880243e-02</td>\n",
       "      <td>0.997630</td>\n",
       "      <td>71.2</td>\n",
       "      <td>72.4</td>\n",
       "      <td>0.0</td>\n",
       "      <td>5009.910000</td>\n",
       "      <td>5127.51</td>\n",
       "    </tr>\n",
       "    <tr>\n",
       "      <th>264</th>\n",
       "      <td>2023-12-28</td>\n",
       "      <td>0</td>\n",
       "      <td>-5.712682e-01</td>\n",
       "      <td>0.820763</td>\n",
       "      <td>-2.449294e-16</td>\n",
       "      <td>1.0</td>\n",
       "      <td>0.433884</td>\n",
       "      <td>-0.900969</td>\n",
       "      <td>-5.161967e-02</td>\n",
       "      <td>0.998667</td>\n",
       "      <td>72.5</td>\n",
       "      <td>60.0</td>\n",
       "      <td>0.0</td>\n",
       "      <td>5023.518571</td>\n",
       "      <td>5168.99</td>\n",
       "    </tr>\n",
       "    <tr>\n",
       "      <th>265</th>\n",
       "      <td>2023-12-29</td>\n",
       "      <td>0</td>\n",
       "      <td>-3.943559e-01</td>\n",
       "      <td>0.918958</td>\n",
       "      <td>-2.449294e-16</td>\n",
       "      <td>1.0</td>\n",
       "      <td>-0.433884</td>\n",
       "      <td>-0.900969</td>\n",
       "      <td>-3.442161e-02</td>\n",
       "      <td>0.999407</td>\n",
       "      <td>71.4</td>\n",
       "      <td>64.1</td>\n",
       "      <td>0.0</td>\n",
       "      <td>5023.498571</td>\n",
       "      <td>4879.63</td>\n",
       "    </tr>\n",
       "    <tr>\n",
       "      <th>266</th>\n",
       "      <td>2023-12-30</td>\n",
       "      <td>1</td>\n",
       "      <td>-2.012985e-01</td>\n",
       "      <td>0.979530</td>\n",
       "      <td>-2.449294e-16</td>\n",
       "      <td>1.0</td>\n",
       "      <td>-0.974928</td>\n",
       "      <td>-0.222521</td>\n",
       "      <td>-1.721336e-02</td>\n",
       "      <td>0.999852</td>\n",
       "      <td>71.9</td>\n",
       "      <td>69.3</td>\n",
       "      <td>0.0</td>\n",
       "      <td>5019.660000</td>\n",
       "      <td>5376.76</td>\n",
       "    </tr>\n",
       "    <tr>\n",
       "      <th>267</th>\n",
       "      <td>2023-12-31</td>\n",
       "      <td>1</td>\n",
       "      <td>-2.449294e-16</td>\n",
       "      <td>1.000000</td>\n",
       "      <td>-2.449294e-16</td>\n",
       "      <td>1.0</td>\n",
       "      <td>-0.781831</td>\n",
       "      <td>0.623490</td>\n",
       "      <td>6.432491e-16</td>\n",
       "      <td>1.000000</td>\n",
       "      <td>70.9</td>\n",
       "      <td>69.3</td>\n",
       "      <td>0.0</td>\n",
       "      <td>5047.322857</td>\n",
       "      <td>5087.74</td>\n",
       "    </tr>\n",
       "  </tbody>\n",
       "</table>\n",
       "<p>268 rows × 15 columns</p>\n",
       "</div>"
      ],
      "text/plain": [
       "          Date  IsWeekend       Day_sin   Day_cos     Month_sin  Month_cos  \\\n",
       "0   2023-04-08          1  9.945219e-01 -0.104528  8.660254e-01       -0.5   \n",
       "1   2023-04-09          1  9.510565e-01 -0.309017  8.660254e-01       -0.5   \n",
       "2   2023-04-10          0  8.660254e-01 -0.500000  8.660254e-01       -0.5   \n",
       "3   2023-04-11          0  7.431448e-01 -0.669131  8.660254e-01       -0.5   \n",
       "4   2023-04-12          0  5.877853e-01 -0.809017  8.660254e-01       -0.5   \n",
       "..         ...        ...           ...       ...           ...        ...   \n",
       "263 2023-12-27          0 -7.247928e-01  0.688967 -2.449294e-16        1.0   \n",
       "264 2023-12-28          0 -5.712682e-01  0.820763 -2.449294e-16        1.0   \n",
       "265 2023-12-29          0 -3.943559e-01  0.918958 -2.449294e-16        1.0   \n",
       "266 2023-12-30          1 -2.012985e-01  0.979530 -2.449294e-16        1.0   \n",
       "267 2023-12-31          1 -2.449294e-16  1.000000 -2.449294e-16        1.0   \n",
       "\n",
       "     Weekday_sin  Weekday_cos  DayOfYear_sin  DayOfYear_cos  Temp  Humidity  \\\n",
       "0      -0.974928    -0.222521   9.932568e-01      -0.115935  88.9      29.8   \n",
       "1      -0.781831     0.623490   9.911141e-01      -0.133015  89.9      29.1   \n",
       "2       0.000000     1.000000   9.886776e-01      -0.150055  91.4      28.9   \n",
       "3       0.781831     0.623490   9.859481e-01      -0.167052  92.0      30.7   \n",
       "4       0.974928    -0.222521   9.829266e-01      -0.183998  90.0      33.3   \n",
       "..           ...          ...            ...            ...   ...       ...   \n",
       "263     0.974928    -0.222521  -6.880243e-02       0.997630  71.2      72.4   \n",
       "264     0.433884    -0.900969  -5.161967e-02       0.998667  72.5      60.0   \n",
       "265    -0.433884    -0.900969  -3.442161e-02       0.999407  71.4      64.1   \n",
       "266    -0.974928    -0.222521  -1.721336e-02       0.999852  71.9      69.3   \n",
       "267    -0.781831     0.623490   6.432491e-16       1.000000  70.9      69.3   \n",
       "\n",
       "     Rain   Sales_MA_7    Sales  \n",
       "0     0.0  4730.410000  5652.45  \n",
       "1     0.0  4775.447143  4677.92  \n",
       "2     0.0  4788.051429  5278.82  \n",
       "3     0.0  4894.838571  4849.26  \n",
       "4     0.0  4898.375714  4798.30  \n",
       "..    ...          ...      ...  \n",
       "263   0.0  5009.910000  5127.51  \n",
       "264   0.0  5023.518571  5168.99  \n",
       "265   0.0  5023.498571  4879.63  \n",
       "266   0.0  5019.660000  5376.76  \n",
       "267   0.0  5047.322857  5087.74  \n",
       "\n",
       "[268 rows x 15 columns]"
      ]
     },
     "execution_count": 11,
     "metadata": {},
     "output_type": "execute_result"
    }
   ],
   "source": [
    "combined_df = pd.concat([sales_df,weather_df.iloc[:,1:]],axis = 1)\n",
    "combined_df = combined_df[['Date','IsWeekend', 'Day_sin', 'Day_cos', 'Month_sin', 'Month_cos', 'Weekday_sin',\n",
    "                           'Weekday_cos', 'DayOfYear_sin', 'DayOfYear_cos','Temp','Humidity','Rain','Sales_MA_7',\n",
    "                           'Sales']]\n",
    "combined_df = combined_df.dropna().reset_index(drop=True)\n",
    "combined_df"
   ]
  },
  {
   "cell_type": "code",
   "execution_count": 12,
   "metadata": {},
   "outputs": [],
   "source": [
    "\n",
    "import plotly.graph_objects as go\n",
    "\n",
    "def get_train_val_test_dfs(combined_df):\n",
    "    train_size = int(0.7 * len(combined_df))  # 70% for training\n",
    "    # val_size = int(0.85 * len(combined_df)) # 15% for validation\n",
    "    train_df  = combined_df[:train_size].reset_index(drop=True)\n",
    "    # val_df = combined_df[train_size:val_size].reset_index(drop=True)\n",
    "    test_df = combined_df[train_size:].reset_index(drop=True)\n",
    "    return train_df,  test_df\n",
    "\n",
    "def plot_training_graphs(history):\n",
    "    history_df = pd.DataFrame.from_dict(history.history)\n",
    "    history_df['epoch'] = history_df.index + 1\n",
    "\n",
    "    fig = go.Figure()\n",
    "    fig.add_trace(go.Line(x=history_df['epoch'], y = history_df['loss'], mode = 'lines+markers', name='Training Loss'))\n",
    "    fig.add_trace(go.Line(x=history_df['epoch'], y = history_df['val_loss'], mode = 'lines+markers', name = 'Validation Loss'))\n",
    "    fig.update_layout(title=\"Training and Validation Loss\",\n",
    "                    xaxis_title=\"Epochs\", yaxis_title=\"Loss\")\n",
    "    fig.show()\n",
    "\n",
    "    fig = go.Figure()\n",
    "    fig.add_trace(go.Line(x=history_df['epoch'], y = history_df['mape'], mode = 'lines+markers', name='Training MAPE'))\n",
    "    fig.add_trace(go.Line(x=history_df['epoch'], y = history_df['val_mape'], mode = 'lines+markers', name = 'Validation MAPE'))\n",
    "    fig.update_layout(title=\"Training and Validation MAPE\",\n",
    "                    xaxis_title=\"Epochs\", yaxis_title=\"MAPE\")\n",
    "    fig.show()\n",
    "\n",
    "def plot_test_graphs(test_df):\n",
    "    fig = go.Figure()\n",
    "\n",
    "    fig.add_trace(go.Line(x = test_df['Date'],\n",
    "                        y = test_df['Sales'],\n",
    "                        mode = 'lines+markers',\n",
    "                        name = 'Actual Sales'))\n",
    "    fig.add_trace(go.Line(x = test_df['Date'],\n",
    "                        y = test_df['Predicted_Sales'],\n",
    "                        mode = 'lines+markers',\n",
    "                        name = 'Predicted Sales'))\n",
    "\n",
    "    fig.update_layout(xaxis_title = 'Date', yaxis_title = 'Sales', title = 'CNG Sales')\n",
    "    fig.show()\n",
    "\n"
   ]
  },
  {
   "cell_type": "code",
   "execution_count": 13,
   "metadata": {},
   "outputs": [],
   "source": [
    "import tensorflow as tf\n",
    "from tensorflow.keras.models import Sequential\n",
    "from tensorflow.keras.layers import Dense,Input\n",
    "from sklearn.preprocessing import StandardScaler\n",
    "from tensorflow.keras.losses import Huber\n",
    "from tensorflow.keras.callbacks import EarlyStopping\n",
    "\n",
    "def mape(y_true, y_pred):\n",
    "    y_true = tf.cast(y_true, tf.float32)\n",
    "    y_pred = tf.cast(y_pred, tf.float32)\n",
    "\n",
    "    # Avoid division by zero by adding a small epsilon where y_true is zero\n",
    "    epsilon = tf.keras.backend.epsilon()\n",
    "    y_true = tf.where(tf.equal(y_true, 0), epsilon, y_true)\n",
    "\n",
    "    return tf.reduce_mean(tf.abs((y_true - y_pred) / y_true)) * 100\n",
    "\n",
    "def model_train(train_df, features, target):\n",
    "    \n",
    "    X_train, y_train = train_df[features].values, train_df[target].values\n",
    "    # X_val, y_val = val_df[features].values, val_df[target].values\n",
    "    \n",
    "    early_stopping = EarlyStopping(\n",
    "    monitor='mape',\n",
    "    mode = 'min',\n",
    "    patience=15,\n",
    "    restore_best_weights=True )\n",
    "\n",
    "    # Define FFNN model\n",
    "    model = Sequential([\n",
    "        Input(shape=(X_train.shape[1],)),\n",
    "        Dense(64, activation='relu'),\n",
    "        Dense(32, activation='relu'),\n",
    "        Dense(1)\n",
    "    ])\n",
    "\n",
    "    # Compile and train\n",
    "    model.compile(optimizer='adam', loss='mse' , metrics=[mape])\n",
    "    history = model.fit(X_train, y_train, epochs=100, batch_size=4, callbacks=[early_stopping])\n",
    "\n",
    "    return model, history\n"
   ]
  },
  {
   "cell_type": "code",
   "execution_count": 14,
   "metadata": {},
   "outputs": [],
   "source": [
    "import numpy as np\n",
    "\n",
    "def model_test(model, test_df, features, target):\n",
    "    test_df['Sales_MA_7'] = np.nan\n",
    "    test_df['Predicted_Sales'] = np.nan\n",
    "\n",
    "    for row in test_df.itertuples(index=True, name='Rows'):\n",
    "        if row.Index >= 7:\n",
    "            test_df.loc[row.Index, 'Sales_MA_7'] = test_df.iloc[row.Index-7:row.Index]['Sales'].mean()\n",
    "            X_test = np.array(test_df.loc[row.Index, features].values, dtype = np.float64)\n",
    "            test_df.loc[row.Index, 'Predicted_Sales'] = model.predict(X_test.reshape(1,len(features)))\n",
    "    test_df = test_df.dropna().reset_index(drop=True)\n",
    "    return test_df"
   ]
  },
  {
   "cell_type": "code",
   "execution_count": 20,
   "metadata": {},
   "outputs": [
    {
     "name": "stdout",
     "output_type": "stream",
     "text": [
      "Epoch 1/100\n",
      "\u001b[1m47/47\u001b[0m \u001b[32m━━━━━━━━━━━━━━━━━━━━\u001b[0m\u001b[37m\u001b[0m \u001b[1m1s\u001b[0m 2ms/step - loss: 19066636.0000 - mape: 83.4666  \n",
      "Epoch 2/100\n",
      "\u001b[1m47/47\u001b[0m \u001b[32m━━━━━━━━━━━━━━━━━━━━\u001b[0m\u001b[37m\u001b[0m \u001b[1m0s\u001b[0m 2ms/step - loss: 222363.9375 - mape: 7.8536\n",
      "Epoch 3/100\n",
      "\u001b[1m47/47\u001b[0m \u001b[32m━━━━━━━━━━━━━━━━━━━━\u001b[0m\u001b[37m\u001b[0m \u001b[1m0s\u001b[0m 2ms/step - loss: 180683.8750 - mape: 6.6373\n",
      "Epoch 4/100\n",
      "\u001b[1m47/47\u001b[0m \u001b[32m━━━━━━━━━━━━━━━━━━━━\u001b[0m\u001b[37m\u001b[0m \u001b[1m0s\u001b[0m 2ms/step - loss: 272794.7500 - mape: 7.7464\n",
      "Epoch 5/100\n",
      "\u001b[1m47/47\u001b[0m \u001b[32m━━━━━━━━━━━━━━━━━━━━\u001b[0m\u001b[37m\u001b[0m \u001b[1m0s\u001b[0m 2ms/step - loss: 169603.0625 - mape: 6.7940\n",
      "Epoch 6/100\n",
      "\u001b[1m47/47\u001b[0m \u001b[32m━━━━━━━━━━━━━━━━━━━━\u001b[0m\u001b[37m\u001b[0m \u001b[1m0s\u001b[0m 2ms/step - loss: 214388.7344 - mape: 7.3700\n",
      "Epoch 7/100\n",
      "\u001b[1m47/47\u001b[0m \u001b[32m━━━━━━━━━━━━━━━━━━━━\u001b[0m\u001b[37m\u001b[0m \u001b[1m0s\u001b[0m 2ms/step - loss: 222390.2812 - mape: 7.7558\n",
      "Epoch 8/100\n",
      "\u001b[1m47/47\u001b[0m \u001b[32m━━━━━━━━━━━━━━━━━━━━\u001b[0m\u001b[37m\u001b[0m \u001b[1m0s\u001b[0m 2ms/step - loss: 364805.5312 - mape: 9.0806 \n",
      "Epoch 9/100\n",
      "\u001b[1m47/47\u001b[0m \u001b[32m━━━━━━━━━━━━━━━━━━━━\u001b[0m\u001b[37m\u001b[0m \u001b[1m0s\u001b[0m 2ms/step - loss: 152443.0781 - mape: 6.2044 \n",
      "Epoch 10/100\n",
      "\u001b[1m47/47\u001b[0m \u001b[32m━━━━━━━━━━━━━━━━━━━━\u001b[0m\u001b[37m\u001b[0m \u001b[1m0s\u001b[0m 2ms/step - loss: 206880.7188 - mape: 7.2363\n",
      "Epoch 11/100\n",
      "\u001b[1m47/47\u001b[0m \u001b[32m━━━━━━━━━━━━━━━━━━━━\u001b[0m\u001b[37m\u001b[0m \u001b[1m0s\u001b[0m 2ms/step - loss: 178355.9375 - mape: 7.0445\n",
      "Epoch 12/100\n",
      "\u001b[1m47/47\u001b[0m \u001b[32m━━━━━━━━━━━━━━━━━━━━\u001b[0m\u001b[37m\u001b[0m \u001b[1m0s\u001b[0m 2ms/step - loss: 170002.6719 - mape: 6.3893 \n",
      "Epoch 13/100\n",
      "\u001b[1m47/47\u001b[0m \u001b[32m━━━━━━━━━━━━━━━━━━━━\u001b[0m\u001b[37m\u001b[0m \u001b[1m0s\u001b[0m 2ms/step - loss: 171499.0625 - mape: 7.0368 \n",
      "Epoch 14/100\n",
      "\u001b[1m47/47\u001b[0m \u001b[32m━━━━━━━━━━━━━━━━━━━━\u001b[0m\u001b[37m\u001b[0m \u001b[1m0s\u001b[0m 1ms/step - loss: 222012.7656 - mape: 7.8825\n",
      "Epoch 15/100\n",
      "\u001b[1m47/47\u001b[0m \u001b[32m━━━━━━━━━━━━━━━━━━━━\u001b[0m\u001b[37m\u001b[0m \u001b[1m0s\u001b[0m 2ms/step - loss: 374901.5938 - mape: 10.2673\n",
      "Epoch 16/100\n",
      "\u001b[1m47/47\u001b[0m \u001b[32m━━━━━━━━━━━━━━━━━━━━\u001b[0m\u001b[37m\u001b[0m \u001b[1m0s\u001b[0m 3ms/step - loss: 162694.5781 - mape: 6.4408\n",
      "Epoch 17/100\n",
      "\u001b[1m47/47\u001b[0m \u001b[32m━━━━━━━━━━━━━━━━━━━━\u001b[0m\u001b[37m\u001b[0m \u001b[1m0s\u001b[0m 2ms/step - loss: 182910.2812 - mape: 6.6889\n",
      "Epoch 18/100\n",
      "\u001b[1m47/47\u001b[0m \u001b[32m━━━━━━━━━━━━━━━━━━━━\u001b[0m\u001b[37m\u001b[0m \u001b[1m0s\u001b[0m 2ms/step - loss: 199992.4688 - mape: 7.4012 \n",
      "Epoch 19/100\n",
      "\u001b[1m47/47\u001b[0m \u001b[32m━━━━━━━━━━━━━━━━━━━━\u001b[0m\u001b[37m\u001b[0m \u001b[1m0s\u001b[0m 2ms/step - loss: 223923.4688 - mape: 7.4287 \n",
      "Epoch 20/100\n",
      "\u001b[1m47/47\u001b[0m \u001b[32m━━━━━━━━━━━━━━━━━━━━\u001b[0m\u001b[37m\u001b[0m \u001b[1m0s\u001b[0m 2ms/step - loss: 232099.8438 - mape: 7.5231\n",
      "\u001b[1m1/1\u001b[0m \u001b[32m━━━━━━━━━━━━━━━━━━━━\u001b[0m\u001b[37m\u001b[0m \u001b[1m0s\u001b[0m 52ms/step\n",
      "\u001b[1m1/1\u001b[0m \u001b[32m━━━━━━━━━━━━━━━━━━━━\u001b[0m\u001b[37m\u001b[0m \u001b[1m0s\u001b[0m 33ms/step\n",
      "\u001b[1m1/1\u001b[0m \u001b[32m━━━━━━━━━━━━━━━━━━━━\u001b[0m\u001b[37m\u001b[0m \u001b[1m0s\u001b[0m 36ms/step\n",
      "\u001b[1m1/1\u001b[0m \u001b[32m━━━━━━━━━━━━━━━━━━━━\u001b[0m\u001b[37m\u001b[0m \u001b[1m0s\u001b[0m 34ms/step\n",
      "\u001b[1m1/1\u001b[0m \u001b[32m━━━━━━━━━━━━━━━━━━━━\u001b[0m\u001b[37m\u001b[0m \u001b[1m0s\u001b[0m 34ms/step\n",
      "\u001b[1m1/1\u001b[0m \u001b[32m━━━━━━━━━━━━━━━━━━━━\u001b[0m\u001b[37m\u001b[0m \u001b[1m0s\u001b[0m 69ms/step\n",
      "\u001b[1m1/1\u001b[0m \u001b[32m━━━━━━━━━━━━━━━━━━━━\u001b[0m\u001b[37m\u001b[0m \u001b[1m0s\u001b[0m 28ms/step\n",
      "\u001b[1m1/1\u001b[0m \u001b[32m━━━━━━━━━━━━━━━━━━━━\u001b[0m\u001b[37m\u001b[0m \u001b[1m0s\u001b[0m 27ms/step\n",
      "\u001b[1m1/1\u001b[0m \u001b[32m━━━━━━━━━━━━━━━━━━━━\u001b[0m\u001b[37m\u001b[0m \u001b[1m0s\u001b[0m 28ms/step\n",
      "\u001b[1m1/1\u001b[0m \u001b[32m━━━━━━━━━━━━━━━━━━━━\u001b[0m\u001b[37m\u001b[0m \u001b[1m0s\u001b[0m 28ms/step\n",
      "\u001b[1m1/1\u001b[0m \u001b[32m━━━━━━━━━━━━━━━━━━━━\u001b[0m\u001b[37m\u001b[0m \u001b[1m0s\u001b[0m 32ms/step\n",
      "\u001b[1m1/1\u001b[0m \u001b[32m━━━━━━━━━━━━━━━━━━━━\u001b[0m\u001b[37m\u001b[0m \u001b[1m0s\u001b[0m 27ms/step\n",
      "\u001b[1m1/1\u001b[0m \u001b[32m━━━━━━━━━━━━━━━━━━━━\u001b[0m\u001b[37m\u001b[0m \u001b[1m0s\u001b[0m 31ms/step\n",
      "\u001b[1m1/1\u001b[0m \u001b[32m━━━━━━━━━━━━━━━━━━━━\u001b[0m\u001b[37m\u001b[0m \u001b[1m0s\u001b[0m 29ms/step\n",
      "\u001b[1m1/1\u001b[0m \u001b[32m━━━━━━━━━━━━━━━━━━━━\u001b[0m\u001b[37m\u001b[0m \u001b[1m0s\u001b[0m 28ms/step\n",
      "\u001b[1m1/1\u001b[0m \u001b[32m━━━━━━━━━━━━━━━━━━━━\u001b[0m\u001b[37m\u001b[0m \u001b[1m0s\u001b[0m 13ms/step\n",
      "\u001b[1m1/1\u001b[0m \u001b[32m━━━━━━━━━━━━━━━━━━━━\u001b[0m\u001b[37m\u001b[0m \u001b[1m0s\u001b[0m 28ms/step\n",
      "\u001b[1m1/1\u001b[0m \u001b[32m━━━━━━━━━━━━━━━━━━━━\u001b[0m\u001b[37m\u001b[0m \u001b[1m0s\u001b[0m 33ms/step\n",
      "\u001b[1m1/1\u001b[0m \u001b[32m━━━━━━━━━━━━━━━━━━━━\u001b[0m\u001b[37m\u001b[0m \u001b[1m0s\u001b[0m 29ms/step\n",
      "\u001b[1m1/1\u001b[0m \u001b[32m━━━━━━━━━━━━━━━━━━━━\u001b[0m\u001b[37m\u001b[0m \u001b[1m0s\u001b[0m 38ms/step\n",
      "\u001b[1m1/1\u001b[0m \u001b[32m━━━━━━━━━━━━━━━━━━━━\u001b[0m\u001b[37m\u001b[0m \u001b[1m0s\u001b[0m 26ms/step\n",
      "\u001b[1m1/1\u001b[0m \u001b[32m━━━━━━━━━━━━━━━━━━━━\u001b[0m\u001b[37m\u001b[0m \u001b[1m0s\u001b[0m 16ms/step\n",
      "\u001b[1m1/1\u001b[0m \u001b[32m━━━━━━━━━━━━━━━━━━━━\u001b[0m\u001b[37m\u001b[0m \u001b[1m0s\u001b[0m 29ms/step\n",
      "\u001b[1m1/1\u001b[0m \u001b[32m━━━━━━━━━━━━━━━━━━━━\u001b[0m\u001b[37m\u001b[0m \u001b[1m0s\u001b[0m 28ms/step\n",
      "\u001b[1m1/1\u001b[0m \u001b[32m━━━━━━━━━━━━━━━━━━━━\u001b[0m\u001b[37m\u001b[0m \u001b[1m0s\u001b[0m 28ms/step\n",
      "\u001b[1m1/1\u001b[0m \u001b[32m━━━━━━━━━━━━━━━━━━━━\u001b[0m\u001b[37m\u001b[0m \u001b[1m0s\u001b[0m 27ms/step\n",
      "\u001b[1m1/1\u001b[0m \u001b[32m━━━━━━━━━━━━━━━━━━━━\u001b[0m\u001b[37m\u001b[0m \u001b[1m0s\u001b[0m 34ms/step\n",
      "\u001b[1m1/1\u001b[0m \u001b[32m━━━━━━━━━━━━━━━━━━━━\u001b[0m\u001b[37m\u001b[0m \u001b[1m0s\u001b[0m 17ms/step\n",
      "\u001b[1m1/1\u001b[0m \u001b[32m━━━━━━━━━━━━━━━━━━━━\u001b[0m\u001b[37m\u001b[0m \u001b[1m0s\u001b[0m 23ms/step\n",
      "\u001b[1m1/1\u001b[0m \u001b[32m━━━━━━━━━━━━━━━━━━━━\u001b[0m\u001b[37m\u001b[0m \u001b[1m0s\u001b[0m 26ms/step\n",
      "\u001b[1m1/1\u001b[0m \u001b[32m━━━━━━━━━━━━━━━━━━━━\u001b[0m\u001b[37m\u001b[0m \u001b[1m0s\u001b[0m 22ms/step\n",
      "\u001b[1m1/1\u001b[0m \u001b[32m━━━━━━━━━━━━━━━━━━━━\u001b[0m\u001b[37m\u001b[0m \u001b[1m0s\u001b[0m 14ms/step\n",
      "\u001b[1m1/1\u001b[0m \u001b[32m━━━━━━━━━━━━━━━━━━━━\u001b[0m\u001b[37m\u001b[0m \u001b[1m0s\u001b[0m 27ms/step\n",
      "\u001b[1m1/1\u001b[0m \u001b[32m━━━━━━━━━━━━━━━━━━━━\u001b[0m\u001b[37m\u001b[0m \u001b[1m0s\u001b[0m 30ms/step\n",
      "\u001b[1m1/1\u001b[0m \u001b[32m━━━━━━━━━━━━━━━━━━━━\u001b[0m\u001b[37m\u001b[0m \u001b[1m0s\u001b[0m 26ms/step\n",
      "\u001b[1m1/1\u001b[0m \u001b[32m━━━━━━━━━━━━━━━━━━━━\u001b[0m\u001b[37m\u001b[0m \u001b[1m0s\u001b[0m 25ms/step\n",
      "\u001b[1m1/1\u001b[0m \u001b[32m━━━━━━━━━━━━━━━━━━━━\u001b[0m\u001b[37m\u001b[0m \u001b[1m0s\u001b[0m 26ms/step\n",
      "\u001b[1m1/1\u001b[0m \u001b[32m━━━━━━━━━━━━━━━━━━━━\u001b[0m\u001b[37m\u001b[0m \u001b[1m0s\u001b[0m 29ms/step\n",
      "\u001b[1m1/1\u001b[0m \u001b[32m━━━━━━━━━━━━━━━━━━━━\u001b[0m\u001b[37m\u001b[0m \u001b[1m0s\u001b[0m 30ms/step\n",
      "\u001b[1m1/1\u001b[0m \u001b[32m━━━━━━━━━━━━━━━━━━━━\u001b[0m\u001b[37m\u001b[0m \u001b[1m0s\u001b[0m 17ms/step\n",
      "\u001b[1m1/1\u001b[0m \u001b[32m━━━━━━━━━━━━━━━━━━━━\u001b[0m\u001b[37m\u001b[0m \u001b[1m0s\u001b[0m 33ms/step\n",
      "\u001b[1m1/1\u001b[0m \u001b[32m━━━━━━━━━━━━━━━━━━━━\u001b[0m\u001b[37m\u001b[0m \u001b[1m0s\u001b[0m 27ms/step\n",
      "\u001b[1m1/1\u001b[0m \u001b[32m━━━━━━━━━━━━━━━━━━━━\u001b[0m\u001b[37m\u001b[0m \u001b[1m0s\u001b[0m 24ms/step\n",
      "\u001b[1m1/1\u001b[0m \u001b[32m━━━━━━━━━━━━━━━━━━━━\u001b[0m\u001b[37m\u001b[0m \u001b[1m0s\u001b[0m 29ms/step\n",
      "\u001b[1m1/1\u001b[0m \u001b[32m━━━━━━━━━━━━━━━━━━━━\u001b[0m\u001b[37m\u001b[0m \u001b[1m0s\u001b[0m 19ms/step\n",
      "\u001b[1m1/1\u001b[0m \u001b[32m━━━━━━━━━━━━━━━━━━━━\u001b[0m\u001b[37m\u001b[0m \u001b[1m0s\u001b[0m 27ms/step\n",
      "\u001b[1m1/1\u001b[0m \u001b[32m━━━━━━━━━━━━━━━━━━━━\u001b[0m\u001b[37m\u001b[0m \u001b[1m0s\u001b[0m 13ms/step\n",
      "\u001b[1m1/1\u001b[0m \u001b[32m━━━━━━━━━━━━━━━━━━━━\u001b[0m\u001b[37m\u001b[0m \u001b[1m0s\u001b[0m 32ms/step\n",
      "\u001b[1m1/1\u001b[0m \u001b[32m━━━━━━━━━━━━━━━━━━━━\u001b[0m\u001b[37m\u001b[0m \u001b[1m0s\u001b[0m 16ms/step\n",
      "\u001b[1m1/1\u001b[0m \u001b[32m━━━━━━━━━━━━━━━━━━━━\u001b[0m\u001b[37m\u001b[0m \u001b[1m0s\u001b[0m 21ms/step\n",
      "\u001b[1m1/1\u001b[0m \u001b[32m━━━━━━━━━━━━━━━━━━━━\u001b[0m\u001b[37m\u001b[0m \u001b[1m0s\u001b[0m 21ms/step\n",
      "\u001b[1m1/1\u001b[0m \u001b[32m━━━━━━━━━━━━━━━━━━━━\u001b[0m\u001b[37m\u001b[0m \u001b[1m0s\u001b[0m 27ms/step\n",
      "\u001b[1m1/1\u001b[0m \u001b[32m━━━━━━━━━━━━━━━━━━━━\u001b[0m\u001b[37m\u001b[0m \u001b[1m0s\u001b[0m 30ms/step\n",
      "\u001b[1m1/1\u001b[0m \u001b[32m━━━━━━━━━━━━━━━━━━━━\u001b[0m\u001b[37m\u001b[0m \u001b[1m0s\u001b[0m 39ms/step\n",
      "\u001b[1m1/1\u001b[0m \u001b[32m━━━━━━━━━━━━━━━━━━━━\u001b[0m\u001b[37m\u001b[0m \u001b[1m0s\u001b[0m 27ms/step\n",
      "\u001b[1m1/1\u001b[0m \u001b[32m━━━━━━━━━━━━━━━━━━━━\u001b[0m\u001b[37m\u001b[0m \u001b[1m0s\u001b[0m 16ms/step\n",
      "\u001b[1m1/1\u001b[0m \u001b[32m━━━━━━━━━━━━━━━━━━━━\u001b[0m\u001b[37m\u001b[0m \u001b[1m0s\u001b[0m 25ms/step\n",
      "\u001b[1m1/1\u001b[0m \u001b[32m━━━━━━━━━━━━━━━━━━━━\u001b[0m\u001b[37m\u001b[0m \u001b[1m0s\u001b[0m 27ms/step\n",
      "\u001b[1m1/1\u001b[0m \u001b[32m━━━━━━━━━━━━━━━━━━━━\u001b[0m\u001b[37m\u001b[0m \u001b[1m0s\u001b[0m 18ms/step\n",
      "\u001b[1m1/1\u001b[0m \u001b[32m━━━━━━━━━━━━━━━━━━━━\u001b[0m\u001b[37m\u001b[0m \u001b[1m0s\u001b[0m 24ms/step\n",
      "\u001b[1m1/1\u001b[0m \u001b[32m━━━━━━━━━━━━━━━━━━━━\u001b[0m\u001b[37m\u001b[0m \u001b[1m0s\u001b[0m 16ms/step\n",
      "\u001b[1m1/1\u001b[0m \u001b[32m━━━━━━━━━━━━━━━━━━━━\u001b[0m\u001b[37m\u001b[0m \u001b[1m0s\u001b[0m 28ms/step\n",
      "\u001b[1m1/1\u001b[0m \u001b[32m━━━━━━━━━━━━━━━━━━━━\u001b[0m\u001b[37m\u001b[0m \u001b[1m0s\u001b[0m 27ms/step\n",
      "\u001b[1m1/1\u001b[0m \u001b[32m━━━━━━━━━━━━━━━━━━━━\u001b[0m\u001b[37m\u001b[0m \u001b[1m0s\u001b[0m 19ms/step\n",
      "\u001b[1m1/1\u001b[0m \u001b[32m━━━━━━━━━━━━━━━━━━━━\u001b[0m\u001b[37m\u001b[0m \u001b[1m0s\u001b[0m 27ms/step\n",
      "\u001b[1m1/1\u001b[0m \u001b[32m━━━━━━━━━━━━━━━━━━━━\u001b[0m\u001b[37m\u001b[0m \u001b[1m0s\u001b[0m 28ms/step\n",
      "\u001b[1m1/1\u001b[0m \u001b[32m━━━━━━━━━━━━━━━━━━━━\u001b[0m\u001b[37m\u001b[0m \u001b[1m0s\u001b[0m 14ms/step\n",
      "\u001b[1m1/1\u001b[0m \u001b[32m━━━━━━━━━━━━━━━━━━━━\u001b[0m\u001b[37m\u001b[0m \u001b[1m0s\u001b[0m 27ms/step\n",
      "\u001b[1m1/1\u001b[0m \u001b[32m━━━━━━━━━━━━━━━━━━━━\u001b[0m\u001b[37m\u001b[0m \u001b[1m0s\u001b[0m 27ms/step\n",
      "\u001b[1m1/1\u001b[0m \u001b[32m━━━━━━━━━━━━━━━━━━━━\u001b[0m\u001b[37m\u001b[0m \u001b[1m0s\u001b[0m 64ms/step\n",
      "\u001b[1m1/1\u001b[0m \u001b[32m━━━━━━━━━━━━━━━━━━━━\u001b[0m\u001b[37m\u001b[0m \u001b[1m0s\u001b[0m 28ms/step\n",
      "\u001b[1m1/1\u001b[0m \u001b[32m━━━━━━━━━━━━━━━━━━━━\u001b[0m\u001b[37m\u001b[0m \u001b[1m0s\u001b[0m 27ms/step\n",
      "\u001b[1m1/1\u001b[0m \u001b[32m━━━━━━━━━━━━━━━━━━━━\u001b[0m\u001b[37m\u001b[0m \u001b[1m0s\u001b[0m 32ms/step\n",
      "\u001b[1m1/1\u001b[0m \u001b[32m━━━━━━━━━━━━━━━━━━━━\u001b[0m\u001b[37m\u001b[0m \u001b[1m0s\u001b[0m 30ms/step\n",
      "MAPE for test data: 7.935303688049316\n"
     ]
    },
    {
     "name": "stderr",
     "output_type": "stream",
     "text": [
      "c:\\Users\\milan\\Desktop\\CDIS Project\\.venv\\Lib\\site-packages\\plotly\\graph_objs\\_deprecations.py:378: DeprecationWarning:\n",
      "\n",
      "plotly.graph_objs.Line is deprecated.\n",
      "Please replace it with one of the following more specific types\n",
      "  - plotly.graph_objs.scatter.Line\n",
      "  - plotly.graph_objs.layout.shape.Line\n",
      "  - etc.\n",
      "\n",
      "\n"
     ]
    },
    {
     "data": {
      "application/vnd.plotly.v1+json": {
       "config": {
        "plotlyServerURL": "https://plot.ly"
       },
       "data": [
        {
         "mode": "lines+markers",
         "name": "Actual Sales",
         "type": "scatter",
         "x": [
          "2023-10-19T00:00:00.000000000",
          "2023-10-20T00:00:00.000000000",
          "2023-10-21T00:00:00.000000000",
          "2023-10-22T00:00:00.000000000",
          "2023-10-23T00:00:00.000000000",
          "2023-10-24T00:00:00.000000000",
          "2023-10-25T00:00:00.000000000",
          "2023-10-26T00:00:00.000000000",
          "2023-10-27T00:00:00.000000000",
          "2023-10-28T00:00:00.000000000",
          "2023-10-29T00:00:00.000000000",
          "2023-10-30T00:00:00.000000000",
          "2023-10-31T00:00:00.000000000",
          "2023-11-01T00:00:00.000000000",
          "2023-11-02T00:00:00.000000000",
          "2023-11-03T00:00:00.000000000",
          "2023-11-04T00:00:00.000000000",
          "2023-11-05T00:00:00.000000000",
          "2023-11-06T00:00:00.000000000",
          "2023-11-07T00:00:00.000000000",
          "2023-11-08T00:00:00.000000000",
          "2023-11-09T00:00:00.000000000",
          "2023-11-10T00:00:00.000000000",
          "2023-11-11T00:00:00.000000000",
          "2023-11-12T00:00:00.000000000",
          "2023-11-13T00:00:00.000000000",
          "2023-11-14T00:00:00.000000000",
          "2023-11-15T00:00:00.000000000",
          "2023-11-16T00:00:00.000000000",
          "2023-11-17T00:00:00.000000000",
          "2023-11-18T00:00:00.000000000",
          "2023-11-19T00:00:00.000000000",
          "2023-11-20T00:00:00.000000000",
          "2023-11-21T00:00:00.000000000",
          "2023-11-22T00:00:00.000000000",
          "2023-11-23T00:00:00.000000000",
          "2023-11-24T00:00:00.000000000",
          "2023-11-25T00:00:00.000000000",
          "2023-11-26T00:00:00.000000000",
          "2023-11-27T00:00:00.000000000",
          "2023-11-28T00:00:00.000000000",
          "2023-11-29T00:00:00.000000000",
          "2023-11-30T00:00:00.000000000",
          "2023-12-01T00:00:00.000000000",
          "2023-12-02T00:00:00.000000000",
          "2023-12-03T00:00:00.000000000",
          "2023-12-04T00:00:00.000000000",
          "2023-12-05T00:00:00.000000000",
          "2023-12-06T00:00:00.000000000",
          "2023-12-07T00:00:00.000000000",
          "2023-12-08T00:00:00.000000000",
          "2023-12-09T00:00:00.000000000",
          "2023-12-10T00:00:00.000000000",
          "2023-12-11T00:00:00.000000000",
          "2023-12-12T00:00:00.000000000",
          "2023-12-13T00:00:00.000000000",
          "2023-12-14T00:00:00.000000000",
          "2023-12-15T00:00:00.000000000",
          "2023-12-16T00:00:00.000000000",
          "2023-12-17T00:00:00.000000000",
          "2023-12-18T00:00:00.000000000",
          "2023-12-19T00:00:00.000000000",
          "2023-12-20T00:00:00.000000000",
          "2023-12-21T00:00:00.000000000",
          "2023-12-22T00:00:00.000000000",
          "2023-12-23T00:00:00.000000000",
          "2023-12-24T00:00:00.000000000",
          "2023-12-25T00:00:00.000000000",
          "2023-12-26T00:00:00.000000000",
          "2023-12-27T00:00:00.000000000",
          "2023-12-28T00:00:00.000000000",
          "2023-12-29T00:00:00.000000000",
          "2023-12-30T00:00:00.000000000",
          "2023-12-31T00:00:00.000000000"
         ],
         "y": {
          "bdata": "hetRuB72s0D2KFyPQvGyQIXrUbherrRAexSuRyFFs0AAAAAAgN2wQAAAAAAAgLBAAAAAAIAftECF61G4XhGzQIXrUbgeFLRAexSuR6GmskB7FK5H4auxQAAAAAAAi7NAhetRuF6vskB7FK5H4RyyQAAAAAAAK7NACtejcD2Ps0B7FK5H4Y+yQAAAAABAorJAAAAAAEDZtEAAAAAAQJS1QHsUrkfhcrRAAAAAAIBqtEB7FK5H4U2wQIXrUbheCrRAhetRuF5jsEB7FK5H4SCwQAAAAACAXrBACtejcD0fr0D2KFyPQtGvQArXo3C9Pq1AAAAAAMDCsEAAAAAAANGuQIXrUbjerrFAexSuRyGYsUAAAAAAgBeyQPYoXI+CELJACtejcP3csUB7FK5HYWmzQHsUrkfhMLNAhetRuF7JtEB7FK5HYUu0QIXrUbge07NAAAAAAAB0sUAK16NwPbe2QPYoXI9CsbRACtejcH0ms0B7FK5HoZ6zQIXrUbjeabRA9ihcjwIcs0AK16NwvQSjQAAAAADAc7NA9ihcjwJltECF61G4njCzQIXrUbje2LJAexSuR2HSs0CF61G4XmeyQHsUrkdhmLRAhetRuN5yskB7FK5H4RGzQIXrUbheirJAAAAAAAAyskB7FK5HIbS0QAAAAABAqLNAexSuRyExtEAAAAAAgCqzQIXrUbgeP7RAexSuR2H8skAAAAAAgB2zQArXo3B9oLNA9ihcj4IHtEAK16Nw/TC0QHsUrkehD7NA9ihcj8IAtUAK16Nwvd+zQA==",
          "dtype": "f8"
         }
        },
        {
         "mode": "lines+markers",
         "name": "Predicted Sales",
         "type": "scatter",
         "x": [
          "2023-10-19T00:00:00.000000000",
          "2023-10-20T00:00:00.000000000",
          "2023-10-21T00:00:00.000000000",
          "2023-10-22T00:00:00.000000000",
          "2023-10-23T00:00:00.000000000",
          "2023-10-24T00:00:00.000000000",
          "2023-10-25T00:00:00.000000000",
          "2023-10-26T00:00:00.000000000",
          "2023-10-27T00:00:00.000000000",
          "2023-10-28T00:00:00.000000000",
          "2023-10-29T00:00:00.000000000",
          "2023-10-30T00:00:00.000000000",
          "2023-10-31T00:00:00.000000000",
          "2023-11-01T00:00:00.000000000",
          "2023-11-02T00:00:00.000000000",
          "2023-11-03T00:00:00.000000000",
          "2023-11-04T00:00:00.000000000",
          "2023-11-05T00:00:00.000000000",
          "2023-11-06T00:00:00.000000000",
          "2023-11-07T00:00:00.000000000",
          "2023-11-08T00:00:00.000000000",
          "2023-11-09T00:00:00.000000000",
          "2023-11-10T00:00:00.000000000",
          "2023-11-11T00:00:00.000000000",
          "2023-11-12T00:00:00.000000000",
          "2023-11-13T00:00:00.000000000",
          "2023-11-14T00:00:00.000000000",
          "2023-11-15T00:00:00.000000000",
          "2023-11-16T00:00:00.000000000",
          "2023-11-17T00:00:00.000000000",
          "2023-11-18T00:00:00.000000000",
          "2023-11-19T00:00:00.000000000",
          "2023-11-20T00:00:00.000000000",
          "2023-11-21T00:00:00.000000000",
          "2023-11-22T00:00:00.000000000",
          "2023-11-23T00:00:00.000000000",
          "2023-11-24T00:00:00.000000000",
          "2023-11-25T00:00:00.000000000",
          "2023-11-26T00:00:00.000000000",
          "2023-11-27T00:00:00.000000000",
          "2023-11-28T00:00:00.000000000",
          "2023-11-29T00:00:00.000000000",
          "2023-11-30T00:00:00.000000000",
          "2023-12-01T00:00:00.000000000",
          "2023-12-02T00:00:00.000000000",
          "2023-12-03T00:00:00.000000000",
          "2023-12-04T00:00:00.000000000",
          "2023-12-05T00:00:00.000000000",
          "2023-12-06T00:00:00.000000000",
          "2023-12-07T00:00:00.000000000",
          "2023-12-08T00:00:00.000000000",
          "2023-12-09T00:00:00.000000000",
          "2023-12-10T00:00:00.000000000",
          "2023-12-11T00:00:00.000000000",
          "2023-12-12T00:00:00.000000000",
          "2023-12-13T00:00:00.000000000",
          "2023-12-14T00:00:00.000000000",
          "2023-12-15T00:00:00.000000000",
          "2023-12-16T00:00:00.000000000",
          "2023-12-17T00:00:00.000000000",
          "2023-12-18T00:00:00.000000000",
          "2023-12-19T00:00:00.000000000",
          "2023-12-20T00:00:00.000000000",
          "2023-12-21T00:00:00.000000000",
          "2023-12-22T00:00:00.000000000",
          "2023-12-23T00:00:00.000000000",
          "2023-12-24T00:00:00.000000000",
          "2023-12-25T00:00:00.000000000",
          "2023-12-26T00:00:00.000000000",
          "2023-12-27T00:00:00.000000000",
          "2023-12-28T00:00:00.000000000",
          "2023-12-29T00:00:00.000000000",
          "2023-12-30T00:00:00.000000000",
          "2023-12-31T00:00:00.000000000"
         ],
         "y": {
          "bdata": "AAAAgEQdskAAAABgaB+yQAAAAACMbLJAAAAAYNRGs0AAAABgaHqzQAAAAEBsBrNAAAAAYA7fskAAAACgJfiyQAAAACDx1rJAAAAAwPj/skAAAADATrayQAAAAAD/e7JAAAAAADLdskAAAAAApyyzQAAAAIBg47JAAAAAQEPnskAAAABgZdSyQAAAAABa0bJAAAAAQJjzskAAAABgEiOzQAAAAMBEjLNAAAAAQD3hs0AAAACg2A60QAAAAMAKl7NAAAAAYBvKs0AAAABgZHezQAAAACCpzbJAAAAAAH4QskAAAABApF+xQAAAAMDsu7BAAAAAIJV/sEAAAADAyAmwQAAAAGBqzq9AAAAAAHUfsEAAAACAdUqwQAAAAMDEpLBAAAAAoAfzsEAAAAAgiWmxQAAAACBWyLFAAAAAgGhSskAAAADgGcOyQAAAACDOJLNAAAAAAFdks0AAAABAfE6zQAAAAIBH/7NAAAAAgAQutEAAAACgOiu0QAAAAODi/rNAAAAAAMIDtEAAAACgqOmzQAAAAKCRybJAAAAAoBZTskAAAADgbUiyQAAAAEDQSbJAAAAAgJItskAAAADgiBayQAAAAIAh/bFAAAAAYLuQs0AAAACgamyzQAAAAECOObNAAAAAoIAhs0AAAAAgAQmzQAAAAKA4KbNAAAAAoBhXs0AAAAAAqUmzQAAAACAXZLNAAAAAoFyPs0AAAADgr5+zQAAAAIAEwrNAAAAAYJqbs0AAAAAglKizQAAAAMBPqLNAAAAAgJCls0AAAAAAXsCzQA==",
          "dtype": "f8"
         }
        }
       ],
       "layout": {
        "template": {
         "data": {
          "bar": [
           {
            "error_x": {
             "color": "#2a3f5f"
            },
            "error_y": {
             "color": "#2a3f5f"
            },
            "marker": {
             "line": {
              "color": "#E5ECF6",
              "width": 0.5
             },
             "pattern": {
              "fillmode": "overlay",
              "size": 10,
              "solidity": 0.2
             }
            },
            "type": "bar"
           }
          ],
          "barpolar": [
           {
            "marker": {
             "line": {
              "color": "#E5ECF6",
              "width": 0.5
             },
             "pattern": {
              "fillmode": "overlay",
              "size": 10,
              "solidity": 0.2
             }
            },
            "type": "barpolar"
           }
          ],
          "carpet": [
           {
            "aaxis": {
             "endlinecolor": "#2a3f5f",
             "gridcolor": "white",
             "linecolor": "white",
             "minorgridcolor": "white",
             "startlinecolor": "#2a3f5f"
            },
            "baxis": {
             "endlinecolor": "#2a3f5f",
             "gridcolor": "white",
             "linecolor": "white",
             "minorgridcolor": "white",
             "startlinecolor": "#2a3f5f"
            },
            "type": "carpet"
           }
          ],
          "choropleth": [
           {
            "colorbar": {
             "outlinewidth": 0,
             "ticks": ""
            },
            "type": "choropleth"
           }
          ],
          "contour": [
           {
            "colorbar": {
             "outlinewidth": 0,
             "ticks": ""
            },
            "colorscale": [
             [
              0,
              "#0d0887"
             ],
             [
              0.1111111111111111,
              "#46039f"
             ],
             [
              0.2222222222222222,
              "#7201a8"
             ],
             [
              0.3333333333333333,
              "#9c179e"
             ],
             [
              0.4444444444444444,
              "#bd3786"
             ],
             [
              0.5555555555555556,
              "#d8576b"
             ],
             [
              0.6666666666666666,
              "#ed7953"
             ],
             [
              0.7777777777777778,
              "#fb9f3a"
             ],
             [
              0.8888888888888888,
              "#fdca26"
             ],
             [
              1,
              "#f0f921"
             ]
            ],
            "type": "contour"
           }
          ],
          "contourcarpet": [
           {
            "colorbar": {
             "outlinewidth": 0,
             "ticks": ""
            },
            "type": "contourcarpet"
           }
          ],
          "heatmap": [
           {
            "colorbar": {
             "outlinewidth": 0,
             "ticks": ""
            },
            "colorscale": [
             [
              0,
              "#0d0887"
             ],
             [
              0.1111111111111111,
              "#46039f"
             ],
             [
              0.2222222222222222,
              "#7201a8"
             ],
             [
              0.3333333333333333,
              "#9c179e"
             ],
             [
              0.4444444444444444,
              "#bd3786"
             ],
             [
              0.5555555555555556,
              "#d8576b"
             ],
             [
              0.6666666666666666,
              "#ed7953"
             ],
             [
              0.7777777777777778,
              "#fb9f3a"
             ],
             [
              0.8888888888888888,
              "#fdca26"
             ],
             [
              1,
              "#f0f921"
             ]
            ],
            "type": "heatmap"
           }
          ],
          "histogram": [
           {
            "marker": {
             "pattern": {
              "fillmode": "overlay",
              "size": 10,
              "solidity": 0.2
             }
            },
            "type": "histogram"
           }
          ],
          "histogram2d": [
           {
            "colorbar": {
             "outlinewidth": 0,
             "ticks": ""
            },
            "colorscale": [
             [
              0,
              "#0d0887"
             ],
             [
              0.1111111111111111,
              "#46039f"
             ],
             [
              0.2222222222222222,
              "#7201a8"
             ],
             [
              0.3333333333333333,
              "#9c179e"
             ],
             [
              0.4444444444444444,
              "#bd3786"
             ],
             [
              0.5555555555555556,
              "#d8576b"
             ],
             [
              0.6666666666666666,
              "#ed7953"
             ],
             [
              0.7777777777777778,
              "#fb9f3a"
             ],
             [
              0.8888888888888888,
              "#fdca26"
             ],
             [
              1,
              "#f0f921"
             ]
            ],
            "type": "histogram2d"
           }
          ],
          "histogram2dcontour": [
           {
            "colorbar": {
             "outlinewidth": 0,
             "ticks": ""
            },
            "colorscale": [
             [
              0,
              "#0d0887"
             ],
             [
              0.1111111111111111,
              "#46039f"
             ],
             [
              0.2222222222222222,
              "#7201a8"
             ],
             [
              0.3333333333333333,
              "#9c179e"
             ],
             [
              0.4444444444444444,
              "#bd3786"
             ],
             [
              0.5555555555555556,
              "#d8576b"
             ],
             [
              0.6666666666666666,
              "#ed7953"
             ],
             [
              0.7777777777777778,
              "#fb9f3a"
             ],
             [
              0.8888888888888888,
              "#fdca26"
             ],
             [
              1,
              "#f0f921"
             ]
            ],
            "type": "histogram2dcontour"
           }
          ],
          "mesh3d": [
           {
            "colorbar": {
             "outlinewidth": 0,
             "ticks": ""
            },
            "type": "mesh3d"
           }
          ],
          "parcoords": [
           {
            "line": {
             "colorbar": {
              "outlinewidth": 0,
              "ticks": ""
             }
            },
            "type": "parcoords"
           }
          ],
          "pie": [
           {
            "automargin": true,
            "type": "pie"
           }
          ],
          "scatter": [
           {
            "fillpattern": {
             "fillmode": "overlay",
             "size": 10,
             "solidity": 0.2
            },
            "type": "scatter"
           }
          ],
          "scatter3d": [
           {
            "line": {
             "colorbar": {
              "outlinewidth": 0,
              "ticks": ""
             }
            },
            "marker": {
             "colorbar": {
              "outlinewidth": 0,
              "ticks": ""
             }
            },
            "type": "scatter3d"
           }
          ],
          "scattercarpet": [
           {
            "marker": {
             "colorbar": {
              "outlinewidth": 0,
              "ticks": ""
             }
            },
            "type": "scattercarpet"
           }
          ],
          "scattergeo": [
           {
            "marker": {
             "colorbar": {
              "outlinewidth": 0,
              "ticks": ""
             }
            },
            "type": "scattergeo"
           }
          ],
          "scattergl": [
           {
            "marker": {
             "colorbar": {
              "outlinewidth": 0,
              "ticks": ""
             }
            },
            "type": "scattergl"
           }
          ],
          "scattermap": [
           {
            "marker": {
             "colorbar": {
              "outlinewidth": 0,
              "ticks": ""
             }
            },
            "type": "scattermap"
           }
          ],
          "scattermapbox": [
           {
            "marker": {
             "colorbar": {
              "outlinewidth": 0,
              "ticks": ""
             }
            },
            "type": "scattermapbox"
           }
          ],
          "scatterpolar": [
           {
            "marker": {
             "colorbar": {
              "outlinewidth": 0,
              "ticks": ""
             }
            },
            "type": "scatterpolar"
           }
          ],
          "scatterpolargl": [
           {
            "marker": {
             "colorbar": {
              "outlinewidth": 0,
              "ticks": ""
             }
            },
            "type": "scatterpolargl"
           }
          ],
          "scatterternary": [
           {
            "marker": {
             "colorbar": {
              "outlinewidth": 0,
              "ticks": ""
             }
            },
            "type": "scatterternary"
           }
          ],
          "surface": [
           {
            "colorbar": {
             "outlinewidth": 0,
             "ticks": ""
            },
            "colorscale": [
             [
              0,
              "#0d0887"
             ],
             [
              0.1111111111111111,
              "#46039f"
             ],
             [
              0.2222222222222222,
              "#7201a8"
             ],
             [
              0.3333333333333333,
              "#9c179e"
             ],
             [
              0.4444444444444444,
              "#bd3786"
             ],
             [
              0.5555555555555556,
              "#d8576b"
             ],
             [
              0.6666666666666666,
              "#ed7953"
             ],
             [
              0.7777777777777778,
              "#fb9f3a"
             ],
             [
              0.8888888888888888,
              "#fdca26"
             ],
             [
              1,
              "#f0f921"
             ]
            ],
            "type": "surface"
           }
          ],
          "table": [
           {
            "cells": {
             "fill": {
              "color": "#EBF0F8"
             },
             "line": {
              "color": "white"
             }
            },
            "header": {
             "fill": {
              "color": "#C8D4E3"
             },
             "line": {
              "color": "white"
             }
            },
            "type": "table"
           }
          ]
         },
         "layout": {
          "annotationdefaults": {
           "arrowcolor": "#2a3f5f",
           "arrowhead": 0,
           "arrowwidth": 1
          },
          "autotypenumbers": "strict",
          "coloraxis": {
           "colorbar": {
            "outlinewidth": 0,
            "ticks": ""
           }
          },
          "colorscale": {
           "diverging": [
            [
             0,
             "#8e0152"
            ],
            [
             0.1,
             "#c51b7d"
            ],
            [
             0.2,
             "#de77ae"
            ],
            [
             0.3,
             "#f1b6da"
            ],
            [
             0.4,
             "#fde0ef"
            ],
            [
             0.5,
             "#f7f7f7"
            ],
            [
             0.6,
             "#e6f5d0"
            ],
            [
             0.7,
             "#b8e186"
            ],
            [
             0.8,
             "#7fbc41"
            ],
            [
             0.9,
             "#4d9221"
            ],
            [
             1,
             "#276419"
            ]
           ],
           "sequential": [
            [
             0,
             "#0d0887"
            ],
            [
             0.1111111111111111,
             "#46039f"
            ],
            [
             0.2222222222222222,
             "#7201a8"
            ],
            [
             0.3333333333333333,
             "#9c179e"
            ],
            [
             0.4444444444444444,
             "#bd3786"
            ],
            [
             0.5555555555555556,
             "#d8576b"
            ],
            [
             0.6666666666666666,
             "#ed7953"
            ],
            [
             0.7777777777777778,
             "#fb9f3a"
            ],
            [
             0.8888888888888888,
             "#fdca26"
            ],
            [
             1,
             "#f0f921"
            ]
           ],
           "sequentialminus": [
            [
             0,
             "#0d0887"
            ],
            [
             0.1111111111111111,
             "#46039f"
            ],
            [
             0.2222222222222222,
             "#7201a8"
            ],
            [
             0.3333333333333333,
             "#9c179e"
            ],
            [
             0.4444444444444444,
             "#bd3786"
            ],
            [
             0.5555555555555556,
             "#d8576b"
            ],
            [
             0.6666666666666666,
             "#ed7953"
            ],
            [
             0.7777777777777778,
             "#fb9f3a"
            ],
            [
             0.8888888888888888,
             "#fdca26"
            ],
            [
             1,
             "#f0f921"
            ]
           ]
          },
          "colorway": [
           "#636efa",
           "#EF553B",
           "#00cc96",
           "#ab63fa",
           "#FFA15A",
           "#19d3f3",
           "#FF6692",
           "#B6E880",
           "#FF97FF",
           "#FECB52"
          ],
          "font": {
           "color": "#2a3f5f"
          },
          "geo": {
           "bgcolor": "white",
           "lakecolor": "white",
           "landcolor": "#E5ECF6",
           "showlakes": true,
           "showland": true,
           "subunitcolor": "white"
          },
          "hoverlabel": {
           "align": "left"
          },
          "hovermode": "closest",
          "mapbox": {
           "style": "light"
          },
          "paper_bgcolor": "white",
          "plot_bgcolor": "#E5ECF6",
          "polar": {
           "angularaxis": {
            "gridcolor": "white",
            "linecolor": "white",
            "ticks": ""
           },
           "bgcolor": "#E5ECF6",
           "radialaxis": {
            "gridcolor": "white",
            "linecolor": "white",
            "ticks": ""
           }
          },
          "scene": {
           "xaxis": {
            "backgroundcolor": "#E5ECF6",
            "gridcolor": "white",
            "gridwidth": 2,
            "linecolor": "white",
            "showbackground": true,
            "ticks": "",
            "zerolinecolor": "white"
           },
           "yaxis": {
            "backgroundcolor": "#E5ECF6",
            "gridcolor": "white",
            "gridwidth": 2,
            "linecolor": "white",
            "showbackground": true,
            "ticks": "",
            "zerolinecolor": "white"
           },
           "zaxis": {
            "backgroundcolor": "#E5ECF6",
            "gridcolor": "white",
            "gridwidth": 2,
            "linecolor": "white",
            "showbackground": true,
            "ticks": "",
            "zerolinecolor": "white"
           }
          },
          "shapedefaults": {
           "line": {
            "color": "#2a3f5f"
           }
          },
          "ternary": {
           "aaxis": {
            "gridcolor": "white",
            "linecolor": "white",
            "ticks": ""
           },
           "baxis": {
            "gridcolor": "white",
            "linecolor": "white",
            "ticks": ""
           },
           "bgcolor": "#E5ECF6",
           "caxis": {
            "gridcolor": "white",
            "linecolor": "white",
            "ticks": ""
           }
          },
          "title": {
           "x": 0.05
          },
          "xaxis": {
           "automargin": true,
           "gridcolor": "white",
           "linecolor": "white",
           "ticks": "",
           "title": {
            "standoff": 15
           },
           "zerolinecolor": "white",
           "zerolinewidth": 2
          },
          "yaxis": {
           "automargin": true,
           "gridcolor": "white",
           "linecolor": "white",
           "ticks": "",
           "title": {
            "standoff": 15
           },
           "zerolinecolor": "white",
           "zerolinewidth": 2
          }
         }
        },
        "title": {
         "text": "CNG Sales"
        },
        "xaxis": {
         "title": {
          "text": "Date"
         }
        },
        "yaxis": {
         "title": {
          "text": "Sales"
         }
        }
       }
      }
     },
     "metadata": {},
     "output_type": "display_data"
    }
   ],
   "source": [
    "features = ['IsWeekend', 'Temp',\n",
    "       'Humidity', 'Rain', 'Sales_MA_7', \n",
    "         ]\n",
    "target = 'Sales'\n",
    "plot_graphs = True\n",
    "\n",
    "train_df, test_df = get_train_val_test_dfs(combined_df)\n",
    "model, history = model_train(train_df,  features, target)\n",
    "# if(plot_graphs):\n",
    "#     plot_training_graphs(history)\n",
    "\n",
    "test_df = model_test(model, test_df,features, target)\n",
    "print(f\"MAPE for test data: {mape(test_df['Sales'],test_df['Predicted_Sales'])}\")\n",
    "\n",
    "if(plot_graphs):\n",
    "    plot_test_graphs(test_df)\n"
   ]
  },
  {
   "cell_type": "code",
   "execution_count": 16,
   "metadata": {},
   "outputs": [],
   "source": [
    "errors = pd.DataFrame()\n",
    "errors['Date'] = test_df['Date']\n",
    "errors['Sales'] = test_df['Sales']\n",
    "errors['Predicted_Sales'] = test_df['Predicted_Sales']\n",
    "errors['IsWeekend'] = test_df['IsWeekend']\n",
    "errors['APE'] = abs(errors['Sales'] - errors['Predicted_Sales'])*100/errors['Sales']\n",
    "errors = errors.dropna()\n"
   ]
  },
  {
   "cell_type": "code",
   "execution_count": 17,
   "metadata": {},
   "outputs": [
    {
     "data": {
      "text/html": [
       "<div>\n",
       "<style scoped>\n",
       "    .dataframe tbody tr th:only-of-type {\n",
       "        vertical-align: middle;\n",
       "    }\n",
       "\n",
       "    .dataframe tbody tr th {\n",
       "        vertical-align: top;\n",
       "    }\n",
       "\n",
       "    .dataframe thead th {\n",
       "        text-align: right;\n",
       "    }\n",
       "</style>\n",
       "<table border=\"1\" class=\"dataframe\">\n",
       "  <thead>\n",
       "    <tr style=\"text-align: right;\">\n",
       "      <th></th>\n",
       "      <th>Date</th>\n",
       "      <th>Sales</th>\n",
       "      <th>Predicted_Sales</th>\n",
       "      <th>IsWeekend</th>\n",
       "      <th>APE</th>\n",
       "    </tr>\n",
       "  </thead>\n",
       "  <tbody>\n",
       "    <tr>\n",
       "      <th>0</th>\n",
       "      <td>2023-10-19</td>\n",
       "      <td>5110.12</td>\n",
       "      <td>4613.010742</td>\n",
       "      <td>Weekday</td>\n",
       "      <td>9.727937</td>\n",
       "    </tr>\n",
       "    <tr>\n",
       "      <th>1</th>\n",
       "      <td>2023-10-20</td>\n",
       "      <td>4849.26</td>\n",
       "      <td>4614.931641</td>\n",
       "      <td>Weekday</td>\n",
       "      <td>4.832250</td>\n",
       "    </tr>\n",
       "    <tr>\n",
       "      <th>2</th>\n",
       "      <td>2023-10-21</td>\n",
       "      <td>5294.37</td>\n",
       "      <td>4692.359375</td>\n",
       "      <td>Weekend</td>\n",
       "      <td>11.370770</td>\n",
       "    </tr>\n",
       "    <tr>\n",
       "      <th>3</th>\n",
       "      <td>2023-10-22</td>\n",
       "      <td>4933.13</td>\n",
       "      <td>4911.420898</td>\n",
       "      <td>Weekend</td>\n",
       "      <td>0.440067</td>\n",
       "    </tr>\n",
       "    <tr>\n",
       "      <th>4</th>\n",
       "      <td>2023-10-23</td>\n",
       "      <td>4317.50</td>\n",
       "      <td>4963.112793</td>\n",
       "      <td>Weekday</td>\n",
       "      <td>14.953394</td>\n",
       "    </tr>\n",
       "    <tr>\n",
       "      <th>...</th>\n",
       "      <td>...</td>\n",
       "      <td>...</td>\n",
       "      <td>...</td>\n",
       "      <td>...</td>\n",
       "      <td>...</td>\n",
       "    </tr>\n",
       "    <tr>\n",
       "      <th>69</th>\n",
       "      <td>2023-12-27</td>\n",
       "      <td>5127.51</td>\n",
       "      <td>4999.641602</td>\n",
       "      <td>Weekday</td>\n",
       "      <td>2.493772</td>\n",
       "    </tr>\n",
       "    <tr>\n",
       "      <th>70</th>\n",
       "      <td>2023-12-28</td>\n",
       "      <td>5168.99</td>\n",
       "      <td>5013.083496</td>\n",
       "      <td>Weekday</td>\n",
       "      <td>3.016189</td>\n",
       "    </tr>\n",
       "    <tr>\n",
       "      <th>71</th>\n",
       "      <td>2023-12-29</td>\n",
       "      <td>4879.63</td>\n",
       "      <td>5012.932129</td>\n",
       "      <td>Weekday</td>\n",
       "      <td>2.731808</td>\n",
       "    </tr>\n",
       "    <tr>\n",
       "      <th>72</th>\n",
       "      <td>2023-12-30</td>\n",
       "      <td>5376.76</td>\n",
       "      <td>5009.833984</td>\n",
       "      <td>Weekend</td>\n",
       "      <td>6.824296</td>\n",
       "    </tr>\n",
       "    <tr>\n",
       "      <th>73</th>\n",
       "      <td>2023-12-31</td>\n",
       "      <td>5087.74</td>\n",
       "      <td>5037.094238</td>\n",
       "      <td>Weekend</td>\n",
       "      <td>0.995447</td>\n",
       "    </tr>\n",
       "  </tbody>\n",
       "</table>\n",
       "<p>74 rows × 5 columns</p>\n",
       "</div>"
      ],
      "text/plain": [
       "         Date    Sales  Predicted_Sales IsWeekend        APE\n",
       "0  2023-10-19  5110.12      4613.010742   Weekday   9.727937\n",
       "1  2023-10-20  4849.26      4614.931641   Weekday   4.832250\n",
       "2  2023-10-21  5294.37      4692.359375   Weekend  11.370770\n",
       "3  2023-10-22  4933.13      4911.420898   Weekend   0.440067\n",
       "4  2023-10-23  4317.50      4963.112793   Weekday  14.953394\n",
       "..        ...      ...              ...       ...        ...\n",
       "69 2023-12-27  5127.51      4999.641602   Weekday   2.493772\n",
       "70 2023-12-28  5168.99      5013.083496   Weekday   3.016189\n",
       "71 2023-12-29  4879.63      5012.932129   Weekday   2.731808\n",
       "72 2023-12-30  5376.76      5009.833984   Weekend   6.824296\n",
       "73 2023-12-31  5087.74      5037.094238   Weekend   0.995447\n",
       "\n",
       "[74 rows x 5 columns]"
      ]
     },
     "execution_count": 17,
     "metadata": {},
     "output_type": "execute_result"
    }
   ],
   "source": [
    "errors['IsWeekend'] = errors['IsWeekend'].replace(0,'Weekday')\n",
    "errors['IsWeekend'] = errors['IsWeekend'].replace(1,'Weekend')\n",
    "errors"
   ]
  },
  {
   "cell_type": "code",
   "execution_count": 18,
   "metadata": {},
   "outputs": [
    {
     "data": {
      "application/vnd.plotly.v1+json": {
       "config": {
        "plotlyServerURL": "https://plot.ly"
       },
       "data": [
        {
         "hovertemplate": "IsWeekend=Weekday<br>Date=%{x}<br>APE=%{y}<extra></extra>",
         "legendgroup": "Weekday",
         "marker": {
          "color": "blue",
          "symbol": "circle"
         },
         "mode": "markers",
         "name": "Weekday",
         "orientation": "v",
         "showlegend": true,
         "type": "scatter",
         "x": [
          "2023-10-19T00:00:00.000000000",
          "2023-10-20T00:00:00.000000000",
          "2023-10-23T00:00:00.000000000",
          "2023-10-24T00:00:00.000000000",
          "2023-10-25T00:00:00.000000000",
          "2023-10-26T00:00:00.000000000",
          "2023-10-27T00:00:00.000000000",
          "2023-10-30T00:00:00.000000000",
          "2023-10-31T00:00:00.000000000",
          "2023-11-01T00:00:00.000000000",
          "2023-11-02T00:00:00.000000000",
          "2023-11-03T00:00:00.000000000",
          "2023-11-06T00:00:00.000000000",
          "2023-11-07T00:00:00.000000000",
          "2023-11-08T00:00:00.000000000",
          "2023-11-09T00:00:00.000000000",
          "2023-11-10T00:00:00.000000000",
          "2023-11-13T00:00:00.000000000",
          "2023-11-14T00:00:00.000000000",
          "2023-11-15T00:00:00.000000000",
          "2023-11-16T00:00:00.000000000",
          "2023-11-17T00:00:00.000000000",
          "2023-11-20T00:00:00.000000000",
          "2023-11-21T00:00:00.000000000",
          "2023-11-22T00:00:00.000000000",
          "2023-11-23T00:00:00.000000000",
          "2023-11-24T00:00:00.000000000",
          "2023-11-27T00:00:00.000000000",
          "2023-11-28T00:00:00.000000000",
          "2023-11-29T00:00:00.000000000",
          "2023-11-30T00:00:00.000000000",
          "2023-12-01T00:00:00.000000000",
          "2023-12-04T00:00:00.000000000",
          "2023-12-05T00:00:00.000000000",
          "2023-12-06T00:00:00.000000000",
          "2023-12-07T00:00:00.000000000",
          "2023-12-08T00:00:00.000000000",
          "2023-12-11T00:00:00.000000000",
          "2023-12-12T00:00:00.000000000",
          "2023-12-13T00:00:00.000000000",
          "2023-12-14T00:00:00.000000000",
          "2023-12-15T00:00:00.000000000",
          "2023-12-18T00:00:00.000000000",
          "2023-12-19T00:00:00.000000000",
          "2023-12-20T00:00:00.000000000",
          "2023-12-21T00:00:00.000000000",
          "2023-12-22T00:00:00.000000000",
          "2023-12-25T00:00:00.000000000",
          "2023-12-26T00:00:00.000000000",
          "2023-12-27T00:00:00.000000000",
          "2023-12-28T00:00:00.000000000",
          "2023-12-29T00:00:00.000000000"
         ],
         "xaxis": "x",
         "y": {
          "bdata": "bT7sKrR0I0A9S2lOOVQTQEXUmEcj6C1AfPDBB8t+LUAdEhkxuK0aQJrkf69Q1u8/dNrumKd2GkAjt6+C0nwXQNjtNC9yFt8/cBw/11KAFUAjPos5k67+P63GMLmUdA5AfPVoI6sII0DiHFPac3AnQKInhIX0TxNAx6XTRuRjCEC+IZ9zuH02QCmyo6KxOzRAiLX9pgnELEBpZughOiIvQJXvRTtYXSFA5Zevhu+4K0BIkjz11jAlQKVBKsmVxyFAJ8dGMUfkJEBE/79VM6ogQLu0ihbXVRZAfmKt6F+CKEDCh/lMBNAfQFLF5tNPtg5A+bUewqVJJUA54T9v/rwuQP9XSPDyJQNAzZPRFhFRA0Cab2pvg1MRQFkAs5OxJltASKztzUeTDkDv0JFWnxsLQMeOXI1WYyFA1SyQ58wCAUDsN1zvZA0qQCMaxFfdjRZAM4cCUfcLE0Cp0xTFisQgQCNTFxbX8AZA1QEtolg4EkDT4P5+DN3QP82RDknVMgJAkYlsMVTz0T85wy+hPvMDQNsRtqgnIQhACGUiOL7aBUA=",
          "dtype": "f8"
         },
         "yaxis": "y"
        },
        {
         "hovertemplate": "IsWeekend=Weekend<br>Date=%{x}<br>APE=%{y}<extra></extra>",
         "legendgroup": "Weekend",
         "marker": {
          "color": "red",
          "symbol": "circle"
         },
         "mode": "markers",
         "name": "Weekend",
         "orientation": "v",
         "showlegend": true,
         "type": "scatter",
         "x": [
          "2023-10-21T00:00:00.000000000",
          "2023-10-22T00:00:00.000000000",
          "2023-10-28T00:00:00.000000000",
          "2023-10-29T00:00:00.000000000",
          "2023-11-04T00:00:00.000000000",
          "2023-11-05T00:00:00.000000000",
          "2023-11-11T00:00:00.000000000",
          "2023-11-12T00:00:00.000000000",
          "2023-11-18T00:00:00.000000000",
          "2023-11-19T00:00:00.000000000",
          "2023-11-25T00:00:00.000000000",
          "2023-11-26T00:00:00.000000000",
          "2023-12-02T00:00:00.000000000",
          "2023-12-03T00:00:00.000000000",
          "2023-12-09T00:00:00.000000000",
          "2023-12-10T00:00:00.000000000",
          "2023-12-16T00:00:00.000000000",
          "2023-12-17T00:00:00.000000000",
          "2023-12-23T00:00:00.000000000",
          "2023-12-24T00:00:00.000000000",
          "2023-12-30T00:00:00.000000000",
          "2023-12-31T00:00:00.000000000"
         ],
         "xaxis": "x",
         "y": {
          "bdata": "dOkAitW9JkAEEJnZECrcP6UmZtF0dPY/F3r6RwGSFUD7w4JOqx3vP6Zd3F+fkeA/slNcLOdBBUAHgbkp1Us0QM8Qa6LFmgBALLDbLpwPDEAGqyyOGHUlQFrhSIfJCh9AbLMdqVsCDkAr1xBWBc0TQHUePBbJECVAzlGm37+KFEB7P4vSGFr3P8kQvdMKjgpAVwYVG9JMEkDxWJqVXSsFQAHGrj0UTBtA+V+M77Pa7z8=",
          "dtype": "f8"
         },
         "yaxis": "y"
        },
        {
         "mode": "lines",
         "name": "APE Trend",
         "type": "scatter",
         "x": [
          "2023-10-19T00:00:00.000000000",
          "2023-10-20T00:00:00.000000000",
          "2023-10-21T00:00:00.000000000",
          "2023-10-22T00:00:00.000000000",
          "2023-10-23T00:00:00.000000000",
          "2023-10-24T00:00:00.000000000",
          "2023-10-25T00:00:00.000000000",
          "2023-10-26T00:00:00.000000000",
          "2023-10-27T00:00:00.000000000",
          "2023-10-28T00:00:00.000000000",
          "2023-10-29T00:00:00.000000000",
          "2023-10-30T00:00:00.000000000",
          "2023-10-31T00:00:00.000000000",
          "2023-11-01T00:00:00.000000000",
          "2023-11-02T00:00:00.000000000",
          "2023-11-03T00:00:00.000000000",
          "2023-11-04T00:00:00.000000000",
          "2023-11-05T00:00:00.000000000",
          "2023-11-06T00:00:00.000000000",
          "2023-11-07T00:00:00.000000000",
          "2023-11-08T00:00:00.000000000",
          "2023-11-09T00:00:00.000000000",
          "2023-11-10T00:00:00.000000000",
          "2023-11-11T00:00:00.000000000",
          "2023-11-12T00:00:00.000000000",
          "2023-11-13T00:00:00.000000000",
          "2023-11-14T00:00:00.000000000",
          "2023-11-15T00:00:00.000000000",
          "2023-11-16T00:00:00.000000000",
          "2023-11-17T00:00:00.000000000",
          "2023-11-18T00:00:00.000000000",
          "2023-11-19T00:00:00.000000000",
          "2023-11-20T00:00:00.000000000",
          "2023-11-21T00:00:00.000000000",
          "2023-11-22T00:00:00.000000000",
          "2023-11-23T00:00:00.000000000",
          "2023-11-24T00:00:00.000000000",
          "2023-11-25T00:00:00.000000000",
          "2023-11-26T00:00:00.000000000",
          "2023-11-27T00:00:00.000000000",
          "2023-11-28T00:00:00.000000000",
          "2023-11-29T00:00:00.000000000",
          "2023-11-30T00:00:00.000000000",
          "2023-12-01T00:00:00.000000000",
          "2023-12-02T00:00:00.000000000",
          "2023-12-03T00:00:00.000000000",
          "2023-12-04T00:00:00.000000000",
          "2023-12-05T00:00:00.000000000",
          "2023-12-06T00:00:00.000000000",
          "2023-12-07T00:00:00.000000000",
          "2023-12-08T00:00:00.000000000",
          "2023-12-09T00:00:00.000000000",
          "2023-12-10T00:00:00.000000000",
          "2023-12-11T00:00:00.000000000",
          "2023-12-12T00:00:00.000000000",
          "2023-12-13T00:00:00.000000000",
          "2023-12-14T00:00:00.000000000",
          "2023-12-15T00:00:00.000000000",
          "2023-12-16T00:00:00.000000000",
          "2023-12-17T00:00:00.000000000",
          "2023-12-18T00:00:00.000000000",
          "2023-12-19T00:00:00.000000000",
          "2023-12-20T00:00:00.000000000",
          "2023-12-21T00:00:00.000000000",
          "2023-12-22T00:00:00.000000000",
          "2023-12-23T00:00:00.000000000",
          "2023-12-24T00:00:00.000000000",
          "2023-12-25T00:00:00.000000000",
          "2023-12-26T00:00:00.000000000",
          "2023-12-27T00:00:00.000000000",
          "2023-12-28T00:00:00.000000000",
          "2023-12-29T00:00:00.000000000",
          "2023-12-30T00:00:00.000000000",
          "2023-12-31T00:00:00.000000000"
         ],
         "y": {
          "bdata": "bT7sKrR0I0A9S2lOOVQTQHTpAIrVvSZABBCZ2RAq3D9F1JhHI+gtQHzwwQfLfi1AHRIZMbitGkCa5H+vUNbvP3Ta7pindhpApSZm0XR09j8XevpHAZIVQCO3r4LSfBdA2O00L3IW3z9wHD/XUoAVQCM+izmTrv4/rcYwuZR0DkD7w4JOqx3vP6Zd3F+fkeA/fPVoI6sII0DiHFPac3AnQKInhIX0TxNAx6XTRuRjCEC+IZ9zuH02QLJTXCznQQVAB4G5KdVLNEApsqOisTs0QIi1/aYJxCxAaWboIToiL0CV70U7WF0hQOWXr4bvuCtAzxBrosWaAEAssNsunA8MQEiSPPXWMCVApUEqyZXHIUAnx0YxR+QkQET/v1UzqiBAu7SKFtdVFkAGqyyOGHUlQFrhSIfJCh9AfmKt6F+CKEDCh/lMBNAfQFLF5tNPtg5A+bUewqVJJUA54T9v/rwuQGyzHalbAg5AK9cQVgXNE0D/V0jw8iUDQM2T0RYRUQNAmm9qb4NTEUBZALOTsSZbQEis7c1Hkw5AdR48FskQJUDOUabfv4oUQO/QkVafGwtAx45cjVZjIUDVLJDnzAIBQOw3XO9kDSpAIxrEV92NFkB7P4vSGFr3P8kQvdMKjgpAM4cCUfcLE0Cp0xTFisQgQCNTFxbX8AZA1QEtolg4EkDT4P5+DN3QP1cGFRvSTBJA8VialV0rBUDNkQ5J1TICQJGJbDFU89E/OcMvoT7zA0DbEbaoJyEIQAhlIji+2gVAAcauPRRMG0D5X4zvs9rvPw==",
          "dtype": "f8"
         }
        }
       ],
       "layout": {
        "legend": {
         "title": {
          "text": "IsWeekend"
         },
         "tracegroupgap": 0
        },
        "template": {
         "data": {
          "bar": [
           {
            "error_x": {
             "color": "#2a3f5f"
            },
            "error_y": {
             "color": "#2a3f5f"
            },
            "marker": {
             "line": {
              "color": "#E5ECF6",
              "width": 0.5
             },
             "pattern": {
              "fillmode": "overlay",
              "size": 10,
              "solidity": 0.2
             }
            },
            "type": "bar"
           }
          ],
          "barpolar": [
           {
            "marker": {
             "line": {
              "color": "#E5ECF6",
              "width": 0.5
             },
             "pattern": {
              "fillmode": "overlay",
              "size": 10,
              "solidity": 0.2
             }
            },
            "type": "barpolar"
           }
          ],
          "carpet": [
           {
            "aaxis": {
             "endlinecolor": "#2a3f5f",
             "gridcolor": "white",
             "linecolor": "white",
             "minorgridcolor": "white",
             "startlinecolor": "#2a3f5f"
            },
            "baxis": {
             "endlinecolor": "#2a3f5f",
             "gridcolor": "white",
             "linecolor": "white",
             "minorgridcolor": "white",
             "startlinecolor": "#2a3f5f"
            },
            "type": "carpet"
           }
          ],
          "choropleth": [
           {
            "colorbar": {
             "outlinewidth": 0,
             "ticks": ""
            },
            "type": "choropleth"
           }
          ],
          "contour": [
           {
            "colorbar": {
             "outlinewidth": 0,
             "ticks": ""
            },
            "colorscale": [
             [
              0,
              "#0d0887"
             ],
             [
              0.1111111111111111,
              "#46039f"
             ],
             [
              0.2222222222222222,
              "#7201a8"
             ],
             [
              0.3333333333333333,
              "#9c179e"
             ],
             [
              0.4444444444444444,
              "#bd3786"
             ],
             [
              0.5555555555555556,
              "#d8576b"
             ],
             [
              0.6666666666666666,
              "#ed7953"
             ],
             [
              0.7777777777777778,
              "#fb9f3a"
             ],
             [
              0.8888888888888888,
              "#fdca26"
             ],
             [
              1,
              "#f0f921"
             ]
            ],
            "type": "contour"
           }
          ],
          "contourcarpet": [
           {
            "colorbar": {
             "outlinewidth": 0,
             "ticks": ""
            },
            "type": "contourcarpet"
           }
          ],
          "heatmap": [
           {
            "colorbar": {
             "outlinewidth": 0,
             "ticks": ""
            },
            "colorscale": [
             [
              0,
              "#0d0887"
             ],
             [
              0.1111111111111111,
              "#46039f"
             ],
             [
              0.2222222222222222,
              "#7201a8"
             ],
             [
              0.3333333333333333,
              "#9c179e"
             ],
             [
              0.4444444444444444,
              "#bd3786"
             ],
             [
              0.5555555555555556,
              "#d8576b"
             ],
             [
              0.6666666666666666,
              "#ed7953"
             ],
             [
              0.7777777777777778,
              "#fb9f3a"
             ],
             [
              0.8888888888888888,
              "#fdca26"
             ],
             [
              1,
              "#f0f921"
             ]
            ],
            "type": "heatmap"
           }
          ],
          "histogram": [
           {
            "marker": {
             "pattern": {
              "fillmode": "overlay",
              "size": 10,
              "solidity": 0.2
             }
            },
            "type": "histogram"
           }
          ],
          "histogram2d": [
           {
            "colorbar": {
             "outlinewidth": 0,
             "ticks": ""
            },
            "colorscale": [
             [
              0,
              "#0d0887"
             ],
             [
              0.1111111111111111,
              "#46039f"
             ],
             [
              0.2222222222222222,
              "#7201a8"
             ],
             [
              0.3333333333333333,
              "#9c179e"
             ],
             [
              0.4444444444444444,
              "#bd3786"
             ],
             [
              0.5555555555555556,
              "#d8576b"
             ],
             [
              0.6666666666666666,
              "#ed7953"
             ],
             [
              0.7777777777777778,
              "#fb9f3a"
             ],
             [
              0.8888888888888888,
              "#fdca26"
             ],
             [
              1,
              "#f0f921"
             ]
            ],
            "type": "histogram2d"
           }
          ],
          "histogram2dcontour": [
           {
            "colorbar": {
             "outlinewidth": 0,
             "ticks": ""
            },
            "colorscale": [
             [
              0,
              "#0d0887"
             ],
             [
              0.1111111111111111,
              "#46039f"
             ],
             [
              0.2222222222222222,
              "#7201a8"
             ],
             [
              0.3333333333333333,
              "#9c179e"
             ],
             [
              0.4444444444444444,
              "#bd3786"
             ],
             [
              0.5555555555555556,
              "#d8576b"
             ],
             [
              0.6666666666666666,
              "#ed7953"
             ],
             [
              0.7777777777777778,
              "#fb9f3a"
             ],
             [
              0.8888888888888888,
              "#fdca26"
             ],
             [
              1,
              "#f0f921"
             ]
            ],
            "type": "histogram2dcontour"
           }
          ],
          "mesh3d": [
           {
            "colorbar": {
             "outlinewidth": 0,
             "ticks": ""
            },
            "type": "mesh3d"
           }
          ],
          "parcoords": [
           {
            "line": {
             "colorbar": {
              "outlinewidth": 0,
              "ticks": ""
             }
            },
            "type": "parcoords"
           }
          ],
          "pie": [
           {
            "automargin": true,
            "type": "pie"
           }
          ],
          "scatter": [
           {
            "fillpattern": {
             "fillmode": "overlay",
             "size": 10,
             "solidity": 0.2
            },
            "type": "scatter"
           }
          ],
          "scatter3d": [
           {
            "line": {
             "colorbar": {
              "outlinewidth": 0,
              "ticks": ""
             }
            },
            "marker": {
             "colorbar": {
              "outlinewidth": 0,
              "ticks": ""
             }
            },
            "type": "scatter3d"
           }
          ],
          "scattercarpet": [
           {
            "marker": {
             "colorbar": {
              "outlinewidth": 0,
              "ticks": ""
             }
            },
            "type": "scattercarpet"
           }
          ],
          "scattergeo": [
           {
            "marker": {
             "colorbar": {
              "outlinewidth": 0,
              "ticks": ""
             }
            },
            "type": "scattergeo"
           }
          ],
          "scattergl": [
           {
            "marker": {
             "colorbar": {
              "outlinewidth": 0,
              "ticks": ""
             }
            },
            "type": "scattergl"
           }
          ],
          "scattermap": [
           {
            "marker": {
             "colorbar": {
              "outlinewidth": 0,
              "ticks": ""
             }
            },
            "type": "scattermap"
           }
          ],
          "scattermapbox": [
           {
            "marker": {
             "colorbar": {
              "outlinewidth": 0,
              "ticks": ""
             }
            },
            "type": "scattermapbox"
           }
          ],
          "scatterpolar": [
           {
            "marker": {
             "colorbar": {
              "outlinewidth": 0,
              "ticks": ""
             }
            },
            "type": "scatterpolar"
           }
          ],
          "scatterpolargl": [
           {
            "marker": {
             "colorbar": {
              "outlinewidth": 0,
              "ticks": ""
             }
            },
            "type": "scatterpolargl"
           }
          ],
          "scatterternary": [
           {
            "marker": {
             "colorbar": {
              "outlinewidth": 0,
              "ticks": ""
             }
            },
            "type": "scatterternary"
           }
          ],
          "surface": [
           {
            "colorbar": {
             "outlinewidth": 0,
             "ticks": ""
            },
            "colorscale": [
             [
              0,
              "#0d0887"
             ],
             [
              0.1111111111111111,
              "#46039f"
             ],
             [
              0.2222222222222222,
              "#7201a8"
             ],
             [
              0.3333333333333333,
              "#9c179e"
             ],
             [
              0.4444444444444444,
              "#bd3786"
             ],
             [
              0.5555555555555556,
              "#d8576b"
             ],
             [
              0.6666666666666666,
              "#ed7953"
             ],
             [
              0.7777777777777778,
              "#fb9f3a"
             ],
             [
              0.8888888888888888,
              "#fdca26"
             ],
             [
              1,
              "#f0f921"
             ]
            ],
            "type": "surface"
           }
          ],
          "table": [
           {
            "cells": {
             "fill": {
              "color": "#EBF0F8"
             },
             "line": {
              "color": "white"
             }
            },
            "header": {
             "fill": {
              "color": "#C8D4E3"
             },
             "line": {
              "color": "white"
             }
            },
            "type": "table"
           }
          ]
         },
         "layout": {
          "annotationdefaults": {
           "arrowcolor": "#2a3f5f",
           "arrowhead": 0,
           "arrowwidth": 1
          },
          "autotypenumbers": "strict",
          "coloraxis": {
           "colorbar": {
            "outlinewidth": 0,
            "ticks": ""
           }
          },
          "colorscale": {
           "diverging": [
            [
             0,
             "#8e0152"
            ],
            [
             0.1,
             "#c51b7d"
            ],
            [
             0.2,
             "#de77ae"
            ],
            [
             0.3,
             "#f1b6da"
            ],
            [
             0.4,
             "#fde0ef"
            ],
            [
             0.5,
             "#f7f7f7"
            ],
            [
             0.6,
             "#e6f5d0"
            ],
            [
             0.7,
             "#b8e186"
            ],
            [
             0.8,
             "#7fbc41"
            ],
            [
             0.9,
             "#4d9221"
            ],
            [
             1,
             "#276419"
            ]
           ],
           "sequential": [
            [
             0,
             "#0d0887"
            ],
            [
             0.1111111111111111,
             "#46039f"
            ],
            [
             0.2222222222222222,
             "#7201a8"
            ],
            [
             0.3333333333333333,
             "#9c179e"
            ],
            [
             0.4444444444444444,
             "#bd3786"
            ],
            [
             0.5555555555555556,
             "#d8576b"
            ],
            [
             0.6666666666666666,
             "#ed7953"
            ],
            [
             0.7777777777777778,
             "#fb9f3a"
            ],
            [
             0.8888888888888888,
             "#fdca26"
            ],
            [
             1,
             "#f0f921"
            ]
           ],
           "sequentialminus": [
            [
             0,
             "#0d0887"
            ],
            [
             0.1111111111111111,
             "#46039f"
            ],
            [
             0.2222222222222222,
             "#7201a8"
            ],
            [
             0.3333333333333333,
             "#9c179e"
            ],
            [
             0.4444444444444444,
             "#bd3786"
            ],
            [
             0.5555555555555556,
             "#d8576b"
            ],
            [
             0.6666666666666666,
             "#ed7953"
            ],
            [
             0.7777777777777778,
             "#fb9f3a"
            ],
            [
             0.8888888888888888,
             "#fdca26"
            ],
            [
             1,
             "#f0f921"
            ]
           ]
          },
          "colorway": [
           "#636efa",
           "#EF553B",
           "#00cc96",
           "#ab63fa",
           "#FFA15A",
           "#19d3f3",
           "#FF6692",
           "#B6E880",
           "#FF97FF",
           "#FECB52"
          ],
          "font": {
           "color": "#2a3f5f"
          },
          "geo": {
           "bgcolor": "white",
           "lakecolor": "white",
           "landcolor": "#E5ECF6",
           "showlakes": true,
           "showland": true,
           "subunitcolor": "white"
          },
          "hoverlabel": {
           "align": "left"
          },
          "hovermode": "closest",
          "mapbox": {
           "style": "light"
          },
          "paper_bgcolor": "white",
          "plot_bgcolor": "#E5ECF6",
          "polar": {
           "angularaxis": {
            "gridcolor": "white",
            "linecolor": "white",
            "ticks": ""
           },
           "bgcolor": "#E5ECF6",
           "radialaxis": {
            "gridcolor": "white",
            "linecolor": "white",
            "ticks": ""
           }
          },
          "scene": {
           "xaxis": {
            "backgroundcolor": "#E5ECF6",
            "gridcolor": "white",
            "gridwidth": 2,
            "linecolor": "white",
            "showbackground": true,
            "ticks": "",
            "zerolinecolor": "white"
           },
           "yaxis": {
            "backgroundcolor": "#E5ECF6",
            "gridcolor": "white",
            "gridwidth": 2,
            "linecolor": "white",
            "showbackground": true,
            "ticks": "",
            "zerolinecolor": "white"
           },
           "zaxis": {
            "backgroundcolor": "#E5ECF6",
            "gridcolor": "white",
            "gridwidth": 2,
            "linecolor": "white",
            "showbackground": true,
            "ticks": "",
            "zerolinecolor": "white"
           }
          },
          "shapedefaults": {
           "line": {
            "color": "#2a3f5f"
           }
          },
          "ternary": {
           "aaxis": {
            "gridcolor": "white",
            "linecolor": "white",
            "ticks": ""
           },
           "baxis": {
            "gridcolor": "white",
            "linecolor": "white",
            "ticks": ""
           },
           "bgcolor": "#E5ECF6",
           "caxis": {
            "gridcolor": "white",
            "linecolor": "white",
            "ticks": ""
           }
          },
          "title": {
           "x": 0.05
          },
          "xaxis": {
           "automargin": true,
           "gridcolor": "white",
           "linecolor": "white",
           "ticks": "",
           "title": {
            "standoff": 15
           },
           "zerolinecolor": "white",
           "zerolinewidth": 2
          },
          "yaxis": {
           "automargin": true,
           "gridcolor": "white",
           "linecolor": "white",
           "ticks": "",
           "title": {
            "standoff": 15
           },
           "zerolinecolor": "white",
           "zerolinewidth": 2
          }
         }
        },
        "title": {
         "text": "APE vs Date"
        },
        "xaxis": {
         "anchor": "y",
         "domain": [
          0,
          1
         ],
         "title": {
          "text": "Date"
         }
        },
        "yaxis": {
         "anchor": "x",
         "domain": [
          0,
          1
         ],
         "title": {
          "text": "APE"
         }
        }
       }
      }
     },
     "metadata": {},
     "output_type": "display_data"
    }
   ],
   "source": [
    "import plotly.express as px\n",
    "\n",
    "fig = px.scatter(errors, x='Date', y='APE', color=errors['IsWeekend'], \n",
    "                 title=\"APE vs Date\", color_discrete_map={'Weekday': 'blue', 'Weekend': 'red'})\n",
    "\n",
    "fig.add_scatter(x=errors['Date'], y=errors['APE'], mode='lines', name='APE Trend')\n",
    "\n",
    "fig.show()"
   ]
  }
 ],
 "metadata": {
  "kernelspec": {
   "display_name": ".venv",
   "language": "python",
   "name": "python3"
  },
  "language_info": {
   "codemirror_mode": {
    "name": "ipython",
    "version": 3
   },
   "file_extension": ".py",
   "mimetype": "text/x-python",
   "name": "python",
   "nbconvert_exporter": "python",
   "pygments_lexer": "ipython3",
   "version": "3.11.4"
  }
 },
 "nbformat": 4,
 "nbformat_minor": 2
}
